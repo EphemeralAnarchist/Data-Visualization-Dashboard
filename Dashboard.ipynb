{
  "nbformat": 4,
  "nbformat_minor": 5,
  "metadata": {
    "kernelspec": {
      "display_name": "Python 3",
      "language": "python",
      "name": "python3"
    },
    "language_info": {
      "codemirror_mode": {
        "name": "ipython",
        "version": 3
      },
      "file_extension": ".py",
      "mimetype": "text/x-python",
      "name": "python",
      "nbconvert_exporter": "python",
      "pygments_lexer": "ipython3",
      "version": "3.8.8"
    },
    "colab": {
      "name": "Dashboard.ipynb",
      "provenance": []
    }
  },
  "cells": [
    {
      "cell_type": "markdown",
      "metadata": {
        "id": "a02f783d"
      },
      "source": [
        "### Importing the libraries"
      ],
      "id": "a02f783d"
    },
    {
      "cell_type": "code",
      "metadata": {
        "colab": {
          "base_uri": "https://localhost:8080/"
        },
        "id": "6dc538a6",
        "outputId": "35c93ec6-5b4b-43ef-f447-4d100134121b"
      },
      "source": [
        "#For the dashboard\n",
        "import dash\n",
        "import dash_core_components as dcc\n",
        "import dash_bootstrap_components as dbc\n",
        "import dash_html_components as html\n",
        "import plotly.express as px\n",
        "import plotly.graph_objects as go\n",
        "from dash.dependencies import Input, Output\n",
        "\n",
        "\n",
        "#For data processing\n",
        "import matplotlib.pyplot as plt\n",
        "import numpy as np\n",
        "import pandas as pd\n",
        "import seaborn as sns\n",
        "import csv\n",
        "import json\n",
        "import ast\n",
        "from scipy.stats import pearsonr\n",
        "from sklearn.linear_model import LinearRegression\n",
        "from sklearn.model_selection import train_test_split\n",
        "from sklearn import metrics\n",
        "import random"
      ],
      "id": "6dc538a6",
      "execution_count": null,
      "outputs": [
        {
          "output_type": "stream",
          "name": "stderr",
          "text": [
            "/usr/local/lib/python3.7/dist-packages/ipykernel_launcher.py:5: UserWarning: \n",
            "The dash_html_components package is deprecated. Please replace\n",
            "`import dash_html_components as html` with `from dash import html`\n",
            "  \"\"\"\n"
          ]
        }
      ]
    },
    {
      "cell_type": "markdown",
      "metadata": {
        "id": "5eecd7e4"
      },
      "source": [
        "### Importing the movies dataset"
      ],
      "id": "5eecd7e4"
    },
    {
      "cell_type": "code",
      "metadata": {
        "colab": {
          "base_uri": "https://localhost:8080/",
          "height": 712
        },
        "id": "3b589f9b",
        "outputId": "2b225111-be67-4c86-8327-13b39c88370a"
      },
      "source": [
        "movies_df = pd.read_csv(\"/content/movies_metadata.csv\")\n",
        "movies_df.head()"
      ],
      "id": "3b589f9b",
      "execution_count": null,
      "outputs": [
        {
          "output_type": "stream",
          "name": "stderr",
          "text": [
            "/usr/local/lib/python3.7/dist-packages/IPython/core/interactiveshell.py:2718: DtypeWarning: Columns (10) have mixed types.Specify dtype option on import or set low_memory=False.\n",
            "  interactivity=interactivity, compiler=compiler, result=result)\n"
          ]
        },
        {
          "output_type": "execute_result",
          "data": {
            "text/html": [
              "<div>\n",
              "<style scoped>\n",
              "    .dataframe tbody tr th:only-of-type {\n",
              "        vertical-align: middle;\n",
              "    }\n",
              "\n",
              "    .dataframe tbody tr th {\n",
              "        vertical-align: top;\n",
              "    }\n",
              "\n",
              "    .dataframe thead th {\n",
              "        text-align: right;\n",
              "    }\n",
              "</style>\n",
              "<table border=\"1\" class=\"dataframe\">\n",
              "  <thead>\n",
              "    <tr style=\"text-align: right;\">\n",
              "      <th></th>\n",
              "      <th>adult</th>\n",
              "      <th>belongs_to_collection</th>\n",
              "      <th>budget</th>\n",
              "      <th>genres</th>\n",
              "      <th>homepage</th>\n",
              "      <th>id</th>\n",
              "      <th>imdb_id</th>\n",
              "      <th>original_language</th>\n",
              "      <th>original_title</th>\n",
              "      <th>overview</th>\n",
              "      <th>popularity</th>\n",
              "      <th>poster_path</th>\n",
              "      <th>production_companies</th>\n",
              "      <th>production_countries</th>\n",
              "      <th>release_date</th>\n",
              "      <th>revenue</th>\n",
              "      <th>runtime</th>\n",
              "      <th>spoken_languages</th>\n",
              "      <th>status</th>\n",
              "      <th>tagline</th>\n",
              "      <th>title</th>\n",
              "      <th>video</th>\n",
              "      <th>vote_average</th>\n",
              "      <th>vote_count</th>\n",
              "    </tr>\n",
              "  </thead>\n",
              "  <tbody>\n",
              "    <tr>\n",
              "      <th>0</th>\n",
              "      <td>False</td>\n",
              "      <td>{'id': 10194, 'name': 'Toy Story Collection', ...</td>\n",
              "      <td>30000000</td>\n",
              "      <td>[{'id': 16, 'name': 'Animation'}, {'id': 35, '...</td>\n",
              "      <td>http://toystory.disney.com/toy-story</td>\n",
              "      <td>862</td>\n",
              "      <td>tt0114709</td>\n",
              "      <td>en</td>\n",
              "      <td>Toy Story</td>\n",
              "      <td>Led by Woody, Andy's toys live happily in his ...</td>\n",
              "      <td>21.9469</td>\n",
              "      <td>/rhIRbceoE9lR4veEXuwCC2wARtG.jpg</td>\n",
              "      <td>[{'name': 'Pixar Animation Studios', 'id': 3}]</td>\n",
              "      <td>[{'iso_3166_1': 'US', 'name': 'United States o...</td>\n",
              "      <td>1995-10-30</td>\n",
              "      <td>373554033.0</td>\n",
              "      <td>81.0</td>\n",
              "      <td>[{'iso_639_1': 'en', 'name': 'English'}]</td>\n",
              "      <td>Released</td>\n",
              "      <td>NaN</td>\n",
              "      <td>Toy Story</td>\n",
              "      <td>False</td>\n",
              "      <td>7.7</td>\n",
              "      <td>5415.0</td>\n",
              "    </tr>\n",
              "    <tr>\n",
              "      <th>1</th>\n",
              "      <td>False</td>\n",
              "      <td>NaN</td>\n",
              "      <td>65000000</td>\n",
              "      <td>[{'id': 12, 'name': 'Adventure'}, {'id': 14, '...</td>\n",
              "      <td>NaN</td>\n",
              "      <td>8844</td>\n",
              "      <td>tt0113497</td>\n",
              "      <td>en</td>\n",
              "      <td>Jumanji</td>\n",
              "      <td>When siblings Judy and Peter discover an encha...</td>\n",
              "      <td>17.0155</td>\n",
              "      <td>/vzmL6fP7aPKNKPRTFnZmiUfciyV.jpg</td>\n",
              "      <td>[{'name': 'TriStar Pictures', 'id': 559}, {'na...</td>\n",
              "      <td>[{'iso_3166_1': 'US', 'name': 'United States o...</td>\n",
              "      <td>1995-12-15</td>\n",
              "      <td>262797249.0</td>\n",
              "      <td>104.0</td>\n",
              "      <td>[{'iso_639_1': 'en', 'name': 'English'}, {'iso...</td>\n",
              "      <td>Released</td>\n",
              "      <td>Roll the dice and unleash the excitement!</td>\n",
              "      <td>Jumanji</td>\n",
              "      <td>False</td>\n",
              "      <td>6.9</td>\n",
              "      <td>2413.0</td>\n",
              "    </tr>\n",
              "    <tr>\n",
              "      <th>2</th>\n",
              "      <td>False</td>\n",
              "      <td>{'id': 119050, 'name': 'Grumpy Old Men Collect...</td>\n",
              "      <td>0</td>\n",
              "      <td>[{'id': 10749, 'name': 'Romance'}, {'id': 35, ...</td>\n",
              "      <td>NaN</td>\n",
              "      <td>15602</td>\n",
              "      <td>tt0113228</td>\n",
              "      <td>en</td>\n",
              "      <td>Grumpier Old Men</td>\n",
              "      <td>A family wedding reignites the ancient feud be...</td>\n",
              "      <td>11.7129</td>\n",
              "      <td>/6ksm1sjKMFLbO7UY2i6G1ju9SML.jpg</td>\n",
              "      <td>[{'name': 'Warner Bros.', 'id': 6194}, {'name'...</td>\n",
              "      <td>[{'iso_3166_1': 'US', 'name': 'United States o...</td>\n",
              "      <td>1995-12-22</td>\n",
              "      <td>0.0</td>\n",
              "      <td>101.0</td>\n",
              "      <td>[{'iso_639_1': 'en', 'name': 'English'}]</td>\n",
              "      <td>Released</td>\n",
              "      <td>Still Yelling. Still Fighting. Still Ready for...</td>\n",
              "      <td>Grumpier Old Men</td>\n",
              "      <td>False</td>\n",
              "      <td>6.5</td>\n",
              "      <td>92.0</td>\n",
              "    </tr>\n",
              "    <tr>\n",
              "      <th>3</th>\n",
              "      <td>False</td>\n",
              "      <td>NaN</td>\n",
              "      <td>16000000</td>\n",
              "      <td>[{'id': 35, 'name': 'Comedy'}, {'id': 18, 'nam...</td>\n",
              "      <td>NaN</td>\n",
              "      <td>31357</td>\n",
              "      <td>tt0114885</td>\n",
              "      <td>en</td>\n",
              "      <td>Waiting to Exhale</td>\n",
              "      <td>Cheated on, mistreated and stepped on, the wom...</td>\n",
              "      <td>3.85949</td>\n",
              "      <td>/16XOMpEaLWkrcPqSQqhTmeJuqQl.jpg</td>\n",
              "      <td>[{'name': 'Twentieth Century Fox Film Corporat...</td>\n",
              "      <td>[{'iso_3166_1': 'US', 'name': 'United States o...</td>\n",
              "      <td>1995-12-22</td>\n",
              "      <td>81452156.0</td>\n",
              "      <td>127.0</td>\n",
              "      <td>[{'iso_639_1': 'en', 'name': 'English'}]</td>\n",
              "      <td>Released</td>\n",
              "      <td>Friends are the people who let you be yourself...</td>\n",
              "      <td>Waiting to Exhale</td>\n",
              "      <td>False</td>\n",
              "      <td>6.1</td>\n",
              "      <td>34.0</td>\n",
              "    </tr>\n",
              "    <tr>\n",
              "      <th>4</th>\n",
              "      <td>False</td>\n",
              "      <td>{'id': 96871, 'name': 'Father of the Bride Col...</td>\n",
              "      <td>0</td>\n",
              "      <td>[{'id': 35, 'name': 'Comedy'}]</td>\n",
              "      <td>NaN</td>\n",
              "      <td>11862</td>\n",
              "      <td>tt0113041</td>\n",
              "      <td>en</td>\n",
              "      <td>Father of the Bride Part II</td>\n",
              "      <td>Just when George Banks has recovered from his ...</td>\n",
              "      <td>8.38752</td>\n",
              "      <td>/e64sOI48hQXyru7naBFyssKFxVd.jpg</td>\n",
              "      <td>[{'name': 'Sandollar Productions', 'id': 5842}...</td>\n",
              "      <td>[{'iso_3166_1': 'US', 'name': 'United States o...</td>\n",
              "      <td>1995-02-10</td>\n",
              "      <td>76578911.0</td>\n",
              "      <td>106.0</td>\n",
              "      <td>[{'iso_639_1': 'en', 'name': 'English'}]</td>\n",
              "      <td>Released</td>\n",
              "      <td>Just When His World Is Back To Normal... He's ...</td>\n",
              "      <td>Father of the Bride Part II</td>\n",
              "      <td>False</td>\n",
              "      <td>5.7</td>\n",
              "      <td>173.0</td>\n",
              "    </tr>\n",
              "  </tbody>\n",
              "</table>\n",
              "</div>"
            ],
            "text/plain": [
              "   adult  ... vote_count\n",
              "0  False  ...     5415.0\n",
              "1  False  ...     2413.0\n",
              "2  False  ...       92.0\n",
              "3  False  ...       34.0\n",
              "4  False  ...      173.0\n",
              "\n",
              "[5 rows x 24 columns]"
            ]
          },
          "metadata": {},
          "execution_count": 25
        }
      ]
    },
    {
      "cell_type": "markdown",
      "metadata": {
        "id": "2ebeac7e"
      },
      "source": [
        "### Importing the ratings dataset"
      ],
      "id": "2ebeac7e"
    },
    {
      "cell_type": "code",
      "metadata": {
        "id": "f1d04023"
      },
      "source": [
        "# ratings_df = pd.read_csv(\"C:\\\\Users\\\\Jatin Dhall\\\\Desktop\\\\Desktop File\\\\VIT\\\\VIT\\\\SEM 3\\\\DATA VIZ\\\\Project\\\\Movie Dataset\\\\ratings.csv\")\n",
        "# ratings_df.head()"
      ],
      "id": "f1d04023",
      "execution_count": null,
      "outputs": []
    },
    {
      "cell_type": "markdown",
      "metadata": {
        "id": "757a34b1"
      },
      "source": [
        "### Importing the links dataset"
      ],
      "id": "757a34b1"
    },
    {
      "cell_type": "code",
      "metadata": {
        "id": "a83bffbb"
      },
      "source": [
        "# links_df = pd.read_csv(\"C:\\\\Users\\\\Jatin Dhall\\\\Desktop\\\\Desktop File\\\\VIT\\\\VIT\\\\SEM 3\\\\DATA VIZ\\\\Project\\\\Movie Dataset\\\\links.csv\")\n",
        "# links_df.head()"
      ],
      "id": "a83bffbb",
      "execution_count": null,
      "outputs": []
    },
    {
      "cell_type": "markdown",
      "metadata": {
        "id": "6cf944a8"
      },
      "source": [
        "### Importing the credits dataset"
      ],
      "id": "6cf944a8"
    },
    {
      "cell_type": "code",
      "metadata": {
        "scrolled": true,
        "id": "3f46d573"
      },
      "source": [
        "# credits_df = pd.read_csv(\"C:\\\\Users\\\\Jatin Dhall\\\\Desktop\\\\Desktop File\\\\VIT\\\\VIT\\\\SEM 3\\\\DATA VIZ\\\\Project\\\\Movie Dataset\\\\credits.csv\")\n",
        "# credits_df.head()"
      ],
      "id": "3f46d573",
      "execution_count": null,
      "outputs": []
    },
    {
      "cell_type": "markdown",
      "metadata": {
        "id": "8fe67337"
      },
      "source": [
        "### Importing the keywords dataset"
      ],
      "id": "8fe67337"
    },
    {
      "cell_type": "code",
      "metadata": {
        "id": "3abc5359"
      },
      "source": [
        "# keywords_df = pd.read_csv(\"C:\\\\Users\\\\Jatin Dhall\\\\Desktop\\\\Desktop File\\\\VIT\\\\VIT\\\\SEM 3\\\\DATA VIZ\\\\Project\\\\Movie Dataset\\\\keywords.csv\")\n",
        "# keywords_df.head()"
      ],
      "id": "3abc5359",
      "execution_count": null,
      "outputs": []
    },
    {
      "cell_type": "markdown",
      "metadata": {
        "id": "8747f5dd"
      },
      "source": [
        "### Handling missing values"
      ],
      "id": "8747f5dd"
    },
    {
      "cell_type": "code",
      "metadata": {
        "colab": {
          "base_uri": "https://localhost:8080/"
        },
        "id": "75f37bdf",
        "outputId": "750ca0f9-5afc-45e5-95eb-aac24e82d31e"
      },
      "source": [
        "movies_df.isnull().sum()"
      ],
      "id": "75f37bdf",
      "execution_count": null,
      "outputs": [
        {
          "output_type": "execute_result",
          "data": {
            "text/plain": [
              "adult                        0\n",
              "belongs_to_collection    40972\n",
              "budget                       0\n",
              "genres                       0\n",
              "homepage                 37684\n",
              "id                           0\n",
              "imdb_id                     17\n",
              "original_language           11\n",
              "original_title               0\n",
              "overview                   954\n",
              "popularity                   5\n",
              "poster_path                386\n",
              "production_companies         3\n",
              "production_countries         3\n",
              "release_date                87\n",
              "revenue                      6\n",
              "runtime                    263\n",
              "spoken_languages             6\n",
              "status                      87\n",
              "tagline                  25054\n",
              "title                        6\n",
              "video                        6\n",
              "vote_average                 6\n",
              "vote_count                   6\n",
              "dtype: int64"
            ]
          },
          "metadata": {},
          "execution_count": 26
        }
      ]
    },
    {
      "cell_type": "code",
      "metadata": {
        "id": "27f34233"
      },
      "source": [
        "movies_df = movies_df.drop(columns = [\"belongs_to_collection\",\"homepage\",\"tagline\"],axis = 1)"
      ],
      "id": "27f34233",
      "execution_count": null,
      "outputs": []
    },
    {
      "cell_type": "code",
      "metadata": {
        "id": "514967ab"
      },
      "source": [
        "movies_df = movies_df.dropna(axis = 0, how ='any')"
      ],
      "id": "514967ab",
      "execution_count": null,
      "outputs": []
    },
    {
      "cell_type": "code",
      "metadata": {
        "colab": {
          "base_uri": "https://localhost:8080/"
        },
        "id": "15dd13e7",
        "outputId": "e9ef51d6-128d-4fac-b67f-4fd74e4515cb"
      },
      "source": [
        "movies_df.isnull().sum()"
      ],
      "id": "15dd13e7",
      "execution_count": null,
      "outputs": [
        {
          "output_type": "execute_result",
          "data": {
            "text/plain": [
              "adult                   0\n",
              "budget                  0\n",
              "genres                  0\n",
              "id                      0\n",
              "imdb_id                 0\n",
              "original_language       0\n",
              "original_title          0\n",
              "overview                0\n",
              "popularity              0\n",
              "poster_path             0\n",
              "production_companies    0\n",
              "production_countries    0\n",
              "release_date            0\n",
              "revenue                 0\n",
              "runtime                 0\n",
              "spoken_languages        0\n",
              "status                  0\n",
              "title                   0\n",
              "video                   0\n",
              "vote_average            0\n",
              "vote_count              0\n",
              "dtype: int64"
            ]
          },
          "metadata": {},
          "execution_count": 29
        }
      ]
    },
    {
      "cell_type": "markdown",
      "metadata": {
        "id": "2d74ab0f"
      },
      "source": [
        "### Removing the rows containing either budget or revenue as 0"
      ],
      "id": "2d74ab0f"
    },
    {
      "cell_type": "code",
      "metadata": {
        "colab": {
          "base_uri": "https://localhost:8080/",
          "height": 642
        },
        "id": "a3c4f2f7",
        "outputId": "821750c7-fa71-40f0-9964-eb00ace71316"
      },
      "source": [
        "#Filtering out all the rows where budget or revenue is 0\n",
        "df_filtered = movies_df[(movies_df['budget'] != \"0\")]\n",
        "df_filtered = df_filtered[(movies_df['revenue'] != 0.0)]\n",
        "df_filtered.head()"
      ],
      "id": "a3c4f2f7",
      "execution_count": null,
      "outputs": [
        {
          "output_type": "stream",
          "name": "stderr",
          "text": [
            "/usr/local/lib/python3.7/dist-packages/ipykernel_launcher.py:3: UserWarning: Boolean Series key will be reindexed to match DataFrame index.\n",
            "  This is separate from the ipykernel package so we can avoid doing imports until\n"
          ]
        },
        {
          "output_type": "execute_result",
          "data": {
            "text/html": [
              "<div>\n",
              "<style scoped>\n",
              "    .dataframe tbody tr th:only-of-type {\n",
              "        vertical-align: middle;\n",
              "    }\n",
              "\n",
              "    .dataframe tbody tr th {\n",
              "        vertical-align: top;\n",
              "    }\n",
              "\n",
              "    .dataframe thead th {\n",
              "        text-align: right;\n",
              "    }\n",
              "</style>\n",
              "<table border=\"1\" class=\"dataframe\">\n",
              "  <thead>\n",
              "    <tr style=\"text-align: right;\">\n",
              "      <th></th>\n",
              "      <th>adult</th>\n",
              "      <th>budget</th>\n",
              "      <th>genres</th>\n",
              "      <th>id</th>\n",
              "      <th>imdb_id</th>\n",
              "      <th>original_language</th>\n",
              "      <th>original_title</th>\n",
              "      <th>overview</th>\n",
              "      <th>popularity</th>\n",
              "      <th>poster_path</th>\n",
              "      <th>production_companies</th>\n",
              "      <th>production_countries</th>\n",
              "      <th>release_date</th>\n",
              "      <th>revenue</th>\n",
              "      <th>runtime</th>\n",
              "      <th>spoken_languages</th>\n",
              "      <th>status</th>\n",
              "      <th>title</th>\n",
              "      <th>video</th>\n",
              "      <th>vote_average</th>\n",
              "      <th>vote_count</th>\n",
              "    </tr>\n",
              "  </thead>\n",
              "  <tbody>\n",
              "    <tr>\n",
              "      <th>0</th>\n",
              "      <td>False</td>\n",
              "      <td>30000000</td>\n",
              "      <td>[{'id': 16, 'name': 'Animation'}, {'id': 35, '...</td>\n",
              "      <td>862</td>\n",
              "      <td>tt0114709</td>\n",
              "      <td>en</td>\n",
              "      <td>Toy Story</td>\n",
              "      <td>Led by Woody, Andy's toys live happily in his ...</td>\n",
              "      <td>21.9469</td>\n",
              "      <td>/rhIRbceoE9lR4veEXuwCC2wARtG.jpg</td>\n",
              "      <td>[{'name': 'Pixar Animation Studios', 'id': 3}]</td>\n",
              "      <td>[{'iso_3166_1': 'US', 'name': 'United States o...</td>\n",
              "      <td>1995-10-30</td>\n",
              "      <td>373554033.0</td>\n",
              "      <td>81.0</td>\n",
              "      <td>[{'iso_639_1': 'en', 'name': 'English'}]</td>\n",
              "      <td>Released</td>\n",
              "      <td>Toy Story</td>\n",
              "      <td>False</td>\n",
              "      <td>7.7</td>\n",
              "      <td>5415.0</td>\n",
              "    </tr>\n",
              "    <tr>\n",
              "      <th>1</th>\n",
              "      <td>False</td>\n",
              "      <td>65000000</td>\n",
              "      <td>[{'id': 12, 'name': 'Adventure'}, {'id': 14, '...</td>\n",
              "      <td>8844</td>\n",
              "      <td>tt0113497</td>\n",
              "      <td>en</td>\n",
              "      <td>Jumanji</td>\n",
              "      <td>When siblings Judy and Peter discover an encha...</td>\n",
              "      <td>17.0155</td>\n",
              "      <td>/vzmL6fP7aPKNKPRTFnZmiUfciyV.jpg</td>\n",
              "      <td>[{'name': 'TriStar Pictures', 'id': 559}, {'na...</td>\n",
              "      <td>[{'iso_3166_1': 'US', 'name': 'United States o...</td>\n",
              "      <td>1995-12-15</td>\n",
              "      <td>262797249.0</td>\n",
              "      <td>104.0</td>\n",
              "      <td>[{'iso_639_1': 'en', 'name': 'English'}, {'iso...</td>\n",
              "      <td>Released</td>\n",
              "      <td>Jumanji</td>\n",
              "      <td>False</td>\n",
              "      <td>6.9</td>\n",
              "      <td>2413.0</td>\n",
              "    </tr>\n",
              "    <tr>\n",
              "      <th>3</th>\n",
              "      <td>False</td>\n",
              "      <td>16000000</td>\n",
              "      <td>[{'id': 35, 'name': 'Comedy'}, {'id': 18, 'nam...</td>\n",
              "      <td>31357</td>\n",
              "      <td>tt0114885</td>\n",
              "      <td>en</td>\n",
              "      <td>Waiting to Exhale</td>\n",
              "      <td>Cheated on, mistreated and stepped on, the wom...</td>\n",
              "      <td>3.85949</td>\n",
              "      <td>/16XOMpEaLWkrcPqSQqhTmeJuqQl.jpg</td>\n",
              "      <td>[{'name': 'Twentieth Century Fox Film Corporat...</td>\n",
              "      <td>[{'iso_3166_1': 'US', 'name': 'United States o...</td>\n",
              "      <td>1995-12-22</td>\n",
              "      <td>81452156.0</td>\n",
              "      <td>127.0</td>\n",
              "      <td>[{'iso_639_1': 'en', 'name': 'English'}]</td>\n",
              "      <td>Released</td>\n",
              "      <td>Waiting to Exhale</td>\n",
              "      <td>False</td>\n",
              "      <td>6.1</td>\n",
              "      <td>34.0</td>\n",
              "    </tr>\n",
              "    <tr>\n",
              "      <th>5</th>\n",
              "      <td>False</td>\n",
              "      <td>60000000</td>\n",
              "      <td>[{'id': 28, 'name': 'Action'}, {'id': 80, 'nam...</td>\n",
              "      <td>949</td>\n",
              "      <td>tt0113277</td>\n",
              "      <td>en</td>\n",
              "      <td>Heat</td>\n",
              "      <td>Obsessive master thief, Neil McCauley leads a ...</td>\n",
              "      <td>17.9249</td>\n",
              "      <td>/zMyfPUelumio3tiDKPffaUpsQTD.jpg</td>\n",
              "      <td>[{'name': 'Regency Enterprises', 'id': 508}, {...</td>\n",
              "      <td>[{'iso_3166_1': 'US', 'name': 'United States o...</td>\n",
              "      <td>1995-12-15</td>\n",
              "      <td>187436818.0</td>\n",
              "      <td>170.0</td>\n",
              "      <td>[{'iso_639_1': 'en', 'name': 'English'}, {'iso...</td>\n",
              "      <td>Released</td>\n",
              "      <td>Heat</td>\n",
              "      <td>False</td>\n",
              "      <td>7.7</td>\n",
              "      <td>1886.0</td>\n",
              "    </tr>\n",
              "    <tr>\n",
              "      <th>8</th>\n",
              "      <td>False</td>\n",
              "      <td>35000000</td>\n",
              "      <td>[{'id': 28, 'name': 'Action'}, {'id': 12, 'nam...</td>\n",
              "      <td>9091</td>\n",
              "      <td>tt0114576</td>\n",
              "      <td>en</td>\n",
              "      <td>Sudden Death</td>\n",
              "      <td>International action superstar Jean Claude Van...</td>\n",
              "      <td>5.23158</td>\n",
              "      <td>/eoWvKD60lT95Ss1MYNgVExpo5iU.jpg</td>\n",
              "      <td>[{'name': 'Universal Pictures', 'id': 33}, {'n...</td>\n",
              "      <td>[{'iso_3166_1': 'US', 'name': 'United States o...</td>\n",
              "      <td>1995-12-22</td>\n",
              "      <td>64350171.0</td>\n",
              "      <td>106.0</td>\n",
              "      <td>[{'iso_639_1': 'en', 'name': 'English'}]</td>\n",
              "      <td>Released</td>\n",
              "      <td>Sudden Death</td>\n",
              "      <td>False</td>\n",
              "      <td>5.5</td>\n",
              "      <td>174.0</td>\n",
              "    </tr>\n",
              "  </tbody>\n",
              "</table>\n",
              "</div>"
            ],
            "text/plain": [
              "   adult    budget  ... vote_average vote_count\n",
              "0  False  30000000  ...          7.7     5415.0\n",
              "1  False  65000000  ...          6.9     2413.0\n",
              "3  False  16000000  ...          6.1       34.0\n",
              "5  False  60000000  ...          7.7     1886.0\n",
              "8  False  35000000  ...          5.5      174.0\n",
              "\n",
              "[5 rows x 21 columns]"
            ]
          },
          "metadata": {},
          "execution_count": 30
        }
      ]
    },
    {
      "cell_type": "code",
      "metadata": {
        "id": "242f805a"
      },
      "source": [
        "# print(df_filtered.dtypes)"
      ],
      "id": "242f805a",
      "execution_count": null,
      "outputs": []
    },
    {
      "cell_type": "markdown",
      "metadata": {
        "id": "310ad282"
      },
      "source": [
        "### Converting the datatype of columns budget and popularity"
      ],
      "id": "310ad282"
    },
    {
      "cell_type": "code",
      "metadata": {
        "id": "051a0a64"
      },
      "source": [
        "df_filtered['budget'] = pd.to_numeric(df_filtered['budget'])\n",
        "df_filtered['popularity'] = pd.to_numeric(df_filtered['popularity'])"
      ],
      "id": "051a0a64",
      "execution_count": null,
      "outputs": []
    },
    {
      "cell_type": "code",
      "metadata": {
        "id": "081cccc9"
      },
      "source": [
        "# print(df_filtered.dtypes)"
      ],
      "id": "081cccc9",
      "execution_count": null,
      "outputs": []
    },
    {
      "cell_type": "code",
      "metadata": {
        "id": "aa69f6b8"
      },
      "source": [
        "# ratings_df.isnull().sum()"
      ],
      "id": "aa69f6b8",
      "execution_count": null,
      "outputs": []
    },
    {
      "cell_type": "code",
      "metadata": {
        "id": "b176414b"
      },
      "source": [
        "# links_df.isnull().sum()"
      ],
      "id": "b176414b",
      "execution_count": null,
      "outputs": []
    },
    {
      "cell_type": "code",
      "metadata": {
        "id": "44c0e288"
      },
      "source": [
        "# links_df = links_df.dropna(axis = 0,how = \"any\")"
      ],
      "id": "44c0e288",
      "execution_count": null,
      "outputs": []
    },
    {
      "cell_type": "code",
      "metadata": {
        "id": "403d444d"
      },
      "source": [
        "# links_df.isnull().sum()"
      ],
      "id": "403d444d",
      "execution_count": null,
      "outputs": []
    },
    {
      "cell_type": "code",
      "metadata": {
        "id": "1d24819b"
      },
      "source": [
        "# keywords_df.isnull().sum()"
      ],
      "id": "1d24819b",
      "execution_count": null,
      "outputs": []
    },
    {
      "cell_type": "code",
      "metadata": {
        "id": "4c44868e"
      },
      "source": [
        "# credits_df.isnull().sum()"
      ],
      "id": "4c44868e",
      "execution_count": null,
      "outputs": []
    },
    {
      "cell_type": "code",
      "metadata": {
        "id": "2b7670b8"
      },
      "source": [
        "budgetList = list(pd.to_numeric(df_filtered[\"budget\"]))\n",
        "revenueList = list(pd.to_numeric(df_filtered[\"revenue\"]))"
      ],
      "id": "2b7670b8",
      "execution_count": null,
      "outputs": []
    },
    {
      "cell_type": "markdown",
      "metadata": {
        "id": "50dcc2ec"
      },
      "source": [
        "### Getting the genre list"
      ],
      "id": "50dcc2ec"
    },
    {
      "cell_type": "code",
      "metadata": {
        "colab": {
          "base_uri": "https://localhost:8080/"
        },
        "id": "faf4cb2b",
        "outputId": "50a8094a-877e-45db-a91c-94258f441fe6"
      },
      "source": [
        "#Code to get a list of all the genres\n",
        "genreListEncoded = df_filtered[\"genres\"]\n",
        "genreListEncoded = list(genreListEncoded)\n",
        "genreList = []\n",
        "for i in genreListEncoded:\n",
        "    i = ast.literal_eval(i)\n",
        "    for j in i:\n",
        "        genreList.append(j['name'])\n",
        "\n",
        "genreset = set(genreList)\n",
        "# convert the set to the list\n",
        "genres = (list(genreset))\n",
        "print(genres)"
      ],
      "id": "faf4cb2b",
      "execution_count": null,
      "outputs": [
        {
          "output_type": "stream",
          "name": "stdout",
          "text": [
            "['Horror', 'TV Movie', 'Action', 'Adventure', 'Western', 'Thriller', 'Animation', 'Romance', 'Crime', 'History', 'Mystery', 'Music', 'Family', 'Documentary', 'Drama', 'Science Fiction', 'Comedy', 'War', 'Foreign', 'Fantasy']\n"
          ]
        }
      ]
    },
    {
      "cell_type": "markdown",
      "metadata": {
        "id": "2300dd6e"
      },
      "source": [
        "### Box plots of Budget List and Revenue List"
      ],
      "id": "2300dd6e"
    },
    {
      "cell_type": "code",
      "metadata": {
        "id": "addcf5de"
      },
      "source": [
        "# sns.boxplot(x = budgetList)"
      ],
      "id": "addcf5de",
      "execution_count": null,
      "outputs": []
    },
    {
      "cell_type": "code",
      "metadata": {
        "scrolled": true,
        "id": "9f5fd920"
      },
      "source": [
        "# sns.boxplot(x = revenueList)"
      ],
      "id": "9f5fd920",
      "execution_count": null,
      "outputs": []
    },
    {
      "cell_type": "markdown",
      "metadata": {
        "id": "90799256"
      },
      "source": [
        "### Histograms"
      ],
      "id": "90799256"
    },
    {
      "cell_type": "code",
      "metadata": {
        "scrolled": true,
        "id": "1f859f7f"
      },
      "source": [
        "# #Histograms\n",
        "# df_filtered[['budget'] + ['popularity'] + ['revenue'] + ['runtime'] + ['vote_average']].hist(figsize=(20,15), log=True);"
      ],
      "id": "1f859f7f",
      "execution_count": null,
      "outputs": []
    },
    {
      "cell_type": "code",
      "metadata": {
        "colab": {
          "base_uri": "https://localhost:8080/"
        },
        "id": "d99fe8a3",
        "outputId": "4a456f84-3906-46d9-eecb-1cb2ac3a06f0"
      },
      "source": [
        "# Code to get a list of all the release dates\n",
        "release_dates = df_filtered[\"release_date\"]\n",
        "dates = []\n",
        "for i in release_dates:\n",
        "    dates.append(int(i[0:4]))\n",
        "    \n",
        "print(max(dates))"
      ],
      "id": "d99fe8a3",
      "execution_count": null,
      "outputs": [
        {
          "output_type": "stream",
          "name": "stdout",
          "text": [
            "2017\n"
          ]
        }
      ]
    },
    {
      "cell_type": "code",
      "metadata": {
        "id": "02c21b7a"
      },
      "source": [
        "# #Histogram for release years\n",
        "# # Increase the width\n",
        "# plt.figure(figsize=(15,4))\n",
        "# plt.hist(dates, bins=30, alpha=0.5)\n",
        "# plt.title('Release dates Histogram')\n",
        "# plt.xlabel('Release Dates')\n",
        "\n",
        "# plt.show()"
      ],
      "id": "02c21b7a",
      "execution_count": null,
      "outputs": []
    },
    {
      "cell_type": "markdown",
      "metadata": {
        "id": "ebd24f3c"
      },
      "source": [
        "### Correlations of the columns"
      ],
      "id": "ebd24f3c"
    },
    {
      "cell_type": "code",
      "metadata": {
        "id": "0239171e"
      },
      "source": [
        "# #Displaying the correlation between all the numeric rows\n",
        "# cor = df_filtered.corr()\n",
        "# print(cor)"
      ],
      "id": "0239171e",
      "execution_count": null,
      "outputs": []
    },
    {
      "cell_type": "markdown",
      "metadata": {
        "id": "4c9420d7"
      },
      "source": [
        "#### Correlation Heatmap"
      ],
      "id": "4c9420d7"
    },
    {
      "cell_type": "code",
      "metadata": {
        "scrolled": false,
        "id": "f58302ac"
      },
      "source": [
        "# #Constructing a heat map to understand the correlation between the columns\n",
        "# plt.figure(figsize = (10,10))\n",
        "# sns.heatmap(cor, cbar = True , square = True,fmt = '.1f', annot = True, annot_kws = {'size' : 8},  cmap = 'Blues')"
      ],
      "id": "f58302ac",
      "execution_count": null,
      "outputs": []
    },
    {
      "cell_type": "code",
      "metadata": {
        "id": "56e57be0"
      },
      "source": [
        "#Counting correlation of 0.5 and above as high correlation between columns\n",
        "#Columns with high correlation\n",
        "#buget and revenue - 0.7\n",
        "#budget and vote_count - 0.6\n",
        "#popularity and vote_count - 0.5\n",
        "#revenue and vote_count - 0.8"
      ],
      "id": "56e57be0",
      "execution_count": null,
      "outputs": []
    },
    {
      "cell_type": "markdown",
      "metadata": {
        "id": "25c030ef"
      },
      "source": [
        "### Scatterplots"
      ],
      "id": "25c030ef"
    },
    {
      "cell_type": "markdown",
      "metadata": {
        "id": "072d048a"
      },
      "source": [
        "#### Runtime vs Budget"
      ],
      "id": "072d048a"
    },
    {
      "cell_type": "code",
      "metadata": {
        "id": "b1205235"
      },
      "source": [
        "# runtime_data = list(df_filtered[\"runtime\"])\n",
        "# vote_avg = df_filtered['vote_average']\n",
        "# # Increase the width\n",
        "# plt.figure(figsize=(15,4))\n",
        "# sns.scatterplot(x = budgetList,y = runtime_data,hue = vote_avg)\n",
        "# plt.xlabel('Budget')\n",
        "# plt.ylabel('Runtime')\n",
        "# plt.title('Runtime vs Budget')\n",
        "# plt.show()"
      ],
      "id": "b1205235",
      "execution_count": null,
      "outputs": []
    },
    {
      "cell_type": "markdown",
      "metadata": {
        "id": "9b946f9f"
      },
      "source": [
        "#### Revenue vs Budget"
      ],
      "id": "9b946f9f"
    },
    {
      "cell_type": "code",
      "metadata": {
        "id": "fd0d9c74"
      },
      "source": [
        "# #Using hue as ratings or genres with respect to vote avg\n",
        "# # Increase the width\n",
        "# plt.figure(figsize=(15,4))\n",
        "# sns.scatterplot(x = budgetList,y = revenueList,hue = vote_avg)\n",
        "# plt.xlabel('Budget')\n",
        "# plt.ylabel('Revenue')\n",
        "# plt.title('Revenue vs Budget')\n",
        "# plt.show()"
      ],
      "id": "fd0d9c74",
      "execution_count": null,
      "outputs": []
    },
    {
      "cell_type": "markdown",
      "metadata": {
        "id": "aba35953"
      },
      "source": [
        "#### Budget vs Vote Count"
      ],
      "id": "aba35953"
    },
    {
      "cell_type": "code",
      "metadata": {
        "id": "3e6a3015"
      },
      "source": [
        "# #Using hue as vote avg\n",
        "# # Increase the width\n",
        "# plt.figure(figsize=(15,4))\n",
        "# sns.scatterplot(x = budgetList,y = list(df_filtered[\"vote_count\"]),hue = vote_avg)\n",
        "# plt.xlabel('Budget')\n",
        "# plt.ylabel('Vote Count')\n",
        "# plt.title('Vote Count vs Budget')\n",
        "# plt.show()"
      ],
      "id": "3e6a3015",
      "execution_count": null,
      "outputs": []
    },
    {
      "cell_type": "markdown",
      "metadata": {
        "id": "4d81fe21"
      },
      "source": [
        "#### Popularity and Vote Count"
      ],
      "id": "4d81fe21"
    },
    {
      "cell_type": "code",
      "metadata": {
        "id": "2b86ce2c"
      },
      "source": [
        "# #Using hue as vote avg\n",
        "# # Increase the width\n",
        "# plt.figure(figsize=(15,4))\n",
        "# sns.scatterplot(x = list(df_filtered['popularity']),y = df_filtered['vote_count'],hue = vote_avg)\n",
        "# plt.xlabel('Popularity')\n",
        "# plt.ylabel('Vote Count')\n",
        "# plt.title('Vote Count vs Popularity')\n",
        "# plt.show()"
      ],
      "id": "2b86ce2c",
      "execution_count": null,
      "outputs": []
    },
    {
      "cell_type": "markdown",
      "metadata": {
        "id": "bfc3c4cf"
      },
      "source": [
        "#### Revenue and Vote Count"
      ],
      "id": "bfc3c4cf"
    },
    {
      "cell_type": "code",
      "metadata": {
        "id": "e397fcd0"
      },
      "source": [
        "# #Using hue as vote avg\n",
        "# # Increase the width\n",
        "# plt.figure(figsize=(15,4))\n",
        "# sns.scatterplot(x = list(df_filtered['vote_count']),y = revenueList,hue = vote_avg)\n",
        "# plt.xlabel('Vote Count')\n",
        "# plt.ylabel('Revenue')\n",
        "# plt.title('Revenue vs Vote Count')\n",
        "# plt.show()"
      ],
      "id": "e397fcd0",
      "execution_count": null,
      "outputs": []
    },
    {
      "cell_type": "markdown",
      "metadata": {
        "id": "1d350152"
      },
      "source": [
        "### Regression Plots of features with correlation higher than 0.7"
      ],
      "id": "1d350152"
    },
    {
      "cell_type": "markdown",
      "metadata": {
        "id": "0facbb0b"
      },
      "source": [
        "#### Budget vs Revenue"
      ],
      "id": "0facbb0b"
    },
    {
      "cell_type": "code",
      "metadata": {
        "id": "18b05d46"
      },
      "source": [
        "# # Increase the width\n",
        "# plt.figure(figsize=(15,4))\n",
        "# #Display regression plot using seaborn\n",
        "# sns.regplot(x = budgetList,y = revenueList,line_kws={'color':'red'})\n",
        "# plt.xlabel('Budget')\n",
        "# plt.ylabel('Revenue')\n",
        "# plt.title('Revenue vs Budget')\n",
        "# plt.show()"
      ],
      "id": "18b05d46",
      "execution_count": null,
      "outputs": []
    },
    {
      "cell_type": "markdown",
      "metadata": {
        "id": "02dbbf2f"
      },
      "source": [
        "#### Revenue vs Vote Count"
      ],
      "id": "02dbbf2f"
    },
    {
      "cell_type": "code",
      "metadata": {
        "id": "eaec362f"
      },
      "source": [
        "# # Increase the width\n",
        "# plt.figure(figsize=(15,4))\n",
        "# #Display regression plot using seaborn\n",
        "# sns.regplot(x = list(df_filtered['vote_count']),y = revenueList,line_kws={'color':'red'})\n",
        "# plt.xlabel('Vote Count')\n",
        "# plt.ylabel('Revenue')\n",
        "# plt.title('Revenue vs Vote Count')\n",
        "# plt.show()"
      ],
      "id": "eaec362f",
      "execution_count": null,
      "outputs": []
    },
    {
      "cell_type": "markdown",
      "metadata": {
        "id": "b9565726"
      },
      "source": [
        "### Linear Regression Models on features with correlation higher than 0.7"
      ],
      "id": "b9565726"
    },
    {
      "cell_type": "markdown",
      "metadata": {
        "id": "9a1b84bf"
      },
      "source": [
        "#### Revenue vs Budget"
      ],
      "id": "9a1b84bf"
    },
    {
      "cell_type": "code",
      "metadata": {
        "id": "f58a82c9"
      },
      "source": [
        "# #Lower the rmse value, better the Regression Model(scaled to the range of data)\n",
        "\n",
        "# import math\n",
        "# model = LinearRegression()\n",
        "# #Normalizing the data for it to be in a range between 0 and 1\n",
        "# x = [(m -min(budgetList))/(max(budgetList) - min(budgetList)) for m in budgetList]\n",
        "# y = [(m -min(revenueList))/(max(revenueList) - min(revenueList)) for m in revenueList]\n",
        "# x = np.array(x)\n",
        "# x = x.reshape(-1,1)\n",
        "# y = np.array(y)\n",
        "# x_train,x_test,y_train,y_test = train_test_split(x,y,test_size = 0.2,random_state = 2)\n",
        "# model.fit(x_train,y_train)\n",
        "# pred = model.predict(x_test)\n",
        "\n",
        "# mse = metrics.mean_squared_error(pred, y_test)\n",
        "\n",
        "# rmse = math.sqrt(mse)\n",
        "\n",
        "# print(rmse)\n",
        "\n",
        "# print(\"Budget is in the range : \",min(x),max(x))\n",
        "# print(\"Revenue is in the range : \",min(y),max(y))"
      ],
      "id": "f58a82c9",
      "execution_count": null,
      "outputs": []
    },
    {
      "cell_type": "markdown",
      "metadata": {
        "id": "153f20d5"
      },
      "source": [
        "#### Revenue vs Vote Count"
      ],
      "id": "153f20d5"
    },
    {
      "cell_type": "code",
      "metadata": {
        "id": "41fca02e"
      },
      "source": [
        "# #Lower the rmse value, better the Regression Model(scaled to the range of data)\n",
        "\n",
        "# import math\n",
        "# model = LinearRegression()\n",
        "# vote_count = list(df_filtered[\"vote_count\"])\n",
        "# #Normalizing the data for it to be in a range between 0 and 1\n",
        "# x = [(m -min(vote_count))/(max(vote_count) - min(vote_count)) for m in vote_count]\n",
        "# y = [(m -min(revenueList))/(max(revenueList) - min(revenueList)) for m in revenueList]\n",
        "# x = np.array(x)\n",
        "# x = x.reshape(-1,1)\n",
        "# y = np.array(y)\n",
        "# x_train,x_test,y_train,y_test = train_test_split(x,y,test_size = 0.2,random_state = 2)\n",
        "# model.fit(x_train,y_train)\n",
        "# pred = model.predict(x_test)\n",
        "\n",
        "# mse = metrics.mean_squared_error(pred, y_test)\n",
        "\n",
        "# rmse = math.sqrt(mse)\n",
        "\n",
        "# print(rmse)\n",
        "\n",
        "# print(\"Vote Count is in the range : \",min(x),max(x))\n",
        "# print(\"Revenue is in the range : \",min(y),max(y))"
      ],
      "id": "41fca02e",
      "execution_count": null,
      "outputs": []
    },
    {
      "cell_type": "markdown",
      "metadata": {
        "id": "efe1f769"
      },
      "source": [
        "### Pie Charts"
      ],
      "id": "efe1f769"
    },
    {
      "cell_type": "code",
      "metadata": {
        "id": "ccfe575e"
      },
      "source": [
        "# df_filtered.head()"
      ],
      "id": "ccfe575e",
      "execution_count": null,
      "outputs": []
    },
    {
      "cell_type": "markdown",
      "metadata": {
        "id": "2509f726"
      },
      "source": [
        "#### Genres Pie Chart"
      ],
      "id": "2509f726"
    },
    {
      "cell_type": "code",
      "metadata": {
        "id": "3298f4b1"
      },
      "source": [
        "genres_count = []\n",
        "number_of_colors = len(genres)\n",
        "\n",
        "color = [\"#\"+''.join([random.choice('0123456789ABCDEF') for j in range(6)])\n",
        "             for i in range(number_of_colors)]\n",
        "\n",
        "for i in genres:\n",
        "    count = genreList.count(i)\n",
        "    genres_count.append(count)\n",
        "\n",
        "# # Increase the width\n",
        "# plt.figure(figsize=(20,6))\n",
        "# plt.pie(genres_count,colors = color)\n",
        "# plt.title(\"Genres Pie Chart\")\n",
        "# # use parameter bbox_to_anchor to reposition\n",
        "# # the legend box outside the plot area\n",
        "# plt.gca().legend(labels = genres,loc='center left', bbox_to_anchor=(2, 0.5))\n",
        "# plt.show()"
      ],
      "id": "3298f4b1",
      "execution_count": null,
      "outputs": []
    },
    {
      "cell_type": "markdown",
      "metadata": {
        "id": "807a5fbe"
      },
      "source": [
        "#### Adult vs Non Adult Pie Chart"
      ],
      "id": "807a5fbe"
    },
    {
      "cell_type": "code",
      "metadata": {
        "id": "77cafbe5"
      },
      "source": [
        "adult_data = list(movies_df['adult'])\n",
        "count = adult_data.count(\"True\")\n",
        "count1 = adult_data.count(\"False\")\n",
        "\n",
        "adult_count = [count,count1]\n",
        "\n",
        "\n",
        "# color = ['r','b']\n",
        "\n",
        "labels = [\"Adult\",\"Not Adult\"]\n",
        "# # Increase the width\n",
        "# plt.figure(figsize=(20,6))\n",
        "# plt.title(\"Adult vs Non Adult movies Pie Chart\")\n",
        "# plt.pie(adult_count,colors = color, labels = labels)\n",
        "# plt.legend(labels,loc=1)\n",
        "# plt.show()"
      ],
      "id": "77cafbe5",
      "execution_count": null,
      "outputs": []
    },
    {
      "cell_type": "markdown",
      "metadata": {
        "id": "4de6dff8"
      },
      "source": [
        "#### Pie chart of production countries"
      ],
      "id": "4de6dff8"
    },
    {
      "cell_type": "code",
      "metadata": {
        "colab": {
          "base_uri": "https://localhost:8080/"
        },
        "id": "e8ff3535",
        "outputId": "b9b8bb64-93e8-4537-8f2f-8989584ea332"
      },
      "source": [
        "# Pie chart of production countries(Most movies from which countries)\n",
        "pr_countries = list(df_filtered[\"production_countries\"])\n",
        "pr_countriesL = []\n",
        "print(type(pr_countries))\n",
        "# print(pr_countries)\n",
        "for i in pr_countries:\n",
        "    i = ast.literal_eval(i)\n",
        "    for j in i:\n",
        "        pr_countriesL.append(j['name'])\n",
        "        \n",
        "# print(pr_countriesL)\n",
        "pr_countrySet = set(pr_countriesL)\n",
        "pr_countryList = list(pr_countrySet)\n",
        "print(pr_countryList)\n",
        "\n",
        "no_of_countries = len(pr_countryList)\n",
        "print(no_of_countries)\n",
        "\n",
        "avg = []\n",
        "for i in pr_countryList:\n",
        "    count = pr_countriesL.count(i)\n",
        "    avg.append(count)\n",
        "    \n",
        "print(avg)\n",
        "\n",
        "# number_of_colors = len(genres)\n",
        "\n",
        "# color = [\"#\"+''.join([random.choice('0123456789ABCDEF') for j in range(6)])\n",
        "#              for i in range(number_of_colors)]\n",
        "# # Increase the width\n",
        "# plt.figure(figsize=(20,6))\n",
        "# plt.pie(avg,colors = color)\n",
        "# plt.title(\"Production Countries Pie Chart\")\n",
        "# # use parameter bbox_to_anchor to reposition\n",
        "# # the legend box outside the plot area\n",
        "# plt.gca().legend(labels = pr_countryList,loc='center left', bbox_to_anchor=(2, 0.5))\n",
        "# plt.show()"
      ],
      "id": "e8ff3535",
      "execution_count": null,
      "outputs": [
        {
          "output_type": "stream",
          "name": "stdout",
          "text": [
            "<class 'list'>\n",
            "['Norway', 'Taiwan', 'Peru', 'Botswana', 'Canada', 'Paraguay', 'Netherlands', 'Malta', 'Greece', 'Austria', 'Australia', 'Israel', 'Qatar', 'Croatia', 'Costa Rica', 'China', 'Lithuania', 'Iran', 'Namibia', 'Algeria', 'Indonesia', 'Turkey', 'India', 'Italy', 'Russia', 'Romania', 'Germany', 'Argentina', 'Pakistan', 'Serbia and Montenegro', 'South Korea', 'Finland', 'Venezuela', 'Hungary', 'Liechtenstein', 'Luxembourg', 'Chile', 'Malaysia', 'Portugal', 'Tunisia', 'Poland', 'Uruguay', 'Cambodia', 'United Arab Emirates', 'Ukraine', 'Burkina Faso', 'Czech Republic', 'Kazakhstan', 'Ireland', 'Philippines', 'Hong Kong', 'Switzerland', 'Mali', 'France', 'Slovenia', 'Mexico', 'Ecuador', 'Japan', 'Belgium', 'Thailand', 'Morocco', 'Angola', 'Puerto Rico', 'United States of America', 'Colombia', 'Serbia', 'New Zealand', 'United Kingdom', 'Sweden', 'Bahamas', 'Singapore', 'Brazil', 'Ghana', 'Iceland', 'Cyprus', 'South Africa', 'Monaco', 'Bulgaria', 'Spain', 'Denmark']\n",
            "80\n",
            "[15, 8, 2, 1, 234, 1, 28, 5, 6, 13, 120, 6, 3, 1, 1, 73, 1, 2, 1, 2, 3, 7, 181, 109, 82, 11, 318, 9, 3, 1, 29, 15, 1, 13, 1, 12, 5, 1, 2, 4, 10, 1, 1, 14, 7, 1, 25, 1, 45, 6, 54, 16, 1, 369, 1, 27, 1, 88, 41, 9, 5, 1, 1, 4384, 1, 5, 30, 666, 29, 2, 3, 11, 1, 5, 1, 19, 1, 6, 73, 22]\n"
          ]
        }
      ]
    },
    {
      "cell_type": "markdown",
      "metadata": {
        "id": "63c9b920"
      },
      "source": [
        "### Bar charts"
      ],
      "id": "63c9b920"
    },
    {
      "cell_type": "markdown",
      "metadata": {
        "id": "c7370bd5"
      },
      "source": [
        "#### Showing the frequency of the languages"
      ],
      "id": "c7370bd5"
    },
    {
      "cell_type": "code",
      "metadata": {
        "colab": {
          "base_uri": "https://localhost:8080/"
        },
        "id": "976506e4",
        "outputId": "cc26a849-8def-4109-a01e-c5c793aff29a"
      },
      "source": [
        "languages = list(df_filtered[\"original_language\"])\n",
        "uniq_languages = list(set(languages))\n",
        "lang_count = []\n",
        "print(uniq_languages)\n",
        "for i in uniq_languages:\n",
        "    count = languages.count(i)\n",
        "    lang_count.append(count)"
      ],
      "id": "976506e4",
      "execution_count": null,
      "outputs": [
        {
          "output_type": "stream",
          "name": "stdout",
          "text": [
            "['vi', 'ru', 'af', 'sr', 'de', 'el', 'kn', 'ja', 'it', 'ml', 'bm', 'nb', 'th', 'tr', 'fr', 'no', 'pl', 'is', 'ur', 'he', 'xx', 'hu', 'sv', 'ro', 'cn', 'ko', 'da', 'es', 'nl', 'fi', 'ca', 'te', 'fa', 'en', 'hi', 'zh', 'ta', 'pt', 'id', 'mr']\n"
          ]
        }
      ]
    },
    {
      "cell_type": "markdown",
      "metadata": {
        "id": "a05755e4"
      },
      "source": [
        "##### With English"
      ],
      "id": "a05755e4"
    },
    {
      "cell_type": "code",
      "metadata": {
        "id": "ed90e3d0"
      },
      "source": [
        "# #BAR PLOT WITH EN\n",
        "# # Increase the width\n",
        "# plt.figure(figsize=(15,4))\n",
        "# # Horizontal Bar Plot\n",
        "# plt.bar(uniq_languages, lang_count)\n",
        "\n",
        "# plt.xticks(rotation=90)\n",
        "\n",
        "# plt.xlabel('Languages')\n",
        "# plt.ylabel('No. of movies')\n",
        "# plt.title(\"No. of movies in each language(With English)\")\n",
        "# # Show Plot\n",
        "# plt.show()"
      ],
      "id": "ed90e3d0",
      "execution_count": null,
      "outputs": []
    },
    {
      "cell_type": "markdown",
      "metadata": {
        "id": "83e748fc"
      },
      "source": [
        "##### Without English"
      ],
      "id": "83e748fc"
    },
    {
      "cell_type": "code",
      "metadata": {
        "id": "c1c51e33"
      },
      "source": [
        "# #BAR PLOT WITHOUT EN\n",
        "uniq_lang_without = []\n",
        "lang_count_without = []\n",
        "\n",
        "for i in uniq_languages:\n",
        "    if i != 'en':\n",
        "        count = languages.count(i)\n",
        "        uniq_lang_without.append(i)\n",
        "        lang_count_without.append(count)\n",
        "\n",
        "# # Increase the width\n",
        "# plt.figure(figsize=(15,4))\n",
        "# # Horizontal Bar Plot\n",
        "# plt.bar(uniq_lang_without, lang_count_without)\n",
        "\n",
        "# plt.xticks(rotation=90)\n",
        "\n",
        "# plt.xlabel('Languages')\n",
        "# plt.ylabel('No. of movies')\n",
        "# plt.title(\"No. of movies in each language(Without English)\")\n",
        "# # Show Plot\n",
        "# plt.show()"
      ],
      "id": "c1c51e33",
      "execution_count": null,
      "outputs": []
    },
    {
      "cell_type": "markdown",
      "metadata": {
        "id": "9DuNzmw7P_jL"
      },
      "source": [
        "###Creating the dash app"
      ],
      "id": "9DuNzmw7P_jL"
    },
    {
      "cell_type": "code",
      "metadata": {
        "id": "aee4926c"
      },
      "source": [
        "app = dash.Dash(__name__, external_stylesheets=[dbc.themes.BOOTSTRAP,'https://codepen.io/amyoshino/pen/jzXypZ.css',dbc.themes.SLATE])"
      ],
      "id": "aee4926c",
      "execution_count": null,
      "outputs": []
    },
    {
      "cell_type": "markdown",
      "metadata": {
        "id": "82f1fd6c"
      },
      "source": [
        "### Extracting the movie title"
      ],
      "id": "82f1fd6c"
    },
    {
      "cell_type": "code",
      "metadata": {
        "colab": {
          "base_uri": "https://localhost:8080/"
        },
        "id": "f39da737",
        "outputId": "975ffca2-b3c3-4e63-c5ed-2c6a940a6e14"
      },
      "source": [
        "movie_title = df_filtered['original_title']\n",
        "print(movie_title)"
      ],
      "id": "f39da737",
      "execution_count": null,
      "outputs": [
        {
          "output_type": "stream",
          "name": "stdout",
          "text": [
            "0                Toy Story\n",
            "1                  Jumanji\n",
            "3        Waiting to Exhale\n",
            "5                     Heat\n",
            "8             Sudden Death\n",
            "               ...        \n",
            "45167           Wind River\n",
            "45250               சிவாஜி\n",
            "45409               Dikari\n",
            "45412           Про любоff\n",
            "45422             Антидурь\n",
            "Name: original_title, Length: 5370, dtype: object\n"
          ]
        }
      ]
    },
    {
      "cell_type": "markdown",
      "metadata": {
        "id": "f1603d3f"
      },
      "source": [
        "### Creating Dataframe for the first page"
      ],
      "id": "f1603d3f"
    },
    {
      "cell_type": "code",
      "metadata": {
        "scrolled": false,
        "colab": {
          "base_uri": "https://localhost:8080/",
          "height": 206
        },
        "id": "15d41983",
        "outputId": "0d173d9c-21dc-445d-8ad9-1f4804c8b67e"
      },
      "source": [
        "summary = pd.DataFrame(df_filtered, columns = ['original_title','overview','vote_average'])\n",
        "title = list(df_filtered['original_title'])\n",
        "overview = list(df_filtered['overview'])\n",
        "vote_avg = list(df_filtered['vote_average'])\n",
        "summary.head()"
      ],
      "id": "15d41983",
      "execution_count": null,
      "outputs": [
        {
          "output_type": "execute_result",
          "data": {
            "text/html": [
              "<div>\n",
              "<style scoped>\n",
              "    .dataframe tbody tr th:only-of-type {\n",
              "        vertical-align: middle;\n",
              "    }\n",
              "\n",
              "    .dataframe tbody tr th {\n",
              "        vertical-align: top;\n",
              "    }\n",
              "\n",
              "    .dataframe thead th {\n",
              "        text-align: right;\n",
              "    }\n",
              "</style>\n",
              "<table border=\"1\" class=\"dataframe\">\n",
              "  <thead>\n",
              "    <tr style=\"text-align: right;\">\n",
              "      <th></th>\n",
              "      <th>original_title</th>\n",
              "      <th>overview</th>\n",
              "      <th>vote_average</th>\n",
              "    </tr>\n",
              "  </thead>\n",
              "  <tbody>\n",
              "    <tr>\n",
              "      <th>0</th>\n",
              "      <td>Toy Story</td>\n",
              "      <td>Led by Woody, Andy's toys live happily in his ...</td>\n",
              "      <td>7.7</td>\n",
              "    </tr>\n",
              "    <tr>\n",
              "      <th>1</th>\n",
              "      <td>Jumanji</td>\n",
              "      <td>When siblings Judy and Peter discover an encha...</td>\n",
              "      <td>6.9</td>\n",
              "    </tr>\n",
              "    <tr>\n",
              "      <th>3</th>\n",
              "      <td>Waiting to Exhale</td>\n",
              "      <td>Cheated on, mistreated and stepped on, the wom...</td>\n",
              "      <td>6.1</td>\n",
              "    </tr>\n",
              "    <tr>\n",
              "      <th>5</th>\n",
              "      <td>Heat</td>\n",
              "      <td>Obsessive master thief, Neil McCauley leads a ...</td>\n",
              "      <td>7.7</td>\n",
              "    </tr>\n",
              "    <tr>\n",
              "      <th>8</th>\n",
              "      <td>Sudden Death</td>\n",
              "      <td>International action superstar Jean Claude Van...</td>\n",
              "      <td>5.5</td>\n",
              "    </tr>\n",
              "  </tbody>\n",
              "</table>\n",
              "</div>"
            ],
            "text/plain": [
              "      original_title  ... vote_average\n",
              "0          Toy Story  ...          7.7\n",
              "1            Jumanji  ...          6.9\n",
              "3  Waiting to Exhale  ...          6.1\n",
              "5               Heat  ...          7.7\n",
              "8       Sudden Death  ...          5.5\n",
              "\n",
              "[5 rows x 3 columns]"
            ]
          },
          "metadata": {},
          "execution_count": 42
        }
      ]
    },
    {
      "cell_type": "code",
      "metadata": {
        "id": "ec2ede0c"
      },
      "source": [
        "def find_element_in_list(element, list_element):\n",
        "    try:\n",
        "        index_element = list_element.index(element)\n",
        "        print(int(index_element))\n",
        "        return int(index_element)\n",
        "    except ValueError:\n",
        "        return None"
      ],
      "id": "ec2ede0c",
      "execution_count": null,
      "outputs": []
    },
    {
      "cell_type": "markdown",
      "metadata": {
        "id": "13998cf9"
      },
      "source": [
        "### Graphs we'll be using in the dashboard"
      ],
      "id": "13998cf9"
    },
    {
      "cell_type": "code",
      "metadata": {
        "id": "6dad6bac"
      },
      "source": [
        "# 2 boxplots\n",
        "## ->Budgets\n",
        "## -> Revenue\n",
        "\n",
        "# 6 histograms\n",
        "## -> Budget\n",
        "## -> Revenue\n",
        "## -> Popularity\n",
        "## -> Runtime\n",
        "## -> Vote avg\n",
        "## -> Release Years\n",
        "\n",
        "# 5 scatter plots\n",
        "## -> Runtime vs Budget\n",
        "## -> Revenue vs Budget\n",
        "## -> Budget vs Votecount\n",
        "## -> Popularity vs Votecount\n",
        "## -> Revenue vs Vote Count\n",
        "\n",
        "# 2 bar charts\n",
        "## -> No. of movies in each language with english\n",
        "## -> No. of movies in each language without english\n",
        "\n",
        "# 3 pie charts\n",
        "## -> Genres Pie Chart\n",
        "## -> Adult vs Non Adult\n",
        "## -> Production countries\n",
        "\n",
        "# 1 correlation heatmap\n",
        "## -> Correlation heatmap between the numerical columns\n",
        "\n",
        "# 2 regression plots\n",
        "## -> Revenue vs Budget\n",
        "## -> Revenue vs Vote Count\n",
        "\n",
        "# Total ==> 21 graphs\n",
        "#Orientation ==> 7 rows and 3 columns"
      ],
      "id": "6dad6bac",
      "execution_count": null,
      "outputs": []
    },
    {
      "cell_type": "markdown",
      "metadata": {
        "id": "97db291c"
      },
      "source": [
        "### Dashboard Code"
      ],
      "id": "97db291c"
    },
    {
      "cell_type": "code",
      "metadata": {
        "id": "23ac1d38"
      },
      "source": [
        "# styling the sidebar\n",
        "SIDEBAR_STYLE = {\n",
        "    \"position\": \"fixed\",\n",
        "    \"top\": 0,\n",
        "    \"left\": 0,\n",
        "    \"bottom\": 0,\n",
        "    \"width\": \"8rem\",\n",
        "    \"padding\": \"2rem 1rem\",\n",
        "    \"background-color\":\"#1D1D1D\",\n",
        "}\n",
        "\n",
        "# padding for the page content\n",
        "CONTENT_STYLE = {\n",
        "    \"margin-left\": \"8rem\",\n",
        "    \"margin-right\": \"0rem\",\n",
        "    \"padding\": \"6rem 6rem\",\n",
        "    \"background-image\":'url(\"/assets/Background.png\")',\n",
        "    'background-repeat' : 'repeat',\n",
        "    'background-size': '100%'\n",
        "}\n",
        "\n",
        "sidebar = html.Div(\n",
        "    [\n",
        "        dbc.Nav(\n",
        "            [\n",
        "                dbc.NavLink(\"Home\", href=\"/\", active=\"exact\"),\n",
        "                dbc.NavLink(\"Statistics\", href=\"/page-1\", active=\"exact\"),\n",
        "            ],\n",
        "            vertical=True,\n",
        "            pills=True,\n",
        "        ),\n",
        "    ],\n",
        "    style=SIDEBAR_STYLE,\n",
        ")\n",
        "\n",
        "content = html.Div(id=\"page-content\", children=[], style=CONTENT_STYLE)\n",
        "\n",
        "app.layout = html.Div([\n",
        "    dcc.Location(id=\"url\"),\n",
        "    sidebar,\n",
        "    content\n",
        "])\n",
        "\n",
        "app.css.append_css({\n",
        "'external_url': 'https://codepen.io/chriddyp/pen/bWLwgP.css 327'\n",
        "})\n",
        "\n",
        "# #Correlation Heatmap preprocessing\n",
        "# trace1 = {\n",
        "#   \"type\": \"heatmap\", \n",
        "#   \"x\": [\"Crypto_Index\", \"BTC\", \"ETH\", \"BCH\", \"XRP\", \"LTC\", \"DASH\", \"STR\", \"XMR\", \"SPY_Index\", \"GLD_Index\"], \n",
        "#   \"y\": [\"Crypto_Index\", \"BTC\", \"ETH\", \"BCH\", \"XRP\", \"LTC\", \"DASH\", \"STR\", \"XMR\", \"SPY_Index\", \"GLD_Index\"], \n",
        "#   \"z\": [[1.0, 0.5145204751077439, 0.7753800316056564, 0.5635869144912485, 0.6330246296885216, 0.6935626887855602, 0.6510327886719159, 0.7003086075174753, 0.7706130603016853, 0.025637721629079346, -0.14530462537107128], [0.5145204751077439, 1.0, 0.3570079203140865, 0.1349123946939163, 0.13596877646636055, 0.43254315980314817, 0.21592279382744603, 0.34446376110023436, 0.41269282695969395, -0.11147492698576485, -0.06397591150706235], [0.7753800316056564, 0.3570079203140865, 1.0, 0.39313113126450405, 0.39418171228484145, 0.6921202563460892, 0.4733678602459097, 0.4276770948976174, 0.5752540859824811, 0.15887859820253236, -0.006848573001143559], [0.5635869144912485, 0.1349123946939163, 0.39313113126450405, 1.0, 0.17735696275144744, 0.218841803416396, 0.4651294097591311, 0.0906452227128872, 0.41328473389123055, 0.04164180693219901, -0.07532903046693337], [0.6330246296885216, 0.13596877646636055, 0.39418171228484145, 0.17735696275144744, 1.0, 0.3357589484322298, 0.2137605375193814, 0.5384160124838642, 0.24219331731936153, -0.1240461055260104, 0.012886388288847027], [0.6935626887855602, 0.43254315980314817, 0.6921202563460892, 0.218841803416396, 0.3357589484322298, 1.0, 0.4194457824463705, 0.36372379913686037, 0.43257406820488925, 0.030350070692782144, -0.1708198709939884], [0.6510327886719159, 0.21592279382744603, 0.4733678602459097, 0.4651294097591311, 0.2137605375193814, 0.4194457824463705, 1.0, 0.21415082358644683, 0.616154604130923, 0.11006711870484644, -0.15948576589788033], [0.7003086075174753, 0.34446376110023436, 0.4276770948976174, 0.0906452227128872, 0.5384160124838642, 0.36372379913686037, 0.21415082358644683, 1.0, 0.5287972761050168, -0.07894581445902309, -0.11075945917591021], [0.7706130603016853, 0.41269282695969395, 0.5752540859824811, 0.41328473389123055, 0.24219331731936153, 0.43257406820488925, 0.616154604130923, 0.5287972761050168, 1.0, 0.19923653273289102, -0.15508575874900773], [0.025637721629079346, -0.11147492698576485, 0.15887859820253236, 0.04164180693219901, -0.1240461055260104, 0.030350070692782144, 0.11006711870484644, -0.07894581445902309, 0.19923653273289102, 1.0, -0.05968658737944457], [-0.14530462537107128, -0.06397591150706235, -0.006848573001143559, -0.07532903046693337, 0.012886388288847027, -0.1708198709939884, -0.15948576589788033, -0.11075945917591021, -0.15508575874900773, -0.05968658737944457, 1.]], \n",
        "#   \"colorbar\": {\n",
        "#     \"dtick\": 0.2, \n",
        "#     \"tick0\": -1, \n",
        "#     \"tickmode\": \"linear\"\n",
        "#   }, \n",
        "#   \"showscale\": True, \n",
        "#   \"colorscale\": \"YlGnBu\"\n",
        "# }\n",
        "# data = df_filtered([trace1])\n",
        "# layout = {\"title\": \"Correlation Heat Map\"}\n",
        "# fig = Figure(data=data, layout=layout)\n",
        "\n",
        "x_1 = df_filtered['budget']\n",
        "y_1 = df_filtered['revenue']\n",
        "x_1 = np.array(x_1)\n",
        "x_1 = x_1.reshape(-1,1)\n",
        "y_1 = np.array(y_1)\n",
        "X_train_1, X_test_1, y_train_1, y_test_1 = train_test_split(x_1, y_1, random_state=0)\n",
        "model1 = LinearRegression()\n",
        "model1.fit(X_train_1, y_train_1)\n",
        "\n",
        "x_2 = df_filtered['vote_count']\n",
        "y_2 = df_filtered['revenue']\n",
        "x_2 = np.array(x_2)\n",
        "x_2 = x_2.reshape(-1,1)\n",
        "y_2 = np.array(y_2)\n",
        "X_train_2, X_test_2, y_train_2, y_test_2 = train_test_split(x_2, y_2, random_state=0)\n",
        "model2 = LinearRegression()\n",
        "model2.fit(X_train_2, y_train_2)\n",
        "\n",
        "x_range_reg_1 = np.linspace(x_1.min(), x_1.max(), 100)\n",
        "y_range_reg_1 = model1.predict(x_range_reg_1.reshape(-1, 1))\n",
        "\n",
        "x_range_reg_2 = np.linspace(x_2.min(), x_2.max(), 100)\n",
        "y_range_reg_2 = model2.predict(x_range_reg_2.reshape(-1, 1))\n",
        "\n",
        "nmovies=len(df_filtered)\n",
        "\n",
        "@app.callback(\n",
        "    Output(\"page-content\", \"children\"),\n",
        "    [Input(\"url\", \"pathname\")]\n",
        ")\n",
        "def render_page_content(pathname):\n",
        "    if pathname == \"/\":\n",
        "        return [\n",
        "                html.H1('Movies',\n",
        "                        style={'textAlign':'center','color' : 'red',\n",
        "                        'margin-bottom':'3rem'}),\n",
        "                dcc.Dropdown(\n",
        "                    id = 'Dropdown_for_movies',\n",
        "                    options=[{'label': x, 'value': x} for x in title],\n",
        "                    placeholder = 'Search from '+ str(nmovies) +' Movies',\n",
        "                ),\n",
        "                html.Div(id='dd-output-container')\n",
        "#                 dcc.Graph(id='bargraph',\n",
        "#                          figure=px.bar(barmode='group', x=uniq_languages,\n",
        "#                          y = lang_count))\n",
        "                ]\n",
        "    elif pathname == \"/page-1\":\n",
        "        return [\n",
        "                html.H1('Statistics',style={'vertical-align': 'top','text-align' : 'left' ,'color' : 'white'}),\n",
        "                #Boxplots\n",
        "            dbc.Card(\n",
        "                dbc.CardBody([\n",
        "                    dbc.Row([\n",
        "                        dbc.Col([\n",
        "                            dbc.Card(\n",
        "                            dbc.CardBody([\n",
        "                                    html.Div([\n",
        "                                        html.H1('Budget Boxplot',\n",
        "                                                style={'textAlign':'center','color' : 'white'}),\n",
        "                                        dcc.Graph(id='boxplot',\n",
        "                                                 figure=px.box(df,y=budgetList).update_layout(\n",
        "                                                template='plotly_dark',\n",
        "                                                plot_bgcolor= 'rgba(0, 0, 0, 0)',\n",
        "                                                paper_bgcolor= 'rgba(0, 0, 0, 0)',)\n",
        "                                                ,config = {'displayModeBar' : False}\n",
        "                                            )\n",
        "                                    ])\n",
        "                                ])\n",
        "                            ),\n",
        "                ],width=6),\n",
        "                        dbc.Col([\n",
        "                            dbc.Card(\n",
        "                            dbc.CardBody([\n",
        "                                html.Div([\n",
        "                                html.H1('Revenue Boxplot',\n",
        "                                        style={'textAlign':'center','color' : 'white'}),\n",
        "                                dcc.Graph(id='boxplot',\n",
        "                                         figure=px.box(df,y=revenueList).update_layout(\n",
        "                                                template='plotly_dark',\n",
        "                                                plot_bgcolor= 'rgba(0, 0, 0, 0)',\n",
        "                                                paper_bgcolor= 'rgba(0, 0, 0, 0)',)\n",
        "                                                ,config = {'displayModeBar' : False}\n",
        "                                         )\n",
        "                                ])\n",
        "                            ])\n",
        "                        ),\n",
        "                        ],width = 6)\n",
        "                    ],align='center'),\n",
        "                   html.Br(),\n",
        "                    dbc.Row([\n",
        "                        dbc.Col([\n",
        "                            dbc.Card(\n",
        "                            dbc.CardBody([\n",
        "                            #Histograms\n",
        "                                html.Div([\n",
        "                                    html.H1('Histogram of Budget',\n",
        "                                            style={'textAlign':'center','color' : 'white'}),\n",
        "                                    dcc.Graph(id='histograms',\n",
        "                                             figure=px.histogram(budgetList, nbins=30,log_y=True,labels={'x':'Budget'}).update_layout(\n",
        "                                                template='plotly_dark',\n",
        "                                                plot_bgcolor= 'rgba(0, 0, 0, 0)',\n",
        "                                                paper_bgcolor= 'rgba(0, 0, 0, 0)',)\n",
        "                                                ,config = {'displayModeBar' : False}\n",
        "                                             )\n",
        "                                    ])\n",
        "                                ])\n",
        "                            ),\n",
        "                ],width=6),\n",
        "                        dbc.Col([\n",
        "                            dbc.Card(\n",
        "                            dbc.CardBody([\n",
        "                                html.Div([\n",
        "                                    html.H1('Histogram of Revenue',\n",
        "                                            style={'textAlign':'center','color' : 'white'}),\n",
        "                                    dcc.Graph(id='histograms',\n",
        "                                              figure=px.histogram(revenueList, nbins=30,log_y=True,labels={'x':'Revenue'}).update_layout(\n",
        "                                                template='plotly_dark',\n",
        "                                                plot_bgcolor= 'rgba(0, 0, 0, 0)',\n",
        "                                                paper_bgcolor= 'rgba(0, 0, 0, 0)',)\n",
        "                                                ,config = {'displayModeBar' : False}\n",
        "                                             )\n",
        "                                    ])\n",
        "                                ])\n",
        "                            ),\n",
        "                ],width=6),\n",
        "            ],align='center'),\n",
        "                    \n",
        "            html.Br(),\n",
        "                    dbc.Row([\n",
        "                        dbc.Col([\n",
        "                            dbc.Card(\n",
        "                            dbc.CardBody([\n",
        "                                html.Div([\n",
        "                                    html.H1('Hist of Popularity',\n",
        "                                            style={'textAlign':'center','color' : 'white'}),\n",
        "                                    dcc.Graph(id='histograms',\n",
        "                                             figure=px.histogram(df_filtered['popularity'], nbins=30,log_y=True,labels={'x':'Popularity'}).update_layout(\n",
        "                                                template='plotly_dark',\n",
        "                                                plot_bgcolor= 'rgba(0, 0, 0, 0)',\n",
        "                                                paper_bgcolor= 'rgba(0, 0, 0, 0)',)\n",
        "                                                ,config = {'displayModeBar' : False}\n",
        "                                             )\n",
        "                                    ])\n",
        "                                ])\n",
        "                            ),\n",
        "                ],width=6),\n",
        "\n",
        "                dbc.Col([\n",
        "                    dbc.Card(\n",
        "                    dbc.CardBody([\n",
        "                        html.Div([\n",
        "                            html.H1('Histogram of Runtime',\n",
        "                                    style={'textAlign':'center','color' : 'white'}),\n",
        "                            dcc.Graph(id='histograms',\n",
        "                                     figure=px.histogram(df_filtered['runtime'], nbins=30,log_y=True,labels={'x':'Runtime'}).update_layout(\n",
        "                                        template='plotly_dark',\n",
        "                                        plot_bgcolor= 'rgba(0, 0, 0, 0)',\n",
        "                                        paper_bgcolor= 'rgba(0, 0, 0, 0)',)\n",
        "                                        ,config = {'displayModeBar' : False}\n",
        "                                     )\n",
        "                            ])\n",
        "                        ])\n",
        "                    ),\n",
        "                ],width=6),\n",
        "            ],align='center'),\n",
        "                    \n",
        "            html.Br(),\n",
        "            dbc.Row([\n",
        "                dbc.Col([\n",
        "                    dbc.Card(\n",
        "                    dbc.CardBody([\n",
        "                        html.Div([\n",
        "                            html.H1('Histogram of Vote Average',\n",
        "                                    style={'textAlign':'center','color' : 'white'}),\n",
        "                            dcc.Graph(id='histograms',\n",
        "                                     figure=px.histogram(df_filtered['vote_average'], nbins=30,log_y=True,labels={'x':'Vote_avg'}).update_layout(\n",
        "                                                template='plotly_dark',\n",
        "                                                plot_bgcolor= 'rgba(0, 0, 0, 0)',\n",
        "                                                paper_bgcolor= 'rgba(0, 0, 0, 0)',)\n",
        "                                                ,config = {'displayModeBar' : False}\n",
        "                                             )\n",
        "                                    ])\n",
        "                                ])\n",
        "                            ),\n",
        "                ],width=6),\n",
        "            \n",
        "            dbc.Col([\n",
        "                    dbc.Card(\n",
        "                    dbc.CardBody([\n",
        "                html.Div([\n",
        "                    html.H1('Histogram of Release Years',\n",
        "                            style={'textAlign':'center','color' : 'white'}),\n",
        "                    dcc.Graph(id='histograms',\n",
        "                             figure=px.histogram(dates, nbins=30,log_y=True,labels={'x':'Release Years'}).update_layout(\n",
        "                                                template='plotly_dark',\n",
        "                                                plot_bgcolor= 'rgba(0, 0, 0, 0)',\n",
        "                                                paper_bgcolor= 'rgba(0, 0, 0, 0)',)\n",
        "                                                ,config = {'displayModeBar' : False}\n",
        "                                             )\n",
        "                                    ])\n",
        "                                ])\n",
        "                            ),\n",
        "                ],width=6),\n",
        "            ],align='center'),\n",
        "            #Scatter Plots\n",
        "            html.Br(),\n",
        "            dbc.Row([\n",
        "                dbc.Col([\n",
        "                    dbc.Card(\n",
        "                    dbc.CardBody([\n",
        "                        html.Div([\n",
        "                            html.H1('Scatterplot of Runtime vs Budget',\n",
        "                                    style={'textAlign':'center','color' : 'white'}),\n",
        "                            dcc.Graph(id='scatterplot',\n",
        "                                     figure=px.scatter(df_filtered, x=\"budget\", y=\"runtime\",color='vote_average').update_layout(\n",
        "                                                template='plotly_dark',\n",
        "                                                plot_bgcolor= 'rgba(0, 0, 0, 0)',\n",
        "                                                paper_bgcolor= 'rgba(0, 0, 0, 0)',)\n",
        "                                                ,config = {'displayModeBar' : False}\n",
        "                                             )\n",
        "                                    ])\n",
        "                                ])\n",
        "                            ),\n",
        "                ],width=6),\n",
        "                \n",
        "            dbc.Col([\n",
        "                    dbc.Card(\n",
        "                    dbc.CardBody([\n",
        "                        html.Div([\n",
        "                            html.H1('Scatterplot of Revenue vs Budget',\n",
        "                                    style={'textAlign':'center','color' : 'white'}),\n",
        "                            dcc.Graph(id='scatterplot',\n",
        "                                     figure=px.scatter(df_filtered, x=\"budget\", y=\"revenue\",color='vote_average').update_layout(\n",
        "                                                template='plotly_dark',\n",
        "                                                plot_bgcolor= 'rgba(0, 0, 0, 0)',\n",
        "                                                paper_bgcolor= 'rgba(0, 0, 0, 0)',)\n",
        "                                                ,config = {'displayModeBar' : False}\n",
        "                                             )\n",
        "                                    ])\n",
        "                                ])\n",
        "                            ),\n",
        "                ],width=6),\n",
        "            ],align='center'),\n",
        "                    \n",
        "            html.Br(),\n",
        "            dbc.Row([\n",
        "                dbc.Col([\n",
        "                    dbc.Card(\n",
        "                    dbc.CardBody([\n",
        "                        html.Div([\n",
        "                            html.H1('Scatterplot of Vote Count vs Budget',\n",
        "                                    style={'textAlign':'center','color' : 'white'}),\n",
        "                            dcc.Graph(id='scatterplot',\n",
        "                                     figure=px.scatter(df_filtered, x=\"budget\", y=\"vote_count\",color='vote_average').update_layout(\n",
        "                                                template='plotly_dark',\n",
        "                                                plot_bgcolor= 'rgba(0, 0, 0, 0)',\n",
        "                                                paper_bgcolor= 'rgba(0, 0, 0, 0)',)\n",
        "                                                ,config = {'displayModeBar' : False}\n",
        "                                             )\n",
        "                                    ])\n",
        "                                ])\n",
        "                            ),\n",
        "                ],width=6),\n",
        "                \n",
        "            dbc.Col([\n",
        "                    dbc.Card(\n",
        "                    dbc.CardBody([\n",
        "                        html.Div([\n",
        "                            html.H1('Scatterplot of Vote Count vs Popularity',\n",
        "                                    style={'textAlign':'center','color' : 'white'}),\n",
        "                            dcc.Graph(id='scatterplot',\n",
        "                                     figure=px.scatter(df_filtered, x=\"popularity\", y=\"vote_count\",color='vote_average').update_layout(\n",
        "                                                            template='plotly_dark',\n",
        "                                                            plot_bgcolor= 'rgba(0, 0, 0, 0)',\n",
        "                                                            paper_bgcolor= 'rgba(0, 0, 0, 0)',)\n",
        "                                                            ,config = {'displayModeBar' : False}\n",
        "                                                         )\n",
        "                                                ])\n",
        "                                            ])\n",
        "                                        ),\n",
        "                            ],width=6),\n",
        "                ],align='center'),\n",
        "            \n",
        "            html.Br(),\n",
        "            dbc.Row([\n",
        "                dbc.Col([\n",
        "                    dbc.Card(\n",
        "                    dbc.CardBody([\n",
        "                        html.Div([\n",
        "                            html.H1('Scatterplot of Revenue vs Vote Count',\n",
        "                                    style={'textAlign':'center','color' : 'white'}),\n",
        "                            dcc.Graph(id='scatterplot',\n",
        "                                     figure=px.scatter(df_filtered, x=\"vote_count\", y=\"revenue\",color='vote_average').update_layout(\n",
        "                                                            template='plotly_dark',\n",
        "                                                            plot_bgcolor= 'rgba(0, 0, 0, 0)',\n",
        "                                                            paper_bgcolor= 'rgba(0, 0, 0, 0)',)\n",
        "                                                            ,config = {'displayModeBar' : False}\n",
        "                                                         )\n",
        "                                                ])\n",
        "                                            ])\n",
        "                                        ),\n",
        "                            ],width=6),\n",
        "\n",
        "#             #Bar Charts\n",
        "                dbc.Col([\n",
        "                    dbc.Card(\n",
        "                    dbc.CardBody([\n",
        "                        html.Div([\n",
        "                            html.H1('No. of movies in each language(With English)',\n",
        "                                    style={'textAlign':'center','color' : 'white'}),\n",
        "                            dcc.Graph(id='barcharts',\n",
        "                                     figure=px.bar(df_filtered, x=uniq_languages, y=lang_count).update_layout(\n",
        "                                                            template='plotly_dark',\n",
        "                                                            plot_bgcolor= 'rgba(0, 0, 0, 0)',\n",
        "                                                            paper_bgcolor= 'rgba(0, 0, 0, 0)',)\n",
        "                                                            ,config = {'displayModeBar' : False}\n",
        "                                                         )\n",
        "                                                ])\n",
        "                                            ])\n",
        "                                        ),\n",
        "                            ],width=6),\n",
        "                ],align='center'),\n",
        "                \n",
        "            html.Br(),\n",
        "            dbc.Row([\n",
        "                dbc.Col([\n",
        "                    dbc.Card(\n",
        "                    dbc.CardBody([\n",
        "                        html.Div([\n",
        "                            html.H1('No. of movies in each language(Without English)',\n",
        "                                    style={'textAlign':'center','color' : 'white'}),\n",
        "                            dcc.Graph(id='barcharts',\n",
        "                                     figure=px.bar(df_filtered, x=uniq_lang_without, y=lang_count_without).update_layout(\n",
        "                                                            template='plotly_dark',\n",
        "                                                            plot_bgcolor= 'rgba(0, 0, 0, 0)',\n",
        "                                                            paper_bgcolor= 'rgba(0, 0, 0, 0)',)\n",
        "                                                            ,config = {'displayModeBar' : False}\n",
        "                                                         )\n",
        "                                                ])\n",
        "                                            ])\n",
        "                                        ),\n",
        "                            ],width=6),\n",
        "            \n",
        "#             # Pie Charts\n",
        "                dbc.Col([\n",
        "                    dbc.Card(\n",
        "                    dbc.CardBody([\n",
        "                        html.Div([\n",
        "                            html.H1('Genres Pie Chart',\n",
        "                                    style={'textAlign':'center','color' : 'white'}),\n",
        "                            dcc.Graph(id='piecharts',\n",
        "                                     figure=px.pie(df_filtered, values=genres_count, names=genres).update_layout(\n",
        "                                                            template='plotly_dark',\n",
        "                                                            plot_bgcolor= 'rgba(0, 0, 0, 0)',\n",
        "                                                            paper_bgcolor= 'rgba(0, 0, 0, 0)',)\n",
        "                                                            ,config = {'displayModeBar' : False}\n",
        "                                                         )\n",
        "                                                ])\n",
        "                                            ])\n",
        "                                        ),\n",
        "                            ],width=6),\n",
        "                ],align='center'),\n",
        "                    \n",
        "            html.Br(),\n",
        "            dbc.Row([\n",
        "                dbc.Col([\n",
        "                    dbc.Card(\n",
        "                    dbc.CardBody([\n",
        "                        html.Div([\n",
        "                            html.H1('Adult vs Non Adult movies Pie Chart',\n",
        "                                    style={'textAlign':'center','color' : 'white'}),\n",
        "                            dcc.Graph(id='piecharts',\n",
        "                                     figure=px.pie(df_filtered, values=adult_count, names=labels).update_layout(\n",
        "                                                                        template='plotly_dark',\n",
        "                                                                        plot_bgcolor= 'rgba(0, 0, 0, 0)',\n",
        "                                                                        paper_bgcolor= 'rgba(0, 0, 0, 0)',)\n",
        "                                                                        ,config = {'displayModeBar' : False}\n",
        "                                                                     )\n",
        "                                                            ])\n",
        "                                                        ])\n",
        "                                                    ),\n",
        "                                        ],width=6),\n",
        "            dbc.Col([\n",
        "                    dbc.Card(\n",
        "                    dbc.CardBody([\n",
        "                        html.Div([\n",
        "                            html.H1('Production Countries Pie Chart',\n",
        "                                    style={'textAlign':'center','color' : 'white'}),\n",
        "                            dcc.Graph(id='piecharts',\n",
        "                                     figure=px.pie(df_filtered, values=avg, names=pr_countryList).update_layout(\n",
        "                                                                                    template='plotly_dark',\n",
        "                                                                                    plot_bgcolor= 'rgba(0, 0, 0, 0)',\n",
        "                                                                                    paper_bgcolor= 'rgba(0, 0, 0, 0)',)\n",
        "                                                                                    ,config = {'displayModeBar' : False}\n",
        "                                                                                 )\n",
        "                                                                        ])\n",
        "                                                                    ])\n",
        "                                                                ),\n",
        "                                                    ],width=6),\n",
        "                    ],align='center'),\n",
        "#             #Correlation Heatmap\n",
        "# #             html.Div([\n",
        "# #                 html.H1('Correlation Heatmap',\n",
        "# #                         style={'textAlign':'center','color' : 'white'}),\n",
        "# #                 dcc.Graph(id='correlation_heatmap',\n",
        "# #                          figure=py.plot(fig)\n",
        "# #                          )\n",
        "# #                 ]),\n",
        "            \n",
        "#             #Regression Plots\n",
        "            html.Br(),\n",
        "            dbc.Row([\n",
        "                dbc.Col([\n",
        "                    dbc.Card(\n",
        "                    dbc.CardBody([\n",
        "                        html.Div([\n",
        "                            html.H1('Revenue vs Budget Regression Plot',\n",
        "                                    style={'textAlign':'center','color' : 'white'}),\n",
        "                            dcc.Graph(id='regressionplots',\n",
        "                                     figure=go.Figure([\n",
        "                                            go.Scatter(x=X_train_1.squeeze(), y=y_train_1, name='train', mode='markers'),\n",
        "                                            go.Scatter(x=X_test_1.squeeze(), y=y_test_1, name='test', mode='markers'),\n",
        "                                            go.Scatter(x=x_range_reg_1, y=y_range_reg_1, name='prediction')\n",
        "                                            ]).update_layout(template='plotly_dark',\n",
        "                                                            plot_bgcolor= 'rgba(0, 0, 0, 0)',\n",
        "                                                            paper_bgcolor= 'rgba(0, 0, 0, 0)',)\n",
        "                                                            ,config = {'displayModeBar' : False}\n",
        "                                                         )\n",
        "                                                ])\n",
        "                                            ])\n",
        "                                        ),\n",
        "                            ],width=6),\n",
        "              dbc.Col([\n",
        "                    dbc.Card(\n",
        "                    dbc.CardBody([  \n",
        "                    html.Div([\n",
        "                        html.H1('Revenue vs Vote Count Regression Plot',\n",
        "                                style={'textAlign':'center','color' : 'white'}),\n",
        "                        dcc.Graph(id='regressionplots',\n",
        "                                 figure=go.Figure([\n",
        "                                        go.Scatter(x=X_train_2.squeeze(), y=y_train_2, name='train', mode='markers'),\n",
        "                                        go.Scatter(x=X_test_2.squeeze(), y=y_test_2, name='test', mode='markers'),\n",
        "                                        go.Scatter(x=x_range_reg_2, y=y_range_reg_2, name='prediction')\n",
        "                                        ]).update_layout(\n",
        "                                                            template='plotly_dark',\n",
        "                                                            plot_bgcolor= 'rgba(0, 0, 0, 0)',\n",
        "                                                            paper_bgcolor= 'rgba(0, 0, 0, 0)',)\n",
        "                                                            ,config = {'displayModeBar' : False}\n",
        "                                                         )\n",
        "                                                ])\n",
        "                                            ])\n",
        "                                        ),\n",
        "                            ],width=6),\n",
        "                    ],align='center'),\n",
        "                ]),color = 'dark'\n",
        "            )\n",
        "                ]\n",
        "    # If the user tries to reach a different page, return a 404 message\n",
        "    return dbc.Jumbotron(\n",
        "        [\n",
        "            html.H1(\"404: Not found\", className=\"text-danger\"),\n",
        "            html.Hr(),\n",
        "            html.P(f\"The pathname {pathname} was not recognised...\"),\n",
        "        ]\n",
        "    )\n",
        "\n",
        "\n",
        "@app.callback(\n",
        "    Output('dd-output-container', 'children'),\n",
        "    Input('Dropdown_for_movies', 'value')\n",
        ")\n",
        "def update_output(value):\n",
        "    print(value)\n",
        "    print(find_element_in_list(value,title))\n",
        "#     if()\n",
        "    return [\n",
        "        html.Div([\n",
        "            #html.Div([],style = {'background-image' : 'url(\"/rhIRbceoE9lR4veEXuwCC2wARtG.jpg\")',\n",
        "            #          'background-repeat' : 'no-repeat',\n",
        "            #           'height' : '500px',\n",
        "            #           'width' : '500px',\n",
        "            #            'z-index' : '-99'\n",
        "            #          }),\n",
        "            html.Div([\n",
        "                html.H2('Vote Avg: ',style={'color': '#7FDBFF'}), \n",
        "                html.Label(vote_avg[find_element_in_list(value,title)],\n",
        "                            style={'color': 'grey','margin-left':'2rem'}),\n",
        "                html.H2('Title: ',style={'color': 'blue','margin-top':'1rem'}), \n",
        "                html.Label(title[find_element_in_list(value,title)],\n",
        "                            style={'color': 'grey','margin-left':'2rem'}),\n",
        "                html.H2('OverView: ',style={'color': 'blue','margin-top':'1rem'}), \n",
        "                html.Label(overview[find_element_in_list(value,title)],\n",
        "                            style={'color': 'grey','margin-left':'2rem'})\n",
        "            ],\n",
        "            style = {'margin-left':'2rem',\n",
        "                     'margin-right':'2rem',\n",
        "                     'margin-top':'2rem'}),\n",
        "            \n",
        "        ],style = {'display' : 'flex','flex-direction' : 'row',\n",
        "                    'justify-content' : 'center','align-item' : 'center',\n",
        "                    #'background-image' : 'url(\"/rhIRbceoE9lR4veEXuwCC2wARtG.jpg\")',\n",
        "                    # #if we can download the images for all the movies we could put them in a folder\n",
        "                    # #in assets. set the name of each image as the movies title and the background\n",
        "                    # #image path could be found by concatenating the movie title in the path string\n",
        "                    #'background-repeat' : 'no-repeat',\n",
        "                    #'height' : '500px',\n",
        "                    #'width' : '500px'\n",
        "        })            \n",
        "        ]"
      ],
      "id": "23ac1d38",
      "execution_count": null,
      "outputs": []
    },
    {
      "cell_type": "code",
      "metadata": {
        "scrolled": false,
        "colab": {
          "base_uri": "https://localhost:8080/"
        },
        "id": "72c32d60",
        "outputId": "e776d63d-6dc6-4baa-a358-634967ea9f7b"
      },
      "source": [
        "if __name__ == '__main__':\n",
        "    app.run_server(port=3000)"
      ],
      "id": "72c32d60",
      "execution_count": null,
      "outputs": [
        {
          "output_type": "stream",
          "name": "stdout",
          "text": [
            "Dash is running on http://localhost:8050/\n",
            "\n",
            " * Serving Flask app \"__main__\" (lazy loading)\n",
            " * Environment: production\n",
            "\u001b[31m   WARNING: This is a development server. Do not use it in a production deployment.\u001b[0m\n",
            "\u001b[2m   Use a production WSGI server instead.\u001b[0m\n",
            " * Debug mode: off\n"
          ]
        }
      ]
    },
    {
      "cell_type": "code",
      "metadata": {
        "id": "lxQR-lImQD1V"
      },
      "source": [
        ""
      ],
      "id": "lxQR-lImQD1V",
      "execution_count": null,
      "outputs": []
    }
  ]
}