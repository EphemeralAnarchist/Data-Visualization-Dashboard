{
  "nbformat": 4,
  "nbformat_minor": 5,
  "metadata": {
    "kernelspec": {
      "display_name": "Python 3",
      "language": "python",
      "name": "python3"
    },
    "language_info": {
      "codemirror_mode": {
        "name": "ipython",
        "version": 3
      },
      "file_extension": ".py",
      "mimetype": "text/x-python",
      "name": "python",
      "nbconvert_exporter": "python",
      "pygments_lexer": "ipython3",
      "version": "3.8.8"
    },
    "colab": {
      "name": "Dashboard.ipynb",
      "provenance": []
    }
  },
  "cells": [
    {
      "cell_type": "markdown",
      "metadata": {
        "id": "IxnS-kITHWcx"
      },
      "source": [
        "###Installing"
      ],
      "id": "IxnS-kITHWcx"
    },
    {
      "cell_type": "code",
      "metadata": {
        "id": "-90QtVCbG403",
        "outputId": "378e8483-f9a2-47be-ad11-257d27c31bc8",
        "colab": {
          "base_uri": "https://localhost:8080/"
        }
      },
      "source": [
        "pip install dash"
      ],
      "id": "-90QtVCbG403",
      "execution_count": 3,
      "outputs": [
        {
          "output_type": "stream",
          "name": "stdout",
          "text": [
            "Collecting dash\n",
            "  Downloading dash-2.0.0-py3-none-any.whl (7.3 MB)\n",
            "\u001b[K     |████████████████████████████████| 7.3 MB 8.7 MB/s \n",
            "\u001b[?25hCollecting flask-compress\n",
            "  Downloading Flask_Compress-1.10.1-py3-none-any.whl (7.9 kB)\n",
            "Collecting dash-table==5.0.0\n",
            "  Downloading dash_table-5.0.0.tar.gz (3.4 kB)\n",
            "Collecting dash-html-components==2.0.0\n",
            "  Downloading dash_html_components-2.0.0.tar.gz (3.8 kB)\n",
            "Requirement already satisfied: Flask>=1.0.4 in /usr/local/lib/python3.7/dist-packages (from dash) (1.1.4)\n",
            "Collecting plotly>=5.0.0\n",
            "  Downloading plotly-5.4.0-py2.py3-none-any.whl (25.3 MB)\n",
            "\u001b[K     |████████████████████████████████| 25.3 MB 1.4 MB/s \n",
            "\u001b[?25hCollecting dash-core-components==2.0.0\n",
            "  Downloading dash_core_components-2.0.0.tar.gz (3.4 kB)\n",
            "Requirement already satisfied: Jinja2<3.0,>=2.10.1 in /usr/local/lib/python3.7/dist-packages (from Flask>=1.0.4->dash) (2.11.3)\n",
            "Requirement already satisfied: itsdangerous<2.0,>=0.24 in /usr/local/lib/python3.7/dist-packages (from Flask>=1.0.4->dash) (1.1.0)\n",
            "Requirement already satisfied: Werkzeug<2.0,>=0.15 in /usr/local/lib/python3.7/dist-packages (from Flask>=1.0.4->dash) (1.0.1)\n",
            "Requirement already satisfied: click<8.0,>=5.1 in /usr/local/lib/python3.7/dist-packages (from Flask>=1.0.4->dash) (7.1.2)\n",
            "Requirement already satisfied: MarkupSafe>=0.23 in /usr/local/lib/python3.7/dist-packages (from Jinja2<3.0,>=2.10.1->Flask>=1.0.4->dash) (2.0.1)\n",
            "Collecting tenacity>=6.2.0\n",
            "  Downloading tenacity-8.0.1-py3-none-any.whl (24 kB)\n",
            "Requirement already satisfied: six in /usr/local/lib/python3.7/dist-packages (from plotly>=5.0.0->dash) (1.15.0)\n",
            "Collecting brotli\n",
            "  Downloading Brotli-1.0.9-cp37-cp37m-manylinux1_x86_64.whl (357 kB)\n",
            "\u001b[K     |████████████████████████████████| 357 kB 64.1 MB/s \n",
            "\u001b[?25hBuilding wheels for collected packages: dash-core-components, dash-html-components, dash-table\n",
            "  Building wheel for dash-core-components (setup.py) ... \u001b[?25l\u001b[?25hdone\n",
            "  Created wheel for dash-core-components: filename=dash_core_components-2.0.0-py3-none-any.whl size=3821 sha256=186a015e62403f2fcc2ac3ed841806cc7a30f034b841320d705d80ace6d1d004\n",
            "  Stored in directory: /root/.cache/pip/wheels/00/f9/c7/1a6437d794ed753ea9bc9079e761d4fc803a1f1f5d3697b9ec\n",
            "  Building wheel for dash-html-components (setup.py) ... \u001b[?25l\u001b[?25hdone\n",
            "  Created wheel for dash-html-components: filename=dash_html_components-2.0.0-py3-none-any.whl size=4089 sha256=0e830006be04840fe341076eca3e7cb7279ffb4407a8ba09e8ddccbdedc7eb2b\n",
            "  Stored in directory: /root/.cache/pip/wheels/ec/6b/81/05aceabd8b27f724e2c96784016287cc1bfbc349ebfda451de\n",
            "  Building wheel for dash-table (setup.py) ... \u001b[?25l\u001b[?25hdone\n",
            "  Created wheel for dash-table: filename=dash_table-5.0.0-py3-none-any.whl size=3911 sha256=98d6563ae478fd8687327c64cbe90eb0944627cf55afd835591272aba54cd3c6\n",
            "  Stored in directory: /root/.cache/pip/wheels/85/5d/4e/7c276b57992951dbe770bf5caad6448d0539c510663aefd2e2\n",
            "Successfully built dash-core-components dash-html-components dash-table\n",
            "Installing collected packages: tenacity, brotli, plotly, flask-compress, dash-table, dash-html-components, dash-core-components, dash\n",
            "  Attempting uninstall: plotly\n",
            "    Found existing installation: plotly 4.4.1\n",
            "    Uninstalling plotly-4.4.1:\n",
            "      Successfully uninstalled plotly-4.4.1\n",
            "Successfully installed brotli-1.0.9 dash-2.0.0 dash-core-components-2.0.0 dash-html-components-2.0.0 dash-table-5.0.0 flask-compress-1.10.1 plotly-5.4.0 tenacity-8.0.1\n"
          ]
        }
      ]
    },
    {
      "cell_type": "code",
      "metadata": {
        "id": "5nmhE0B-HNEp",
        "outputId": "69b7b3e0-9e4c-4942-a9dc-a89938125b06",
        "colab": {
          "base_uri": "https://localhost:8080/"
        }
      },
      "source": [
        "!pip install dash_html_components\n",
        "!pip install dash_bootstrap_components"
      ],
      "id": "5nmhE0B-HNEp",
      "execution_count": 7,
      "outputs": [
        {
          "output_type": "stream",
          "name": "stdout",
          "text": [
            "Requirement already satisfied: dash_html_components in /usr/local/lib/python3.7/dist-packages (2.0.0)\n",
            "Collecting dash_bootstrap_components\n",
            "  Downloading dash_bootstrap_components-1.0.1-py3-none-any.whl (209 kB)\n",
            "\u001b[K     |████████████████████████████████| 209 kB 15.6 MB/s \n",
            "\u001b[?25hRequirement already satisfied: dash>=2.0.0 in /usr/local/lib/python3.7/dist-packages (from dash_bootstrap_components) (2.0.0)\n",
            "Requirement already satisfied: plotly>=5.0.0 in /usr/local/lib/python3.7/dist-packages (from dash>=2.0.0->dash_bootstrap_components) (5.4.0)\n",
            "Requirement already satisfied: dash-table==5.0.0 in /usr/local/lib/python3.7/dist-packages (from dash>=2.0.0->dash_bootstrap_components) (5.0.0)\n",
            "Requirement already satisfied: dash-html-components==2.0.0 in /usr/local/lib/python3.7/dist-packages (from dash>=2.0.0->dash_bootstrap_components) (2.0.0)\n",
            "Requirement already satisfied: dash-core-components==2.0.0 in /usr/local/lib/python3.7/dist-packages (from dash>=2.0.0->dash_bootstrap_components) (2.0.0)\n",
            "Requirement already satisfied: Flask>=1.0.4 in /usr/local/lib/python3.7/dist-packages (from dash>=2.0.0->dash_bootstrap_components) (1.1.4)\n",
            "Requirement already satisfied: flask-compress in /usr/local/lib/python3.7/dist-packages (from dash>=2.0.0->dash_bootstrap_components) (1.10.1)\n",
            "Requirement already satisfied: Jinja2<3.0,>=2.10.1 in /usr/local/lib/python3.7/dist-packages (from Flask>=1.0.4->dash>=2.0.0->dash_bootstrap_components) (2.11.3)\n",
            "Requirement already satisfied: Werkzeug<2.0,>=0.15 in /usr/local/lib/python3.7/dist-packages (from Flask>=1.0.4->dash>=2.0.0->dash_bootstrap_components) (1.0.1)\n",
            "Requirement already satisfied: itsdangerous<2.0,>=0.24 in /usr/local/lib/python3.7/dist-packages (from Flask>=1.0.4->dash>=2.0.0->dash_bootstrap_components) (1.1.0)\n",
            "Requirement already satisfied: click<8.0,>=5.1 in /usr/local/lib/python3.7/dist-packages (from Flask>=1.0.4->dash>=2.0.0->dash_bootstrap_components) (7.1.2)\n",
            "Requirement already satisfied: MarkupSafe>=0.23 in /usr/local/lib/python3.7/dist-packages (from Jinja2<3.0,>=2.10.1->Flask>=1.0.4->dash>=2.0.0->dash_bootstrap_components) (2.0.1)\n",
            "Requirement already satisfied: tenacity>=6.2.0 in /usr/local/lib/python3.7/dist-packages (from plotly>=5.0.0->dash>=2.0.0->dash_bootstrap_components) (8.0.1)\n",
            "Requirement already satisfied: six in /usr/local/lib/python3.7/dist-packages (from plotly>=5.0.0->dash>=2.0.0->dash_bootstrap_components) (1.15.0)\n",
            "Requirement already satisfied: brotli in /usr/local/lib/python3.7/dist-packages (from flask-compress->dash>=2.0.0->dash_bootstrap_components) (1.0.9)\n",
            "Installing collected packages: dash-bootstrap-components\n",
            "Successfully installed dash-bootstrap-components-1.0.1\n"
          ]
        }
      ]
    },
    {
      "cell_type": "code",
      "metadata": {
        "id": "nLrlP5KrNiC_",
        "outputId": "32dbe630-a8e9-4671-e420-91d0df56b379",
        "colab": {
          "base_uri": "https://localhost:8080/"
        }
      },
      "source": [
        "pip install kaggle"
      ],
      "id": "nLrlP5KrNiC_",
      "execution_count": 20,
      "outputs": [
        {
          "output_type": "stream",
          "name": "stdout",
          "text": [
            "Requirement already satisfied: kaggle in /usr/local/lib/python3.7/dist-packages (1.5.12)\n",
            "Requirement already satisfied: urllib3 in /usr/local/lib/python3.7/dist-packages (from kaggle) (1.24.3)\n",
            "Requirement already satisfied: requests in /usr/local/lib/python3.7/dist-packages (from kaggle) (2.23.0)\n",
            "Requirement already satisfied: six>=1.10 in /usr/local/lib/python3.7/dist-packages (from kaggle) (1.15.0)\n",
            "Requirement already satisfied: python-dateutil in /usr/local/lib/python3.7/dist-packages (from kaggle) (2.8.2)\n",
            "Requirement already satisfied: python-slugify in /usr/local/lib/python3.7/dist-packages (from kaggle) (5.0.2)\n",
            "Requirement already satisfied: tqdm in /usr/local/lib/python3.7/dist-packages (from kaggle) (4.62.3)\n",
            "Requirement already satisfied: certifi in /usr/local/lib/python3.7/dist-packages (from kaggle) (2021.10.8)\n",
            "Requirement already satisfied: text-unidecode>=1.3 in /usr/local/lib/python3.7/dist-packages (from python-slugify->kaggle) (1.3)\n",
            "Requirement already satisfied: chardet<4,>=3.0.2 in /usr/local/lib/python3.7/dist-packages (from requests->kaggle) (3.0.4)\n",
            "Requirement already satisfied: idna<3,>=2.5 in /usr/local/lib/python3.7/dist-packages (from requests->kaggle) (2.10)\n"
          ]
        }
      ]
    },
    {
      "cell_type": "code",
      "metadata": {
        "id": "qy_f2LSpMm1g",
        "outputId": "511d9ec8-dca9-4ec9-fc81-b7d1cbaa4f48",
        "colab": {
          "base_uri": "https://localhost:8080/"
        }
      },
      "source": [
        "pip install kaggle_cli"
      ],
      "id": "qy_f2LSpMm1g",
      "execution_count": 21,
      "outputs": [
        {
          "output_type": "stream",
          "name": "stdout",
          "text": [
            "Collecting kaggle_cli\n",
            "  Using cached kaggle_cli-0.12.13-py3-none-any.whl\n",
            "Collecting lxml<4.1,>=4.0.0\n",
            "  Using cached lxml-4.0.0.tar.gz (4.2 MB)\n",
            "Collecting cssselect<1.1,>=1.0.1\n",
            "  Using cached cssselect-1.0.3-py2.py3-none-any.whl (16 kB)\n",
            "Collecting configparser\n",
            "  Using cached configparser-5.2.0-py3-none-any.whl (19 kB)\n",
            "Requirement already satisfied: beautifulsoup4<4.7,>=4.6.0 in /usr/local/lib/python3.7/dist-packages (from kaggle_cli) (4.6.3)\n",
            "Requirement already satisfied: progressbar2<3.35,>=3.34.3 in /usr/local/lib/python3.7/dist-packages (from kaggle_cli) (3.34.3)\n",
            "Requirement already satisfied: MechanicalSoup<0.9,>=0.7.0 in /usr/local/lib/python3.7/dist-packages (from kaggle_cli) (0.8.0)\n",
            "Collecting cliff<2.9,>=2.8.0\n",
            "  Using cached cliff-2.8.3-py2.py3-none-any.whl (74 kB)\n",
            "Requirement already satisfied: PrettyTable<0.8,>=0.7.1 in /usr/local/lib/python3.7/dist-packages (from cliff<2.9,>=2.8.0->kaggle_cli) (0.7.2)\n",
            "Requirement already satisfied: cmd2>=0.6.7 in /usr/local/lib/python3.7/dist-packages (from cliff<2.9,>=2.8.0->kaggle_cli) (2.3.3)\n",
            "Requirement already satisfied: pbr!=2.1.0,>=2.0.0 in /usr/local/lib/python3.7/dist-packages (from cliff<2.9,>=2.8.0->kaggle_cli) (5.8.0)\n",
            "Requirement already satisfied: stevedore>=1.20.0 in /usr/local/lib/python3.7/dist-packages (from cliff<2.9,>=2.8.0->kaggle_cli) (3.5.0)\n",
            "Requirement already satisfied: pyparsing>=2.1.0 in /usr/local/lib/python3.7/dist-packages (from cliff<2.9,>=2.8.0->kaggle_cli) (3.0.6)\n",
            "Requirement already satisfied: PyYAML>=3.10.0 in /usr/local/lib/python3.7/dist-packages (from cliff<2.9,>=2.8.0->kaggle_cli) (3.13)\n",
            "Requirement already satisfied: six>=1.9.0 in /usr/local/lib/python3.7/dist-packages (from cliff<2.9,>=2.8.0->kaggle_cli) (1.15.0)\n",
            "Requirement already satisfied: typing-extensions in /usr/local/lib/python3.7/dist-packages (from cmd2>=0.6.7->cliff<2.9,>=2.8.0->kaggle_cli) (3.10.0.2)\n",
            "Requirement already satisfied: wcwidth>=0.1.7 in /usr/local/lib/python3.7/dist-packages (from cmd2>=0.6.7->cliff<2.9,>=2.8.0->kaggle_cli) (0.2.5)\n",
            "Requirement already satisfied: attrs>=16.3.0 in /usr/local/lib/python3.7/dist-packages (from cmd2>=0.6.7->cliff<2.9,>=2.8.0->kaggle_cli) (21.2.0)\n",
            "Requirement already satisfied: pyperclip>=1.6 in /usr/local/lib/python3.7/dist-packages (from cmd2>=0.6.7->cliff<2.9,>=2.8.0->kaggle_cli) (1.8.2)\n",
            "Requirement already satisfied: importlib-metadata>=1.6.0 in /usr/local/lib/python3.7/dist-packages (from cmd2>=0.6.7->cliff<2.9,>=2.8.0->kaggle_cli) (4.8.2)\n",
            "Requirement already satisfied: zipp>=0.5 in /usr/local/lib/python3.7/dist-packages (from importlib-metadata>=1.6.0->cmd2>=0.6.7->cliff<2.9,>=2.8.0->kaggle_cli) (3.6.0)\n",
            "Requirement already satisfied: requests>=2.0 in /usr/local/lib/python3.7/dist-packages (from MechanicalSoup<0.9,>=0.7.0->kaggle_cli) (2.23.0)\n",
            "Requirement already satisfied: python-utils>=2.1.0 in /usr/local/lib/python3.7/dist-packages (from progressbar2<3.35,>=3.34.3->kaggle_cli) (2.5.6)\n",
            "Requirement already satisfied: idna<3,>=2.5 in /usr/local/lib/python3.7/dist-packages (from requests>=2.0->MechanicalSoup<0.9,>=0.7.0->kaggle_cli) (2.10)\n",
            "Requirement already satisfied: urllib3!=1.25.0,!=1.25.1,<1.26,>=1.21.1 in /usr/local/lib/python3.7/dist-packages (from requests>=2.0->MechanicalSoup<0.9,>=0.7.0->kaggle_cli) (1.24.3)\n",
            "Requirement already satisfied: certifi>=2017.4.17 in /usr/local/lib/python3.7/dist-packages (from requests>=2.0->MechanicalSoup<0.9,>=0.7.0->kaggle_cli) (2021.10.8)\n",
            "Requirement already satisfied: chardet<4,>=3.0.2 in /usr/local/lib/python3.7/dist-packages (from requests>=2.0->MechanicalSoup<0.9,>=0.7.0->kaggle_cli) (3.0.4)\n",
            "Building wheels for collected packages: lxml\n",
            "  Building wheel for lxml (setup.py) ... \u001b[?25lerror\n",
            "\u001b[31m  ERROR: Failed building wheel for lxml\u001b[0m\n",
            "\u001b[?25h  Running setup.py clean for lxml\n",
            "Failed to build lxml\n",
            "Installing collected packages: lxml, cssselect, configparser, cliff, kaggle-cli\n",
            "  Attempting uninstall: lxml\n",
            "    Found existing installation: lxml 4.2.6\n",
            "    Uninstalling lxml-4.2.6:\n",
            "      Successfully uninstalled lxml-4.2.6\n",
            "    Running setup.py install for lxml ... \u001b[?25l\u001b[?25herror\n",
            "  Rolling back uninstall of lxml\n",
            "  Moving to /usr/local/lib/python3.7/dist-packages/lxml-4.2.6.dist-info/\n",
            "   from /usr/local/lib/python3.7/dist-packages/~xml-4.2.6.dist-info\n",
            "  Moving to /usr/local/lib/python3.7/dist-packages/lxml/\n",
            "   from /usr/local/lib/python3.7/dist-packages/~xml\n",
            "\u001b[31mERROR: Command errored out with exit status 1: /usr/bin/python3 -u -c 'import io, os, sys, setuptools, tokenize; sys.argv[0] = '\"'\"'/tmp/pip-install-j3m4q_l3/lxml_f0b5b3025070463a89ae219d953400dd/setup.py'\"'\"'; __file__='\"'\"'/tmp/pip-install-j3m4q_l3/lxml_f0b5b3025070463a89ae219d953400dd/setup.py'\"'\"';f = getattr(tokenize, '\"'\"'open'\"'\"', open)(__file__) if os.path.exists(__file__) else io.StringIO('\"'\"'from setuptools import setup; setup()'\"'\"');code = f.read().replace('\"'\"'\\r\\n'\"'\"', '\"'\"'\\n'\"'\"');f.close();exec(compile(code, __file__, '\"'\"'exec'\"'\"'))' install --record /tmp/pip-record-kwbpvd0g/install-record.txt --single-version-externally-managed --compile --install-headers /usr/local/include/python3.7/lxml Check the logs for full command output.\u001b[0m\n"
          ]
        }
      ]
    },
    {
      "cell_type": "markdown",
      "metadata": {
        "id": "a02f783d"
      },
      "source": [
        "### Importing the libraries"
      ],
      "id": "a02f783d"
    },
    {
      "cell_type": "code",
      "metadata": {
        "colab": {
          "base_uri": "https://localhost:8080/"
        },
        "id": "6dc538a6",
        "outputId": "35c93ec6-5b4b-43ef-f447-4d100134121b"
      },
      "source": [
        "#For the dashboard\n",
        "import dash\n",
        "import dash_core_components as dcc\n",
        "import dash_bootstrap_components as dbc\n",
        "import dash_html_components as html\n",
        "import plotly.express as px\n",
        "import plotly.graph_objects as go\n",
        "from dash.dependencies import Input, Output\n",
        "\n",
        "\n",
        "#For data processing\n",
        "import matplotlib.pyplot as plt\n",
        "import numpy as np\n",
        "import pandas as pd\n",
        "import seaborn as sns\n",
        "import csv\n",
        "import json\n",
        "import ast\n",
        "from scipy.stats import pearsonr\n",
        "from sklearn.linear_model import LinearRegression\n",
        "from sklearn.model_selection import train_test_split\n",
        "from sklearn import metrics\n",
        "import random"
      ],
      "id": "6dc538a6",
      "execution_count": 8,
      "outputs": [
        {
          "output_type": "stream",
          "name": "stderr",
          "text": [
            "/usr/local/lib/python3.7/dist-packages/ipykernel_launcher.py:5: UserWarning: \n",
            "The dash_html_components package is deprecated. Please replace\n",
            "`import dash_html_components as html` with `from dash import html`\n",
            "  \"\"\"\n"
          ]
        }
      ]
    },
    {
      "cell_type": "markdown",
      "metadata": {
        "id": "0WOi7xXNLt-n"
      },
      "source": [
        "###Downloading dataset"
      ],
      "id": "0WOi7xXNLt-n"
    },
    {
      "cell_type": "code",
      "metadata": {
        "id": "_96QgQBBN6YB",
        "outputId": "2410ab5e-2ec5-4c69-a21a-e309d7e6f27f",
        "colab": {
          "resources": {
            "http://localhost:8080/nbextensions/google.colab/files.js": {
              "data": "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",
              "ok": true,
              "headers": [
                [
                  "content-type",
                  "application/javascript"
                ]
              ],
              "status": 200,
              "status_text": ""
            }
          },
          "base_uri": "https://localhost:8080/",
          "height": 91
        }
      },
      "source": [
        "from google.colab import files\n",
        "\n",
        "uploaded = files.upload()\n",
        "\n",
        "for fn in uploaded.keys():\n",
        "  print('User uploaded file \"{name}\" with length {length} bytes'.format(\n",
        "      name=fn, length=len(uploaded[fn])))\n",
        "  \n",
        "# Then move kaggle.json into the folder where the API expects to find it.\n",
        "!mkdir -p ~/.kaggle/ && mv kaggle.json ~/.kaggle/ && chmod 600 ~/.kaggle/kaggle.json"
      ],
      "id": "_96QgQBBN6YB",
      "execution_count": 22,
      "outputs": [
        {
          "output_type": "display_data",
          "data": {
            "text/html": [
              "\n",
              "     <input type=\"file\" id=\"files-325f14f9-586d-4c90-99ea-81ad6d3bbd10\" name=\"files[]\" multiple disabled\n",
              "        style=\"border:none\" />\n",
              "     <output id=\"result-325f14f9-586d-4c90-99ea-81ad6d3bbd10\">\n",
              "      Upload widget is only available when the cell has been executed in the\n",
              "      current browser session. Please rerun this cell to enable.\n",
              "      </output>\n",
              "      <script src=\"/nbextensions/google.colab/files.js\"></script> "
            ],
            "text/plain": [
              "<IPython.core.display.HTML object>"
            ]
          },
          "metadata": {}
        },
        {
          "output_type": "stream",
          "name": "stdout",
          "text": [
            "Saving kaggle.json to kaggle.json\n",
            "User uploaded file \"kaggle.json\" with length 74 bytes\n"
          ]
        }
      ]
    },
    {
      "cell_type": "code",
      "metadata": {
        "id": "LLtfJP8xLzqa",
        "outputId": "a4e8c6ea-2aee-4ada-f64c-480114b252e3",
        "colab": {
          "base_uri": "https://localhost:8080/"
        }
      },
      "source": [
        "!kaggle datasets download \"rounakbanik/the-movies-dataset/version/7\""
      ],
      "id": "LLtfJP8xLzqa",
      "execution_count": 23,
      "outputs": [
        {
          "output_type": "stream",
          "name": "stdout",
          "text": [
            "Downloading the-movies-dataset.zip to /content\n",
            " 96% 218M/228M [00:04<00:00, 51.6MB/s]\n",
            "100% 228M/228M [00:04<00:00, 57.1MB/s]\n"
          ]
        }
      ]
    },
    {
      "cell_type": "code",
      "metadata": {
        "id": "VyqiekF3OiSt",
        "outputId": "9ecbbd75-4df0-4ca5-8b1e-a8bceca023ff",
        "colab": {
          "base_uri": "https://localhost:8080/"
        }
      },
      "source": [
        "!unzip the-movies-dataset.zip"
      ],
      "id": "VyqiekF3OiSt",
      "execution_count": 24,
      "outputs": [
        {
          "output_type": "stream",
          "name": "stdout",
          "text": [
            "Archive:  the-movies-dataset.zip\n",
            "  inflating: credits.csv             \n",
            "  inflating: keywords.csv            \n",
            "  inflating: links.csv               \n",
            "  inflating: links_small.csv         \n",
            "  inflating: movies_metadata.csv     \n",
            "  inflating: ratings.csv             \n",
            "  inflating: ratings_small.csv       \n"
          ]
        }
      ]
    },
    {
      "cell_type": "markdown",
      "metadata": {
        "id": "5eecd7e4"
      },
      "source": [
        "### Importing the movies dataset"
      ],
      "id": "5eecd7e4"
    },
    {
      "cell_type": "code",
      "metadata": {
        "colab": {
          "base_uri": "https://localhost:8080/",
          "height": 712
        },
        "id": "3b589f9b",
        "outputId": "2b225111-be67-4c86-8327-13b39c88370a"
      },
      "source": [
        "movies_df = pd.read_csv(\"/content/movies_metadata.csv\")\n",
        "movies_df.head()"
      ],
      "id": "3b589f9b",
      "execution_count": 25,
      "outputs": [
        {
          "output_type": "stream",
          "name": "stderr",
          "text": [
            "/usr/local/lib/python3.7/dist-packages/IPython/core/interactiveshell.py:2718: DtypeWarning: Columns (10) have mixed types.Specify dtype option on import or set low_memory=False.\n",
            "  interactivity=interactivity, compiler=compiler, result=result)\n"
          ]
        },
        {
          "output_type": "execute_result",
          "data": {
            "text/html": [
              "<div>\n",
              "<style scoped>\n",
              "    .dataframe tbody tr th:only-of-type {\n",
              "        vertical-align: middle;\n",
              "    }\n",
              "\n",
              "    .dataframe tbody tr th {\n",
              "        vertical-align: top;\n",
              "    }\n",
              "\n",
              "    .dataframe thead th {\n",
              "        text-align: right;\n",
              "    }\n",
              "</style>\n",
              "<table border=\"1\" class=\"dataframe\">\n",
              "  <thead>\n",
              "    <tr style=\"text-align: right;\">\n",
              "      <th></th>\n",
              "      <th>adult</th>\n",
              "      <th>belongs_to_collection</th>\n",
              "      <th>budget</th>\n",
              "      <th>genres</th>\n",
              "      <th>homepage</th>\n",
              "      <th>id</th>\n",
              "      <th>imdb_id</th>\n",
              "      <th>original_language</th>\n",
              "      <th>original_title</th>\n",
              "      <th>overview</th>\n",
              "      <th>popularity</th>\n",
              "      <th>poster_path</th>\n",
              "      <th>production_companies</th>\n",
              "      <th>production_countries</th>\n",
              "      <th>release_date</th>\n",
              "      <th>revenue</th>\n",
              "      <th>runtime</th>\n",
              "      <th>spoken_languages</th>\n",
              "      <th>status</th>\n",
              "      <th>tagline</th>\n",
              "      <th>title</th>\n",
              "      <th>video</th>\n",
              "      <th>vote_average</th>\n",
              "      <th>vote_count</th>\n",
              "    </tr>\n",
              "  </thead>\n",
              "  <tbody>\n",
              "    <tr>\n",
              "      <th>0</th>\n",
              "      <td>False</td>\n",
              "      <td>{'id': 10194, 'name': 'Toy Story Collection', ...</td>\n",
              "      <td>30000000</td>\n",
              "      <td>[{'id': 16, 'name': 'Animation'}, {'id': 35, '...</td>\n",
              "      <td>http://toystory.disney.com/toy-story</td>\n",
              "      <td>862</td>\n",
              "      <td>tt0114709</td>\n",
              "      <td>en</td>\n",
              "      <td>Toy Story</td>\n",
              "      <td>Led by Woody, Andy's toys live happily in his ...</td>\n",
              "      <td>21.9469</td>\n",
              "      <td>/rhIRbceoE9lR4veEXuwCC2wARtG.jpg</td>\n",
              "      <td>[{'name': 'Pixar Animation Studios', 'id': 3}]</td>\n",
              "      <td>[{'iso_3166_1': 'US', 'name': 'United States o...</td>\n",
              "      <td>1995-10-30</td>\n",
              "      <td>373554033.0</td>\n",
              "      <td>81.0</td>\n",
              "      <td>[{'iso_639_1': 'en', 'name': 'English'}]</td>\n",
              "      <td>Released</td>\n",
              "      <td>NaN</td>\n",
              "      <td>Toy Story</td>\n",
              "      <td>False</td>\n",
              "      <td>7.7</td>\n",
              "      <td>5415.0</td>\n",
              "    </tr>\n",
              "    <tr>\n",
              "      <th>1</th>\n",
              "      <td>False</td>\n",
              "      <td>NaN</td>\n",
              "      <td>65000000</td>\n",
              "      <td>[{'id': 12, 'name': 'Adventure'}, {'id': 14, '...</td>\n",
              "      <td>NaN</td>\n",
              "      <td>8844</td>\n",
              "      <td>tt0113497</td>\n",
              "      <td>en</td>\n",
              "      <td>Jumanji</td>\n",
              "      <td>When siblings Judy and Peter discover an encha...</td>\n",
              "      <td>17.0155</td>\n",
              "      <td>/vzmL6fP7aPKNKPRTFnZmiUfciyV.jpg</td>\n",
              "      <td>[{'name': 'TriStar Pictures', 'id': 559}, {'na...</td>\n",
              "      <td>[{'iso_3166_1': 'US', 'name': 'United States o...</td>\n",
              "      <td>1995-12-15</td>\n",
              "      <td>262797249.0</td>\n",
              "      <td>104.0</td>\n",
              "      <td>[{'iso_639_1': 'en', 'name': 'English'}, {'iso...</td>\n",
              "      <td>Released</td>\n",
              "      <td>Roll the dice and unleash the excitement!</td>\n",
              "      <td>Jumanji</td>\n",
              "      <td>False</td>\n",
              "      <td>6.9</td>\n",
              "      <td>2413.0</td>\n",
              "    </tr>\n",
              "    <tr>\n",
              "      <th>2</th>\n",
              "      <td>False</td>\n",
              "      <td>{'id': 119050, 'name': 'Grumpy Old Men Collect...</td>\n",
              "      <td>0</td>\n",
              "      <td>[{'id': 10749, 'name': 'Romance'}, {'id': 35, ...</td>\n",
              "      <td>NaN</td>\n",
              "      <td>15602</td>\n",
              "      <td>tt0113228</td>\n",
              "      <td>en</td>\n",
              "      <td>Grumpier Old Men</td>\n",
              "      <td>A family wedding reignites the ancient feud be...</td>\n",
              "      <td>11.7129</td>\n",
              "      <td>/6ksm1sjKMFLbO7UY2i6G1ju9SML.jpg</td>\n",
              "      <td>[{'name': 'Warner Bros.', 'id': 6194}, {'name'...</td>\n",
              "      <td>[{'iso_3166_1': 'US', 'name': 'United States o...</td>\n",
              "      <td>1995-12-22</td>\n",
              "      <td>0.0</td>\n",
              "      <td>101.0</td>\n",
              "      <td>[{'iso_639_1': 'en', 'name': 'English'}]</td>\n",
              "      <td>Released</td>\n",
              "      <td>Still Yelling. Still Fighting. Still Ready for...</td>\n",
              "      <td>Grumpier Old Men</td>\n",
              "      <td>False</td>\n",
              "      <td>6.5</td>\n",
              "      <td>92.0</td>\n",
              "    </tr>\n",
              "    <tr>\n",
              "      <th>3</th>\n",
              "      <td>False</td>\n",
              "      <td>NaN</td>\n",
              "      <td>16000000</td>\n",
              "      <td>[{'id': 35, 'name': 'Comedy'}, {'id': 18, 'nam...</td>\n",
              "      <td>NaN</td>\n",
              "      <td>31357</td>\n",
              "      <td>tt0114885</td>\n",
              "      <td>en</td>\n",
              "      <td>Waiting to Exhale</td>\n",
              "      <td>Cheated on, mistreated and stepped on, the wom...</td>\n",
              "      <td>3.85949</td>\n",
              "      <td>/16XOMpEaLWkrcPqSQqhTmeJuqQl.jpg</td>\n",
              "      <td>[{'name': 'Twentieth Century Fox Film Corporat...</td>\n",
              "      <td>[{'iso_3166_1': 'US', 'name': 'United States o...</td>\n",
              "      <td>1995-12-22</td>\n",
              "      <td>81452156.0</td>\n",
              "      <td>127.0</td>\n",
              "      <td>[{'iso_639_1': 'en', 'name': 'English'}]</td>\n",
              "      <td>Released</td>\n",
              "      <td>Friends are the people who let you be yourself...</td>\n",
              "      <td>Waiting to Exhale</td>\n",
              "      <td>False</td>\n",
              "      <td>6.1</td>\n",
              "      <td>34.0</td>\n",
              "    </tr>\n",
              "    <tr>\n",
              "      <th>4</th>\n",
              "      <td>False</td>\n",
              "      <td>{'id': 96871, 'name': 'Father of the Bride Col...</td>\n",
              "      <td>0</td>\n",
              "      <td>[{'id': 35, 'name': 'Comedy'}]</td>\n",
              "      <td>NaN</td>\n",
              "      <td>11862</td>\n",
              "      <td>tt0113041</td>\n",
              "      <td>en</td>\n",
              "      <td>Father of the Bride Part II</td>\n",
              "      <td>Just when George Banks has recovered from his ...</td>\n",
              "      <td>8.38752</td>\n",
              "      <td>/e64sOI48hQXyru7naBFyssKFxVd.jpg</td>\n",
              "      <td>[{'name': 'Sandollar Productions', 'id': 5842}...</td>\n",
              "      <td>[{'iso_3166_1': 'US', 'name': 'United States o...</td>\n",
              "      <td>1995-02-10</td>\n",
              "      <td>76578911.0</td>\n",
              "      <td>106.0</td>\n",
              "      <td>[{'iso_639_1': 'en', 'name': 'English'}]</td>\n",
              "      <td>Released</td>\n",
              "      <td>Just When His World Is Back To Normal... He's ...</td>\n",
              "      <td>Father of the Bride Part II</td>\n",
              "      <td>False</td>\n",
              "      <td>5.7</td>\n",
              "      <td>173.0</td>\n",
              "    </tr>\n",
              "  </tbody>\n",
              "</table>\n",
              "</div>"
            ],
            "text/plain": [
              "   adult  ... vote_count\n",
              "0  False  ...     5415.0\n",
              "1  False  ...     2413.0\n",
              "2  False  ...       92.0\n",
              "3  False  ...       34.0\n",
              "4  False  ...      173.0\n",
              "\n",
              "[5 rows x 24 columns]"
            ]
          },
          "metadata": {},
          "execution_count": 25
        }
      ]
    },
    {
      "cell_type": "markdown",
      "metadata": {
        "id": "2ebeac7e"
      },
      "source": [
        "### Importing the ratings dataset"
      ],
      "id": "2ebeac7e"
    },
    {
      "cell_type": "code",
      "metadata": {
        "id": "f1d04023"
      },
      "source": [
        "# ratings_df = pd.read_csv(\"C:\\\\Users\\\\Jatin Dhall\\\\Desktop\\\\Desktop File\\\\VIT\\\\VIT\\\\SEM 3\\\\DATA VIZ\\\\Project\\\\Movie Dataset\\\\ratings.csv\")\n",
        "# ratings_df.head()"
      ],
      "id": "f1d04023",
      "execution_count": null,
      "outputs": []
    },
    {
      "cell_type": "markdown",
      "metadata": {
        "id": "757a34b1"
      },
      "source": [
        "### Importing the links dataset"
      ],
      "id": "757a34b1"
    },
    {
      "cell_type": "code",
      "metadata": {
        "id": "a83bffbb"
      },
      "source": [
        "# links_df = pd.read_csv(\"C:\\\\Users\\\\Jatin Dhall\\\\Desktop\\\\Desktop File\\\\VIT\\\\VIT\\\\SEM 3\\\\DATA VIZ\\\\Project\\\\Movie Dataset\\\\links.csv\")\n",
        "# links_df.head()"
      ],
      "id": "a83bffbb",
      "execution_count": null,
      "outputs": []
    },
    {
      "cell_type": "markdown",
      "metadata": {
        "id": "6cf944a8"
      },
      "source": [
        "### Importing the credits dataset"
      ],
      "id": "6cf944a8"
    },
    {
      "cell_type": "code",
      "metadata": {
        "scrolled": true,
        "id": "3f46d573"
      },
      "source": [
        "# credits_df = pd.read_csv(\"C:\\\\Users\\\\Jatin Dhall\\\\Desktop\\\\Desktop File\\\\VIT\\\\VIT\\\\SEM 3\\\\DATA VIZ\\\\Project\\\\Movie Dataset\\\\credits.csv\")\n",
        "# credits_df.head()"
      ],
      "id": "3f46d573",
      "execution_count": null,
      "outputs": []
    },
    {
      "cell_type": "markdown",
      "metadata": {
        "id": "8fe67337"
      },
      "source": [
        "### Importing the keywords dataset"
      ],
      "id": "8fe67337"
    },
    {
      "cell_type": "code",
      "metadata": {
        "id": "3abc5359"
      },
      "source": [
        "# keywords_df = pd.read_csv(\"C:\\\\Users\\\\Jatin Dhall\\\\Desktop\\\\Desktop File\\\\VIT\\\\VIT\\\\SEM 3\\\\DATA VIZ\\\\Project\\\\Movie Dataset\\\\keywords.csv\")\n",
        "# keywords_df.head()"
      ],
      "id": "3abc5359",
      "execution_count": null,
      "outputs": []
    },
    {
      "cell_type": "markdown",
      "metadata": {
        "id": "8747f5dd"
      },
      "source": [
        "### Handling missing values"
      ],
      "id": "8747f5dd"
    },
    {
      "cell_type": "code",
      "metadata": {
        "colab": {
          "base_uri": "https://localhost:8080/"
        },
        "id": "75f37bdf",
        "outputId": "750ca0f9-5afc-45e5-95eb-aac24e82d31e"
      },
      "source": [
        "movies_df.isnull().sum()"
      ],
      "id": "75f37bdf",
      "execution_count": 26,
      "outputs": [
        {
          "output_type": "execute_result",
          "data": {
            "text/plain": [
              "adult                        0\n",
              "belongs_to_collection    40972\n",
              "budget                       0\n",
              "genres                       0\n",
              "homepage                 37684\n",
              "id                           0\n",
              "imdb_id                     17\n",
              "original_language           11\n",
              "original_title               0\n",
              "overview                   954\n",
              "popularity                   5\n",
              "poster_path                386\n",
              "production_companies         3\n",
              "production_countries         3\n",
              "release_date                87\n",
              "revenue                      6\n",
              "runtime                    263\n",
              "spoken_languages             6\n",
              "status                      87\n",
              "tagline                  25054\n",
              "title                        6\n",
              "video                        6\n",
              "vote_average                 6\n",
              "vote_count                   6\n",
              "dtype: int64"
            ]
          },
          "metadata": {},
          "execution_count": 26
        }
      ]
    },
    {
      "cell_type": "code",
      "metadata": {
        "id": "27f34233"
      },
      "source": [
        "movies_df = movies_df.drop(columns = [\"belongs_to_collection\",\"homepage\",\"tagline\"],axis = 1)"
      ],
      "id": "27f34233",
      "execution_count": 27,
      "outputs": []
    },
    {
      "cell_type": "code",
      "metadata": {
        "id": "514967ab"
      },
      "source": [
        "movies_df = movies_df.dropna(axis = 0, how ='any')"
      ],
      "id": "514967ab",
      "execution_count": 28,
      "outputs": []
    },
    {
      "cell_type": "code",
      "metadata": {
        "colab": {
          "base_uri": "https://localhost:8080/"
        },
        "id": "15dd13e7",
        "outputId": "e9ef51d6-128d-4fac-b67f-4fd74e4515cb"
      },
      "source": [
        "movies_df.isnull().sum()"
      ],
      "id": "15dd13e7",
      "execution_count": 29,
      "outputs": [
        {
          "output_type": "execute_result",
          "data": {
            "text/plain": [
              "adult                   0\n",
              "budget                  0\n",
              "genres                  0\n",
              "id                      0\n",
              "imdb_id                 0\n",
              "original_language       0\n",
              "original_title          0\n",
              "overview                0\n",
              "popularity              0\n",
              "poster_path             0\n",
              "production_companies    0\n",
              "production_countries    0\n",
              "release_date            0\n",
              "revenue                 0\n",
              "runtime                 0\n",
              "spoken_languages        0\n",
              "status                  0\n",
              "title                   0\n",
              "video                   0\n",
              "vote_average            0\n",
              "vote_count              0\n",
              "dtype: int64"
            ]
          },
          "metadata": {},
          "execution_count": 29
        }
      ]
    },
    {
      "cell_type": "markdown",
      "metadata": {
        "id": "2d74ab0f"
      },
      "source": [
        "### Removing the rows containing either budget or revenue as 0"
      ],
      "id": "2d74ab0f"
    },
    {
      "cell_type": "code",
      "metadata": {
        "colab": {
          "base_uri": "https://localhost:8080/",
          "height": 642
        },
        "id": "a3c4f2f7",
        "outputId": "821750c7-fa71-40f0-9964-eb00ace71316"
      },
      "source": [
        "#Filtering out all the rows where budget or revenue is 0\n",
        "df_filtered = movies_df[(movies_df['budget'] != \"0\")]\n",
        "df_filtered = df_filtered[(movies_df['revenue'] != 0.0)]\n",
        "df_filtered.head()"
      ],
      "id": "a3c4f2f7",
      "execution_count": 30,
      "outputs": [
        {
          "output_type": "stream",
          "name": "stderr",
          "text": [
            "/usr/local/lib/python3.7/dist-packages/ipykernel_launcher.py:3: UserWarning: Boolean Series key will be reindexed to match DataFrame index.\n",
            "  This is separate from the ipykernel package so we can avoid doing imports until\n"
          ]
        },
        {
          "output_type": "execute_result",
          "data": {
            "text/html": [
              "<div>\n",
              "<style scoped>\n",
              "    .dataframe tbody tr th:only-of-type {\n",
              "        vertical-align: middle;\n",
              "    }\n",
              "\n",
              "    .dataframe tbody tr th {\n",
              "        vertical-align: top;\n",
              "    }\n",
              "\n",
              "    .dataframe thead th {\n",
              "        text-align: right;\n",
              "    }\n",
              "</style>\n",
              "<table border=\"1\" class=\"dataframe\">\n",
              "  <thead>\n",
              "    <tr style=\"text-align: right;\">\n",
              "      <th></th>\n",
              "      <th>adult</th>\n",
              "      <th>budget</th>\n",
              "      <th>genres</th>\n",
              "      <th>id</th>\n",
              "      <th>imdb_id</th>\n",
              "      <th>original_language</th>\n",
              "      <th>original_title</th>\n",
              "      <th>overview</th>\n",
              "      <th>popularity</th>\n",
              "      <th>poster_path</th>\n",
              "      <th>production_companies</th>\n",
              "      <th>production_countries</th>\n",
              "      <th>release_date</th>\n",
              "      <th>revenue</th>\n",
              "      <th>runtime</th>\n",
              "      <th>spoken_languages</th>\n",
              "      <th>status</th>\n",
              "      <th>title</th>\n",
              "      <th>video</th>\n",
              "      <th>vote_average</th>\n",
              "      <th>vote_count</th>\n",
              "    </tr>\n",
              "  </thead>\n",
              "  <tbody>\n",
              "    <tr>\n",
              "      <th>0</th>\n",
              "      <td>False</td>\n",
              "      <td>30000000</td>\n",
              "      <td>[{'id': 16, 'name': 'Animation'}, {'id': 35, '...</td>\n",
              "      <td>862</td>\n",
              "      <td>tt0114709</td>\n",
              "      <td>en</td>\n",
              "      <td>Toy Story</td>\n",
              "      <td>Led by Woody, Andy's toys live happily in his ...</td>\n",
              "      <td>21.9469</td>\n",
              "      <td>/rhIRbceoE9lR4veEXuwCC2wARtG.jpg</td>\n",
              "      <td>[{'name': 'Pixar Animation Studios', 'id': 3}]</td>\n",
              "      <td>[{'iso_3166_1': 'US', 'name': 'United States o...</td>\n",
              "      <td>1995-10-30</td>\n",
              "      <td>373554033.0</td>\n",
              "      <td>81.0</td>\n",
              "      <td>[{'iso_639_1': 'en', 'name': 'English'}]</td>\n",
              "      <td>Released</td>\n",
              "      <td>Toy Story</td>\n",
              "      <td>False</td>\n",
              "      <td>7.7</td>\n",
              "      <td>5415.0</td>\n",
              "    </tr>\n",
              "    <tr>\n",
              "      <th>1</th>\n",
              "      <td>False</td>\n",
              "      <td>65000000</td>\n",
              "      <td>[{'id': 12, 'name': 'Adventure'}, {'id': 14, '...</td>\n",
              "      <td>8844</td>\n",
              "      <td>tt0113497</td>\n",
              "      <td>en</td>\n",
              "      <td>Jumanji</td>\n",
              "      <td>When siblings Judy and Peter discover an encha...</td>\n",
              "      <td>17.0155</td>\n",
              "      <td>/vzmL6fP7aPKNKPRTFnZmiUfciyV.jpg</td>\n",
              "      <td>[{'name': 'TriStar Pictures', 'id': 559}, {'na...</td>\n",
              "      <td>[{'iso_3166_1': 'US', 'name': 'United States o...</td>\n",
              "      <td>1995-12-15</td>\n",
              "      <td>262797249.0</td>\n",
              "      <td>104.0</td>\n",
              "      <td>[{'iso_639_1': 'en', 'name': 'English'}, {'iso...</td>\n",
              "      <td>Released</td>\n",
              "      <td>Jumanji</td>\n",
              "      <td>False</td>\n",
              "      <td>6.9</td>\n",
              "      <td>2413.0</td>\n",
              "    </tr>\n",
              "    <tr>\n",
              "      <th>3</th>\n",
              "      <td>False</td>\n",
              "      <td>16000000</td>\n",
              "      <td>[{'id': 35, 'name': 'Comedy'}, {'id': 18, 'nam...</td>\n",
              "      <td>31357</td>\n",
              "      <td>tt0114885</td>\n",
              "      <td>en</td>\n",
              "      <td>Waiting to Exhale</td>\n",
              "      <td>Cheated on, mistreated and stepped on, the wom...</td>\n",
              "      <td>3.85949</td>\n",
              "      <td>/16XOMpEaLWkrcPqSQqhTmeJuqQl.jpg</td>\n",
              "      <td>[{'name': 'Twentieth Century Fox Film Corporat...</td>\n",
              "      <td>[{'iso_3166_1': 'US', 'name': 'United States o...</td>\n",
              "      <td>1995-12-22</td>\n",
              "      <td>81452156.0</td>\n",
              "      <td>127.0</td>\n",
              "      <td>[{'iso_639_1': 'en', 'name': 'English'}]</td>\n",
              "      <td>Released</td>\n",
              "      <td>Waiting to Exhale</td>\n",
              "      <td>False</td>\n",
              "      <td>6.1</td>\n",
              "      <td>34.0</td>\n",
              "    </tr>\n",
              "    <tr>\n",
              "      <th>5</th>\n",
              "      <td>False</td>\n",
              "      <td>60000000</td>\n",
              "      <td>[{'id': 28, 'name': 'Action'}, {'id': 80, 'nam...</td>\n",
              "      <td>949</td>\n",
              "      <td>tt0113277</td>\n",
              "      <td>en</td>\n",
              "      <td>Heat</td>\n",
              "      <td>Obsessive master thief, Neil McCauley leads a ...</td>\n",
              "      <td>17.9249</td>\n",
              "      <td>/zMyfPUelumio3tiDKPffaUpsQTD.jpg</td>\n",
              "      <td>[{'name': 'Regency Enterprises', 'id': 508}, {...</td>\n",
              "      <td>[{'iso_3166_1': 'US', 'name': 'United States o...</td>\n",
              "      <td>1995-12-15</td>\n",
              "      <td>187436818.0</td>\n",
              "      <td>170.0</td>\n",
              "      <td>[{'iso_639_1': 'en', 'name': 'English'}, {'iso...</td>\n",
              "      <td>Released</td>\n",
              "      <td>Heat</td>\n",
              "      <td>False</td>\n",
              "      <td>7.7</td>\n",
              "      <td>1886.0</td>\n",
              "    </tr>\n",
              "    <tr>\n",
              "      <th>8</th>\n",
              "      <td>False</td>\n",
              "      <td>35000000</td>\n",
              "      <td>[{'id': 28, 'name': 'Action'}, {'id': 12, 'nam...</td>\n",
              "      <td>9091</td>\n",
              "      <td>tt0114576</td>\n",
              "      <td>en</td>\n",
              "      <td>Sudden Death</td>\n",
              "      <td>International action superstar Jean Claude Van...</td>\n",
              "      <td>5.23158</td>\n",
              "      <td>/eoWvKD60lT95Ss1MYNgVExpo5iU.jpg</td>\n",
              "      <td>[{'name': 'Universal Pictures', 'id': 33}, {'n...</td>\n",
              "      <td>[{'iso_3166_1': 'US', 'name': 'United States o...</td>\n",
              "      <td>1995-12-22</td>\n",
              "      <td>64350171.0</td>\n",
              "      <td>106.0</td>\n",
              "      <td>[{'iso_639_1': 'en', 'name': 'English'}]</td>\n",
              "      <td>Released</td>\n",
              "      <td>Sudden Death</td>\n",
              "      <td>False</td>\n",
              "      <td>5.5</td>\n",
              "      <td>174.0</td>\n",
              "    </tr>\n",
              "  </tbody>\n",
              "</table>\n",
              "</div>"
            ],
            "text/plain": [
              "   adult    budget  ... vote_average vote_count\n",
              "0  False  30000000  ...          7.7     5415.0\n",
              "1  False  65000000  ...          6.9     2413.0\n",
              "3  False  16000000  ...          6.1       34.0\n",
              "5  False  60000000  ...          7.7     1886.0\n",
              "8  False  35000000  ...          5.5      174.0\n",
              "\n",
              "[5 rows x 21 columns]"
            ]
          },
          "metadata": {},
          "execution_count": 30
        }
      ]
    },
    {
      "cell_type": "code",
      "metadata": {
        "id": "242f805a"
      },
      "source": [
        "# print(df_filtered.dtypes)"
      ],
      "id": "242f805a",
      "execution_count": null,
      "outputs": []
    },
    {
      "cell_type": "markdown",
      "metadata": {
        "id": "310ad282"
      },
      "source": [
        "### Converting the datatype of columns budget and popularity"
      ],
      "id": "310ad282"
    },
    {
      "cell_type": "code",
      "metadata": {
        "id": "051a0a64"
      },
      "source": [
        "df_filtered['budget'] = pd.to_numeric(df_filtered['budget'])\n",
        "df_filtered['popularity'] = pd.to_numeric(df_filtered['popularity'])"
      ],
      "id": "051a0a64",
      "execution_count": 31,
      "outputs": []
    },
    {
      "cell_type": "code",
      "metadata": {
        "id": "081cccc9"
      },
      "source": [
        "# print(df_filtered.dtypes)"
      ],
      "id": "081cccc9",
      "execution_count": null,
      "outputs": []
    },
    {
      "cell_type": "code",
      "metadata": {
        "id": "aa69f6b8"
      },
      "source": [
        "# ratings_df.isnull().sum()"
      ],
      "id": "aa69f6b8",
      "execution_count": null,
      "outputs": []
    },
    {
      "cell_type": "code",
      "metadata": {
        "id": "b176414b"
      },
      "source": [
        "# links_df.isnull().sum()"
      ],
      "id": "b176414b",
      "execution_count": null,
      "outputs": []
    },
    {
      "cell_type": "code",
      "metadata": {
        "id": "44c0e288"
      },
      "source": [
        "# links_df = links_df.dropna(axis = 0,how = \"any\")"
      ],
      "id": "44c0e288",
      "execution_count": null,
      "outputs": []
    },
    {
      "cell_type": "code",
      "metadata": {
        "id": "403d444d"
      },
      "source": [
        "# links_df.isnull().sum()"
      ],
      "id": "403d444d",
      "execution_count": null,
      "outputs": []
    },
    {
      "cell_type": "code",
      "metadata": {
        "id": "1d24819b"
      },
      "source": [
        "# keywords_df.isnull().sum()"
      ],
      "id": "1d24819b",
      "execution_count": null,
      "outputs": []
    },
    {
      "cell_type": "code",
      "metadata": {
        "id": "4c44868e"
      },
      "source": [
        "# credits_df.isnull().sum()"
      ],
      "id": "4c44868e",
      "execution_count": null,
      "outputs": []
    },
    {
      "cell_type": "code",
      "metadata": {
        "id": "2b7670b8"
      },
      "source": [
        "budgetList = list(pd.to_numeric(df_filtered[\"budget\"]))\n",
        "revenueList = list(pd.to_numeric(df_filtered[\"revenue\"]))"
      ],
      "id": "2b7670b8",
      "execution_count": 32,
      "outputs": []
    },
    {
      "cell_type": "markdown",
      "metadata": {
        "id": "50dcc2ec"
      },
      "source": [
        "### Getting the genre list"
      ],
      "id": "50dcc2ec"
    },
    {
      "cell_type": "code",
      "metadata": {
        "colab": {
          "base_uri": "https://localhost:8080/"
        },
        "id": "faf4cb2b",
        "outputId": "50a8094a-877e-45db-a91c-94258f441fe6"
      },
      "source": [
        "#Code to get a list of all the genres\n",
        "genreListEncoded = df_filtered[\"genres\"]\n",
        "genreListEncoded = list(genreListEncoded)\n",
        "genreList = []\n",
        "for i in genreListEncoded:\n",
        "    i = ast.literal_eval(i)\n",
        "    for j in i:\n",
        "        genreList.append(j['name'])\n",
        "\n",
        "genreset = set(genreList)\n",
        "# convert the set to the list\n",
        "genres = (list(genreset))\n",
        "print(genres)"
      ],
      "id": "faf4cb2b",
      "execution_count": 33,
      "outputs": [
        {
          "output_type": "stream",
          "name": "stdout",
          "text": [
            "['Horror', 'TV Movie', 'Action', 'Adventure', 'Western', 'Thriller', 'Animation', 'Romance', 'Crime', 'History', 'Mystery', 'Music', 'Family', 'Documentary', 'Drama', 'Science Fiction', 'Comedy', 'War', 'Foreign', 'Fantasy']\n"
          ]
        }
      ]
    },
    {
      "cell_type": "markdown",
      "metadata": {
        "id": "2300dd6e"
      },
      "source": [
        "### Box plots of Budget List and Revenue List"
      ],
      "id": "2300dd6e"
    },
    {
      "cell_type": "code",
      "metadata": {
        "id": "addcf5de"
      },
      "source": [
        "# sns.boxplot(x = budgetList)"
      ],
      "id": "addcf5de",
      "execution_count": null,
      "outputs": []
    },
    {
      "cell_type": "code",
      "metadata": {
        "scrolled": true,
        "id": "9f5fd920"
      },
      "source": [
        "# sns.boxplot(x = revenueList)"
      ],
      "id": "9f5fd920",
      "execution_count": null,
      "outputs": []
    },
    {
      "cell_type": "markdown",
      "metadata": {
        "id": "90799256"
      },
      "source": [
        "### Histograms"
      ],
      "id": "90799256"
    },
    {
      "cell_type": "code",
      "metadata": {
        "scrolled": true,
        "id": "1f859f7f"
      },
      "source": [
        "# #Histograms\n",
        "# df_filtered[['budget'] + ['popularity'] + ['revenue'] + ['runtime'] + ['vote_average']].hist(figsize=(20,15), log=True);"
      ],
      "id": "1f859f7f",
      "execution_count": null,
      "outputs": []
    },
    {
      "cell_type": "code",
      "metadata": {
        "colab": {
          "base_uri": "https://localhost:8080/"
        },
        "id": "d99fe8a3",
        "outputId": "4a456f84-3906-46d9-eecb-1cb2ac3a06f0"
      },
      "source": [
        "# Code to get a list of all the release dates\n",
        "release_dates = df_filtered[\"release_date\"]\n",
        "dates = []\n",
        "for i in release_dates:\n",
        "    dates.append(int(i[0:4]))\n",
        "    \n",
        "print(max(dates))"
      ],
      "id": "d99fe8a3",
      "execution_count": 34,
      "outputs": [
        {
          "output_type": "stream",
          "name": "stdout",
          "text": [
            "2017\n"
          ]
        }
      ]
    },
    {
      "cell_type": "code",
      "metadata": {
        "id": "02c21b7a"
      },
      "source": [
        "# #Histogram for release years\n",
        "# # Increase the width\n",
        "# plt.figure(figsize=(15,4))\n",
        "# plt.hist(dates, bins=30, alpha=0.5)\n",
        "# plt.title('Release dates Histogram')\n",
        "# plt.xlabel('Release Dates')\n",
        "\n",
        "# plt.show()"
      ],
      "id": "02c21b7a",
      "execution_count": null,
      "outputs": []
    },
    {
      "cell_type": "markdown",
      "metadata": {
        "id": "ebd24f3c"
      },
      "source": [
        "### Correlations of the columns"
      ],
      "id": "ebd24f3c"
    },
    {
      "cell_type": "code",
      "metadata": {
        "id": "0239171e"
      },
      "source": [
        "# #Displaying the correlation between all the numeric rows\n",
        "# cor = df_filtered.corr()\n",
        "# print(cor)"
      ],
      "id": "0239171e",
      "execution_count": null,
      "outputs": []
    },
    {
      "cell_type": "markdown",
      "metadata": {
        "id": "4c9420d7"
      },
      "source": [
        "#### Correlation Heatmap"
      ],
      "id": "4c9420d7"
    },
    {
      "cell_type": "code",
      "metadata": {
        "scrolled": false,
        "id": "f58302ac"
      },
      "source": [
        "# #Constructing a heat map to understand the correlation between the columns\n",
        "# plt.figure(figsize = (10,10))\n",
        "# sns.heatmap(cor, cbar = True , square = True,fmt = '.1f', annot = True, annot_kws = {'size' : 8},  cmap = 'Blues')"
      ],
      "id": "f58302ac",
      "execution_count": null,
      "outputs": []
    },
    {
      "cell_type": "code",
      "metadata": {
        "id": "56e57be0"
      },
      "source": [
        "#Counting correlation of 0.5 and above as high correlation between columns\n",
        "#Columns with high correlation\n",
        "#buget and revenue - 0.7\n",
        "#budget and vote_count - 0.6\n",
        "#popularity and vote_count - 0.5\n",
        "#revenue and vote_count - 0.8"
      ],
      "id": "56e57be0",
      "execution_count": null,
      "outputs": []
    },
    {
      "cell_type": "markdown",
      "metadata": {
        "id": "25c030ef"
      },
      "source": [
        "### Scatterplots"
      ],
      "id": "25c030ef"
    },
    {
      "cell_type": "markdown",
      "metadata": {
        "id": "072d048a"
      },
      "source": [
        "#### Runtime vs Budget"
      ],
      "id": "072d048a"
    },
    {
      "cell_type": "code",
      "metadata": {
        "id": "b1205235"
      },
      "source": [
        "# runtime_data = list(df_filtered[\"runtime\"])\n",
        "# vote_avg = df_filtered['vote_average']\n",
        "# # Increase the width\n",
        "# plt.figure(figsize=(15,4))\n",
        "# sns.scatterplot(x = budgetList,y = runtime_data,hue = vote_avg)\n",
        "# plt.xlabel('Budget')\n",
        "# plt.ylabel('Runtime')\n",
        "# plt.title('Runtime vs Budget')\n",
        "# plt.show()"
      ],
      "id": "b1205235",
      "execution_count": null,
      "outputs": []
    },
    {
      "cell_type": "markdown",
      "metadata": {
        "id": "9b946f9f"
      },
      "source": [
        "#### Revenue vs Budget"
      ],
      "id": "9b946f9f"
    },
    {
      "cell_type": "code",
      "metadata": {
        "id": "fd0d9c74"
      },
      "source": [
        "# #Using hue as ratings or genres with respect to vote avg\n",
        "# # Increase the width\n",
        "# plt.figure(figsize=(15,4))\n",
        "# sns.scatterplot(x = budgetList,y = revenueList,hue = vote_avg)\n",
        "# plt.xlabel('Budget')\n",
        "# plt.ylabel('Revenue')\n",
        "# plt.title('Revenue vs Budget')\n",
        "# plt.show()"
      ],
      "id": "fd0d9c74",
      "execution_count": null,
      "outputs": []
    },
    {
      "cell_type": "markdown",
      "metadata": {
        "id": "aba35953"
      },
      "source": [
        "#### Budget vs Vote Count"
      ],
      "id": "aba35953"
    },
    {
      "cell_type": "code",
      "metadata": {
        "id": "3e6a3015"
      },
      "source": [
        "# #Using hue as vote avg\n",
        "# # Increase the width\n",
        "# plt.figure(figsize=(15,4))\n",
        "# sns.scatterplot(x = budgetList,y = list(df_filtered[\"vote_count\"]),hue = vote_avg)\n",
        "# plt.xlabel('Budget')\n",
        "# plt.ylabel('Vote Count')\n",
        "# plt.title('Vote Count vs Budget')\n",
        "# plt.show()"
      ],
      "id": "3e6a3015",
      "execution_count": null,
      "outputs": []
    },
    {
      "cell_type": "markdown",
      "metadata": {
        "id": "4d81fe21"
      },
      "source": [
        "#### Popularity and Vote Count"
      ],
      "id": "4d81fe21"
    },
    {
      "cell_type": "code",
      "metadata": {
        "id": "2b86ce2c"
      },
      "source": [
        "# #Using hue as vote avg\n",
        "# # Increase the width\n",
        "# plt.figure(figsize=(15,4))\n",
        "# sns.scatterplot(x = list(df_filtered['popularity']),y = df_filtered['vote_count'],hue = vote_avg)\n",
        "# plt.xlabel('Popularity')\n",
        "# plt.ylabel('Vote Count')\n",
        "# plt.title('Vote Count vs Popularity')\n",
        "# plt.show()"
      ],
      "id": "2b86ce2c",
      "execution_count": null,
      "outputs": []
    },
    {
      "cell_type": "markdown",
      "metadata": {
        "id": "bfc3c4cf"
      },
      "source": [
        "#### Revenue and Vote Count"
      ],
      "id": "bfc3c4cf"
    },
    {
      "cell_type": "code",
      "metadata": {
        "id": "e397fcd0"
      },
      "source": [
        "# #Using hue as vote avg\n",
        "# # Increase the width\n",
        "# plt.figure(figsize=(15,4))\n",
        "# sns.scatterplot(x = list(df_filtered['vote_count']),y = revenueList,hue = vote_avg)\n",
        "# plt.xlabel('Vote Count')\n",
        "# plt.ylabel('Revenue')\n",
        "# plt.title('Revenue vs Vote Count')\n",
        "# plt.show()"
      ],
      "id": "e397fcd0",
      "execution_count": null,
      "outputs": []
    },
    {
      "cell_type": "markdown",
      "metadata": {
        "id": "1d350152"
      },
      "source": [
        "### Regression Plots of features with correlation higher than 0.7"
      ],
      "id": "1d350152"
    },
    {
      "cell_type": "markdown",
      "metadata": {
        "id": "0facbb0b"
      },
      "source": [
        "#### Budget vs Revenue"
      ],
      "id": "0facbb0b"
    },
    {
      "cell_type": "code",
      "metadata": {
        "id": "18b05d46"
      },
      "source": [
        "# # Increase the width\n",
        "# plt.figure(figsize=(15,4))\n",
        "# #Display regression plot using seaborn\n",
        "# sns.regplot(x = budgetList,y = revenueList,line_kws={'color':'red'})\n",
        "# plt.xlabel('Budget')\n",
        "# plt.ylabel('Revenue')\n",
        "# plt.title('Revenue vs Budget')\n",
        "# plt.show()"
      ],
      "id": "18b05d46",
      "execution_count": null,
      "outputs": []
    },
    {
      "cell_type": "markdown",
      "metadata": {
        "id": "02dbbf2f"
      },
      "source": [
        "#### Revenue vs Vote Count"
      ],
      "id": "02dbbf2f"
    },
    {
      "cell_type": "code",
      "metadata": {
        "id": "eaec362f"
      },
      "source": [
        "# # Increase the width\n",
        "# plt.figure(figsize=(15,4))\n",
        "# #Display regression plot using seaborn\n",
        "# sns.regplot(x = list(df_filtered['vote_count']),y = revenueList,line_kws={'color':'red'})\n",
        "# plt.xlabel('Vote Count')\n",
        "# plt.ylabel('Revenue')\n",
        "# plt.title('Revenue vs Vote Count')\n",
        "# plt.show()"
      ],
      "id": "eaec362f",
      "execution_count": null,
      "outputs": []
    },
    {
      "cell_type": "markdown",
      "metadata": {
        "id": "b9565726"
      },
      "source": [
        "### Linear Regression Models on features with correlation higher than 0.7"
      ],
      "id": "b9565726"
    },
    {
      "cell_type": "markdown",
      "metadata": {
        "id": "9a1b84bf"
      },
      "source": [
        "#### Revenue vs Budget"
      ],
      "id": "9a1b84bf"
    },
    {
      "cell_type": "code",
      "metadata": {
        "id": "f58a82c9"
      },
      "source": [
        "# #Lower the rmse value, better the Regression Model(scaled to the range of data)\n",
        "\n",
        "# import math\n",
        "# model = LinearRegression()\n",
        "# #Normalizing the data for it to be in a range between 0 and 1\n",
        "# x = [(m -min(budgetList))/(max(budgetList) - min(budgetList)) for m in budgetList]\n",
        "# y = [(m -min(revenueList))/(max(revenueList) - min(revenueList)) for m in revenueList]\n",
        "# x = np.array(x)\n",
        "# x = x.reshape(-1,1)\n",
        "# y = np.array(y)\n",
        "# x_train,x_test,y_train,y_test = train_test_split(x,y,test_size = 0.2,random_state = 2)\n",
        "# model.fit(x_train,y_train)\n",
        "# pred = model.predict(x_test)\n",
        "\n",
        "# mse = metrics.mean_squared_error(pred, y_test)\n",
        "\n",
        "# rmse = math.sqrt(mse)\n",
        "\n",
        "# print(rmse)\n",
        "\n",
        "# print(\"Budget is in the range : \",min(x),max(x))\n",
        "# print(\"Revenue is in the range : \",min(y),max(y))"
      ],
      "id": "f58a82c9",
      "execution_count": null,
      "outputs": []
    },
    {
      "cell_type": "markdown",
      "metadata": {
        "id": "153f20d5"
      },
      "source": [
        "#### Revenue vs Vote Count"
      ],
      "id": "153f20d5"
    },
    {
      "cell_type": "code",
      "metadata": {
        "id": "41fca02e"
      },
      "source": [
        "# #Lower the rmse value, better the Regression Model(scaled to the range of data)\n",
        "\n",
        "# import math\n",
        "# model = LinearRegression()\n",
        "# vote_count = list(df_filtered[\"vote_count\"])\n",
        "# #Normalizing the data for it to be in a range between 0 and 1\n",
        "# x = [(m -min(vote_count))/(max(vote_count) - min(vote_count)) for m in vote_count]\n",
        "# y = [(m -min(revenueList))/(max(revenueList) - min(revenueList)) for m in revenueList]\n",
        "# x = np.array(x)\n",
        "# x = x.reshape(-1,1)\n",
        "# y = np.array(y)\n",
        "# x_train,x_test,y_train,y_test = train_test_split(x,y,test_size = 0.2,random_state = 2)\n",
        "# model.fit(x_train,y_train)\n",
        "# pred = model.predict(x_test)\n",
        "\n",
        "# mse = metrics.mean_squared_error(pred, y_test)\n",
        "\n",
        "# rmse = math.sqrt(mse)\n",
        "\n",
        "# print(rmse)\n",
        "\n",
        "# print(\"Vote Count is in the range : \",min(x),max(x))\n",
        "# print(\"Revenue is in the range : \",min(y),max(y))"
      ],
      "id": "41fca02e",
      "execution_count": null,
      "outputs": []
    },
    {
      "cell_type": "markdown",
      "metadata": {
        "id": "efe1f769"
      },
      "source": [
        "### Pie Charts"
      ],
      "id": "efe1f769"
    },
    {
      "cell_type": "code",
      "metadata": {
        "id": "ccfe575e"
      },
      "source": [
        "# df_filtered.head()"
      ],
      "id": "ccfe575e",
      "execution_count": null,
      "outputs": []
    },
    {
      "cell_type": "markdown",
      "metadata": {
        "id": "2509f726"
      },
      "source": [
        "#### Genres Pie Chart"
      ],
      "id": "2509f726"
    },
    {
      "cell_type": "code",
      "metadata": {
        "id": "3298f4b1"
      },
      "source": [
        "genres_count = []\n",
        "number_of_colors = len(genres)\n",
        "\n",
        "color = [\"#\"+''.join([random.choice('0123456789ABCDEF') for j in range(6)])\n",
        "             for i in range(number_of_colors)]\n",
        "\n",
        "for i in genres:\n",
        "    count = genreList.count(i)\n",
        "    genres_count.append(count)\n",
        "\n",
        "# # Increase the width\n",
        "# plt.figure(figsize=(20,6))\n",
        "# plt.pie(genres_count,colors = color)\n",
        "# plt.title(\"Genres Pie Chart\")\n",
        "# # use parameter bbox_to_anchor to reposition\n",
        "# # the legend box outside the plot area\n",
        "# plt.gca().legend(labels = genres,loc='center left', bbox_to_anchor=(2, 0.5))\n",
        "# plt.show()"
      ],
      "id": "3298f4b1",
      "execution_count": 35,
      "outputs": []
    },
    {
      "cell_type": "markdown",
      "metadata": {
        "id": "807a5fbe"
      },
      "source": [
        "#### Adult vs Non Adult Pie Chart"
      ],
      "id": "807a5fbe"
    },
    {
      "cell_type": "code",
      "metadata": {
        "id": "77cafbe5"
      },
      "source": [
        "adult_data = list(movies_df['adult'])\n",
        "count = adult_data.count(\"True\")\n",
        "count1 = adult_data.count(\"False\")\n",
        "\n",
        "adult_count = [count,count1]\n",
        "\n",
        "\n",
        "# color = ['r','b']\n",
        "\n",
        "labels = [\"Adult\",\"Not Adult\"]\n",
        "# # Increase the width\n",
        "# plt.figure(figsize=(20,6))\n",
        "# plt.title(\"Adult vs Non Adult movies Pie Chart\")\n",
        "# plt.pie(adult_count,colors = color, labels = labels)\n",
        "# plt.legend(labels,loc=1)\n",
        "# plt.show()"
      ],
      "id": "77cafbe5",
      "execution_count": 39,
      "outputs": []
    },
    {
      "cell_type": "markdown",
      "metadata": {
        "id": "4de6dff8"
      },
      "source": [
        "#### Pie chart of production countries"
      ],
      "id": "4de6dff8"
    },
    {
      "cell_type": "code",
      "metadata": {
        "colab": {
          "base_uri": "https://localhost:8080/"
        },
        "id": "e8ff3535",
        "outputId": "b9b8bb64-93e8-4537-8f2f-8989584ea332"
      },
      "source": [
        "# Pie chart of production countries(Most movies from which countries)\n",
        "pr_countries = list(df_filtered[\"production_countries\"])\n",
        "pr_countriesL = []\n",
        "print(type(pr_countries))\n",
        "# print(pr_countries)\n",
        "for i in pr_countries:\n",
        "    i = ast.literal_eval(i)\n",
        "    for j in i:\n",
        "        pr_countriesL.append(j['name'])\n",
        "        \n",
        "# print(pr_countriesL)\n",
        "pr_countrySet = set(pr_countriesL)\n",
        "pr_countryList = list(pr_countrySet)\n",
        "print(pr_countryList)\n",
        "\n",
        "no_of_countries = len(pr_countryList)\n",
        "print(no_of_countries)\n",
        "\n",
        "avg = []\n",
        "for i in pr_countryList:\n",
        "    count = pr_countriesL.count(i)\n",
        "    avg.append(count)\n",
        "    \n",
        "print(avg)\n",
        "\n",
        "# number_of_colors = len(genres)\n",
        "\n",
        "# color = [\"#\"+''.join([random.choice('0123456789ABCDEF') for j in range(6)])\n",
        "#              for i in range(number_of_colors)]\n",
        "# # Increase the width\n",
        "# plt.figure(figsize=(20,6))\n",
        "# plt.pie(avg,colors = color)\n",
        "# plt.title(\"Production Countries Pie Chart\")\n",
        "# # use parameter bbox_to_anchor to reposition\n",
        "# # the legend box outside the plot area\n",
        "# plt.gca().legend(labels = pr_countryList,loc='center left', bbox_to_anchor=(2, 0.5))\n",
        "# plt.show()"
      ],
      "id": "e8ff3535",
      "execution_count": 40,
      "outputs": [
        {
          "output_type": "stream",
          "name": "stdout",
          "text": [
            "<class 'list'>\n",
            "['Norway', 'Taiwan', 'Peru', 'Botswana', 'Canada', 'Paraguay', 'Netherlands', 'Malta', 'Greece', 'Austria', 'Australia', 'Israel', 'Qatar', 'Croatia', 'Costa Rica', 'China', 'Lithuania', 'Iran', 'Namibia', 'Algeria', 'Indonesia', 'Turkey', 'India', 'Italy', 'Russia', 'Romania', 'Germany', 'Argentina', 'Pakistan', 'Serbia and Montenegro', 'South Korea', 'Finland', 'Venezuela', 'Hungary', 'Liechtenstein', 'Luxembourg', 'Chile', 'Malaysia', 'Portugal', 'Tunisia', 'Poland', 'Uruguay', 'Cambodia', 'United Arab Emirates', 'Ukraine', 'Burkina Faso', 'Czech Republic', 'Kazakhstan', 'Ireland', 'Philippines', 'Hong Kong', 'Switzerland', 'Mali', 'France', 'Slovenia', 'Mexico', 'Ecuador', 'Japan', 'Belgium', 'Thailand', 'Morocco', 'Angola', 'Puerto Rico', 'United States of America', 'Colombia', 'Serbia', 'New Zealand', 'United Kingdom', 'Sweden', 'Bahamas', 'Singapore', 'Brazil', 'Ghana', 'Iceland', 'Cyprus', 'South Africa', 'Monaco', 'Bulgaria', 'Spain', 'Denmark']\n",
            "80\n",
            "[15, 8, 2, 1, 234, 1, 28, 5, 6, 13, 120, 6, 3, 1, 1, 73, 1, 2, 1, 2, 3, 7, 181, 109, 82, 11, 318, 9, 3, 1, 29, 15, 1, 13, 1, 12, 5, 1, 2, 4, 10, 1, 1, 14, 7, 1, 25, 1, 45, 6, 54, 16, 1, 369, 1, 27, 1, 88, 41, 9, 5, 1, 1, 4384, 1, 5, 30, 666, 29, 2, 3, 11, 1, 5, 1, 19, 1, 6, 73, 22]\n"
          ]
        }
      ]
    },
    {
      "cell_type": "markdown",
      "metadata": {
        "id": "63c9b920"
      },
      "source": [
        "### Bar charts"
      ],
      "id": "63c9b920"
    },
    {
      "cell_type": "markdown",
      "metadata": {
        "id": "c7370bd5"
      },
      "source": [
        "#### Showing the frequency of the languages"
      ],
      "id": "c7370bd5"
    },
    {
      "cell_type": "code",
      "metadata": {
        "colab": {
          "base_uri": "https://localhost:8080/"
        },
        "id": "976506e4",
        "outputId": "cc26a849-8def-4109-a01e-c5c793aff29a"
      },
      "source": [
        "languages = list(df_filtered[\"original_language\"])\n",
        "uniq_languages = list(set(languages))\n",
        "lang_count = []\n",
        "print(uniq_languages)\n",
        "for i in uniq_languages:\n",
        "    count = languages.count(i)\n",
        "    lang_count.append(count)"
      ],
      "id": "976506e4",
      "execution_count": 36,
      "outputs": [
        {
          "output_type": "stream",
          "name": "stdout",
          "text": [
            "['vi', 'ru', 'af', 'sr', 'de', 'el', 'kn', 'ja', 'it', 'ml', 'bm', 'nb', 'th', 'tr', 'fr', 'no', 'pl', 'is', 'ur', 'he', 'xx', 'hu', 'sv', 'ro', 'cn', 'ko', 'da', 'es', 'nl', 'fi', 'ca', 'te', 'fa', 'en', 'hi', 'zh', 'ta', 'pt', 'id', 'mr']\n"
          ]
        }
      ]
    },
    {
      "cell_type": "markdown",
      "metadata": {
        "id": "a05755e4"
      },
      "source": [
        "##### With English"
      ],
      "id": "a05755e4"
    },
    {
      "cell_type": "code",
      "metadata": {
        "id": "ed90e3d0"
      },
      "source": [
        "# #BAR PLOT WITH EN\n",
        "# # Increase the width\n",
        "# plt.figure(figsize=(15,4))\n",
        "# # Horizontal Bar Plot\n",
        "# plt.bar(uniq_languages, lang_count)\n",
        "\n",
        "# plt.xticks(rotation=90)\n",
        "\n",
        "# plt.xlabel('Languages')\n",
        "# plt.ylabel('No. of movies')\n",
        "# plt.title(\"No. of movies in each language(With English)\")\n",
        "# # Show Plot\n",
        "# plt.show()"
      ],
      "id": "ed90e3d0",
      "execution_count": null,
      "outputs": []
    },
    {
      "cell_type": "markdown",
      "metadata": {
        "id": "83e748fc"
      },
      "source": [
        "##### Without English"
      ],
      "id": "83e748fc"
    },
    {
      "cell_type": "code",
      "metadata": {
        "id": "c1c51e33"
      },
      "source": [
        "# #BAR PLOT WITHOUT EN\n",
        "uniq_lang_without = []\n",
        "lang_count_without = []\n",
        "\n",
        "for i in uniq_languages:\n",
        "    if i != 'en':\n",
        "        count = languages.count(i)\n",
        "        uniq_lang_without.append(i)\n",
        "        lang_count_without.append(count)\n",
        "\n",
        "# # Increase the width\n",
        "# plt.figure(figsize=(15,4))\n",
        "# # Horizontal Bar Plot\n",
        "# plt.bar(uniq_lang_without, lang_count_without)\n",
        "\n",
        "# plt.xticks(rotation=90)\n",
        "\n",
        "# plt.xlabel('Languages')\n",
        "# plt.ylabel('No. of movies')\n",
        "# plt.title(\"No. of movies in each language(Without English)\")\n",
        "# # Show Plot\n",
        "# plt.show()"
      ],
      "id": "c1c51e33",
      "execution_count": 37,
      "outputs": []
    },
    {
      "cell_type": "code",
      "metadata": {
        "id": "aee4926c"
      },
      "source": [
        "app = dash.Dash(__name__, external_stylesheets=[dbc.themes.BOOTSTRAP,'https://codepen.io/amyoshino/pen/jzXypZ.css',dbc.themes.SLATE])"
      ],
      "id": "aee4926c",
      "execution_count": 38,
      "outputs": []
    },
    {
      "cell_type": "markdown",
      "metadata": {
        "id": "82f1fd6c"
      },
      "source": [
        "### Extracting the movie title"
      ],
      "id": "82f1fd6c"
    },
    {
      "cell_type": "code",
      "metadata": {
        "colab": {
          "base_uri": "https://localhost:8080/"
        },
        "id": "f39da737",
        "outputId": "975ffca2-b3c3-4e63-c5ed-2c6a940a6e14"
      },
      "source": [
        "movie_title = df_filtered['original_title']\n",
        "print(movie_title)"
      ],
      "id": "f39da737",
      "execution_count": 41,
      "outputs": [
        {
          "output_type": "stream",
          "name": "stdout",
          "text": [
            "0                Toy Story\n",
            "1                  Jumanji\n",
            "3        Waiting to Exhale\n",
            "5                     Heat\n",
            "8             Sudden Death\n",
            "               ...        \n",
            "45167           Wind River\n",
            "45250               சிவாஜி\n",
            "45409               Dikari\n",
            "45412           Про любоff\n",
            "45422             Антидурь\n",
            "Name: original_title, Length: 5370, dtype: object\n"
          ]
        }
      ]
    },
    {
      "cell_type": "markdown",
      "metadata": {
        "id": "f1603d3f"
      },
      "source": [
        "### Creating Dataframe for the first page"
      ],
      "id": "f1603d3f"
    },
    {
      "cell_type": "code",
      "metadata": {
        "scrolled": false,
        "colab": {
          "base_uri": "https://localhost:8080/",
          "height": 206
        },
        "id": "15d41983",
        "outputId": "0d173d9c-21dc-445d-8ad9-1f4804c8b67e"
      },
      "source": [
        "summary = pd.DataFrame(df_filtered, columns = ['original_title','overview','vote_average'])\n",
        "title = list(df_filtered['original_title'])\n",
        "overview = list(df_filtered['overview'])\n",
        "vote_avg = list(df_filtered['vote_average'])\n",
        "summary.head()"
      ],
      "id": "15d41983",
      "execution_count": 42,
      "outputs": [
        {
          "output_type": "execute_result",
          "data": {
            "text/html": [
              "<div>\n",
              "<style scoped>\n",
              "    .dataframe tbody tr th:only-of-type {\n",
              "        vertical-align: middle;\n",
              "    }\n",
              "\n",
              "    .dataframe tbody tr th {\n",
              "        vertical-align: top;\n",
              "    }\n",
              "\n",
              "    .dataframe thead th {\n",
              "        text-align: right;\n",
              "    }\n",
              "</style>\n",
              "<table border=\"1\" class=\"dataframe\">\n",
              "  <thead>\n",
              "    <tr style=\"text-align: right;\">\n",
              "      <th></th>\n",
              "      <th>original_title</th>\n",
              "      <th>overview</th>\n",
              "      <th>vote_average</th>\n",
              "    </tr>\n",
              "  </thead>\n",
              "  <tbody>\n",
              "    <tr>\n",
              "      <th>0</th>\n",
              "      <td>Toy Story</td>\n",
              "      <td>Led by Woody, Andy's toys live happily in his ...</td>\n",
              "      <td>7.7</td>\n",
              "    </tr>\n",
              "    <tr>\n",
              "      <th>1</th>\n",
              "      <td>Jumanji</td>\n",
              "      <td>When siblings Judy and Peter discover an encha...</td>\n",
              "      <td>6.9</td>\n",
              "    </tr>\n",
              "    <tr>\n",
              "      <th>3</th>\n",
              "      <td>Waiting to Exhale</td>\n",
              "      <td>Cheated on, mistreated and stepped on, the wom...</td>\n",
              "      <td>6.1</td>\n",
              "    </tr>\n",
              "    <tr>\n",
              "      <th>5</th>\n",
              "      <td>Heat</td>\n",
              "      <td>Obsessive master thief, Neil McCauley leads a ...</td>\n",
              "      <td>7.7</td>\n",
              "    </tr>\n",
              "    <tr>\n",
              "      <th>8</th>\n",
              "      <td>Sudden Death</td>\n",
              "      <td>International action superstar Jean Claude Van...</td>\n",
              "      <td>5.5</td>\n",
              "    </tr>\n",
              "  </tbody>\n",
              "</table>\n",
              "</div>"
            ],
            "text/plain": [
              "      original_title  ... vote_average\n",
              "0          Toy Story  ...          7.7\n",
              "1            Jumanji  ...          6.9\n",
              "3  Waiting to Exhale  ...          6.1\n",
              "5               Heat  ...          7.7\n",
              "8       Sudden Death  ...          5.5\n",
              "\n",
              "[5 rows x 3 columns]"
            ]
          },
          "metadata": {},
          "execution_count": 42
        }
      ]
    },
    {
      "cell_type": "code",
      "metadata": {
        "id": "ec2ede0c"
      },
      "source": [
        "def find_element_in_list(element, list_element):\n",
        "    try:\n",
        "        index_element = list_element.index(element)\n",
        "        print(int(index_element))\n",
        "        return int(index_element)\n",
        "    except ValueError:\n",
        "        return None"
      ],
      "id": "ec2ede0c",
      "execution_count": 43,
      "outputs": []
    },
    {
      "cell_type": "markdown",
      "metadata": {
        "id": "13998cf9"
      },
      "source": [
        "### Graphs we'll be using in the dashboard"
      ],
      "id": "13998cf9"
    },
    {
      "cell_type": "code",
      "metadata": {
        "id": "6dad6bac"
      },
      "source": [
        "# 2 boxplots\n",
        "## ->Budgets\n",
        "## -> Revenue\n",
        "\n",
        "# 6 histograms\n",
        "## -> Budget\n",
        "## -> Revenue\n",
        "## -> Popularity\n",
        "## -> Runtime\n",
        "## -> Vote avg\n",
        "## -> Release Years\n",
        "\n",
        "# 5 scatter plots\n",
        "## -> Runtime vs Budget\n",
        "## -> Revenue vs Budget\n",
        "## -> Budget vs Votecount\n",
        "## -> Popularity vs Votecount\n",
        "## -> Revenue vs Vote Count\n",
        "\n",
        "# 2 bar charts\n",
        "## -> No. of movies in each language with english\n",
        "## -> No. of movies in each language without english\n",
        "\n",
        "# 3 pie charts\n",
        "## -> Genres Pie Chart\n",
        "## -> Adult vs Non Adult\n",
        "## -> Production countries\n",
        "\n",
        "# 1 correlation heatmap\n",
        "## -> Correlation heatmap between the numerical columns\n",
        "\n",
        "# 2 regression plots\n",
        "## -> Revenue vs Budget\n",
        "## -> Revenue vs Vote Count\n",
        "\n",
        "# Total ==> 21 graphs\n",
        "#Orientation ==> 7 rows and 3 columns"
      ],
      "id": "6dad6bac",
      "execution_count": null,
      "outputs": []
    },
    {
      "cell_type": "markdown",
      "metadata": {
        "id": "97db291c"
      },
      "source": [
        "### Dashboard Code"
      ],
      "id": "97db291c"
    },
    {
      "cell_type": "code",
      "metadata": {
        "id": "23ac1d38"
      },
      "source": [
        "df = pd.read_csv('https://raw.githubusercontent.com/Coding-with-Adam/Dash-by-Plotly/master/Bootstrap/Side-Bar/iranian_students.csv')\n",
        "# styling the sidebar\n",
        "SIDEBAR_STYLE = {\n",
        "    \"position\": \"fixed\",\n",
        "    \"top\": 0,\n",
        "    \"left\": 0,\n",
        "    \"bottom\": 0,\n",
        "    \"width\": \"6rem\",\n",
        "    \"padding\": \"2rem 1rem\",\n",
        "    \"background-color\":\"#1D1D1D\",\n",
        "}\n",
        "\n",
        "# padding for the page content\n",
        "CONTENT_STYLE = {\n",
        "    \"margin-left\": \"8rem\",\n",
        "    \"margin-right\": \"0rem\",\n",
        "    \"padding\": \"6rem 1rem\"\n",
        "}\n",
        "\n",
        "sidebar = html.Div(\n",
        "    [\n",
        "        dbc.Nav(\n",
        "            [\n",
        "                dbc.NavLink(\"Home\", href=\"/\", active=\"exact\"),\n",
        "                dbc.NavLink(\"Statistics\", href=\"/page-1\", active=\"exact\"),\n",
        "            ],\n",
        "            vertical=True,\n",
        "            pills=True,\n",
        "        ),\n",
        "    ],\n",
        "    style=SIDEBAR_STYLE,\n",
        ")\n",
        "\n",
        "content = html.Div(id=\"page-content\", children=[], style=CONTENT_STYLE)\n",
        "\n",
        "app.layout = html.Div([\n",
        "    dcc.Location(id=\"url\"),\n",
        "    sidebar,\n",
        "    content\n",
        "])\n",
        "\n",
        "app.css.append_css({\n",
        "'external_url': 'https://codepen.io/chriddyp/pen/bWLwgP.css 327'\n",
        "})\n",
        "\n",
        "# #Correlation Heatmap preprocessing\n",
        "# trace1 = {\n",
        "#   \"type\": \"heatmap\", \n",
        "#   \"x\": [\"Crypto_Index\", \"BTC\", \"ETH\", \"BCH\", \"XRP\", \"LTC\", \"DASH\", \"STR\", \"XMR\", \"SPY_Index\", \"GLD_Index\"], \n",
        "#   \"y\": [\"Crypto_Index\", \"BTC\", \"ETH\", \"BCH\", \"XRP\", \"LTC\", \"DASH\", \"STR\", \"XMR\", \"SPY_Index\", \"GLD_Index\"], \n",
        "#   \"z\": [[1.0, 0.5145204751077439, 0.7753800316056564, 0.5635869144912485, 0.6330246296885216, 0.6935626887855602, 0.6510327886719159, 0.7003086075174753, 0.7706130603016853, 0.025637721629079346, -0.14530462537107128], [0.5145204751077439, 1.0, 0.3570079203140865, 0.1349123946939163, 0.13596877646636055, 0.43254315980314817, 0.21592279382744603, 0.34446376110023436, 0.41269282695969395, -0.11147492698576485, -0.06397591150706235], [0.7753800316056564, 0.3570079203140865, 1.0, 0.39313113126450405, 0.39418171228484145, 0.6921202563460892, 0.4733678602459097, 0.4276770948976174, 0.5752540859824811, 0.15887859820253236, -0.006848573001143559], [0.5635869144912485, 0.1349123946939163, 0.39313113126450405, 1.0, 0.17735696275144744, 0.218841803416396, 0.4651294097591311, 0.0906452227128872, 0.41328473389123055, 0.04164180693219901, -0.07532903046693337], [0.6330246296885216, 0.13596877646636055, 0.39418171228484145, 0.17735696275144744, 1.0, 0.3357589484322298, 0.2137605375193814, 0.5384160124838642, 0.24219331731936153, -0.1240461055260104, 0.012886388288847027], [0.6935626887855602, 0.43254315980314817, 0.6921202563460892, 0.218841803416396, 0.3357589484322298, 1.0, 0.4194457824463705, 0.36372379913686037, 0.43257406820488925, 0.030350070692782144, -0.1708198709939884], [0.6510327886719159, 0.21592279382744603, 0.4733678602459097, 0.4651294097591311, 0.2137605375193814, 0.4194457824463705, 1.0, 0.21415082358644683, 0.616154604130923, 0.11006711870484644, -0.15948576589788033], [0.7003086075174753, 0.34446376110023436, 0.4276770948976174, 0.0906452227128872, 0.5384160124838642, 0.36372379913686037, 0.21415082358644683, 1.0, 0.5287972761050168, -0.07894581445902309, -0.11075945917591021], [0.7706130603016853, 0.41269282695969395, 0.5752540859824811, 0.41328473389123055, 0.24219331731936153, 0.43257406820488925, 0.616154604130923, 0.5287972761050168, 1.0, 0.19923653273289102, -0.15508575874900773], [0.025637721629079346, -0.11147492698576485, 0.15887859820253236, 0.04164180693219901, -0.1240461055260104, 0.030350070692782144, 0.11006711870484644, -0.07894581445902309, 0.19923653273289102, 1.0, -0.05968658737944457], [-0.14530462537107128, -0.06397591150706235, -0.006848573001143559, -0.07532903046693337, 0.012886388288847027, -0.1708198709939884, -0.15948576589788033, -0.11075945917591021, -0.15508575874900773, -0.05968658737944457, 1.]], \n",
        "#   \"colorbar\": {\n",
        "#     \"dtick\": 0.2, \n",
        "#     \"tick0\": -1, \n",
        "#     \"tickmode\": \"linear\"\n",
        "#   }, \n",
        "#   \"showscale\": True, \n",
        "#   \"colorscale\": \"YlGnBu\"\n",
        "# }\n",
        "# data = df_filtered([trace1])\n",
        "# layout = {\"title\": \"Correlation Heat Map\"}\n",
        "# fig = Figure(data=data, layout=layout)\n",
        "\n",
        "x_1 = df_filtered['budget']\n",
        "y_1 = df_filtered['revenue']\n",
        "x_1 = np.array(x_1)\n",
        "x_1 = x_1.reshape(-1,1)\n",
        "y_1 = np.array(y_1)\n",
        "X_train_1, X_test_1, y_train_1, y_test_1 = train_test_split(x_1, y_1, random_state=0)\n",
        "model1 = LinearRegression()\n",
        "model1.fit(X_train_1, y_train_1)\n",
        "\n",
        "x_2 = df_filtered['vote_count']\n",
        "y_2 = df_filtered['revenue']\n",
        "x_2 = np.array(x_2)\n",
        "x_2 = x_2.reshape(-1,1)\n",
        "y_2 = np.array(y_2)\n",
        "X_train_2, X_test_2, y_train_2, y_test_2 = train_test_split(x_2, y_2, random_state=0)\n",
        "model2 = LinearRegression()\n",
        "model2.fit(X_train_2, y_train_2)\n",
        "\n",
        "x_range_reg_1 = np.linspace(x_1.min(), x_1.max(), 100)\n",
        "y_range_reg_1 = model1.predict(x_range_reg_1.reshape(-1, 1))\n",
        "\n",
        "x_range_reg_2 = np.linspace(x_2.min(), x_2.max(), 100)\n",
        "y_range_reg_2 = model2.predict(x_range_reg_2.reshape(-1, 1))\n",
        "\n",
        "@app.callback(\n",
        "    Output(\"page-content\", \"children\"),\n",
        "    [Input(\"url\", \"pathname\")]\n",
        ")\n",
        "def render_page_content(pathname):\n",
        "    if pathname == \"/\":\n",
        "        return [\n",
        "                html.H1('Movies',\n",
        "                        style={'textAlign':'center','color' : 'white'}),\n",
        "                dcc.Dropdown(\n",
        "                    id = 'Dropdown_for_movies',\n",
        "                    options=[{'label': x, 'value': x} for x in title],\n",
        "                    placeholder = 'Select a Movie',\n",
        "                ),\n",
        "                html.Div(id='dd-output-container')\n",
        "#                 dcc.Graph(id='bargraph',\n",
        "#                          figure=px.bar(barmode='group', x=uniq_languages,\n",
        "#                          y = lang_count))\n",
        "                ]\n",
        "    elif pathname == \"/page-1\":\n",
        "        return [\n",
        "                html.H1('Statistics',style={'vertical-align': 'top','text-align' : 'left' ,'color' : 'white'}),\n",
        "                #Boxplots\n",
        "            dbc.Card(\n",
        "                dbc.CardBody([\n",
        "                    dbc.Row([\n",
        "                        dbc.Col([\n",
        "                            dbc.Card(\n",
        "                            dbc.CardBody([\n",
        "                                    html.Div([\n",
        "                                        html.H1('Budget Boxplot',\n",
        "                                                style={'textAlign':'center','color' : 'white'}),\n",
        "                                        dcc.Graph(id='boxplot',\n",
        "                                                 figure=px.box(df,y=budgetList).update_layout(\n",
        "                                                template='plotly_dark',\n",
        "                                                plot_bgcolor= 'rgba(0, 0, 0, 0)',\n",
        "                                                paper_bgcolor= 'rgba(0, 0, 0, 0)',)\n",
        "                                                ,config = {'displayModeBar' : False}\n",
        "                                            )\n",
        "                                    ])\n",
        "                                ])\n",
        "                            ),\n",
        "                ],width=6),\n",
        "                        dbc.Col([\n",
        "                            dbc.Card(\n",
        "                            dbc.CardBody([\n",
        "                                html.Div([\n",
        "                                html.H1('Revenue Boxplot',\n",
        "                                        style={'textAlign':'center','color' : 'white'}),\n",
        "                                dcc.Graph(id='boxplot',\n",
        "                                         figure=px.box(df,y=revenueList).update_layout(\n",
        "                                                template='plotly_dark',\n",
        "                                                plot_bgcolor= 'rgba(0, 0, 0, 0)',\n",
        "                                                paper_bgcolor= 'rgba(0, 0, 0, 0)',)\n",
        "                                                ,config = {'displayModeBar' : False}\n",
        "                                         )\n",
        "                                ])\n",
        "                            ])\n",
        "                        ),\n",
        "                        ],width = 6)\n",
        "                    ],align='center'),\n",
        "                   html.Br(),\n",
        "                    dbc.Row([\n",
        "                        dbc.Col([\n",
        "                            dbc.Card(\n",
        "                            dbc.CardBody([\n",
        "                            #Histograms\n",
        "                                html.Div([\n",
        "                                    html.H1('Histogram of Budget',\n",
        "                                            style={'textAlign':'center','color' : 'white'}),\n",
        "                                    dcc.Graph(id='histograms',\n",
        "                                             figure=px.histogram(budgetList, nbins=30,log_y=True,labels={'x':'Budget'}).update_layout(\n",
        "                                                template='plotly_dark',\n",
        "                                                plot_bgcolor= 'rgba(0, 0, 0, 0)',\n",
        "                                                paper_bgcolor= 'rgba(0, 0, 0, 0)',)\n",
        "                                                ,config = {'displayModeBar' : False}\n",
        "                                             )\n",
        "                                    ])\n",
        "                                ])\n",
        "                            ),\n",
        "                ],width=6),\n",
        "                        dbc.Col([\n",
        "                            dbc.Card(\n",
        "                            dbc.CardBody([\n",
        "                                html.Div([\n",
        "                                    html.H1('Histogram of Revenue',\n",
        "                                            style={'textAlign':'center','color' : 'white'}),\n",
        "                                    dcc.Graph(id='histograms',\n",
        "                                              figure=px.histogram(revenueList, nbins=30,log_y=True,labels={'x':'Revenue'}).update_layout(\n",
        "                                                template='plotly_dark',\n",
        "                                                plot_bgcolor= 'rgba(0, 0, 0, 0)',\n",
        "                                                paper_bgcolor= 'rgba(0, 0, 0, 0)',)\n",
        "                                                ,config = {'displayModeBar' : False}\n",
        "                                             )\n",
        "                                    ])\n",
        "                                ])\n",
        "                            ),\n",
        "                ],width=6),\n",
        "            ],align='center'),\n",
        "                    \n",
        "            html.Br(),\n",
        "                    dbc.Row([\n",
        "                        dbc.Col([\n",
        "                            dbc.Card(\n",
        "                            dbc.CardBody([\n",
        "                                html.Div([\n",
        "                                    html.H1('Hist of Popularity',\n",
        "                                            style={'textAlign':'center','color' : 'white'}),\n",
        "                                    dcc.Graph(id='histograms',\n",
        "                                             figure=px.histogram(df_filtered['popularity'], nbins=30,log_y=True,labels={'x':'Popularity'}).update_layout(\n",
        "                                                template='plotly_dark',\n",
        "                                                plot_bgcolor= 'rgba(0, 0, 0, 0)',\n",
        "                                                paper_bgcolor= 'rgba(0, 0, 0, 0)',)\n",
        "                                                ,config = {'displayModeBar' : False}\n",
        "                                             )\n",
        "                                    ])\n",
        "                                ])\n",
        "                            ),\n",
        "                ],width=6),\n",
        "\n",
        "                dbc.Col([\n",
        "                    dbc.Card(\n",
        "                    dbc.CardBody([\n",
        "                        html.Div([\n",
        "                            html.H1('Histogram of Runtime',\n",
        "                                    style={'textAlign':'center','color' : 'white'}),\n",
        "                            dcc.Graph(id='histograms',\n",
        "                                     figure=px.histogram(df_filtered['runtime'], nbins=30,log_y=True,labels={'x':'Runtime'}).update_layout(\n",
        "                                        template='plotly_dark',\n",
        "                                        plot_bgcolor= 'rgba(0, 0, 0, 0)',\n",
        "                                        paper_bgcolor= 'rgba(0, 0, 0, 0)',)\n",
        "                                        ,config = {'displayModeBar' : False}\n",
        "                                     )\n",
        "                            ])\n",
        "                        ])\n",
        "                    ),\n",
        "                ],width=6),\n",
        "            ],align='center'),\n",
        "                    \n",
        "            html.Br(),\n",
        "            dbc.Row([\n",
        "                dbc.Col([\n",
        "                    dbc.Card(\n",
        "                    dbc.CardBody([\n",
        "                        html.Div([\n",
        "                            html.H1('Histogram of Vote Average',\n",
        "                                    style={'textAlign':'center','color' : 'white'}),\n",
        "                            dcc.Graph(id='histograms',\n",
        "                                     figure=px.histogram(df_filtered['vote_average'], nbins=30,log_y=True,labels={'x':'Vote_avg'}).update_layout(\n",
        "                                                template='plotly_dark',\n",
        "                                                plot_bgcolor= 'rgba(0, 0, 0, 0)',\n",
        "                                                paper_bgcolor= 'rgba(0, 0, 0, 0)',)\n",
        "                                                ,config = {'displayModeBar' : False}\n",
        "                                             )\n",
        "                                    ])\n",
        "                                ])\n",
        "                            ),\n",
        "                ],width=6),\n",
        "            \n",
        "            dbc.Col([\n",
        "                    dbc.Card(\n",
        "                    dbc.CardBody([\n",
        "                html.Div([\n",
        "                    html.H1('Histogram of Release Years',\n",
        "                            style={'textAlign':'center','color' : 'white'}),\n",
        "                    dcc.Graph(id='histograms',\n",
        "                             figure=px.histogram(dates, nbins=30,log_y=True,labels={'x':'Release Years'}).update_layout(\n",
        "                                                template='plotly_dark',\n",
        "                                                plot_bgcolor= 'rgba(0, 0, 0, 0)',\n",
        "                                                paper_bgcolor= 'rgba(0, 0, 0, 0)',)\n",
        "                                                ,config = {'displayModeBar' : False}\n",
        "                                             )\n",
        "                                    ])\n",
        "                                ])\n",
        "                            ),\n",
        "                ],width=6),\n",
        "            ],align='center'),\n",
        "            #Scatter Plots\n",
        "            html.Br(),\n",
        "            dbc.Row([\n",
        "                dbc.Col([\n",
        "                    dbc.Card(\n",
        "                    dbc.CardBody([\n",
        "                        html.Div([\n",
        "                            html.H1('Scatterplot of Runtime vs Budget',\n",
        "                                    style={'textAlign':'center','color' : 'white'}),\n",
        "                            dcc.Graph(id='scatterplot',\n",
        "                                     figure=px.scatter(df_filtered, x=\"budget\", y=\"runtime\",color='vote_average').update_layout(\n",
        "                                                template='plotly_dark',\n",
        "                                                plot_bgcolor= 'rgba(0, 0, 0, 0)',\n",
        "                                                paper_bgcolor= 'rgba(0, 0, 0, 0)',)\n",
        "                                                ,config = {'displayModeBar' : False}\n",
        "                                             )\n",
        "                                    ])\n",
        "                                ])\n",
        "                            ),\n",
        "                ],width=6),\n",
        "                \n",
        "            dbc.Col([\n",
        "                    dbc.Card(\n",
        "                    dbc.CardBody([\n",
        "                        html.Div([\n",
        "                            html.H1('Scatterplot of Revenue vs Budget',\n",
        "                                    style={'textAlign':'center','color' : 'white'}),\n",
        "                            dcc.Graph(id='scatterplot',\n",
        "                                     figure=px.scatter(df_filtered, x=\"budget\", y=\"revenue\",color='vote_average').update_layout(\n",
        "                                                template='plotly_dark',\n",
        "                                                plot_bgcolor= 'rgba(0, 0, 0, 0)',\n",
        "                                                paper_bgcolor= 'rgba(0, 0, 0, 0)',)\n",
        "                                                ,config = {'displayModeBar' : False}\n",
        "                                             )\n",
        "                                    ])\n",
        "                                ])\n",
        "                            ),\n",
        "                ],width=6),\n",
        "            ],align='center'),\n",
        "                    \n",
        "            html.Br(),\n",
        "            dbc.Row([\n",
        "                dbc.Col([\n",
        "                    dbc.Card(\n",
        "                    dbc.CardBody([\n",
        "                        html.Div([\n",
        "                            html.H1('Scatterplot of Vote Count vs Budget',\n",
        "                                    style={'textAlign':'center','color' : 'white'}),\n",
        "                            dcc.Graph(id='scatterplot',\n",
        "                                     figure=px.scatter(df_filtered, x=\"budget\", y=\"vote_count\",color='vote_average').update_layout(\n",
        "                                                template='plotly_dark',\n",
        "                                                plot_bgcolor= 'rgba(0, 0, 0, 0)',\n",
        "                                                paper_bgcolor= 'rgba(0, 0, 0, 0)',)\n",
        "                                                ,config = {'displayModeBar' : False}\n",
        "                                             )\n",
        "                                    ])\n",
        "                                ])\n",
        "                            ),\n",
        "                ],width=6),\n",
        "                \n",
        "            dbc.Col([\n",
        "                    dbc.Card(\n",
        "                    dbc.CardBody([\n",
        "                        html.Div([\n",
        "                            html.H1('Scatterplot of Vote Count vs Popularity',\n",
        "                                    style={'textAlign':'center','color' : 'white'}),\n",
        "                            dcc.Graph(id='scatterplot',\n",
        "                                     figure=px.scatter(df_filtered, x=\"popularity\", y=\"vote_count\",color='vote_average').update_layout(\n",
        "                                                            template='plotly_dark',\n",
        "                                                            plot_bgcolor= 'rgba(0, 0, 0, 0)',\n",
        "                                                            paper_bgcolor= 'rgba(0, 0, 0, 0)',)\n",
        "                                                            ,config = {'displayModeBar' : False}\n",
        "                                                         )\n",
        "                                                ])\n",
        "                                            ])\n",
        "                                        ),\n",
        "                            ],width=6),\n",
        "                ],align='center'),\n",
        "            \n",
        "            html.Br(),\n",
        "            dbc.Row([\n",
        "                dbc.Col([\n",
        "                    dbc.Card(\n",
        "                    dbc.CardBody([\n",
        "                        html.Div([\n",
        "                            html.H1('Scatterplot of Revenue vs Vote Count',\n",
        "                                    style={'textAlign':'center','color' : 'white'}),\n",
        "                            dcc.Graph(id='scatterplot',\n",
        "                                     figure=px.scatter(df_filtered, x=\"vote_count\", y=\"revenue\",color='vote_average').update_layout(\n",
        "                                                            template='plotly_dark',\n",
        "                                                            plot_bgcolor= 'rgba(0, 0, 0, 0)',\n",
        "                                                            paper_bgcolor= 'rgba(0, 0, 0, 0)',)\n",
        "                                                            ,config = {'displayModeBar' : False}\n",
        "                                                         )\n",
        "                                                ])\n",
        "                                            ])\n",
        "                                        ),\n",
        "                            ],width=6),\n",
        "\n",
        "#             #Bar Charts\n",
        "                dbc.Col([\n",
        "                    dbc.Card(\n",
        "                    dbc.CardBody([\n",
        "                        html.Div([\n",
        "                            html.H1('No. of movies in each language(With English)',\n",
        "                                    style={'textAlign':'center','color' : 'white'}),\n",
        "                            dcc.Graph(id='barcharts',\n",
        "                                     figure=px.bar(df_filtered, x=uniq_languages, y=lang_count).update_layout(\n",
        "                                                            template='plotly_dark',\n",
        "                                                            plot_bgcolor= 'rgba(0, 0, 0, 0)',\n",
        "                                                            paper_bgcolor= 'rgba(0, 0, 0, 0)',)\n",
        "                                                            ,config = {'displayModeBar' : False}\n",
        "                                                         )\n",
        "                                                ])\n",
        "                                            ])\n",
        "                                        ),\n",
        "                            ],width=6),\n",
        "                ],align='center'),\n",
        "                \n",
        "            html.Br(),\n",
        "            dbc.Row([\n",
        "                dbc.Col([\n",
        "                    dbc.Card(\n",
        "                    dbc.CardBody([\n",
        "                        html.Div([\n",
        "                            html.H1('No. of movies in each language(Without English)',\n",
        "                                    style={'textAlign':'center','color' : 'white'}),\n",
        "                            dcc.Graph(id='barcharts',\n",
        "                                     figure=px.bar(df_filtered, x=uniq_lang_without, y=lang_count_without).update_layout(\n",
        "                                                            template='plotly_dark',\n",
        "                                                            plot_bgcolor= 'rgba(0, 0, 0, 0)',\n",
        "                                                            paper_bgcolor= 'rgba(0, 0, 0, 0)',)\n",
        "                                                            ,config = {'displayModeBar' : False}\n",
        "                                                         )\n",
        "                                                ])\n",
        "                                            ])\n",
        "                                        ),\n",
        "                            ],width=6),\n",
        "            \n",
        "#             # Pie Charts\n",
        "                dbc.Col([\n",
        "                    dbc.Card(\n",
        "                    dbc.CardBody([\n",
        "                        html.Div([\n",
        "                            html.H1('Genres Pie Chart',\n",
        "                                    style={'textAlign':'center','color' : 'white'}),\n",
        "                            dcc.Graph(id='piecharts',\n",
        "                                     figure=px.pie(df_filtered, values=genres_count, names=genres).update_layout(\n",
        "                                                            template='plotly_dark',\n",
        "                                                            plot_bgcolor= 'rgba(0, 0, 0, 0)',\n",
        "                                                            paper_bgcolor= 'rgba(0, 0, 0, 0)',)\n",
        "                                                            ,config = {'displayModeBar' : False}\n",
        "                                                         )\n",
        "                                                ])\n",
        "                                            ])\n",
        "                                        ),\n",
        "                            ],width=6),\n",
        "                ],align='center'),\n",
        "                    \n",
        "            html.Br(),\n",
        "            dbc.Row([\n",
        "                dbc.Col([\n",
        "                    dbc.Card(\n",
        "                    dbc.CardBody([\n",
        "                        html.Div([\n",
        "                            html.H1('Adult vs Non Adult movies Pie Chart',\n",
        "                                    style={'textAlign':'center','color' : 'white'}),\n",
        "                            dcc.Graph(id='piecharts',\n",
        "                                     figure=px.pie(df_filtered, values=adult_count, names=labels).update_layout(\n",
        "                                                                        template='plotly_dark',\n",
        "                                                                        plot_bgcolor= 'rgba(0, 0, 0, 0)',\n",
        "                                                                        paper_bgcolor= 'rgba(0, 0, 0, 0)',)\n",
        "                                                                        ,config = {'displayModeBar' : False}\n",
        "                                                                     )\n",
        "                                                            ])\n",
        "                                                        ])\n",
        "                                                    ),\n",
        "                                        ],width=6),\n",
        "            dbc.Col([\n",
        "                    dbc.Card(\n",
        "                    dbc.CardBody([\n",
        "                        html.Div([\n",
        "                            html.H1('Production Countries Pie Chart',\n",
        "                                    style={'textAlign':'center','color' : 'white'}),\n",
        "                            dcc.Graph(id='piecharts',\n",
        "                                     figure=px.pie(df_filtered, values=avg, names=pr_countryList).update_layout(\n",
        "                                                                                    template='plotly_dark',\n",
        "                                                                                    plot_bgcolor= 'rgba(0, 0, 0, 0)',\n",
        "                                                                                    paper_bgcolor= 'rgba(0, 0, 0, 0)',)\n",
        "                                                                                    ,config = {'displayModeBar' : False}\n",
        "                                                                                 )\n",
        "                                                                        ])\n",
        "                                                                    ])\n",
        "                                                                ),\n",
        "                                                    ],width=6),\n",
        "                    ],align='center'),\n",
        "#             #Correlation Heatmap\n",
        "# #             html.Div([\n",
        "# #                 html.H1('Correlation Heatmap',\n",
        "# #                         style={'textAlign':'center','color' : 'white'}),\n",
        "# #                 dcc.Graph(id='correlation_heatmap',\n",
        "# #                          figure=py.plot(fig)\n",
        "# #                          )\n",
        "# #                 ]),\n",
        "            \n",
        "#             #Regression Plots\n",
        "            html.Br(),\n",
        "            dbc.Row([\n",
        "                dbc.Col([\n",
        "                    dbc.Card(\n",
        "                    dbc.CardBody([\n",
        "                        html.Div([\n",
        "                            html.H1('Revenue vs Budget Regression Plot',\n",
        "                                    style={'textAlign':'center','color' : 'white'}),\n",
        "                            dcc.Graph(id='regressionplots',\n",
        "                                     figure=go.Figure([\n",
        "                                            go.Scatter(x=X_train_1.squeeze(), y=y_train_1, name='train', mode='markers'),\n",
        "                                            go.Scatter(x=X_test_1.squeeze(), y=y_test_1, name='test', mode='markers'),\n",
        "                                            go.Scatter(x=x_range_reg_1, y=y_range_reg_1, name='prediction')\n",
        "                                            ]).update_layout(template='plotly_dark',\n",
        "                                                            plot_bgcolor= 'rgba(0, 0, 0, 0)',\n",
        "                                                            paper_bgcolor= 'rgba(0, 0, 0, 0)',)\n",
        "                                                            ,config = {'displayModeBar' : False}\n",
        "                                                         )\n",
        "                                                ])\n",
        "                                            ])\n",
        "                                        ),\n",
        "                            ],width=6),\n",
        "              dbc.Col([\n",
        "                    dbc.Card(\n",
        "                    dbc.CardBody([  \n",
        "                    html.Div([\n",
        "                        html.H1('Revenue vs Vote Count Regression Plot',\n",
        "                                style={'textAlign':'center','color' : 'white'}),\n",
        "                        dcc.Graph(id='regressionplots',\n",
        "                                 figure=go.Figure([\n",
        "                                        go.Scatter(x=X_train_2.squeeze(), y=y_train_2, name='train', mode='markers'),\n",
        "                                        go.Scatter(x=X_test_2.squeeze(), y=y_test_2, name='test', mode='markers'),\n",
        "                                        go.Scatter(x=x_range_reg_2, y=y_range_reg_2, name='prediction')\n",
        "                                        ]).update_layout(\n",
        "                                                            template='plotly_dark',\n",
        "                                                            plot_bgcolor= 'rgba(0, 0, 0, 0)',\n",
        "                                                            paper_bgcolor= 'rgba(0, 0, 0, 0)',)\n",
        "                                                            ,config = {'displayModeBar' : False}\n",
        "                                                         )\n",
        "                                                ])\n",
        "                                            ])\n",
        "                                        ),\n",
        "                            ],width=6),\n",
        "                    ],align='center'),\n",
        "                ]),color = 'dark'\n",
        "            )\n",
        "                ]\n",
        "    # If the user tries to reach a different page, return a 404 message\n",
        "    return dbc.Jumbotron(\n",
        "        [\n",
        "            html.H1(\"404: Not found\", className=\"text-danger\"),\n",
        "            html.Hr(),\n",
        "            html.P(f\"The pathname {pathname} was not recognised...\"),\n",
        "        ]\n",
        "    )\n",
        "\n",
        "\n",
        "@app.callback(\n",
        "    Output('dd-output-container', 'children'),\n",
        "    Input('Dropdown_for_movies', 'value')\n",
        ")\n",
        "def update_output(value):\n",
        "    print(value)\n",
        "    print(find_element_in_list(value,title))\n",
        "#     if()\n",
        "    return [\n",
        "        html.Div([\n",
        "            html.Div([],style = {'background-image' : 'url(\"/rhIRbceoE9lR4veEXuwCC2wARtG.jpg\")',\n",
        "                      'background-repeat' : 'no-repeat',\n",
        "                       'height' : '500px',\n",
        "                       'width' : '500px',\n",
        "                        'z-index' : '-99'\n",
        "                      }),\n",
        "            html.Div([\n",
        "                html.H2('Vote Avg :- ',style={'color': 'white'}), \n",
        "                html.Label(vote_avg[find_element_in_list(value,title)],style={'color': 'white'}),\n",
        "                html.H2('Title :- ',style={'color': 'white'}), \n",
        "                html.Label(title[find_element_in_list(value,title)],style={'color': 'white'}),\n",
        "                html.H2('OverView :- ',style={'color': 'white'}), \n",
        "                html.Label(overview[find_element_in_list(value,title)],style={'color': 'white'})\n",
        "            ]),\n",
        "            \n",
        "        ],style = {'display' : 'flex','flex-direction' : 'row','justify-content' : 'center','align-item' : 'center'})            \n",
        "        ]\n"
      ],
      "id": "23ac1d38",
      "execution_count": 44,
      "outputs": []
    },
    {
      "cell_type": "code",
      "metadata": {
        "scrolled": false,
        "colab": {
          "base_uri": "https://localhost:8080/"
        },
        "id": "72c32d60",
        "outputId": "e776d63d-6dc6-4baa-a358-634967ea9f7b"
      },
      "source": [
        "if __name__ == '__main__':\n",
        "    app.run_server(host='localhost', debug=False, use_reloader=False)"
      ],
      "id": "72c32d60",
      "execution_count": 52,
      "outputs": [
        {
          "output_type": "stream",
          "name": "stdout",
          "text": [
            "Dash is running on http://localhost:8050/\n",
            "\n",
            " * Serving Flask app \"__main__\" (lazy loading)\n",
            " * Environment: production\n",
            "\u001b[31m   WARNING: This is a development server. Do not use it in a production deployment.\u001b[0m\n",
            "\u001b[2m   Use a production WSGI server instead.\u001b[0m\n",
            " * Debug mode: off\n"
          ]
        }
      ]
    },
    {
      "cell_type": "code",
      "metadata": {
        "id": "lxQR-lImQD1V"
      },
      "source": [
        ""
      ],
      "id": "lxQR-lImQD1V",
      "execution_count": null,
      "outputs": []
    }
  ]
}