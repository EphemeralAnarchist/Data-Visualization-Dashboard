{
 "cells": [
  {
   "cell_type": "markdown",
   "id": "a02f783d",
   "metadata": {
    "id": "a02f783d"
   },
   "source": [
    "### Importing the libraries"
   ]
  },
  {
   "cell_type": "code",
   "execution_count": 65,
   "id": "6dc538a6",
   "metadata": {
    "colab": {
     "base_uri": "https://localhost:8080/"
    },
    "id": "6dc538a6",
    "outputId": "35c93ec6-5b4b-43ef-f447-4d100134121b"
   },
   "outputs": [],
   "source": [
    "#For the dashboard\n",
    "import dash\n",
    "import dash_core_components as dcc\n",
    "import dash_bootstrap_components as dbc\n",
    "import dash_html_components as html\n",
    "import plotly.express as px\n",
    "import plotly.graph_objects as go\n",
    "from dash.dependencies import Input, Output\n",
    "\n",
    "\n",
    "#For data processing\n",
    "import matplotlib.pyplot as plt\n",
    "import numpy as np\n",
    "import pandas as pd\n",
    "import seaborn as sns\n",
    "import csv\n",
    "import json\n",
    "import ast\n",
    "from scipy.stats import pearsonr\n",
    "from sklearn.linear_model import LinearRegression\n",
    "from sklearn.model_selection import train_test_split\n",
    "from sklearn import metrics\n",
    "import random"
   ]
  },
  {
   "cell_type": "markdown",
   "id": "5eecd7e4",
   "metadata": {
    "id": "5eecd7e4"
   },
   "source": [
    "### Importing the movies dataset"
   ]
  },
  {
   "cell_type": "code",
   "execution_count": 66,
   "id": "3b589f9b",
   "metadata": {
    "colab": {
     "base_uri": "https://localhost:8080/",
     "height": 712
    },
    "id": "3b589f9b",
    "outputId": "2b225111-be67-4c86-8327-13b39c88370a"
   },
   "outputs": [
    {
     "name": "stderr",
     "output_type": "stream",
     "text": [
      "C:\\Users\\Jatin Dhall\\anaconda3\\lib\\site-packages\\IPython\\core\\interactiveshell.py:3165: DtypeWarning:\n",
      "\n",
      "Columns (10) have mixed types.Specify dtype option on import or set low_memory=False.\n",
      "\n"
     ]
    },
    {
     "data": {
      "text/html": [
       "<div>\n",
       "<style scoped>\n",
       "    .dataframe tbody tr th:only-of-type {\n",
       "        vertical-align: middle;\n",
       "    }\n",
       "\n",
       "    .dataframe tbody tr th {\n",
       "        vertical-align: top;\n",
       "    }\n",
       "\n",
       "    .dataframe thead th {\n",
       "        text-align: right;\n",
       "    }\n",
       "</style>\n",
       "<table border=\"1\" class=\"dataframe\">\n",
       "  <thead>\n",
       "    <tr style=\"text-align: right;\">\n",
       "      <th></th>\n",
       "      <th>adult</th>\n",
       "      <th>belongs_to_collection</th>\n",
       "      <th>budget</th>\n",
       "      <th>genres</th>\n",
       "      <th>homepage</th>\n",
       "      <th>id</th>\n",
       "      <th>imdb_id</th>\n",
       "      <th>original_language</th>\n",
       "      <th>original_title</th>\n",
       "      <th>overview</th>\n",
       "      <th>...</th>\n",
       "      <th>release_date</th>\n",
       "      <th>revenue</th>\n",
       "      <th>runtime</th>\n",
       "      <th>spoken_languages</th>\n",
       "      <th>status</th>\n",
       "      <th>tagline</th>\n",
       "      <th>title</th>\n",
       "      <th>video</th>\n",
       "      <th>vote_average</th>\n",
       "      <th>vote_count</th>\n",
       "    </tr>\n",
       "  </thead>\n",
       "  <tbody>\n",
       "    <tr>\n",
       "      <th>0</th>\n",
       "      <td>False</td>\n",
       "      <td>{'id': 10194, 'name': 'Toy Story Collection', ...</td>\n",
       "      <td>30000000</td>\n",
       "      <td>[{'id': 16, 'name': 'Animation'}, {'id': 35, '...</td>\n",
       "      <td>http://toystory.disney.com/toy-story</td>\n",
       "      <td>862</td>\n",
       "      <td>tt0114709</td>\n",
       "      <td>en</td>\n",
       "      <td>Toy Story</td>\n",
       "      <td>Led by Woody, Andy's toys live happily in his ...</td>\n",
       "      <td>...</td>\n",
       "      <td>1995-10-30</td>\n",
       "      <td>373554033.0</td>\n",
       "      <td>81.0</td>\n",
       "      <td>[{'iso_639_1': 'en', 'name': 'English'}]</td>\n",
       "      <td>Released</td>\n",
       "      <td>NaN</td>\n",
       "      <td>Toy Story</td>\n",
       "      <td>False</td>\n",
       "      <td>7.7</td>\n",
       "      <td>5415.0</td>\n",
       "    </tr>\n",
       "    <tr>\n",
       "      <th>1</th>\n",
       "      <td>False</td>\n",
       "      <td>NaN</td>\n",
       "      <td>65000000</td>\n",
       "      <td>[{'id': 12, 'name': 'Adventure'}, {'id': 14, '...</td>\n",
       "      <td>NaN</td>\n",
       "      <td>8844</td>\n",
       "      <td>tt0113497</td>\n",
       "      <td>en</td>\n",
       "      <td>Jumanji</td>\n",
       "      <td>When siblings Judy and Peter discover an encha...</td>\n",
       "      <td>...</td>\n",
       "      <td>1995-12-15</td>\n",
       "      <td>262797249.0</td>\n",
       "      <td>104.0</td>\n",
       "      <td>[{'iso_639_1': 'en', 'name': 'English'}, {'iso...</td>\n",
       "      <td>Released</td>\n",
       "      <td>Roll the dice and unleash the excitement!</td>\n",
       "      <td>Jumanji</td>\n",
       "      <td>False</td>\n",
       "      <td>6.9</td>\n",
       "      <td>2413.0</td>\n",
       "    </tr>\n",
       "    <tr>\n",
       "      <th>2</th>\n",
       "      <td>False</td>\n",
       "      <td>{'id': 119050, 'name': 'Grumpy Old Men Collect...</td>\n",
       "      <td>0</td>\n",
       "      <td>[{'id': 10749, 'name': 'Romance'}, {'id': 35, ...</td>\n",
       "      <td>NaN</td>\n",
       "      <td>15602</td>\n",
       "      <td>tt0113228</td>\n",
       "      <td>en</td>\n",
       "      <td>Grumpier Old Men</td>\n",
       "      <td>A family wedding reignites the ancient feud be...</td>\n",
       "      <td>...</td>\n",
       "      <td>1995-12-22</td>\n",
       "      <td>0.0</td>\n",
       "      <td>101.0</td>\n",
       "      <td>[{'iso_639_1': 'en', 'name': 'English'}]</td>\n",
       "      <td>Released</td>\n",
       "      <td>Still Yelling. Still Fighting. Still Ready for...</td>\n",
       "      <td>Grumpier Old Men</td>\n",
       "      <td>False</td>\n",
       "      <td>6.5</td>\n",
       "      <td>92.0</td>\n",
       "    </tr>\n",
       "    <tr>\n",
       "      <th>3</th>\n",
       "      <td>False</td>\n",
       "      <td>NaN</td>\n",
       "      <td>16000000</td>\n",
       "      <td>[{'id': 35, 'name': 'Comedy'}, {'id': 18, 'nam...</td>\n",
       "      <td>NaN</td>\n",
       "      <td>31357</td>\n",
       "      <td>tt0114885</td>\n",
       "      <td>en</td>\n",
       "      <td>Waiting to Exhale</td>\n",
       "      <td>Cheated on, mistreated and stepped on, the wom...</td>\n",
       "      <td>...</td>\n",
       "      <td>1995-12-22</td>\n",
       "      <td>81452156.0</td>\n",
       "      <td>127.0</td>\n",
       "      <td>[{'iso_639_1': 'en', 'name': 'English'}]</td>\n",
       "      <td>Released</td>\n",
       "      <td>Friends are the people who let you be yourself...</td>\n",
       "      <td>Waiting to Exhale</td>\n",
       "      <td>False</td>\n",
       "      <td>6.1</td>\n",
       "      <td>34.0</td>\n",
       "    </tr>\n",
       "    <tr>\n",
       "      <th>4</th>\n",
       "      <td>False</td>\n",
       "      <td>{'id': 96871, 'name': 'Father of the Bride Col...</td>\n",
       "      <td>0</td>\n",
       "      <td>[{'id': 35, 'name': 'Comedy'}]</td>\n",
       "      <td>NaN</td>\n",
       "      <td>11862</td>\n",
       "      <td>tt0113041</td>\n",
       "      <td>en</td>\n",
       "      <td>Father of the Bride Part II</td>\n",
       "      <td>Just when George Banks has recovered from his ...</td>\n",
       "      <td>...</td>\n",
       "      <td>1995-02-10</td>\n",
       "      <td>76578911.0</td>\n",
       "      <td>106.0</td>\n",
       "      <td>[{'iso_639_1': 'en', 'name': 'English'}]</td>\n",
       "      <td>Released</td>\n",
       "      <td>Just When His World Is Back To Normal... He's ...</td>\n",
       "      <td>Father of the Bride Part II</td>\n",
       "      <td>False</td>\n",
       "      <td>5.7</td>\n",
       "      <td>173.0</td>\n",
       "    </tr>\n",
       "  </tbody>\n",
       "</table>\n",
       "<p>5 rows × 24 columns</p>\n",
       "</div>"
      ],
      "text/plain": [
       "   adult                              belongs_to_collection    budget  \\\n",
       "0  False  {'id': 10194, 'name': 'Toy Story Collection', ...  30000000   \n",
       "1  False                                                NaN  65000000   \n",
       "2  False  {'id': 119050, 'name': 'Grumpy Old Men Collect...         0   \n",
       "3  False                                                NaN  16000000   \n",
       "4  False  {'id': 96871, 'name': 'Father of the Bride Col...         0   \n",
       "\n",
       "                                              genres  \\\n",
       "0  [{'id': 16, 'name': 'Animation'}, {'id': 35, '...   \n",
       "1  [{'id': 12, 'name': 'Adventure'}, {'id': 14, '...   \n",
       "2  [{'id': 10749, 'name': 'Romance'}, {'id': 35, ...   \n",
       "3  [{'id': 35, 'name': 'Comedy'}, {'id': 18, 'nam...   \n",
       "4                     [{'id': 35, 'name': 'Comedy'}]   \n",
       "\n",
       "                               homepage     id    imdb_id original_language  \\\n",
       "0  http://toystory.disney.com/toy-story    862  tt0114709                en   \n",
       "1                                   NaN   8844  tt0113497                en   \n",
       "2                                   NaN  15602  tt0113228                en   \n",
       "3                                   NaN  31357  tt0114885                en   \n",
       "4                                   NaN  11862  tt0113041                en   \n",
       "\n",
       "                original_title  \\\n",
       "0                    Toy Story   \n",
       "1                      Jumanji   \n",
       "2             Grumpier Old Men   \n",
       "3            Waiting to Exhale   \n",
       "4  Father of the Bride Part II   \n",
       "\n",
       "                                            overview  ... release_date  \\\n",
       "0  Led by Woody, Andy's toys live happily in his ...  ...   1995-10-30   \n",
       "1  When siblings Judy and Peter discover an encha...  ...   1995-12-15   \n",
       "2  A family wedding reignites the ancient feud be...  ...   1995-12-22   \n",
       "3  Cheated on, mistreated and stepped on, the wom...  ...   1995-12-22   \n",
       "4  Just when George Banks has recovered from his ...  ...   1995-02-10   \n",
       "\n",
       "       revenue runtime                                   spoken_languages  \\\n",
       "0  373554033.0    81.0           [{'iso_639_1': 'en', 'name': 'English'}]   \n",
       "1  262797249.0   104.0  [{'iso_639_1': 'en', 'name': 'English'}, {'iso...   \n",
       "2          0.0   101.0           [{'iso_639_1': 'en', 'name': 'English'}]   \n",
       "3   81452156.0   127.0           [{'iso_639_1': 'en', 'name': 'English'}]   \n",
       "4   76578911.0   106.0           [{'iso_639_1': 'en', 'name': 'English'}]   \n",
       "\n",
       "     status                                            tagline  \\\n",
       "0  Released                                                NaN   \n",
       "1  Released          Roll the dice and unleash the excitement!   \n",
       "2  Released  Still Yelling. Still Fighting. Still Ready for...   \n",
       "3  Released  Friends are the people who let you be yourself...   \n",
       "4  Released  Just When His World Is Back To Normal... He's ...   \n",
       "\n",
       "                         title  video vote_average vote_count  \n",
       "0                    Toy Story  False          7.7     5415.0  \n",
       "1                      Jumanji  False          6.9     2413.0  \n",
       "2             Grumpier Old Men  False          6.5       92.0  \n",
       "3            Waiting to Exhale  False          6.1       34.0  \n",
       "4  Father of the Bride Part II  False          5.7      173.0  \n",
       "\n",
       "[5 rows x 24 columns]"
      ]
     },
     "execution_count": 66,
     "metadata": {},
     "output_type": "execute_result"
    }
   ],
   "source": [
    "movies_df = pd.read_csv(\"C:\\\\Users\\\\Jatin Dhall\\\\Desktop\\\\Desktop File\\\\VIT\\\\VIT\\\\SEM 3\\\\DATA VIZ\\\\Project\\\\Movie Dataset\\\\movies_metadata.csv\")\n",
    "movies_df.head()"
   ]
  },
  {
   "cell_type": "markdown",
   "id": "2ebeac7e",
   "metadata": {
    "id": "2ebeac7e"
   },
   "source": [
    "### Importing the ratings dataset"
   ]
  },
  {
   "cell_type": "code",
   "execution_count": 67,
   "id": "f1d04023",
   "metadata": {
    "id": "f1d04023"
   },
   "outputs": [],
   "source": [
    "# ratings_df = pd.read_csv(\"C:\\\\Users\\\\Jatin Dhall\\\\Desktop\\\\Desktop File\\\\VIT\\\\VIT\\\\SEM 3\\\\DATA VIZ\\\\Project\\\\Movie Dataset\\\\ratings.csv\")\n",
    "# ratings_df.head()"
   ]
  },
  {
   "cell_type": "markdown",
   "id": "757a34b1",
   "metadata": {
    "id": "757a34b1"
   },
   "source": [
    "### Importing the links dataset"
   ]
  },
  {
   "cell_type": "code",
   "execution_count": 68,
   "id": "a83bffbb",
   "metadata": {
    "id": "a83bffbb"
   },
   "outputs": [],
   "source": [
    "# links_df = pd.read_csv(\"C:\\\\Users\\\\Jatin Dhall\\\\Desktop\\\\Desktop File\\\\VIT\\\\VIT\\\\SEM 3\\\\DATA VIZ\\\\Project\\\\Movie Dataset\\\\links.csv\")\n",
    "# links_df.head()"
   ]
  },
  {
   "cell_type": "markdown",
   "id": "6cf944a8",
   "metadata": {
    "id": "6cf944a8"
   },
   "source": [
    "### Importing the credits dataset"
   ]
  },
  {
   "cell_type": "code",
   "execution_count": 69,
   "id": "3f46d573",
   "metadata": {
    "id": "3f46d573",
    "scrolled": true
   },
   "outputs": [],
   "source": [
    "# credits_df = pd.read_csv(\"C:\\\\Users\\\\Jatin Dhall\\\\Desktop\\\\Desktop File\\\\VIT\\\\VIT\\\\SEM 3\\\\DATA VIZ\\\\Project\\\\Movie Dataset\\\\credits.csv\")\n",
    "# credits_df.head()"
   ]
  },
  {
   "cell_type": "markdown",
   "id": "8fe67337",
   "metadata": {
    "id": "8fe67337"
   },
   "source": [
    "### Importing the keywords dataset"
   ]
  },
  {
   "cell_type": "code",
   "execution_count": 70,
   "id": "3abc5359",
   "metadata": {
    "id": "3abc5359"
   },
   "outputs": [],
   "source": [
    "# keywords_df = pd.read_csv(\"C:\\\\Users\\\\Jatin Dhall\\\\Desktop\\\\Desktop File\\\\VIT\\\\VIT\\\\SEM 3\\\\DATA VIZ\\\\Project\\\\Movie Dataset\\\\keywords.csv\")\n",
    "# keywords_df.head()"
   ]
  },
  {
   "cell_type": "markdown",
   "id": "8747f5dd",
   "metadata": {
    "id": "8747f5dd"
   },
   "source": [
    "### Handling missing values"
   ]
  },
  {
   "cell_type": "code",
   "execution_count": 71,
   "id": "75f37bdf",
   "metadata": {
    "colab": {
     "base_uri": "https://localhost:8080/"
    },
    "id": "75f37bdf",
    "outputId": "750ca0f9-5afc-45e5-95eb-aac24e82d31e"
   },
   "outputs": [
    {
     "data": {
      "text/plain": [
       "adult                        0\n",
       "belongs_to_collection    40972\n",
       "budget                       0\n",
       "genres                       0\n",
       "homepage                 37684\n",
       "id                           0\n",
       "imdb_id                     17\n",
       "original_language           11\n",
       "original_title               0\n",
       "overview                   954\n",
       "popularity                   5\n",
       "poster_path                386\n",
       "production_companies         3\n",
       "production_countries         3\n",
       "release_date                87\n",
       "revenue                      6\n",
       "runtime                    263\n",
       "spoken_languages             6\n",
       "status                      87\n",
       "tagline                  25054\n",
       "title                        6\n",
       "video                        6\n",
       "vote_average                 6\n",
       "vote_count                   6\n",
       "dtype: int64"
      ]
     },
     "execution_count": 71,
     "metadata": {},
     "output_type": "execute_result"
    }
   ],
   "source": [
    "movies_df.isnull().sum()"
   ]
  },
  {
   "cell_type": "code",
   "execution_count": 72,
   "id": "27f34233",
   "metadata": {
    "id": "27f34233"
   },
   "outputs": [],
   "source": [
    "movies_df = movies_df.drop(columns = [\"belongs_to_collection\",\"homepage\",\"tagline\"],axis = 1)"
   ]
  },
  {
   "cell_type": "code",
   "execution_count": 73,
   "id": "514967ab",
   "metadata": {
    "id": "514967ab"
   },
   "outputs": [],
   "source": [
    "movies_df = movies_df.dropna(axis = 0, how ='any')"
   ]
  },
  {
   "cell_type": "code",
   "execution_count": 74,
   "id": "15dd13e7",
   "metadata": {
    "colab": {
     "base_uri": "https://localhost:8080/"
    },
    "id": "15dd13e7",
    "outputId": "e9ef51d6-128d-4fac-b67f-4fd74e4515cb"
   },
   "outputs": [
    {
     "data": {
      "text/plain": [
       "adult                   0\n",
       "budget                  0\n",
       "genres                  0\n",
       "id                      0\n",
       "imdb_id                 0\n",
       "original_language       0\n",
       "original_title          0\n",
       "overview                0\n",
       "popularity              0\n",
       "poster_path             0\n",
       "production_companies    0\n",
       "production_countries    0\n",
       "release_date            0\n",
       "revenue                 0\n",
       "runtime                 0\n",
       "spoken_languages        0\n",
       "status                  0\n",
       "title                   0\n",
       "video                   0\n",
       "vote_average            0\n",
       "vote_count              0\n",
       "dtype: int64"
      ]
     },
     "execution_count": 74,
     "metadata": {},
     "output_type": "execute_result"
    }
   ],
   "source": [
    "movies_df.isnull().sum()"
   ]
  },
  {
   "cell_type": "markdown",
   "id": "2d74ab0f",
   "metadata": {
    "id": "2d74ab0f"
   },
   "source": [
    "### Removing the rows containing either budget or revenue as 0"
   ]
  },
  {
   "cell_type": "code",
   "execution_count": 75,
   "id": "a3c4f2f7",
   "metadata": {
    "colab": {
     "base_uri": "https://localhost:8080/",
     "height": 642
    },
    "id": "a3c4f2f7",
    "outputId": "821750c7-fa71-40f0-9964-eb00ace71316",
    "scrolled": false
   },
   "outputs": [
    {
     "name": "stderr",
     "output_type": "stream",
     "text": [
      "<ipython-input-75-ec90a61dd1d6>:3: UserWarning:\n",
      "\n",
      "Boolean Series key will be reindexed to match DataFrame index.\n",
      "\n"
     ]
    },
    {
     "data": {
      "text/html": [
       "<div>\n",
       "<style scoped>\n",
       "    .dataframe tbody tr th:only-of-type {\n",
       "        vertical-align: middle;\n",
       "    }\n",
       "\n",
       "    .dataframe tbody tr th {\n",
       "        vertical-align: top;\n",
       "    }\n",
       "\n",
       "    .dataframe thead th {\n",
       "        text-align: right;\n",
       "    }\n",
       "</style>\n",
       "<table border=\"1\" class=\"dataframe\">\n",
       "  <thead>\n",
       "    <tr style=\"text-align: right;\">\n",
       "      <th></th>\n",
       "      <th>adult</th>\n",
       "      <th>budget</th>\n",
       "      <th>genres</th>\n",
       "      <th>id</th>\n",
       "      <th>imdb_id</th>\n",
       "      <th>original_language</th>\n",
       "      <th>original_title</th>\n",
       "      <th>overview</th>\n",
       "      <th>popularity</th>\n",
       "      <th>poster_path</th>\n",
       "      <th>...</th>\n",
       "      <th>production_countries</th>\n",
       "      <th>release_date</th>\n",
       "      <th>revenue</th>\n",
       "      <th>runtime</th>\n",
       "      <th>spoken_languages</th>\n",
       "      <th>status</th>\n",
       "      <th>title</th>\n",
       "      <th>video</th>\n",
       "      <th>vote_average</th>\n",
       "      <th>vote_count</th>\n",
       "    </tr>\n",
       "  </thead>\n",
       "  <tbody>\n",
       "    <tr>\n",
       "      <th>0</th>\n",
       "      <td>False</td>\n",
       "      <td>30000000</td>\n",
       "      <td>[{'id': 16, 'name': 'Animation'}, {'id': 35, '...</td>\n",
       "      <td>862</td>\n",
       "      <td>tt0114709</td>\n",
       "      <td>en</td>\n",
       "      <td>Toy Story</td>\n",
       "      <td>Led by Woody, Andy's toys live happily in his ...</td>\n",
       "      <td>21.946943</td>\n",
       "      <td>/rhIRbceoE9lR4veEXuwCC2wARtG.jpg</td>\n",
       "      <td>...</td>\n",
       "      <td>[{'iso_3166_1': 'US', 'name': 'United States o...</td>\n",
       "      <td>1995-10-30</td>\n",
       "      <td>373554033.0</td>\n",
       "      <td>81.0</td>\n",
       "      <td>[{'iso_639_1': 'en', 'name': 'English'}]</td>\n",
       "      <td>Released</td>\n",
       "      <td>Toy Story</td>\n",
       "      <td>False</td>\n",
       "      <td>7.7</td>\n",
       "      <td>5415.0</td>\n",
       "    </tr>\n",
       "    <tr>\n",
       "      <th>1</th>\n",
       "      <td>False</td>\n",
       "      <td>65000000</td>\n",
       "      <td>[{'id': 12, 'name': 'Adventure'}, {'id': 14, '...</td>\n",
       "      <td>8844</td>\n",
       "      <td>tt0113497</td>\n",
       "      <td>en</td>\n",
       "      <td>Jumanji</td>\n",
       "      <td>When siblings Judy and Peter discover an encha...</td>\n",
       "      <td>17.015539</td>\n",
       "      <td>/vzmL6fP7aPKNKPRTFnZmiUfciyV.jpg</td>\n",
       "      <td>...</td>\n",
       "      <td>[{'iso_3166_1': 'US', 'name': 'United States o...</td>\n",
       "      <td>1995-12-15</td>\n",
       "      <td>262797249.0</td>\n",
       "      <td>104.0</td>\n",
       "      <td>[{'iso_639_1': 'en', 'name': 'English'}, {'iso...</td>\n",
       "      <td>Released</td>\n",
       "      <td>Jumanji</td>\n",
       "      <td>False</td>\n",
       "      <td>6.9</td>\n",
       "      <td>2413.0</td>\n",
       "    </tr>\n",
       "    <tr>\n",
       "      <th>3</th>\n",
       "      <td>False</td>\n",
       "      <td>16000000</td>\n",
       "      <td>[{'id': 35, 'name': 'Comedy'}, {'id': 18, 'nam...</td>\n",
       "      <td>31357</td>\n",
       "      <td>tt0114885</td>\n",
       "      <td>en</td>\n",
       "      <td>Waiting to Exhale</td>\n",
       "      <td>Cheated on, mistreated and stepped on, the wom...</td>\n",
       "      <td>3.859495</td>\n",
       "      <td>/16XOMpEaLWkrcPqSQqhTmeJuqQl.jpg</td>\n",
       "      <td>...</td>\n",
       "      <td>[{'iso_3166_1': 'US', 'name': 'United States o...</td>\n",
       "      <td>1995-12-22</td>\n",
       "      <td>81452156.0</td>\n",
       "      <td>127.0</td>\n",
       "      <td>[{'iso_639_1': 'en', 'name': 'English'}]</td>\n",
       "      <td>Released</td>\n",
       "      <td>Waiting to Exhale</td>\n",
       "      <td>False</td>\n",
       "      <td>6.1</td>\n",
       "      <td>34.0</td>\n",
       "    </tr>\n",
       "    <tr>\n",
       "      <th>5</th>\n",
       "      <td>False</td>\n",
       "      <td>60000000</td>\n",
       "      <td>[{'id': 28, 'name': 'Action'}, {'id': 80, 'nam...</td>\n",
       "      <td>949</td>\n",
       "      <td>tt0113277</td>\n",
       "      <td>en</td>\n",
       "      <td>Heat</td>\n",
       "      <td>Obsessive master thief, Neil McCauley leads a ...</td>\n",
       "      <td>17.924927</td>\n",
       "      <td>/zMyfPUelumio3tiDKPffaUpsQTD.jpg</td>\n",
       "      <td>...</td>\n",
       "      <td>[{'iso_3166_1': 'US', 'name': 'United States o...</td>\n",
       "      <td>1995-12-15</td>\n",
       "      <td>187436818.0</td>\n",
       "      <td>170.0</td>\n",
       "      <td>[{'iso_639_1': 'en', 'name': 'English'}, {'iso...</td>\n",
       "      <td>Released</td>\n",
       "      <td>Heat</td>\n",
       "      <td>False</td>\n",
       "      <td>7.7</td>\n",
       "      <td>1886.0</td>\n",
       "    </tr>\n",
       "    <tr>\n",
       "      <th>8</th>\n",
       "      <td>False</td>\n",
       "      <td>35000000</td>\n",
       "      <td>[{'id': 28, 'name': 'Action'}, {'id': 12, 'nam...</td>\n",
       "      <td>9091</td>\n",
       "      <td>tt0114576</td>\n",
       "      <td>en</td>\n",
       "      <td>Sudden Death</td>\n",
       "      <td>International action superstar Jean Claude Van...</td>\n",
       "      <td>5.23158</td>\n",
       "      <td>/eoWvKD60lT95Ss1MYNgVExpo5iU.jpg</td>\n",
       "      <td>...</td>\n",
       "      <td>[{'iso_3166_1': 'US', 'name': 'United States o...</td>\n",
       "      <td>1995-12-22</td>\n",
       "      <td>64350171.0</td>\n",
       "      <td>106.0</td>\n",
       "      <td>[{'iso_639_1': 'en', 'name': 'English'}]</td>\n",
       "      <td>Released</td>\n",
       "      <td>Sudden Death</td>\n",
       "      <td>False</td>\n",
       "      <td>5.5</td>\n",
       "      <td>174.0</td>\n",
       "    </tr>\n",
       "  </tbody>\n",
       "</table>\n",
       "<p>5 rows × 21 columns</p>\n",
       "</div>"
      ],
      "text/plain": [
       "   adult    budget                                             genres     id  \\\n",
       "0  False  30000000  [{'id': 16, 'name': 'Animation'}, {'id': 35, '...    862   \n",
       "1  False  65000000  [{'id': 12, 'name': 'Adventure'}, {'id': 14, '...   8844   \n",
       "3  False  16000000  [{'id': 35, 'name': 'Comedy'}, {'id': 18, 'nam...  31357   \n",
       "5  False  60000000  [{'id': 28, 'name': 'Action'}, {'id': 80, 'nam...    949   \n",
       "8  False  35000000  [{'id': 28, 'name': 'Action'}, {'id': 12, 'nam...   9091   \n",
       "\n",
       "     imdb_id original_language     original_title  \\\n",
       "0  tt0114709                en          Toy Story   \n",
       "1  tt0113497                en            Jumanji   \n",
       "3  tt0114885                en  Waiting to Exhale   \n",
       "5  tt0113277                en               Heat   \n",
       "8  tt0114576                en       Sudden Death   \n",
       "\n",
       "                                            overview popularity  \\\n",
       "0  Led by Woody, Andy's toys live happily in his ...  21.946943   \n",
       "1  When siblings Judy and Peter discover an encha...  17.015539   \n",
       "3  Cheated on, mistreated and stepped on, the wom...   3.859495   \n",
       "5  Obsessive master thief, Neil McCauley leads a ...  17.924927   \n",
       "8  International action superstar Jean Claude Van...    5.23158   \n",
       "\n",
       "                        poster_path  ...  \\\n",
       "0  /rhIRbceoE9lR4veEXuwCC2wARtG.jpg  ...   \n",
       "1  /vzmL6fP7aPKNKPRTFnZmiUfciyV.jpg  ...   \n",
       "3  /16XOMpEaLWkrcPqSQqhTmeJuqQl.jpg  ...   \n",
       "5  /zMyfPUelumio3tiDKPffaUpsQTD.jpg  ...   \n",
       "8  /eoWvKD60lT95Ss1MYNgVExpo5iU.jpg  ...   \n",
       "\n",
       "                                production_countries release_date  \\\n",
       "0  [{'iso_3166_1': 'US', 'name': 'United States o...   1995-10-30   \n",
       "1  [{'iso_3166_1': 'US', 'name': 'United States o...   1995-12-15   \n",
       "3  [{'iso_3166_1': 'US', 'name': 'United States o...   1995-12-22   \n",
       "5  [{'iso_3166_1': 'US', 'name': 'United States o...   1995-12-15   \n",
       "8  [{'iso_3166_1': 'US', 'name': 'United States o...   1995-12-22   \n",
       "\n",
       "       revenue  runtime                                   spoken_languages  \\\n",
       "0  373554033.0     81.0           [{'iso_639_1': 'en', 'name': 'English'}]   \n",
       "1  262797249.0    104.0  [{'iso_639_1': 'en', 'name': 'English'}, {'iso...   \n",
       "3   81452156.0    127.0           [{'iso_639_1': 'en', 'name': 'English'}]   \n",
       "5  187436818.0    170.0  [{'iso_639_1': 'en', 'name': 'English'}, {'iso...   \n",
       "8   64350171.0    106.0           [{'iso_639_1': 'en', 'name': 'English'}]   \n",
       "\n",
       "     status              title  video vote_average  vote_count  \n",
       "0  Released          Toy Story  False          7.7      5415.0  \n",
       "1  Released            Jumanji  False          6.9      2413.0  \n",
       "3  Released  Waiting to Exhale  False          6.1        34.0  \n",
       "5  Released               Heat  False          7.7      1886.0  \n",
       "8  Released       Sudden Death  False          5.5       174.0  \n",
       "\n",
       "[5 rows x 21 columns]"
      ]
     },
     "execution_count": 75,
     "metadata": {},
     "output_type": "execute_result"
    }
   ],
   "source": [
    "#Filtering out all the rows where budget or revenue is 0\n",
    "df_filtered = movies_df[(movies_df['budget'] != \"0\")]\n",
    "df_filtered = df_filtered[(movies_df['revenue'] != 0.0)]\n",
    "df_filtered.head()"
   ]
  },
  {
   "cell_type": "code",
   "execution_count": 76,
   "id": "ad06ffde",
   "metadata": {},
   "outputs": [
    {
     "name": "stdout",
     "output_type": "stream",
     "text": [
      "{'en': 'English', 'fr': 'Français', 'es': 'Español', 'ru': 'Pусский', 'la': 'Latin', 'nl': 'Nederlands', 'cn': '广州话 / 廣州話', 'hu': 'Magyar', 'da': 'Dansk', 'de': 'Deutsch', 'gd': '', 'ro': 'Română', 'it': 'Italiano', 'ja': '日本語', 'kw': '', 'nv': '', 'ko': '한국어/조선말', 'zh': '普通话', 'no': 'Norsk', 'sv': 'svenska', 'ar': 'العربية', 'cs': 'Český', 'mi': '', 'pl': 'Polski', 'he': 'עִבְרִית', 'ms': 'Bahasa melayu', 'th': 'ภาษาไทย', 'pt': 'Português', 'sw': 'Kiswahili', 'yi': '', 'vi': 'Tiếng Việt', 'ne': '', 'tr': 'Türkçe', 'km': '', 'fi': 'suomi', 'eo': 'Esperanto', 'el': 'ελληνικά', 'hi': 'हिन्दी', 'bg': 'български език', 'bo': '', 'sq': 'shqip', 'fa': 'فارسی', 'ty': '', 'cy': 'Cymraeg', 'af': 'Afrikaans', 'xx': 'No Language', 'si': '', 'gn': '', 'hr': 'Hrvatski', 'eu': 'euskera', 'mt': 'Malti', 'ur': 'اردو', 'ca': 'Català', 'sk': 'Slovenčina', 'sh': '', 'so': 'Somali', 'tl': '', 'uk': 'Український', 'iu': '', 'is': 'Íslenska', 'zu': 'isiZulu', 'ga': 'Gaeilge', 'pa': 'ਪੰਜਾਬੀ', 'to': '', 'ce': '', 'sr': 'Srpski', 'hy': '', 'ml': '', 'ta': 'தமிழ்', 'gl': 'Galego', 'bn': 'বাংলা', 'xh': '', 'kk': 'қазақ', 'ln': '', 'ps': 'پښتو', 'my': '', 'bm': 'Bamanankan', 'mn': '', 'sa': '', 'et': 'Eesti', 'te': 'తెలుగు', 'ny': '', 'st': '', 'gu': '', 'mr': '', 'bs': 'Bosanski', 'id': 'Bahasa indonesia', 'ka': 'ქართული', 'br': '', 'jv': '', 'kn': '?????'}\n"
     ]
    }
   ],
   "source": [
    "sp = list(df_filtered['spoken_languages'])\n",
    "sp_dict = {}\n",
    "for i in sp:\n",
    "    i = ast.literal_eval(i)\n",
    "    for j in i:\n",
    "        sp_dict[j['iso_639_1']] = j['name']\n",
    "#print(sp)\n",
    "print(sp_dict)"
   ]
  },
  {
   "cell_type": "code",
   "execution_count": 77,
   "id": "242f805a",
   "metadata": {
    "id": "242f805a"
   },
   "outputs": [],
   "source": [
    "# print(df_filtered.dtypes)"
   ]
  },
  {
   "cell_type": "markdown",
   "id": "310ad282",
   "metadata": {
    "id": "310ad282"
   },
   "source": [
    "### Converting the datatype of columns budget and popularity"
   ]
  },
  {
   "cell_type": "code",
   "execution_count": 78,
   "id": "051a0a64",
   "metadata": {
    "id": "051a0a64"
   },
   "outputs": [],
   "source": [
    "df_filtered['budget'] = pd.to_numeric(df_filtered['budget'])\n",
    "df_filtered['popularity'] = pd.to_numeric(df_filtered['popularity'])"
   ]
  },
  {
   "cell_type": "code",
   "execution_count": 79,
   "id": "081cccc9",
   "metadata": {
    "id": "081cccc9"
   },
   "outputs": [],
   "source": [
    "# print(df_filtered.dtypes)"
   ]
  },
  {
   "cell_type": "code",
   "execution_count": 80,
   "id": "aa69f6b8",
   "metadata": {
    "id": "aa69f6b8"
   },
   "outputs": [],
   "source": [
    "# ratings_df.isnull().sum()"
   ]
  },
  {
   "cell_type": "code",
   "execution_count": 81,
   "id": "b176414b",
   "metadata": {
    "id": "b176414b"
   },
   "outputs": [],
   "source": [
    "# links_df.isnull().sum()"
   ]
  },
  {
   "cell_type": "code",
   "execution_count": 82,
   "id": "44c0e288",
   "metadata": {
    "id": "44c0e288"
   },
   "outputs": [],
   "source": [
    "# links_df = links_df.dropna(axis = 0,how = \"any\")"
   ]
  },
  {
   "cell_type": "code",
   "execution_count": 83,
   "id": "403d444d",
   "metadata": {
    "id": "403d444d"
   },
   "outputs": [],
   "source": [
    "# links_df.isnull().sum()"
   ]
  },
  {
   "cell_type": "code",
   "execution_count": 84,
   "id": "1d24819b",
   "metadata": {
    "id": "1d24819b"
   },
   "outputs": [],
   "source": [
    "# keywords_df.isnull().sum()"
   ]
  },
  {
   "cell_type": "code",
   "execution_count": 85,
   "id": "4c44868e",
   "metadata": {
    "id": "4c44868e"
   },
   "outputs": [],
   "source": [
    "# credits_df.isnull().sum()"
   ]
  },
  {
   "cell_type": "code",
   "execution_count": 86,
   "id": "2b7670b8",
   "metadata": {
    "id": "2b7670b8"
   },
   "outputs": [],
   "source": [
    "budgetList = list(pd.to_numeric(df_filtered[\"budget\"]))\n",
    "revenueList = list(pd.to_numeric(df_filtered[\"revenue\"]))"
   ]
  },
  {
   "cell_type": "markdown",
   "id": "50dcc2ec",
   "metadata": {
    "id": "50dcc2ec"
   },
   "source": [
    "### Getting the genre list"
   ]
  },
  {
   "cell_type": "code",
   "execution_count": 87,
   "id": "faf4cb2b",
   "metadata": {
    "colab": {
     "base_uri": "https://localhost:8080/"
    },
    "id": "faf4cb2b",
    "outputId": "50a8094a-877e-45db-a91c-94258f441fe6"
   },
   "outputs": [
    {
     "name": "stdout",
     "output_type": "stream",
     "text": [
      "['Family', 'Drama', 'Horror', 'Comedy', 'Documentary', 'Crime', 'Music', 'TV Movie', 'Mystery', 'Thriller', 'Foreign', 'Action', 'History', 'Western', 'Romance', 'Adventure', 'Animation', 'Science Fiction', 'War', 'Fantasy']\n"
     ]
    }
   ],
   "source": [
    "#Code to get a list of all the genres\n",
    "genreListEncoded = df_filtered[\"genres\"]\n",
    "genreListEncoded = list(genreListEncoded)\n",
    "genreList = []\n",
    "for i in genreListEncoded:\n",
    "    i = ast.literal_eval(i)\n",
    "    for j in i:\n",
    "        genreList.append(j['name'])\n",
    "\n",
    "genreset = set(genreList)\n",
    "# convert the set to the list\n",
    "genres = (list(genreset))\n",
    "print(genres)"
   ]
  },
  {
   "cell_type": "markdown",
   "id": "2300dd6e",
   "metadata": {
    "id": "2300dd6e"
   },
   "source": [
    "### Box plots of Budget List and Revenue List"
   ]
  },
  {
   "cell_type": "code",
   "execution_count": 88,
   "id": "addcf5de",
   "metadata": {
    "id": "addcf5de"
   },
   "outputs": [],
   "source": [
    "# sns.boxplot(x = budgetList)"
   ]
  },
  {
   "cell_type": "code",
   "execution_count": 89,
   "id": "9f5fd920",
   "metadata": {
    "id": "9f5fd920",
    "scrolled": true
   },
   "outputs": [],
   "source": [
    "# sns.boxplot(x = revenueList)"
   ]
  },
  {
   "cell_type": "markdown",
   "id": "90799256",
   "metadata": {
    "id": "90799256"
   },
   "source": [
    "### Histograms"
   ]
  },
  {
   "cell_type": "code",
   "execution_count": 90,
   "id": "1f859f7f",
   "metadata": {
    "id": "1f859f7f",
    "scrolled": true
   },
   "outputs": [],
   "source": [
    "# #Histograms\n",
    "# df_filtered[['budget'] + ['popularity'] + ['revenue'] + ['runtime'] + ['vote_average']].hist(figsize=(20,15), log=True);"
   ]
  },
  {
   "cell_type": "code",
   "execution_count": 91,
   "id": "d99fe8a3",
   "metadata": {
    "colab": {
     "base_uri": "https://localhost:8080/"
    },
    "id": "d99fe8a3",
    "outputId": "4a456f84-3906-46d9-eecb-1cb2ac3a06f0"
   },
   "outputs": [
    {
     "name": "stdout",
     "output_type": "stream",
     "text": [
      "2017\n",
      "   adult    budget                                             genres     id  \\\n",
      "0  False  30000000  [{'id': 16, 'name': 'Animation'}, {'id': 35, '...    862   \n",
      "1  False  65000000  [{'id': 12, 'name': 'Adventure'}, {'id': 14, '...   8844   \n",
      "3  False  16000000  [{'id': 35, 'name': 'Comedy'}, {'id': 18, 'nam...  31357   \n",
      "5  False  60000000  [{'id': 28, 'name': 'Action'}, {'id': 80, 'nam...    949   \n",
      "8  False  35000000  [{'id': 28, 'name': 'Action'}, {'id': 12, 'nam...   9091   \n",
      "\n",
      "     imdb_id original_language     original_title  \\\n",
      "0  tt0114709                en          Toy Story   \n",
      "1  tt0113497                en            Jumanji   \n",
      "3  tt0114885                en  Waiting to Exhale   \n",
      "5  tt0113277                en               Heat   \n",
      "8  tt0114576                en       Sudden Death   \n",
      "\n",
      "                                            overview  popularity  \\\n",
      "0  Led by Woody, Andy's toys live happily in his ...   21.946943   \n",
      "1  When siblings Judy and Peter discover an encha...   17.015539   \n",
      "3  Cheated on, mistreated and stepped on, the wom...    3.859495   \n",
      "5  Obsessive master thief, Neil McCauley leads a ...   17.924927   \n",
      "8  International action superstar Jean Claude Van...    5.231580   \n",
      "\n",
      "                        poster_path  ... release_date      revenue runtime  \\\n",
      "0  /rhIRbceoE9lR4veEXuwCC2wARtG.jpg  ...   1995-10-30  373554033.0    81.0   \n",
      "1  /vzmL6fP7aPKNKPRTFnZmiUfciyV.jpg  ...   1995-12-15  262797249.0   104.0   \n",
      "3  /16XOMpEaLWkrcPqSQqhTmeJuqQl.jpg  ...   1995-12-22   81452156.0   127.0   \n",
      "5  /zMyfPUelumio3tiDKPffaUpsQTD.jpg  ...   1995-12-15  187436818.0   170.0   \n",
      "8  /eoWvKD60lT95Ss1MYNgVExpo5iU.jpg  ...   1995-12-22   64350171.0   106.0   \n",
      "\n",
      "                                    spoken_languages    status  \\\n",
      "0           [{'iso_639_1': 'en', 'name': 'English'}]  Released   \n",
      "1  [{'iso_639_1': 'en', 'name': 'English'}, {'iso...  Released   \n",
      "3           [{'iso_639_1': 'en', 'name': 'English'}]  Released   \n",
      "5  [{'iso_639_1': 'en', 'name': 'English'}, {'iso...  Released   \n",
      "8           [{'iso_639_1': 'en', 'name': 'English'}]  Released   \n",
      "\n",
      "               title  video vote_average vote_count  Release_Years  \n",
      "0          Toy Story  False          7.7     5415.0           1995  \n",
      "1            Jumanji  False          6.9     2413.0           1995  \n",
      "3  Waiting to Exhale  False          6.1       34.0           1995  \n",
      "5               Heat  False          7.7     1886.0           1995  \n",
      "8       Sudden Death  False          5.5      174.0           1995  \n",
      "\n",
      "[5 rows x 22 columns]\n"
     ]
    }
   ],
   "source": [
    "# Code to get a list of all the release dates\n",
    "release_dates = df_filtered[\"release_date\"]\n",
    "dates = []\n",
    "for i in release_dates:\n",
    "    dates.append(int(i[0:4]))\n",
    "    \n",
    "df_filtered[\"Release_Years\"] = dates    \n",
    "print(max(dates))\n",
    "print(df_filtered.head())"
   ]
  },
  {
   "cell_type": "code",
   "execution_count": 92,
   "id": "02c21b7a",
   "metadata": {
    "id": "02c21b7a"
   },
   "outputs": [],
   "source": [
    "# #Histogram for release years\n",
    "# # Increase the width\n",
    "# plt.figure(figsize=(15,4))\n",
    "# plt.hist(dates, bins=30, alpha=0.5)\n",
    "# plt.title('Release dates Histogram')\n",
    "# plt.xlabel('Release Dates')\n",
    "\n",
    "# plt.show()"
   ]
  },
  {
   "cell_type": "markdown",
   "id": "ebd24f3c",
   "metadata": {
    "id": "ebd24f3c"
   },
   "source": [
    "### Correlations of the columns"
   ]
  },
  {
   "cell_type": "code",
   "execution_count": 93,
   "id": "0239171e",
   "metadata": {
    "id": "0239171e"
   },
   "outputs": [],
   "source": [
    "# #Displaying the correlation between all the numeric rows\n",
    "# cor = df_filtered.corr()\n",
    "# print(cor)"
   ]
  },
  {
   "cell_type": "markdown",
   "id": "4c9420d7",
   "metadata": {
    "id": "4c9420d7"
   },
   "source": [
    "#### Correlation Heatmap"
   ]
  },
  {
   "cell_type": "code",
   "execution_count": 94,
   "id": "f58302ac",
   "metadata": {
    "id": "f58302ac",
    "scrolled": false
   },
   "outputs": [],
   "source": [
    "# #Constructing a heat map to understand the correlation between the columns\n",
    "# plt.figure(figsize = (10,10))\n",
    "# sns.heatmap(cor, cbar = True , square = True,fmt = '.1f', annot = True, annot_kws = {'size' : 8},  cmap = 'Blues')"
   ]
  },
  {
   "cell_type": "code",
   "execution_count": 95,
   "id": "56e57be0",
   "metadata": {
    "id": "56e57be0"
   },
   "outputs": [],
   "source": [
    "#Counting correlation of 0.5 and above as high correlation between columns\n",
    "#Columns with high correlation\n",
    "#buget and revenue - 0.7\n",
    "#budget and vote_count - 0.6\n",
    "#popularity and vote_count - 0.5\n",
    "#revenue and vote_count - 0.8"
   ]
  },
  {
   "cell_type": "markdown",
   "id": "25c030ef",
   "metadata": {
    "id": "25c030ef"
   },
   "source": [
    "### Scatterplots"
   ]
  },
  {
   "cell_type": "markdown",
   "id": "072d048a",
   "metadata": {
    "id": "072d048a"
   },
   "source": [
    "#### Runtime vs Budget"
   ]
  },
  {
   "cell_type": "code",
   "execution_count": 96,
   "id": "b1205235",
   "metadata": {
    "id": "b1205235"
   },
   "outputs": [],
   "source": [
    "# runtime_data = list(df_filtered[\"runtime\"])\n",
    "# vote_avg = df_filtered['vote_average']\n",
    "# # Increase the width\n",
    "# plt.figure(figsize=(15,4))\n",
    "# sns.scatterplot(x = budgetList,y = runtime_data,hue = vote_avg)\n",
    "# plt.xlabel('Budget')\n",
    "# plt.ylabel('Runtime')\n",
    "# plt.title('Runtime vs Budget')\n",
    "# plt.show()"
   ]
  },
  {
   "cell_type": "markdown",
   "id": "9b946f9f",
   "metadata": {
    "id": "9b946f9f"
   },
   "source": [
    "#### Revenue vs Budget"
   ]
  },
  {
   "cell_type": "code",
   "execution_count": 97,
   "id": "fd0d9c74",
   "metadata": {
    "id": "fd0d9c74"
   },
   "outputs": [],
   "source": [
    "# #Using hue as ratings or genres with respect to vote avg\n",
    "# # Increase the width\n",
    "# plt.figure(figsize=(15,4))\n",
    "# sns.scatterplot(x = budgetList,y = revenueList,hue = vote_avg)\n",
    "# plt.xlabel('Budget')\n",
    "# plt.ylabel('Revenue')\n",
    "# plt.title('Revenue vs Budget')\n",
    "# plt.show()"
   ]
  },
  {
   "cell_type": "markdown",
   "id": "aba35953",
   "metadata": {
    "id": "aba35953"
   },
   "source": [
    "#### Budget vs Vote Count"
   ]
  },
  {
   "cell_type": "code",
   "execution_count": 98,
   "id": "3e6a3015",
   "metadata": {
    "id": "3e6a3015"
   },
   "outputs": [],
   "source": [
    "# #Using hue as vote avg\n",
    "# # Increase the width\n",
    "# plt.figure(figsize=(15,4))\n",
    "# sns.scatterplot(x = budgetList,y = list(df_filtered[\"vote_count\"]),hue = vote_avg)\n",
    "# plt.xlabel('Budget')\n",
    "# plt.ylabel('Vote Count')\n",
    "# plt.title('Vote Count vs Budget')\n",
    "# plt.show()"
   ]
  },
  {
   "cell_type": "markdown",
   "id": "4d81fe21",
   "metadata": {
    "id": "4d81fe21"
   },
   "source": [
    "#### Popularity and Vote Count"
   ]
  },
  {
   "cell_type": "code",
   "execution_count": 99,
   "id": "2b86ce2c",
   "metadata": {
    "id": "2b86ce2c"
   },
   "outputs": [],
   "source": [
    "# #Using hue as vote avg\n",
    "# # Increase the width\n",
    "# plt.figure(figsize=(15,4))\n",
    "# sns.scatterplot(x = list(df_filtered['popularity']),y = df_filtered['vote_count'],hue = vote_avg)\n",
    "# plt.xlabel('Popularity')\n",
    "# plt.ylabel('Vote Count')\n",
    "# plt.title('Vote Count vs Popularity')\n",
    "# plt.show()"
   ]
  },
  {
   "cell_type": "markdown",
   "id": "bfc3c4cf",
   "metadata": {
    "id": "bfc3c4cf"
   },
   "source": [
    "#### Revenue and Vote Count"
   ]
  },
  {
   "cell_type": "code",
   "execution_count": 100,
   "id": "e397fcd0",
   "metadata": {
    "id": "e397fcd0"
   },
   "outputs": [],
   "source": [
    "# #Using hue as vote avg\n",
    "# # Increase the width\n",
    "# plt.figure(figsize=(15,4))\n",
    "# sns.scatterplot(x = list(df_filtered['vote_count']),y = revenueList,hue = vote_avg)\n",
    "# plt.xlabel('Vote Count')\n",
    "# plt.ylabel('Revenue')\n",
    "# plt.title('Revenue vs Vote Count')\n",
    "# plt.show()"
   ]
  },
  {
   "cell_type": "markdown",
   "id": "1d350152",
   "metadata": {
    "id": "1d350152"
   },
   "source": [
    "### Regression Plots of features with correlation higher than 0.7"
   ]
  },
  {
   "cell_type": "markdown",
   "id": "0facbb0b",
   "metadata": {
    "id": "0facbb0b"
   },
   "source": [
    "#### Budget vs Revenue"
   ]
  },
  {
   "cell_type": "code",
   "execution_count": 101,
   "id": "18b05d46",
   "metadata": {
    "id": "18b05d46"
   },
   "outputs": [],
   "source": [
    "# # Increase the width\n",
    "# plt.figure(figsize=(15,4))\n",
    "# #Display regression plot using seaborn\n",
    "# sns.regplot(x = budgetList,y = revenueList,line_kws={'color':'red'})\n",
    "# plt.xlabel('Budget')\n",
    "# plt.ylabel('Revenue')\n",
    "# plt.title('Revenue vs Budget')\n",
    "# plt.show()"
   ]
  },
  {
   "cell_type": "markdown",
   "id": "02dbbf2f",
   "metadata": {
    "id": "02dbbf2f"
   },
   "source": [
    "#### Revenue vs Vote Count"
   ]
  },
  {
   "cell_type": "code",
   "execution_count": 102,
   "id": "eaec362f",
   "metadata": {
    "id": "eaec362f"
   },
   "outputs": [],
   "source": [
    "# # Increase the width\n",
    "# plt.figure(figsize=(15,4))\n",
    "# #Display regression plot using seaborn\n",
    "# sns.regplot(x = list(df_filtered['vote_count']),y = revenueList,line_kws={'color':'red'})\n",
    "# plt.xlabel('Vote Count')\n",
    "# plt.ylabel('Revenue')\n",
    "# plt.title('Revenue vs Vote Count')\n",
    "# plt.show()"
   ]
  },
  {
   "cell_type": "markdown",
   "id": "b9565726",
   "metadata": {
    "id": "b9565726"
   },
   "source": [
    "### Linear Regression Models on features with correlation higher than 0.7"
   ]
  },
  {
   "cell_type": "markdown",
   "id": "9a1b84bf",
   "metadata": {
    "id": "9a1b84bf"
   },
   "source": [
    "#### Revenue vs Budget"
   ]
  },
  {
   "cell_type": "code",
   "execution_count": 103,
   "id": "f58a82c9",
   "metadata": {
    "id": "f58a82c9"
   },
   "outputs": [],
   "source": [
    "# #Lower the rmse value, better the Regression Model(scaled to the range of data)\n",
    "\n",
    "# import math\n",
    "# model = LinearRegression()\n",
    "# #Normalizing the data for it to be in a range between 0 and 1\n",
    "# x = [(m -min(budgetList))/(max(budgetList) - min(budgetList)) for m in budgetList]\n",
    "# y = [(m -min(revenueList))/(max(revenueList) - min(revenueList)) for m in revenueList]\n",
    "# x = np.array(x)\n",
    "# x = x.reshape(-1,1)\n",
    "# y = np.array(y)\n",
    "# x_train,x_test,y_train,y_test = train_test_split(x,y,test_size = 0.2,random_state = 2)\n",
    "# model.fit(x_train,y_train)\n",
    "# pred = model.predict(x_test)\n",
    "\n",
    "# mse = metrics.mean_squared_error(pred, y_test)\n",
    "\n",
    "# rmse1 = math.sqrt(mse)\n",
    "\n",
    "# print(rmse)\n",
    "\n",
    "# print(\"Budget is in the range : \",min(x),max(x))\n",
    "# print(\"Revenue is in the range : \",min(y),max(y))"
   ]
  },
  {
   "cell_type": "markdown",
   "id": "153f20d5",
   "metadata": {
    "id": "153f20d5"
   },
   "source": [
    "#### Revenue vs Vote Count"
   ]
  },
  {
   "cell_type": "code",
   "execution_count": 104,
   "id": "41fca02e",
   "metadata": {
    "id": "41fca02e"
   },
   "outputs": [],
   "source": [
    "# #Lower the rmse value, better the Regression Model(scaled to the range of data)\n",
    "\n",
    "# import math\n",
    "# model = LinearRegression()\n",
    "# vote_count = list(df_filtered[\"vote_count\"])\n",
    "# #Normalizing the data for it to be in a range between 0 and 1\n",
    "# x = [(m -min(vote_count))/(max(vote_count) - min(vote_count)) for m in vote_count]\n",
    "# y = [(m -min(revenueList))/(max(revenueList) - min(revenueList)) for m in revenueList]\n",
    "# x = np.array(x)\n",
    "# x = x.reshape(-1,1)\n",
    "# y = np.array(y)\n",
    "# x_train,x_test,y_train,y_test = train_test_split(x,y,test_size = 0.2,random_state = 2)\n",
    "# model.fit(x_train,y_train)\n",
    "# pred = model.predict(x_test)\n",
    "\n",
    "# mse = metrics.mean_squared_error(pred, y_test)\n",
    "\n",
    "# rmse = math.sqrt(mse)\n",
    "\n",
    "# print(rmse)\n",
    "\n",
    "# print(\"Vote Count is in the range : \",min(x),max(x))\n",
    "# print(\"Revenue is in the range : \",min(y),max(y))"
   ]
  },
  {
   "cell_type": "markdown",
   "id": "efe1f769",
   "metadata": {
    "id": "efe1f769"
   },
   "source": [
    "### Pie Charts"
   ]
  },
  {
   "cell_type": "code",
   "execution_count": 105,
   "id": "ccfe575e",
   "metadata": {
    "id": "ccfe575e"
   },
   "outputs": [],
   "source": [
    "# df_filtered.head()"
   ]
  },
  {
   "cell_type": "markdown",
   "id": "2509f726",
   "metadata": {
    "id": "2509f726"
   },
   "source": [
    "#### Genres Pie Chart"
   ]
  },
  {
   "cell_type": "code",
   "execution_count": 106,
   "id": "3298f4b1",
   "metadata": {
    "id": "3298f4b1"
   },
   "outputs": [],
   "source": [
    "genres_count = []\n",
    "number_of_colors = len(genres)\n",
    "\n",
    "color = [\"#\"+''.join([random.choice('0123456789ABCDEF') for j in range(6)])\n",
    "             for i in range(number_of_colors)]\n",
    "\n",
    "for i in genres:\n",
    "    count = genreList.count(i)\n",
    "    genres_count.append(count)\n",
    "\n",
    "# # Increase the width\n",
    "# plt.figure(figsize=(20,6))\n",
    "# plt.pie(genres_count,colors = color)\n",
    "# plt.title(\"Genres Pie Chart\")\n",
    "# # use parameter bbox_to_anchor to reposition\n",
    "# # the legend box outside the plot area\n",
    "# plt.gca().legend(labels = genres,loc='center left', bbox_to_anchor=(2, 0.5))\n",
    "# plt.show()"
   ]
  },
  {
   "cell_type": "markdown",
   "id": "807a5fbe",
   "metadata": {
    "id": "807a5fbe"
   },
   "source": [
    "#### Adult vs Non Adult Pie Chart"
   ]
  },
  {
   "cell_type": "code",
   "execution_count": 107,
   "id": "77cafbe5",
   "metadata": {
    "id": "77cafbe5"
   },
   "outputs": [],
   "source": [
    "adult_data = list(movies_df['adult'])\n",
    "count = adult_data.count(\"True\")\n",
    "count1 = adult_data.count(\"False\")\n",
    "\n",
    "adult_count = [count,count1]\n",
    "\n",
    "\n",
    "# color = ['r','b']\n",
    "\n",
    "labels = [\"Adult\",\"Not Adult\"]\n",
    "# # Increase the width\n",
    "# plt.figure(figsize=(20,6))\n",
    "# plt.title(\"Adult vs Non Adult movies Pie Chart\")\n",
    "# plt.pie(adult_count,colors = color, labels = labels)\n",
    "# plt.legend(labels,loc=1)\n",
    "# plt.show()"
   ]
  },
  {
   "cell_type": "markdown",
   "id": "4de6dff8",
   "metadata": {
    "id": "4de6dff8"
   },
   "source": [
    "#### Pie chart of production countries"
   ]
  },
  {
   "cell_type": "code",
   "execution_count": 108,
   "id": "e8ff3535",
   "metadata": {
    "colab": {
     "base_uri": "https://localhost:8080/"
    },
    "id": "e8ff3535",
    "outputId": "b9b8bb64-93e8-4537-8f2f-8989584ea332"
   },
   "outputs": [
    {
     "name": "stdout",
     "output_type": "stream",
     "text": [
      "<class 'list'>\n",
      "['Czech Republic', 'China', 'Burkina Faso', 'New Zealand', 'India', 'Cambodia', 'South Korea', 'Venezuela', 'Malaysia', 'Switzerland', 'Norway', 'Israel', 'Ireland', 'Tunisia', 'Russia', 'Croatia', 'Philippines', 'Slovenia', 'Angola', 'Botswana', 'Paraguay', 'Liechtenstein', 'Thailand', 'Denmark', 'Brazil', 'Bahamas', 'Bulgaria', 'Uruguay', 'Canada', 'Puerto Rico', 'Mexico', 'France', 'Belgium', 'Hungary', 'Chile', 'Mali', 'United States of America', 'Japan', 'Greece', 'Lithuania', 'Ukraine', 'Singapore', 'Australia', 'United Kingdom', 'Malta', 'Algeria', 'Kazakhstan', 'Austria', 'Finland', 'Pakistan', 'Qatar', 'South Africa', 'Ecuador', 'Hong Kong', 'Portugal', 'Turkey', 'Taiwan', 'Sweden', 'Costa Rica', 'United Arab Emirates', 'Monaco', 'Serbia and Montenegro', 'Iran', 'Argentina', 'Namibia', 'Luxembourg', 'Germany', 'Colombia', 'Ghana', 'Iceland', 'Indonesia', 'Cyprus', 'Romania', 'Serbia', 'Netherlands', 'Peru', 'Italy', 'Morocco', 'Poland', 'Spain']\n",
      "80\n",
      "[181, 234, 369, 4384, 666, 318, 1162]\n",
      "['India', 'Canada', 'France', 'United States of America', 'United Kingdom', 'Germany', 'Others']\n"
     ]
    }
   ],
   "source": [
    "# Pie chart of production countries(Most movies from which countries)\n",
    "pr_countries = list(df_filtered[\"production_countries\"])\n",
    "pr_countriesL = []\n",
    "print(type(pr_countries))\n",
    "# print(pr_countries)\n",
    "for i in pr_countries:\n",
    "    i = ast.literal_eval(i)\n",
    "    for j in i:\n",
    "        pr_countriesL.append(j['name'])\n",
    "        \n",
    "# print(pr_countriesL)\n",
    "pr_countrySet = set(pr_countriesL)\n",
    "pr_countryList = list(pr_countrySet)\n",
    "print(pr_countryList)\n",
    "\n",
    "no_of_countries = len(pr_countryList)\n",
    "print(no_of_countries)\n",
    "\n",
    "avg = []\n",
    "otherscount = 0\n",
    "pr_final_countryList = []\n",
    "for i in pr_countryList:\n",
    "    count = pr_countriesL.count(i)\n",
    "    if count<180:\n",
    "        otherscount += count\n",
    "    else:\n",
    "        pr_final_countryList.append(i)\n",
    "        avg.append(count)\n",
    "\n",
    "\n",
    "pr_final_countryList.append(\"Others\")\n",
    "avg.append(otherscount)    \n",
    "print(avg)\n",
    "print(pr_final_countryList)\n",
    "\n",
    "# number_of_colors = len(genres)\n",
    "\n",
    "# color = [\"#\"+''.join([random.choice('0123456789ABCDEF') for j in range(6)])\n",
    "#              for i in range(number_of_colors)]\n",
    "# # Increase the width\n",
    "# plt.figure(figsize=(20,6))\n",
    "# plt.pie(avg,colors = color)\n",
    "# plt.title(\"Production Countries Pie Chart\")\n",
    "# # use parameter bbox_to_anchor to reposition\n",
    "# # the legend box outside the plot area\n",
    "# plt.gca().legend(labels = pr_countryList,loc='center left', bbox_to_anchor=(2, 0.5))\n",
    "# plt.show()"
   ]
  },
  {
   "cell_type": "markdown",
   "id": "63c9b920",
   "metadata": {
    "id": "63c9b920"
   },
   "source": [
    "### Bar charts"
   ]
  },
  {
   "cell_type": "markdown",
   "id": "c7370bd5",
   "metadata": {
    "id": "c7370bd5"
   },
   "source": [
    "#### Showing the frequency of the languages"
   ]
  },
  {
   "cell_type": "code",
   "execution_count": 109,
   "id": "976506e4",
   "metadata": {
    "colab": {
     "base_uri": "https://localhost:8080/"
    },
    "id": "976506e4",
    "outputId": "cc26a849-8def-4109-a01e-c5c793aff29a"
   },
   "outputs": [
    {
     "name": "stdout",
     "output_type": "stream",
     "text": [
      "['is', 'ro', 'no', 'el', 'id', 'th', 'de', 'pt', 'en', 'cn', 'bm', 'xx', 'hi', 'fi', 'vi', 'fa', 'mr', 'ur', 'sv', 'ml', 'ta', 'ko', 'sr', 'it', 'pl', 'he', 'da', 'te', 'es', 'af', 'ru', 'tr', 'hu', 'ja', 'nb', 'nl', 'ca', 'zh', 'kn', 'fr']\n",
      "\n",
      "['Íslenska', 'Română', 'Norsk', 'ελληνικά', 'Bahasa indonesia', 'ภาษาไทย', 'Deutsch', 'Português', 'English', '广州话 / 廣州話', 'Bamanankan', 'No Language', 'हिन्दी', 'suomi', 'Tiếng Việt', 'فارسی', '', 'اردو', 'svenska', '', 'தமிழ்', '한국어/조선말', 'Srpski', 'Italiano', 'Polski', 'עִבְרִית', 'Dansk', 'తెలుగు', 'Español', 'Afrikaans', 'Pусский', 'Türkçe', 'Magyar', '日本語', 'Nederlands', 'Català', '普通话', '?????', 'Français']\n"
     ]
    }
   ],
   "source": [
    "languages = list(df_filtered[\"original_language\"])\n",
    "uniq_languages = list(set(languages))\n",
    "lang_count = []\n",
    "print(uniq_languages)\n",
    "uniq_languages_names = []\n",
    "for i in uniq_languages:\n",
    "    try:\n",
    "        uniq_languages_names.append(sp_dict[i])\n",
    "        count = languages.count(i)\n",
    "        lang_count.append(count)\n",
    "    except:\n",
    "        print()\n",
    "\n",
    "print(uniq_languages_names)"
   ]
  },
  {
   "cell_type": "markdown",
   "id": "a05755e4",
   "metadata": {
    "id": "a05755e4"
   },
   "source": [
    "##### With English"
   ]
  },
  {
   "cell_type": "code",
   "execution_count": 110,
   "id": "ed90e3d0",
   "metadata": {
    "id": "ed90e3d0"
   },
   "outputs": [],
   "source": [
    "# #BAR PLOT WITH EN\n",
    "# # Increase the width\n",
    "# plt.figure(figsize=(15,4))\n",
    "# # Horizontal Bar Plot\n",
    "# plt.bar(uniq_languages, lang_count)\n",
    "\n",
    "# plt.xticks(rotation=90)\n",
    "\n",
    "# plt.xlabel('Languages')\n",
    "# plt.ylabel('No. of movies')\n",
    "# plt.title(\"No. of movies in each language(With English)\")\n",
    "# # Show Plot\n",
    "# plt.show()"
   ]
  },
  {
   "cell_type": "markdown",
   "id": "83e748fc",
   "metadata": {
    "id": "83e748fc"
   },
   "source": [
    "##### Without English"
   ]
  },
  {
   "cell_type": "code",
   "execution_count": 111,
   "id": "c1c51e33",
   "metadata": {
    "id": "c1c51e33"
   },
   "outputs": [
    {
     "name": "stdout",
     "output_type": "stream",
     "text": [
      "\n",
      "['Íslenska', 'Română', 'Norsk', 'ελληνικά', 'Bahasa indonesia', 'ภาษาไทย', 'Deutsch', 'Português', '广州话 / 廣州話', 'Bamanankan', 'No Language', 'हिन्दी', 'suomi', 'Tiếng Việt', 'فارسی', '', 'اردو', 'svenska', '', 'தமிழ்', '한국어/조선말', 'Srpski', 'Italiano', 'Polski', 'עִבְרִית', 'Dansk', 'తెలుగు', 'Español', 'Afrikaans', 'Pусский', 'Türkçe', 'Magyar', '日本語', 'Nederlands', 'Català', '普通话', '?????', 'Français']\n"
     ]
    }
   ],
   "source": [
    "# #BAR PLOT WITHOUT EN\n",
    "uniq_lang_without = []\n",
    "uniq_lang_without_names = []\n",
    "lang_count_without = []\n",
    "\n",
    "for i in uniq_languages:\n",
    "    if i != 'en':\n",
    "        try:\n",
    "            uniq_lang_without_names.append(sp_dict[i])\n",
    "            count = languages.count(i)\n",
    "            uniq_lang_without.append(i)\n",
    "            lang_count_without.append(count)\n",
    "        except:\n",
    "            print()\n",
    "print(uniq_lang_without_names)\n",
    "\n",
    "# # Increase the width\n",
    "# plt.figure(figsize=(15,4))\n",
    "# # Horizontal Bar Plot\n",
    "# plt.bar(uniq_lang_without, lang_count_without)\n",
    "\n",
    "# plt.xticks(rotation=90)\n",
    "\n",
    "# plt.xlabel('Languages')\n",
    "# plt.ylabel('No. of movies')\n",
    "# plt.title(\"No. of movies in each language(Without English)\")\n",
    "# # Show Plot\n",
    "# plt.show()"
   ]
  },
  {
   "cell_type": "markdown",
   "id": "9DuNzmw7P_jL",
   "metadata": {
    "id": "9DuNzmw7P_jL"
   },
   "source": [
    "###Creating the dash app"
   ]
  },
  {
   "cell_type": "code",
   "execution_count": 112,
   "id": "aee4926c",
   "metadata": {
    "id": "aee4926c"
   },
   "outputs": [],
   "source": [
    "app = dash.Dash(__name__, external_stylesheets=[dbc.themes.BOOTSTRAP,'https://codepen.io/amyoshino/pen/jzXypZ.css',dbc.themes.SLATE])"
   ]
  },
  {
   "cell_type": "markdown",
   "id": "82f1fd6c",
   "metadata": {
    "id": "82f1fd6c"
   },
   "source": [
    "### Extracting the movie title"
   ]
  },
  {
   "cell_type": "code",
   "execution_count": 113,
   "id": "f39da737",
   "metadata": {
    "colab": {
     "base_uri": "https://localhost:8080/"
    },
    "id": "f39da737",
    "outputId": "975ffca2-b3c3-4e63-c5ed-2c6a940a6e14"
   },
   "outputs": [
    {
     "name": "stdout",
     "output_type": "stream",
     "text": [
      "0                Toy Story\n",
      "1                  Jumanji\n",
      "3        Waiting to Exhale\n",
      "5                     Heat\n",
      "8             Sudden Death\n",
      "               ...        \n",
      "45167           Wind River\n",
      "45250               சிவாஜி\n",
      "45409               Dikari\n",
      "45412           Про любоff\n",
      "45422             Антидурь\n",
      "Name: original_title, Length: 5370, dtype: object\n"
     ]
    }
   ],
   "source": [
    "movie_title = df_filtered['original_title']\n",
    "print(movie_title)"
   ]
  },
  {
   "cell_type": "markdown",
   "id": "f1603d3f",
   "metadata": {
    "id": "f1603d3f"
   },
   "source": [
    "### Creating Dataframe for the first page"
   ]
  },
  {
   "cell_type": "code",
   "execution_count": 114,
   "id": "15d41983",
   "metadata": {
    "colab": {
     "base_uri": "https://localhost:8080/",
     "height": 206
    },
    "id": "15d41983",
    "outputId": "0d173d9c-21dc-445d-8ad9-1f4804c8b67e",
    "scrolled": false
   },
   "outputs": [
    {
     "data": {
      "text/html": [
       "<div>\n",
       "<style scoped>\n",
       "    .dataframe tbody tr th:only-of-type {\n",
       "        vertical-align: middle;\n",
       "    }\n",
       "\n",
       "    .dataframe tbody tr th {\n",
       "        vertical-align: top;\n",
       "    }\n",
       "\n",
       "    .dataframe thead th {\n",
       "        text-align: right;\n",
       "    }\n",
       "</style>\n",
       "<table border=\"1\" class=\"dataframe\">\n",
       "  <thead>\n",
       "    <tr style=\"text-align: right;\">\n",
       "      <th></th>\n",
       "      <th>original_title</th>\n",
       "      <th>overview</th>\n",
       "      <th>vote_average</th>\n",
       "    </tr>\n",
       "  </thead>\n",
       "  <tbody>\n",
       "    <tr>\n",
       "      <th>0</th>\n",
       "      <td>Toy Story</td>\n",
       "      <td>Led by Woody, Andy's toys live happily in his ...</td>\n",
       "      <td>7.7</td>\n",
       "    </tr>\n",
       "    <tr>\n",
       "      <th>1</th>\n",
       "      <td>Jumanji</td>\n",
       "      <td>When siblings Judy and Peter discover an encha...</td>\n",
       "      <td>6.9</td>\n",
       "    </tr>\n",
       "    <tr>\n",
       "      <th>3</th>\n",
       "      <td>Waiting to Exhale</td>\n",
       "      <td>Cheated on, mistreated and stepped on, the wom...</td>\n",
       "      <td>6.1</td>\n",
       "    </tr>\n",
       "    <tr>\n",
       "      <th>5</th>\n",
       "      <td>Heat</td>\n",
       "      <td>Obsessive master thief, Neil McCauley leads a ...</td>\n",
       "      <td>7.7</td>\n",
       "    </tr>\n",
       "    <tr>\n",
       "      <th>8</th>\n",
       "      <td>Sudden Death</td>\n",
       "      <td>International action superstar Jean Claude Van...</td>\n",
       "      <td>5.5</td>\n",
       "    </tr>\n",
       "  </tbody>\n",
       "</table>\n",
       "</div>"
      ],
      "text/plain": [
       "      original_title                                           overview  \\\n",
       "0          Toy Story  Led by Woody, Andy's toys live happily in his ...   \n",
       "1            Jumanji  When siblings Judy and Peter discover an encha...   \n",
       "3  Waiting to Exhale  Cheated on, mistreated and stepped on, the wom...   \n",
       "5               Heat  Obsessive master thief, Neil McCauley leads a ...   \n",
       "8       Sudden Death  International action superstar Jean Claude Van...   \n",
       "\n",
       "   vote_average  \n",
       "0           7.7  \n",
       "1           6.9  \n",
       "3           6.1  \n",
       "5           7.7  \n",
       "8           5.5  "
      ]
     },
     "execution_count": 114,
     "metadata": {},
     "output_type": "execute_result"
    }
   ],
   "source": [
    "summary = pd.DataFrame(df_filtered, columns = ['original_title','overview','vote_average'])\n",
    "title = list(df_filtered['original_title'])\n",
    "overview = list(df_filtered['overview'])\n",
    "vote_avg = list(df_filtered['vote_average'])\n",
    "\n",
    "#Sorting the lists\n",
    "sorted_overview = [x for _, x in sorted(zip(title,overview))]\n",
    "sorted_vote_avg = [x for _, x in sorted(zip(title,vote_avg))]\n",
    "sorted_title = sorted(title)\n",
    "\n",
    "summary.head()"
   ]
  },
  {
   "cell_type": "code",
   "execution_count": 115,
   "id": "ec2ede0c",
   "metadata": {
    "id": "ec2ede0c"
   },
   "outputs": [],
   "source": [
    "def find_element_in_list(element, list_element):\n",
    "    try:\n",
    "        index_element = list_element.index(element)\n",
    "        print(int(index_element))\n",
    "        return int(index_element)\n",
    "    except ValueError:\n",
    "        return None"
   ]
  },
  {
   "cell_type": "markdown",
   "id": "13998cf9",
   "metadata": {
    "id": "13998cf9"
   },
   "source": [
    "### Graphs we'll be using in the dashboard"
   ]
  },
  {
   "cell_type": "code",
   "execution_count": 116,
   "id": "6dad6bac",
   "metadata": {
    "id": "6dad6bac"
   },
   "outputs": [],
   "source": [
    "# 2 boxplots\n",
    "## ->Budgets\n",
    "## -> Revenue\n",
    "\n",
    "# 6 histograms\n",
    "## -> Budget\n",
    "## -> Revenue\n",
    "## -> Popularity\n",
    "## -> Runtime\n",
    "## -> Vote avg\n",
    "## -> Release Years\n",
    "\n",
    "# 5 scatter plots\n",
    "## -> Runtime vs Budget\n",
    "## -> Revenue vs Budget\n",
    "## -> Budget vs Votecount\n",
    "## -> Popularity vs Votecount\n",
    "## -> Revenue vs Vote Count\n",
    "\n",
    "# 2 bar charts\n",
    "## -> No. of movies in each language with english\n",
    "## -> No. of movies in each language without english\n",
    "\n",
    "# 3 pie charts\n",
    "## -> Genres Pie Chart\n",
    "## -> Adult vs Non Adult\n",
    "## -> Production countries\n",
    "\n",
    "# 1 correlation heatmap\n",
    "## -> Correlation heatmap between the numerical columns\n",
    "\n",
    "# 2 regression plots\n",
    "## -> Revenue vs Budget\n",
    "## -> Revenue vs Vote Count\n",
    "\n",
    "# Total ==> 21 graphs\n",
    "#Orientation ==> 7 rows and 3 columns"
   ]
  },
  {
   "cell_type": "code",
   "execution_count": 117,
   "id": "d6ea48bb",
   "metadata": {},
   "outputs": [],
   "source": [
    "# Tabs :\n",
    "#Budget\n",
    "#Revenue\n",
    "#Popularity\n",
    "#Runtime\n",
    "#Vote avg\n",
    "#Release Years\n",
    "#Comparisons\n",
    "#Regression Plots"
   ]
  },
  {
   "cell_type": "markdown",
   "id": "97db291c",
   "metadata": {
    "id": "97db291c"
   },
   "source": [
    "### Dashboard Code"
   ]
  },
  {
   "cell_type": "code",
   "execution_count": 118,
   "id": "23ac1d38",
   "metadata": {
    "id": "23ac1d38"
   },
   "outputs": [],
   "source": [
    "df = pd.read_csv('https://raw.githubusercontent.com/Coding-with-Adam/Dash-by-Plotly/master/Bootstrap/Side-Bar/iranian_students.csv')\n",
    "\n",
    "# padding for the page content\n",
    "CONTENT_STYLE = {\n",
    "    \"margin-right\": \"0rem\",\n",
    "    \"padding\": \"6rem 6rem\",\n",
    "    \"background-color\" : \"#000000\",\n",
    "    \"background-image\":'url(\"/assets/Background.png\")',\n",
    "    'background-repeat' : 'repeat',\n",
    "    'background-size': '100%'\n",
    "}\n",
    "\n",
    "\n",
    "navbar = dbc.NavbarSimple(\n",
    "    children=[\n",
    "        dbc.NavItem(dbc.NavLink(\"Home\", href=\"/\", active=\"exact\")),\n",
    "        dbc.NavItem(dbc.NavLink(\"Statistics\", href=\"/page-1\", active=\"exact\")),\n",
    "    \n",
    "    ],\n",
    "    brand = \"Movies Dashboard\",\n",
    "    brand_style = {'color' : '#8A0000','font-weight' : 'bold','font-style': 'italic'},\n",
    "    color=\"#111111\",\n",
    "    dark=True,\n",
    "    fluid=True,\n",
    ")\n",
    "\n",
    "content = html.Div(id=\"page-content\", children=[], style=CONTENT_STYLE)\n",
    "\n",
    "app.layout = html.Div([\n",
    "    dcc.Location(id=\"url\"),\n",
    "    navbar,\n",
    "    content\n",
    "])\n",
    "\n",
    "app.css.append_css({\n",
    "'external_url': 'https://codepen.io/chriddyp/pen/bWLwgP.css 327'\n",
    "})\n",
    "\n",
    "# #Correlation Heatmap preprocessing\n",
    "# trace1 = {\n",
    "#   \"type\": \"heatmap\", \n",
    "#   \"x\": [\"Crypto_Index\", \"BTC\", \"ETH\", \"BCH\", \"XRP\", \"LTC\", \"DASH\", \"STR\", \"XMR\", \"SPY_Index\", \"GLD_Index\"], \n",
    "#   \"y\": [\"Crypto_Index\", \"BTC\", \"ETH\", \"BCH\", \"XRP\", \"LTC\", \"DASH\", \"STR\", \"XMR\", \"SPY_Index\", \"GLD_Index\"], \n",
    "#   \"z\": [[1.0, 0.5145204751077439, 0.7753800316056564, 0.5635869144912485, 0.6330246296885216, 0.6935626887855602, 0.6510327886719159, 0.7003086075174753, 0.7706130603016853, 0.025637721629079346, -0.14530462537107128], [0.5145204751077439, 1.0, 0.3570079203140865, 0.1349123946939163, 0.13596877646636055, 0.43254315980314817, 0.21592279382744603, 0.34446376110023436, 0.41269282695969395, -0.11147492698576485, -0.06397591150706235], [0.7753800316056564, 0.3570079203140865, 1.0, 0.39313113126450405, 0.39418171228484145, 0.6921202563460892, 0.4733678602459097, 0.4276770948976174, 0.5752540859824811, 0.15887859820253236, -0.006848573001143559], [0.5635869144912485, 0.1349123946939163, 0.39313113126450405, 1.0, 0.17735696275144744, 0.218841803416396, 0.4651294097591311, 0.0906452227128872, 0.41328473389123055, 0.04164180693219901, -0.07532903046693337], [0.6330246296885216, 0.13596877646636055, 0.39418171228484145, 0.17735696275144744, 1.0, 0.3357589484322298, 0.2137605375193814, 0.5384160124838642, 0.24219331731936153, -0.1240461055260104, 0.012886388288847027], [0.6935626887855602, 0.43254315980314817, 0.6921202563460892, 0.218841803416396, 0.3357589484322298, 1.0, 0.4194457824463705, 0.36372379913686037, 0.43257406820488925, 0.030350070692782144, -0.1708198709939884], [0.6510327886719159, 0.21592279382744603, 0.4733678602459097, 0.4651294097591311, 0.2137605375193814, 0.4194457824463705, 1.0, 0.21415082358644683, 0.616154604130923, 0.11006711870484644, -0.15948576589788033], [0.7003086075174753, 0.34446376110023436, 0.4276770948976174, 0.0906452227128872, 0.5384160124838642, 0.36372379913686037, 0.21415082358644683, 1.0, 0.5287972761050168, -0.07894581445902309, -0.11075945917591021], [0.7706130603016853, 0.41269282695969395, 0.5752540859824811, 0.41328473389123055, 0.24219331731936153, 0.43257406820488925, 0.616154604130923, 0.5287972761050168, 1.0, 0.19923653273289102, -0.15508575874900773], [0.025637721629079346, -0.11147492698576485, 0.15887859820253236, 0.04164180693219901, -0.1240461055260104, 0.030350070692782144, 0.11006711870484644, -0.07894581445902309, 0.19923653273289102, 1.0, -0.05968658737944457], [-0.14530462537107128, -0.06397591150706235, -0.006848573001143559, -0.07532903046693337, 0.012886388288847027, -0.1708198709939884, -0.15948576589788033, -0.11075945917591021, -0.15508575874900773, -0.05968658737944457, 1.]], \n",
    "#   \"colorbar\": {\n",
    "#     \"dtick\": 0.2, \n",
    "#     \"tick0\": -1, \n",
    "#     \"tickmode\": \"linear\"\n",
    "#   }, \n",
    "#   \"showscale\": True, \n",
    "#   \"colorscale\": \"YlGnBu\"\n",
    "# }\n",
    "# data = df_filtered([trace1])\n",
    "# layout = {\"title\": \"Correlation Heat Map\"}\n",
    "# fig = Figure(data=data, layout=layout)\n",
    "\n",
    "x_1 = df_filtered['budget']\n",
    "y_1 = df_filtered['revenue']\n",
    "x_1 = np.array(x_1)\n",
    "x_1 = x_1.reshape(-1,1)\n",
    "y_1 = np.array(y_1)\n",
    "X_train_1, X_test_1, y_train_1, y_test_1 = train_test_split(x_1, y_1, random_state=0)\n",
    "model1 = LinearRegression()\n",
    "model1.fit(X_train_1, y_train_1)\n",
    "\n",
    "x_2 = df_filtered['vote_count']\n",
    "y_2 = df_filtered['revenue']\n",
    "x_2 = np.array(x_2)\n",
    "x_2 = x_2.reshape(-1,1)\n",
    "y_2 = np.array(y_2)\n",
    "X_train_2, X_test_2, y_train_2, y_test_2 = train_test_split(x_2, y_2, random_state=0)\n",
    "model2 = LinearRegression()\n",
    "model2.fit(X_train_2, y_train_2)\n",
    "\n",
    "x_range_reg_1 = np.linspace(x_1.min(), x_1.max(), 100)\n",
    "y_range_reg_1 = model1.predict(x_range_reg_1.reshape(-1, 1))\n",
    "\n",
    "# mse1 = metrics.mean_squared_error(y_range_reg_1, y_test_1)\n",
    "\n",
    "# rmse1 = math.sqrt(mse)\n",
    "\n",
    "# print(rmse1)\n",
    "\n",
    "x_range_reg_2 = np.linspace(x_2.min(), x_2.max(), 100)\n",
    "y_range_reg_2 = model2.predict(x_range_reg_2.reshape(-1, 1))\n",
    "\n",
    "# mse2 = metrics.mean_squared_error(y_range_reg_2, y_test_2)\n",
    "\n",
    "# rmse2 = math.sqrt(mse2)\n",
    "\n",
    "# print(rmse2)\n",
    "\n",
    "nmovies=len(df_filtered)\n",
    "\n",
    "@app.callback(\n",
    "    Output(\"page-content\", \"children\"),\n",
    "    [Input(\"url\", \"pathname\")]\n",
    ")\n",
    "def render_page_content(pathname):\n",
    "    if pathname == \"/\":\n",
    "        return [\n",
    "                html.H1('Movies Dashboard',\n",
    "                        style={'textAlign':'center','color' : '#8A0000',\n",
    "                        'margin-bottom':'3rem','font-weight' : 'bold','font-style': 'italic'}),\n",
    "                dcc.Dropdown(\n",
    "                    id = 'Dropdown_for_movies',\n",
    "                    options=[{'label': x, 'value': x} for x in sorted_title],\n",
    "                    placeholder = 'Search from '+ str(nmovies) +' Movies',\n",
    "                ),\n",
    "                html.Div([\n",
    "                    html.Div([\n",
    "                        html.H4(\"Dashboard by Team Nanashi\")\n",
    "                    ],style = {\"margin-top\" : \"260px\",\"text-align\" : \"center\"})\n",
    "                ],id='dd-output-container')\n",
    "#                 dcc.Graph(id='bargraph',\n",
    "#                          figure=px.bar(barmode='group', x=uniq_languages,\n",
    "#                          y = lang_count))\n",
    "                ]\n",
    "    elif pathname == \"/page-1\":\n",
    "        return [\n",
    "                html.H1('Statistics',style={'vertical-align': 'top','text-align' : 'left' ,'color' : '#8A0000','margin-bottom' : '1rem'}),\n",
    "                dbc.Tabs(\n",
    "                [\n",
    "                    dbc.Tab(label=\"Budget\", tab_id=\"tab-1\"),\n",
    "                    dbc.Tab(label=\"Revenue\", tab_id=\"tab-2\"),\n",
    "                    dbc.Tab(label=\"Popularity\", tab_id=\"tab-3\"),\n",
    "                    dbc.Tab(label=\"Runtime\", tab_id=\"tab-4\"),\n",
    "                    dbc.Tab(label=\"Vote Average\", tab_id=\"tab-5\"),\n",
    "                    dbc.Tab(label=\"Release Years\", tab_id=\"tab-6\"),\n",
    "                    dbc.Tab(label=\"Languages\", tab_id=\"tab-7\"),\n",
    "                    dbc.Tab(label=\"Comparisons\", tab_id=\"tab-8\"),\n",
    "                    dbc.Tab(label=\"Regression Plots\", tab_id=\"tab-9\"),\n",
    "                ],\n",
    "                id=\"tabs\",\n",
    "                active_tab=\"tab-1\",\n",
    "            ),\n",
    "            html.Div(id=\"content\"),\n",
    "\n",
    "                ]\n",
    "    # If the user tries to reach a different page, return a 404 message\n",
    "    return dbc.Jumbotron(\n",
    "        [\n",
    "            html.H1(\"404: Not found\", className=\"text-danger\"),\n",
    "            html.Hr(),\n",
    "            html.P(f\"The pathname {pathname} was not recognised...\"),\n",
    "        ]\n",
    "    )\n",
    "\n",
    "\n",
    "@app.callback(\n",
    "    Output('dd-output-container', 'children'),\n",
    "    Input('Dropdown_for_movies', 'value')\n",
    ")\n",
    "def update_output(value):\n",
    "    print(value)\n",
    "    print(find_element_in_list(value,sorted_title))\n",
    "#     if()\n",
    "    return [\n",
    "        html.Div([\n",
    "            #html.Div([],style = {'background-image' : 'url(\"/rhIRbceoE9lR4veEXuwCC2wARtG.jpg\")',\n",
    "            #          'background-repeat' : 'no-repeat',\n",
    "            #           'height' : '500px',\n",
    "            #           'width' : '500px',\n",
    "            #            'z-index' : '-99'\n",
    "            #          }),\n",
    "            html.Div([\n",
    "                html.H2('Vote Average: ',style={'color': '#7E6E4E','font-weight' : 'bold'}), \n",
    "                html.H5(sorted_vote_avg[find_element_in_list(value,sorted_title)],\n",
    "                            style={'color': 'grey','margin-left':'2rem'}),\n",
    "                html.H2('Title: ',style={'color': '#7E6E4E','margin-top':'1rem','font-weight' : 'bold'}), \n",
    "                html.H5(sorted_title[find_element_in_list(value,sorted_title)],\n",
    "                            style={'color': 'grey','margin-left':'2rem'}),\n",
    "                html.H2('Overview: ',style={'color': '#7E6E4E','margin-top':'1rem','font-weight' : 'bold'}), \n",
    "                html.H5(sorted_overview[find_element_in_list(value,sorted_title)],\n",
    "                            style={'color': 'grey','margin-left':'2rem'})\n",
    "            ],\n",
    "            style = {'margin-left':'2rem',\n",
    "                     'margin-right':'2rem',\n",
    "                     'margin-top':'2rem'}),\n",
    "            \n",
    "        ],style = {'display' : 'flex','flex-direction' : 'row',\n",
    "                    'justify-content' : 'center','align-item' : 'center',\n",
    "                    #'background-image' : 'url(\"/rhIRbceoE9lR4veEXuwCC2wARtG.jpg\")',\n",
    "                    # #if we can download the images for all the movies we could put them in a folder\n",
    "                    # #in assets. set the name of each image as the movies title and the background\n",
    "                    # #image path could be found by concatenating the movie title in the path string\n",
    "                    #'background-repeat' : 'no-repeat',\n",
    "                    #'height' : '500px',\n",
    "                    #'width' : '500px'\n",
    "        })            \n",
    "        ]\n",
    "\n",
    "#Tab Contents\n",
    "#Budget Tab\n",
    "tab1_content = html.Div([\n",
    "            dbc.Card(\n",
    "                dbc.CardBody([\n",
    "                    dbc.Card(\n",
    "                        dbc.CardBody([\n",
    "                                html.Div([\n",
    "                                    html.H1('Budget Boxplot',\n",
    "                                            style={'textAlign':'center','color' : '#7E6E4E'}),\n",
    "                                    dcc.Graph(id='boxplot',\n",
    "                                             figure=px.box(df,y=budgetList).update_layout(\n",
    "                                            template='plotly_dark',\n",
    "                                            plot_bgcolor= 'rgba(0, 0, 0, 0)',\n",
    "                                            paper_bgcolor= 'rgba(0, 0, 0, 0)',)\n",
    "                                            ,config = {'displayModeBar' : False}\n",
    "                                        )\n",
    "                                ])\n",
    "                            ])\n",
    "                        ),\n",
    "                dbc.Card(\n",
    "                            dbc.CardBody([\n",
    "                            #Histograms\n",
    "                                html.Div([\n",
    "                                    html.H1('Budget Histogram',\n",
    "                                            style={'textAlign':'center','color' : '#7E6E4E'}),\n",
    "                                    dcc.Graph(id='histograms',\n",
    "                                             figure=px.histogram(df_filtered['budget'], nbins=30,log_y=True,labels={'x':'Budget','y' : 'count'}).update_layout(\n",
    "                                                template='plotly_dark',\n",
    "                                                plot_bgcolor= 'rgba(0, 0, 0, 0)',\n",
    "                                                paper_bgcolor= 'rgba(0, 0, 0, 0)',)\n",
    "                                                ,config = {'displayModeBar' : False}\n",
    "                                             )\n",
    "                                    ])\n",
    "                                ]),style = {\"margin-top\" : \"10px\"}\n",
    "                            ),\n",
    "                    ]),color = 'dark'\n",
    "            )\n",
    "        ])\n",
    "#Revenue Tab\n",
    "tab2_content = html.Div([\n",
    "            dbc.Card(\n",
    "                dbc.CardBody([\n",
    "                    dbc.Card(\n",
    "                        dbc.CardBody([\n",
    "                                html.Div([\n",
    "                                   html.H1('Revenue Boxplot',\n",
    "                                        style={'textAlign':'center','color' : '#7E6E4E'}),\n",
    "                                dcc.Graph(id='boxplot',\n",
    "                                         figure=px.box(df,y=revenueList).update_layout(\n",
    "                                                template='plotly_dark',\n",
    "                                                plot_bgcolor= 'rgba(0, 0, 0, 0)',\n",
    "                                                paper_bgcolor= 'rgba(0, 0, 0, 0)',)\n",
    "                                                ,config = {'displayModeBar' : False}\n",
    "                                         ) \n",
    "                                ])\n",
    "                            ])\n",
    "                        ),\n",
    "                dbc.Card(\n",
    "                            dbc.CardBody([\n",
    "                            #Histograms\n",
    "                                html.Div([\n",
    "                                    html.H1('Revenue Histogram',\n",
    "                                            style={'textAlign':'center','color' : '#7E6E4E'}),\n",
    "                                    dcc.Graph(id='histograms',\n",
    "                                              figure=px.histogram(df_filtered['revenue'], nbins=30,log_y=True,labels={'x':'Revenue','y' : 'count'},color_discrete_sequence=['indianred']).update_layout(\n",
    "                                                template='plotly_dark',\n",
    "                                                plot_bgcolor= 'rgba(255,255, 255, 0)',\n",
    "                                                paper_bgcolor= 'rgba(0, 0, 0, 0)',)\n",
    "                                                ,config = {'displayModeBar' : False}\n",
    "                                             )\n",
    "                                    ])\n",
    "                                ]),style = {\"margin-top\" : \"10px\"}\n",
    "                            ),\n",
    "                    ]),color = 'dark'\n",
    "            )\n",
    "        ])\n",
    "\n",
    "#Popularity Tab\n",
    "tab3_content = html.Div([\n",
    "            dbc.Card(\n",
    "                dbc.CardBody([\n",
    "                    dbc.Card(\n",
    "                        dbc.CardBody([\n",
    "                                html.Div([\n",
    "                                            html.H1('Popularity Histogram',\n",
    "                                            style={'textAlign':'center','color' : '#7E6E4E'}),\n",
    "                                            dcc.Graph(id='histograms',\n",
    "                                                     figure=px.histogram(df_filtered['popularity'], nbins=30,log_y=True,labels={'x':'Popularity','y' : 'count'}).update_layout(\n",
    "                                                        template='plotly_dark',\n",
    "                                                        plot_bgcolor= 'rgba(0, 0, 0, 0)',\n",
    "                                                        paper_bgcolor= 'rgba(0, 0, 0, 0)',)\n",
    "                                                        ,config = {'displayModeBar' : False}\n",
    "                                                     )\n",
    "                                ])\n",
    "                            ])\n",
    "                        ),\n",
    "                    ]),color = 'dark'\n",
    "            )\n",
    "        ])\n",
    "\n",
    "#Runtime tab\n",
    "tab4_content = html.Div([\n",
    "            dbc.Card(\n",
    "                dbc.CardBody([\n",
    "                    dbc.Card(\n",
    "                        dbc.CardBody([\n",
    "                                html.Div([\n",
    "                                            html.H1('Runtime Histogram',\n",
    "                                    style={'textAlign':'center','color' : '#7E6E4E'}),\n",
    "                            dcc.Graph(id='histograms',\n",
    "                                     figure=px.histogram(df_filtered['runtime'], nbins=30,log_y=True,labels={'x':'Runtime','y' : 'count'}).update_layout(\n",
    "                                        template='plotly_dark',\n",
    "                                        plot_bgcolor= 'rgba(0, 0, 0, 0)',\n",
    "                                        paper_bgcolor= 'rgba(0, 0, 0, 0)',)\n",
    "                                        ,config = {'displayModeBar' : False}\n",
    "                                     )\n",
    "                                ])\n",
    "                            ])\n",
    "                        ),\n",
    "                    ]),color = 'dark'\n",
    "            )\n",
    "        ])\n",
    "\n",
    "#Vote Avg tab\n",
    "tab5_content = html.Div([\n",
    "            dbc.Card(\n",
    "                dbc.CardBody([\n",
    "                    dbc.Card(\n",
    "                        dbc.CardBody([\n",
    "                                html.Div([\n",
    "                                            html.H1('Vote Average Histogram',\n",
    "                                    style={'textAlign':'center','color' : '#7E6E4E'}),\n",
    "                            dcc.Graph(id='histograms',\n",
    "                                     figure=px.histogram(df_filtered['vote_average'], nbins=30,log_y=True,labels={'x':'Vote_avg','y' : 'count'}).update_layout(\n",
    "                                                template='plotly_dark',\n",
    "                                                plot_bgcolor= 'rgba(0, 0, 0, 0)',\n",
    "                                                paper_bgcolor= 'rgba(0, 0, 0, 0)',)\n",
    "                                                ,config = {'displayModeBar' : False}\n",
    "                                             )\n",
    "                                ])\n",
    "                            ])\n",
    "                        ),\n",
    "                    ]),color = 'dark'\n",
    "            )\n",
    "        ])\n",
    "\n",
    "#Release Years tab\n",
    "tab6_content = html.Div([\n",
    "            dbc.Card(\n",
    "                dbc.CardBody([\n",
    "                    dbc.Card(\n",
    "                        dbc.CardBody([\n",
    "                                html.Div([\n",
    "                                            html.H1('Release Years Histogram',\n",
    "                            style={'textAlign':'center','color' : '#7E6E4E'}),\n",
    "                    dcc.Graph(id='histograms',\n",
    "                             figure=px.histogram(df_filtered[\"Release_Years\"], nbins=30,log_y=True,labels={'x':'Release Years','y' : 'count'}).update_layout(\n",
    "                                                template='plotly_dark',\n",
    "                                                plot_bgcolor= 'rgba(0, 0, 0, 0)',\n",
    "                                                paper_bgcolor= 'rgba(0, 0, 0, 0)',)\n",
    "                                                ,config = {'displayModeBar' : False}\n",
    "                                             )\n",
    "                                ])\n",
    "                            ])\n",
    "                        ),\n",
    "                    ]),color = 'dark'\n",
    "            )\n",
    "        ])\n",
    "\n",
    "#Languages tab\n",
    "tab7_content = html.Div([\n",
    "            dbc.Card(\n",
    "                dbc.CardBody([\n",
    "                    dbc.Card(\n",
    "                        dbc.CardBody([\n",
    "                                html.Div([\n",
    "                                    html.H1('Languages Barchart(With English)',\n",
    "                                    style={'textAlign':'center','color' : '#7E6E4E'}),\n",
    "                            dcc.Graph(id='barcharts',\n",
    "                                     figure=px.bar(df_filtered, x=uniq_languages_names, y=lang_count).update_layout(\n",
    "                                                            template='plotly_dark',\n",
    "                                                            plot_bgcolor= 'rgba(0, 0, 0, 0)',\n",
    "                                                            paper_bgcolor= 'rgba(0, 0, 0, 0)',)\n",
    "                                                            ,config = {'displayModeBar' : False}\n",
    "                                                         )\n",
    "                                ])\n",
    "                            ])\n",
    "                        ),\n",
    "                dbc.Card(\n",
    "                            dbc.CardBody([\n",
    "                            #Histograms\n",
    "                                html.Div([\n",
    "                                    html.H1('Languages Barchart(Without English)',\n",
    "                                    style={'textAlign':'center','color' : '#7E6E4E'}),\n",
    "                            dcc.Graph(id='barcharts',\n",
    "                                     figure=px.bar(df_filtered, x=uniq_lang_without_names, y=lang_count_without).update_layout(\n",
    "                                                            template='plotly_dark',\n",
    "                                                            plot_bgcolor= 'rgba(0, 0, 0, 0)',\n",
    "                                                            paper_bgcolor= 'rgba(0, 0, 0, 0)',)\n",
    "                                                            ,config = {'displayModeBar' : False}\n",
    "                                                         )\n",
    "                                    ])\n",
    "                                ]),style = {\"margin-top\" : \"10px\"}\n",
    "                            ),\n",
    "                    ]),color = 'dark'\n",
    "            )\n",
    "        ])\n",
    "\n",
    "#Comparisons Tabs\n",
    "## Containing Scatterplots, Pie Charts\n",
    "tab8_content = html.Div([\n",
    "            dbc.Card(\n",
    "                dbc.CardBody([\n",
    "                    dcc.Dropdown(\n",
    "                        id = 'Dropdown_for_comparisonplots',\n",
    "                        options=[{'label': \"Scatter Plots\", 'value': \"SP\"},\n",
    "                                {'label': \"Pie Charts\", 'value': \"PC\"}],\n",
    "                        placeholder = 'Choose method of comparison',\n",
    "                ),\n",
    "                html.Div([],id = 'dd-comparisons-container')\n",
    "                ]),color = 'dark'\n",
    "            ),  \n",
    "                html.Div([\n",
    "                        html.H4(\"\\n\")\n",
    "                    ],style = {\"margin-top\" : \"260px\",\"text-align\" : \"center\"},)\n",
    "        ])\n",
    "\n",
    "#Regression Plots\n",
    "tab9_content = html.Div([\n",
    "            dbc.Card(\n",
    "                dbc.CardBody([\n",
    "                    dbc.Card(\n",
    "                        dbc.CardBody([\n",
    "                                html.Div([\n",
    "                                    html.H1('Revenue vs Budget Regression Plot',\n",
    "                                    style={'textAlign':'center','color' : '#7E6E4E'}),\n",
    "                            dcc.Graph(id='regressionplots',\n",
    "                                     figure=go.Figure([\n",
    "                                            go.Scatter(x=X_train_1.squeeze(), y=y_train_1, name='train', mode='markers'),\n",
    "                                            go.Scatter(x=X_test_1.squeeze(), y=y_test_1, name='test', mode='markers'),\n",
    "                                            go.Scatter(x=x_range_reg_1, y=y_range_reg_1, name='prediction')\n",
    "                                            ]).update_layout(template='plotly_dark',\n",
    "                                                            plot_bgcolor= 'rgba(0, 0, 0, 0)',\n",
    "                                                            paper_bgcolor= 'rgba(0, 0, 0, 0)',)\n",
    "                                                            ,config = {'displayModeBar' : False}\n",
    "                                                         )\n",
    "                                ])\n",
    "                            ])\n",
    "                        ),\n",
    "                dbc.Card(\n",
    "                            dbc.CardBody([\n",
    "                            #Histograms\n",
    "                                html.Div([\n",
    "                                    html.H1('Revenue vs Vote Count Regression Plot',\n",
    "                                style={'textAlign':'center','color' : '#7E6E4E'}),\n",
    "                        dcc.Graph(id='regressionplots',\n",
    "                                 figure=go.Figure([\n",
    "                                        go.Scatter(x=X_train_2.squeeze(), y=y_train_2, name='train', mode='markers'),\n",
    "                                        go.Scatter(x=X_test_2.squeeze(), y=y_test_2, name='test', mode='markers'),\n",
    "                                        go.Scatter(x=x_range_reg_2, y=y_range_reg_2, name='prediction')\n",
    "                                        ]).update_layout(\n",
    "                                                            template='plotly_dark',\n",
    "                                                            plot_bgcolor= 'rgba(0, 0, 0, 0)',\n",
    "                                                            paper_bgcolor= 'rgba(0, 0, 0, 0)',)\n",
    "                                                            ,config = {'displayModeBar' : False}\n",
    "                                                         )\n",
    "                                    ])\n",
    "                                ]),style = {\"margin-top\" : \"10px\"}\n",
    "                            ),\n",
    "                    ]),color = 'dark'\n",
    "            )\n",
    "        ])\n",
    "\n",
    "@app.callback(\n",
    "    Output('dd-comparisons-container', 'children'),\n",
    "    Input('Dropdown_for_comparisonplots', 'value')\n",
    ")\n",
    "def update_comparisons_plot(value):\n",
    "    print(value)\n",
    "    if(value == \"SP\"):\n",
    "        return [\n",
    "            dbc.Card(\n",
    "                        dbc.CardBody([\n",
    "                                html.Div([\n",
    "                                    html.H1('Runtime vs Budget Scatterplot',\n",
    "                                    style={'textAlign':'center','color' : '#7E6E4E'}),\n",
    "                            dcc.Graph(id='scatterplot',\n",
    "                                     figure=px.scatter(df_filtered, x=\"budget\", y=\"runtime\",color='vote_average').update_layout(\n",
    "                                                template='plotly_dark',\n",
    "                                                plot_bgcolor= 'rgba(0, 0, 0, 0)',\n",
    "                                                paper_bgcolor= 'rgba(0, 0, 0, 0)',)\n",
    "                                                ,config = {'displayModeBar' : False}\n",
    "                                             )\n",
    "                                ])\n",
    "                            ])\n",
    "                        ),\n",
    "                dbc.Card(\n",
    "                            dbc.CardBody([\n",
    "                            #Histograms\n",
    "                                html.Div([\n",
    "                                    html.H1('Revenue vs Budget Scatterplot',\n",
    "                                    style={'textAlign':'center','color' : '#7E6E4E'}),\n",
    "                            dcc.Graph(id='scatterplot',\n",
    "                                     figure=px.scatter(df_filtered, x=\"budget\", y=\"revenue\",color='vote_average').update_layout(\n",
    "                                                template='plotly_dark',\n",
    "                                                plot_bgcolor= 'rgba(0, 0, 0, 0)',\n",
    "                                                paper_bgcolor= 'rgba(0, 0, 0, 0)',)\n",
    "                                                ,config = {'displayModeBar' : False}\n",
    "                                             )\n",
    "                                    ])\n",
    "                                ]),style = {\"margin-top\" : \"10px\"}\n",
    "                            ),\n",
    "            dbc.Card(\n",
    "                            dbc.CardBody([\n",
    "                            #Histograms\n",
    "                                html.Div([\n",
    "                                    html.H1('Vote Count vs Budget Scatterplot',\n",
    "                                    style={'textAlign':'center','color' : '#7E6E4E'}),\n",
    "                            dcc.Graph(id='scatterplot',\n",
    "                                     figure=px.scatter(df_filtered, x=\"budget\", y=\"vote_count\",color='vote_average').update_layout(\n",
    "                                                template='plotly_dark',\n",
    "                                                plot_bgcolor= 'rgba(0, 0, 0, 0)',\n",
    "                                                paper_bgcolor= 'rgba(0, 0, 0, 0)',)\n",
    "                                                ,config = {'displayModeBar' : False}\n",
    "                                             )\n",
    "                                    ])\n",
    "                                ]),style = {\"margin-top\" : \"10px\"}\n",
    "                            ),\n",
    "            dbc.Card(\n",
    "                            dbc.CardBody([\n",
    "                            #Histograms\n",
    "                                html.Div([\n",
    "                                    html.H1('Vote Count vs Popularity Scatterplot',\n",
    "                                    style={'textAlign':'center','color' : '#7E6E4E'}),\n",
    "                            dcc.Graph(id='scatterplot',\n",
    "                                     figure=px.scatter(df_filtered, x=\"popularity\", y=\"vote_count\",color='vote_average').update_layout(\n",
    "                                                            template='plotly_dark',\n",
    "                                                            plot_bgcolor= 'rgba(0, 0, 0, 0)',\n",
    "                                                            paper_bgcolor= 'rgba(0, 0, 0, 0)',)\n",
    "                                                            ,config = {'displayModeBar' : False}\n",
    "                                                         )\n",
    "                                    ])\n",
    "                                ]),style = {\"margin-top\" : \"10px\"}\n",
    "                            ),\n",
    "            dbc.Card(\n",
    "                            dbc.CardBody([\n",
    "                            #Histograms\n",
    "                                html.Div([\n",
    "                                    html.H1('Revenue vs Vote Count Scatterplot',\n",
    "                                    style={'textAlign':'center','color' : '#7E6E4E'}),\n",
    "                            dcc.Graph(id='scatterplot',\n",
    "                                     figure=px.scatter(df_filtered, x=\"vote_count\", y=\"revenue\",color='vote_average').update_layout(\n",
    "                                                            template='plotly_dark',\n",
    "                                                            plot_bgcolor= 'rgba(0, 0, 0, 0)',\n",
    "                                                            paper_bgcolor= 'rgba(0, 0, 0, 0)',)\n",
    "                                                            ,config = {'displayModeBar' : False}\n",
    "                                                         )\n",
    "                                    ])\n",
    "                                ]),style = {\"margin-top\" : \"10px\"}\n",
    "                            ),\n",
    "                        ]\n",
    "    elif(value == \"PC\"):\n",
    "        return [\n",
    "            dbc.Card(\n",
    "                        dbc.CardBody([\n",
    "                                html.Div([\n",
    "                                    html.H1('Genres Pie Chart',\n",
    "                                    style={'textAlign':'center','color' : '#7E6E4E'}),\n",
    "                            dcc.Graph(id='piecharts',\n",
    "                                     figure=px.pie(df_filtered, values=genres_count, names=genres).update_layout(\n",
    "                                                            template='plotly_dark',\n",
    "                                                            plot_bgcolor= 'rgba(0, 0, 0, 0)',\n",
    "                                                            paper_bgcolor= 'rgba(0, 0, 0, 0)',)\n",
    "                                                            ,config = {'displayModeBar' : False}\n",
    "                                                         )\n",
    "                                ])\n",
    "                            ])\n",
    "                        ),\n",
    "            dbc.Card(\n",
    "                        dbc.CardBody([\n",
    "                                html.Div([\n",
    "                                    html.H1('Adult vs Non Adult movies Pie Chart',\n",
    "                                    style={'textAlign':'center','color' : '#7E6E4E'}),\n",
    "                            dcc.Graph(id='piecharts',\n",
    "                                     figure=px.pie(df_filtered, values=adult_count, names=labels).update_layout(\n",
    "                                                                        template='plotly_dark',\n",
    "                                                                        plot_bgcolor= 'rgba(0, 0, 0, 0)',\n",
    "                                                                        paper_bgcolor= 'rgba(0, 0, 0, 0)',)\n",
    "                                                                        ,config = {'displayModeBar' : False}\n",
    "                                                                     )\n",
    "                                ])\n",
    "                            ])\n",
    "                        ),\n",
    "            dbc.Card(\n",
    "                        dbc.CardBody([\n",
    "                                html.Div([\n",
    "                                    html.H1('Production Countries Pie Chart',\n",
    "                                    style={'textAlign':'center','color' : '#7E6E4E'}),\n",
    "                            dcc.Graph(id='piecharts',\n",
    "                                     figure=px.pie(df_filtered, values=avg, names=pr_final_countryList).update_layout(\n",
    "                                                                                    template='plotly_dark',\n",
    "                                                                                    plot_bgcolor= 'rgba(0, 0, 0, 0)',\n",
    "                                                                                    paper_bgcolor= 'rgba(0, 0, 0, 0)',)\n",
    "                                                                                    ,config = {'displayModeBar' : False}\n",
    "                                                                                 )\n",
    "                                ])\n",
    "                            ])\n",
    "                        ),\n",
    "        ]\n",
    "    return []\n",
    "\n",
    "# For tab switching\n",
    "@app.callback(Output(\"content\", \"children\"), [Input(\"tabs\", \"active_tab\")])\n",
    "def switch_tab(at):\n",
    "    if at == \"tab-1\":\n",
    "        return tab1_content\n",
    "    elif at == \"tab-2\":\n",
    "        return tab2_content\n",
    "    elif at == \"tab-3\":\n",
    "        return tab3_content\n",
    "    elif at == \"tab-4\":\n",
    "        return tab4_content\n",
    "    elif at == \"tab-5\":\n",
    "        return tab5_content\n",
    "    elif at == \"tab-6\":\n",
    "        return tab6_content\n",
    "    elif at == \"tab-7\":\n",
    "        return tab7_content\n",
    "    elif at == \"tab-8\":\n",
    "        return tab8_content\n",
    "    elif at == \"tab-9\":\n",
    "        return tab9_content\n",
    "    return html.P(\"No content on this Tab\")"
   ]
  },
  {
   "cell_type": "code",
   "execution_count": 119,
   "id": "3feb1db7",
   "metadata": {
    "colab": {
     "base_uri": "https://localhost:8080/"
    },
    "id": "72c32d60",
    "outputId": "e776d63d-6dc6-4baa-a358-634967ea9f7b"
   },
   "outputs": [
    {
     "name": "stdout",
     "output_type": "stream",
     "text": [
      "Dash is running on http://127.0.0.1:3000/\n",
      "\n",
      "Dash is running on http://127.0.0.1:3000/\n",
      "\n",
      " * Serving Flask app \"__main__\" (lazy loading)\n",
      " * Environment: production\n",
      "   WARNING: This is a development server. Do not use it in a production deployment.\n",
      "   Use a production WSGI server instead.\n",
      " * Debug mode: off\n"
     ]
    },
    {
     "name": "stderr",
     "output_type": "stream",
     "text": [
      " * Running on http://127.0.0.1:3000/ (Press CTRL+C to quit)\n",
      "C:\\Users\\Jatin Dhall\\anaconda3\\lib\\site-packages\\dash\\resources.py:63: UserWarning:\n",
      "\n",
      "You have set your config to `serve_locally=True` but A local version of https://codepen.io/chriddyp/pen/bWLwgP.css 327 is not available.\n",
      "If you added this file with `app.scripts.append_script` or `app.css.append_css`, use `external_scripts` or `external_stylesheets` instead.\n",
      "See https://dash.plotly.com/external-resources\n",
      "\n",
      "127.0.0.1 - - [09/Dec/2021 18:19:34] \"\u001b[37mGET / HTTP/1.1\u001b[0m\" 200 -\n",
      "127.0.0.1 - - [09/Dec/2021 18:19:34] \"\u001b[37mGET /_dash-component-suites/dash/deps/polyfill@7.v2_0_0m1638626369.12.1.min.js HTTP/1.1\u001b[0m\" 200 -\n",
      "127.0.0.1 - - [09/Dec/2021 18:19:34] \"\u001b[37mGET /_dash-component-suites/dash/deps/react@16.v2_0_0m1638626369.14.0.min.js HTTP/1.1\u001b[0m\" 200 -\n",
      "127.0.0.1 - - [09/Dec/2021 18:19:35] \"\u001b[37mGET /_dash-component-suites/dash/deps/react-dom@16.v2_0_0m1638626369.14.0.min.js HTTP/1.1\u001b[0m\" 200 -\n",
      "127.0.0.1 - - [09/Dec/2021 18:19:35] \"\u001b[37mGET /_dash-component-suites/dash/deps/prop-types@15.v2_0_0m1638626369.7.2.min.js HTTP/1.1\u001b[0m\" 200 -\n",
      "127.0.0.1 - - [09/Dec/2021 18:19:35] \"\u001b[37mGET /_dash-component-suites/dash_bootstrap_components/_components/dash_bootstrap_components.v1_0_1m1638628759.min.js HTTP/1.1\u001b[0m\" 200 -\n",
      "127.0.0.1 - - [09/Dec/2021 18:19:35] \"\u001b[37mGET /_dash-component-suites/dash/dash-renderer/build/dash_renderer.v2_0_0m1638626369.min.js HTTP/1.1\u001b[0m\" 200 -\n",
      "127.0.0.1 - - [09/Dec/2021 18:19:35] \"\u001b[37mGET /_dash-component-suites/dash/dcc/dash_core_components.v2_0_0m1638626369.js HTTP/1.1\u001b[0m\" 200 -\n",
      "127.0.0.1 - - [09/Dec/2021 18:19:35] \"\u001b[37mGET /_dash-component-suites/dash/dcc/dash_core_components-shared.v2_0_0m1638626369.js HTTP/1.1\u001b[0m\" 200 -\n",
      "127.0.0.1 - - [09/Dec/2021 18:19:35] \"\u001b[37mGET /_dash-component-suites/dash/html/dash_html_components.v2_0_0m1638626369.min.js HTTP/1.1\u001b[0m\" 200 -\n",
      "127.0.0.1 - - [09/Dec/2021 18:19:35] \"\u001b[37mGET /_dash-component-suites/dash/dash_table/bundle.v5_0_0m1638626369.js HTTP/1.1\u001b[0m\" 200 -\n",
      "127.0.0.1 - - [09/Dec/2021 18:19:36] \"\u001b[37mGET /_dash-layout HTTP/1.1\u001b[0m\" 200 -\n",
      "127.0.0.1 - - [09/Dec/2021 18:19:36] \"\u001b[37mGET /_dash-dependencies HTTP/1.1\u001b[0m\" 200 -\n",
      "127.0.0.1 - - [09/Dec/2021 18:19:36] \"\u001b[36mGET /assets/Background.png HTTP/1.1\u001b[0m\" 304 -\n",
      "127.0.0.1 - - [09/Dec/2021 18:19:36] \"\u001b[37mPOST /_dash-update-component HTTP/1.1\u001b[0m\" 200 -\n",
      "127.0.0.1 - - [09/Dec/2021 18:19:36] \"\u001b[37mGET /_dash-component-suites/dash/dcc/async-dropdown.js HTTP/1.1\u001b[0m\" 200 -\n"
     ]
    },
    {
     "name": "stdout",
     "output_type": "stream",
     "text": [
      "None\n",
      "None\n",
      "Exception on /_dash-update-component [POST]\n",
      "Traceback (most recent call last):\n",
      "  File \"C:\\Users\\Jatin Dhall\\anaconda3\\lib\\site-packages\\flask\\app.py\", line 2447, in wsgi_app\n",
      "    response = self.full_dispatch_request()\n",
      "  File \"C:\\Users\\Jatin Dhall\\anaconda3\\lib\\site-packages\\flask\\app.py\", line 1952, in full_dispatch_request\n",
      "    rv = self.handle_user_exception(e)\n",
      "  File \"C:\\Users\\Jatin Dhall\\anaconda3\\lib\\site-packages\\flask\\app.py\", line 1821, in handle_user_exception\n",
      "    reraise(exc_type, exc_value, tb)\n",
      "  File \"C:\\Users\\Jatin Dhall\\anaconda3\\lib\\site-packages\\flask\\_compat.py\", line 39, in reraise\n",
      "    raise value\n",
      "  File \"C:\\Users\\Jatin Dhall\\anaconda3\\lib\\site-packages\\flask\\app.py\", line 1950, in full_dispatch_request\n",
      "    rv = self.dispatch_request()\n",
      "  File \"C:\\Users\\Jatin Dhall\\anaconda3\\lib\\site-packages\\flask\\app.py\", line 1936, in dispatch_request\n",
      "    return self.view_functions[rule.endpoint](**req.view_args)\n",
      "  File \"C:\\Users\\Jatin Dhall\\anaconda3\\lib\\site-packages\\dash\\dash.py\", line 1336, in dispatch\n",
      "    response.set_data(func(*args, outputs_list=outputs_list))\n",
      "  File \"C:\\Users\\Jatin Dhall\\anaconda3\\lib\\site-packages\\dash\\_callback.py\", line 151, in add_context\n",
      "    output_value = func(*func_args, **func_kwargs)  # %% callback invoked %%\n",
      "  File \"<ipython-input-118-1024a23c0f92>\", line 168, in update_output\n",
      "    html.H5(sorted_vote_avg[find_element_in_list(value,sorted_title)],\n",
      "TypeError: list indices must be integers or slices, not NoneType\n",
      "Exception on /_dash-update-component [POST]\n",
      "Traceback (most recent call last):\n",
      "  File \"C:\\Users\\Jatin Dhall\\anaconda3\\lib\\site-packages\\flask\\app.py\", line 2447, in wsgi_app\n",
      "    response = self.full_dispatch_request()\n",
      "  File \"C:\\Users\\Jatin Dhall\\anaconda3\\lib\\site-packages\\flask\\app.py\", line 1952, in full_dispatch_request\n",
      "    rv = self.handle_user_exception(e)\n",
      "  File \"C:\\Users\\Jatin Dhall\\anaconda3\\lib\\site-packages\\flask\\app.py\", line 1821, in handle_user_exception\n",
      "    reraise(exc_type, exc_value, tb)\n",
      "  File \"C:\\Users\\Jatin Dhall\\anaconda3\\lib\\site-packages\\flask\\_compat.py\", line 39, in reraise\n",
      "    raise value\n",
      "  File \"C:\\Users\\Jatin Dhall\\anaconda3\\lib\\site-packages\\flask\\app.py\", line 1950, in full_dispatch_request\n",
      "    rv = self.dispatch_request()\n",
      "  File \"C:\\Users\\Jatin Dhall\\anaconda3\\lib\\site-packages\\flask\\app.py\", line 1936, in dispatch_request\n",
      "    return self.view_functions[rule.endpoint](**req.view_args)\n",
      "  File \"C:\\Users\\Jatin Dhall\\anaconda3\\lib\\site-packages\\dash\\dash.py\", line 1336, in dispatch\n",
      "    response.set_data(func(*args, outputs_list=outputs_list))\n",
      "  File \"C:\\Users\\Jatin Dhall\\anaconda3\\lib\\site-packages\\dash\\_callback.py\", line 151, in add_context\n",
      "    output_value = func(*func_args, **func_kwargs)  # %% callback invoked %%\n",
      "  File \"<ipython-input-118-1024a23c0f92>\", line 168, in update_output\n",
      "    html.H5(sorted_vote_avg[find_element_in_list(value,sorted_title)],\n",
      "TypeError: list indices must be integers or slices, not NoneType\n"
     ]
    },
    {
     "name": "stderr",
     "output_type": "stream",
     "text": [
      "127.0.0.1 - - [09/Dec/2021 18:19:36] \"\u001b[35m\u001b[1mPOST /_dash-update-component HTTP/1.1\u001b[0m\" 500 -\n",
      "127.0.0.1 - - [09/Dec/2021 18:19:38] \"\u001b[37mPOST /_dash-update-component HTTP/1.1\u001b[0m\" 200 -\n",
      "127.0.0.1 - - [09/Dec/2021 18:19:38] \"\u001b[37mPOST /_dash-update-component HTTP/1.1\u001b[0m\" 200 -\n",
      "127.0.0.1 - - [09/Dec/2021 18:19:38] \"\u001b[37mGET /_dash-component-suites/dash/dcc/async-graph.js HTTP/1.1\u001b[0m\" 200 -\n",
      "127.0.0.1 - - [09/Dec/2021 18:19:38] \"\u001b[37mGET /_dash-component-suites/dash/dcc/async-plotlyjs.js HTTP/1.1\u001b[0m\" 200 -\n",
      "127.0.0.1 - - [09/Dec/2021 18:19:42] \"\u001b[37mPOST /_dash-update-component HTTP/1.1\u001b[0m\" 200 -\n"
     ]
    }
   ],
   "source": [
    "if __name__ == '__main__':\n",
    "    app.run_server(port=3000)"
   ]
  }
 ],
 "metadata": {
  "colab": {
   "name": "Dashboard.ipynb",
   "provenance": []
  },
  "kernelspec": {
   "display_name": "Python 3",
   "language": "python",
   "name": "python3"
  },
  "language_info": {
   "codemirror_mode": {
    "name": "ipython",
    "version": 3
   },
   "file_extension": ".py",
   "mimetype": "text/x-python",
   "name": "python",
   "nbconvert_exporter": "python",
   "pygments_lexer": "ipython3",
   "version": "3.8.8"
  }
 },
 "nbformat": 4,
 "nbformat_minor": 5
}
