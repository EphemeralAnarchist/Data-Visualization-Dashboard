{
 "cells": [
  {
   "cell_type": "markdown",
   "id": "a02f783d",
   "metadata": {},
   "source": [
    "### Importing the libraries"
   ]
  },
  {
   "cell_type": "code",
   "execution_count": 1,
   "id": "6dc538a6",
   "metadata": {},
   "outputs": [
    {
     "name": "stderr",
     "output_type": "stream",
     "text": [
      "<ipython-input-1-66db3fc0eff4>:3: UserWarning: \n",
      "The dash_core_components package is deprecated. Please replace\n",
      "`import dash_core_components as dcc` with `from dash import dcc`\n",
      "  import dash_core_components as dcc\n",
      "<ipython-input-1-66db3fc0eff4>:5: UserWarning: \n",
      "The dash_html_components package is deprecated. Please replace\n",
      "`import dash_html_components as html` with `from dash import html`\n",
      "  import dash_html_components as html\n"
     ]
    }
   ],
   "source": [
    "#For the dashboard\n",
    "import dash\n",
    "import dash_core_components as dcc\n",
    "import dash_bootstrap_components as dbc\n",
    "import dash_html_components as html\n",
    "import plotly.express as px\n",
    "import plotly.graph_objects as go\n",
    "from dash.dependencies import Input, Output\n",
    "\n",
    "\n",
    "#For data processing\n",
    "import matplotlib.pyplot as plt\n",
    "import numpy as np\n",
    "import pandas as pd\n",
    "import seaborn as sns\n",
    "import csv\n",
    "import json\n",
    "import ast\n",
    "from scipy.stats import pearsonr\n",
    "from sklearn.linear_model import LinearRegression\n",
    "from sklearn.model_selection import train_test_split\n",
    "from sklearn import metrics\n",
    "import random"
   ]
  },
  {
   "cell_type": "markdown",
   "id": "5eecd7e4",
   "metadata": {},
   "source": [
    "### Importing the movies dataset"
   ]
  },
  {
   "cell_type": "code",
   "execution_count": 2,
   "id": "3b589f9b",
   "metadata": {},
   "outputs": [
    {
     "name": "stderr",
     "output_type": "stream",
     "text": [
      "C:\\Users\\Jatin Dhall\\anaconda3\\lib\\site-packages\\IPython\\core\\interactiveshell.py:3165: DtypeWarning: Columns (10) have mixed types.Specify dtype option on import or set low_memory=False.\n",
      "  has_raised = await self.run_ast_nodes(code_ast.body, cell_name,\n"
     ]
    },
    {
     "data": {
      "text/html": [
       "<div>\n",
       "<style scoped>\n",
       "    .dataframe tbody tr th:only-of-type {\n",
       "        vertical-align: middle;\n",
       "    }\n",
       "\n",
       "    .dataframe tbody tr th {\n",
       "        vertical-align: top;\n",
       "    }\n",
       "\n",
       "    .dataframe thead th {\n",
       "        text-align: right;\n",
       "    }\n",
       "</style>\n",
       "<table border=\"1\" class=\"dataframe\">\n",
       "  <thead>\n",
       "    <tr style=\"text-align: right;\">\n",
       "      <th></th>\n",
       "      <th>adult</th>\n",
       "      <th>belongs_to_collection</th>\n",
       "      <th>budget</th>\n",
       "      <th>genres</th>\n",
       "      <th>homepage</th>\n",
       "      <th>id</th>\n",
       "      <th>imdb_id</th>\n",
       "      <th>original_language</th>\n",
       "      <th>original_title</th>\n",
       "      <th>overview</th>\n",
       "      <th>...</th>\n",
       "      <th>release_date</th>\n",
       "      <th>revenue</th>\n",
       "      <th>runtime</th>\n",
       "      <th>spoken_languages</th>\n",
       "      <th>status</th>\n",
       "      <th>tagline</th>\n",
       "      <th>title</th>\n",
       "      <th>video</th>\n",
       "      <th>vote_average</th>\n",
       "      <th>vote_count</th>\n",
       "    </tr>\n",
       "  </thead>\n",
       "  <tbody>\n",
       "    <tr>\n",
       "      <th>0</th>\n",
       "      <td>False</td>\n",
       "      <td>{'id': 10194, 'name': 'Toy Story Collection', ...</td>\n",
       "      <td>30000000</td>\n",
       "      <td>[{'id': 16, 'name': 'Animation'}, {'id': 35, '...</td>\n",
       "      <td>http://toystory.disney.com/toy-story</td>\n",
       "      <td>862</td>\n",
       "      <td>tt0114709</td>\n",
       "      <td>en</td>\n",
       "      <td>Toy Story</td>\n",
       "      <td>Led by Woody, Andy's toys live happily in his ...</td>\n",
       "      <td>...</td>\n",
       "      <td>1995-10-30</td>\n",
       "      <td>373554033.0</td>\n",
       "      <td>81.0</td>\n",
       "      <td>[{'iso_639_1': 'en', 'name': 'English'}]</td>\n",
       "      <td>Released</td>\n",
       "      <td>NaN</td>\n",
       "      <td>Toy Story</td>\n",
       "      <td>False</td>\n",
       "      <td>7.7</td>\n",
       "      <td>5415.0</td>\n",
       "    </tr>\n",
       "    <tr>\n",
       "      <th>1</th>\n",
       "      <td>False</td>\n",
       "      <td>NaN</td>\n",
       "      <td>65000000</td>\n",
       "      <td>[{'id': 12, 'name': 'Adventure'}, {'id': 14, '...</td>\n",
       "      <td>NaN</td>\n",
       "      <td>8844</td>\n",
       "      <td>tt0113497</td>\n",
       "      <td>en</td>\n",
       "      <td>Jumanji</td>\n",
       "      <td>When siblings Judy and Peter discover an encha...</td>\n",
       "      <td>...</td>\n",
       "      <td>1995-12-15</td>\n",
       "      <td>262797249.0</td>\n",
       "      <td>104.0</td>\n",
       "      <td>[{'iso_639_1': 'en', 'name': 'English'}, {'iso...</td>\n",
       "      <td>Released</td>\n",
       "      <td>Roll the dice and unleash the excitement!</td>\n",
       "      <td>Jumanji</td>\n",
       "      <td>False</td>\n",
       "      <td>6.9</td>\n",
       "      <td>2413.0</td>\n",
       "    </tr>\n",
       "    <tr>\n",
       "      <th>2</th>\n",
       "      <td>False</td>\n",
       "      <td>{'id': 119050, 'name': 'Grumpy Old Men Collect...</td>\n",
       "      <td>0</td>\n",
       "      <td>[{'id': 10749, 'name': 'Romance'}, {'id': 35, ...</td>\n",
       "      <td>NaN</td>\n",
       "      <td>15602</td>\n",
       "      <td>tt0113228</td>\n",
       "      <td>en</td>\n",
       "      <td>Grumpier Old Men</td>\n",
       "      <td>A family wedding reignites the ancient feud be...</td>\n",
       "      <td>...</td>\n",
       "      <td>1995-12-22</td>\n",
       "      <td>0.0</td>\n",
       "      <td>101.0</td>\n",
       "      <td>[{'iso_639_1': 'en', 'name': 'English'}]</td>\n",
       "      <td>Released</td>\n",
       "      <td>Still Yelling. Still Fighting. Still Ready for...</td>\n",
       "      <td>Grumpier Old Men</td>\n",
       "      <td>False</td>\n",
       "      <td>6.5</td>\n",
       "      <td>92.0</td>\n",
       "    </tr>\n",
       "    <tr>\n",
       "      <th>3</th>\n",
       "      <td>False</td>\n",
       "      <td>NaN</td>\n",
       "      <td>16000000</td>\n",
       "      <td>[{'id': 35, 'name': 'Comedy'}, {'id': 18, 'nam...</td>\n",
       "      <td>NaN</td>\n",
       "      <td>31357</td>\n",
       "      <td>tt0114885</td>\n",
       "      <td>en</td>\n",
       "      <td>Waiting to Exhale</td>\n",
       "      <td>Cheated on, mistreated and stepped on, the wom...</td>\n",
       "      <td>...</td>\n",
       "      <td>1995-12-22</td>\n",
       "      <td>81452156.0</td>\n",
       "      <td>127.0</td>\n",
       "      <td>[{'iso_639_1': 'en', 'name': 'English'}]</td>\n",
       "      <td>Released</td>\n",
       "      <td>Friends are the people who let you be yourself...</td>\n",
       "      <td>Waiting to Exhale</td>\n",
       "      <td>False</td>\n",
       "      <td>6.1</td>\n",
       "      <td>34.0</td>\n",
       "    </tr>\n",
       "    <tr>\n",
       "      <th>4</th>\n",
       "      <td>False</td>\n",
       "      <td>{'id': 96871, 'name': 'Father of the Bride Col...</td>\n",
       "      <td>0</td>\n",
       "      <td>[{'id': 35, 'name': 'Comedy'}]</td>\n",
       "      <td>NaN</td>\n",
       "      <td>11862</td>\n",
       "      <td>tt0113041</td>\n",
       "      <td>en</td>\n",
       "      <td>Father of the Bride Part II</td>\n",
       "      <td>Just when George Banks has recovered from his ...</td>\n",
       "      <td>...</td>\n",
       "      <td>1995-02-10</td>\n",
       "      <td>76578911.0</td>\n",
       "      <td>106.0</td>\n",
       "      <td>[{'iso_639_1': 'en', 'name': 'English'}]</td>\n",
       "      <td>Released</td>\n",
       "      <td>Just When His World Is Back To Normal... He's ...</td>\n",
       "      <td>Father of the Bride Part II</td>\n",
       "      <td>False</td>\n",
       "      <td>5.7</td>\n",
       "      <td>173.0</td>\n",
       "    </tr>\n",
       "  </tbody>\n",
       "</table>\n",
       "<p>5 rows × 24 columns</p>\n",
       "</div>"
      ],
      "text/plain": [
       "   adult                              belongs_to_collection    budget  \\\n",
       "0  False  {'id': 10194, 'name': 'Toy Story Collection', ...  30000000   \n",
       "1  False                                                NaN  65000000   \n",
       "2  False  {'id': 119050, 'name': 'Grumpy Old Men Collect...         0   \n",
       "3  False                                                NaN  16000000   \n",
       "4  False  {'id': 96871, 'name': 'Father of the Bride Col...         0   \n",
       "\n",
       "                                              genres  \\\n",
       "0  [{'id': 16, 'name': 'Animation'}, {'id': 35, '...   \n",
       "1  [{'id': 12, 'name': 'Adventure'}, {'id': 14, '...   \n",
       "2  [{'id': 10749, 'name': 'Romance'}, {'id': 35, ...   \n",
       "3  [{'id': 35, 'name': 'Comedy'}, {'id': 18, 'nam...   \n",
       "4                     [{'id': 35, 'name': 'Comedy'}]   \n",
       "\n",
       "                               homepage     id    imdb_id original_language  \\\n",
       "0  http://toystory.disney.com/toy-story    862  tt0114709                en   \n",
       "1                                   NaN   8844  tt0113497                en   \n",
       "2                                   NaN  15602  tt0113228                en   \n",
       "3                                   NaN  31357  tt0114885                en   \n",
       "4                                   NaN  11862  tt0113041                en   \n",
       "\n",
       "                original_title  \\\n",
       "0                    Toy Story   \n",
       "1                      Jumanji   \n",
       "2             Grumpier Old Men   \n",
       "3            Waiting to Exhale   \n",
       "4  Father of the Bride Part II   \n",
       "\n",
       "                                            overview  ... release_date  \\\n",
       "0  Led by Woody, Andy's toys live happily in his ...  ...   1995-10-30   \n",
       "1  When siblings Judy and Peter discover an encha...  ...   1995-12-15   \n",
       "2  A family wedding reignites the ancient feud be...  ...   1995-12-22   \n",
       "3  Cheated on, mistreated and stepped on, the wom...  ...   1995-12-22   \n",
       "4  Just when George Banks has recovered from his ...  ...   1995-02-10   \n",
       "\n",
       "       revenue runtime                                   spoken_languages  \\\n",
       "0  373554033.0    81.0           [{'iso_639_1': 'en', 'name': 'English'}]   \n",
       "1  262797249.0   104.0  [{'iso_639_1': 'en', 'name': 'English'}, {'iso...   \n",
       "2          0.0   101.0           [{'iso_639_1': 'en', 'name': 'English'}]   \n",
       "3   81452156.0   127.0           [{'iso_639_1': 'en', 'name': 'English'}]   \n",
       "4   76578911.0   106.0           [{'iso_639_1': 'en', 'name': 'English'}]   \n",
       "\n",
       "     status                                            tagline  \\\n",
       "0  Released                                                NaN   \n",
       "1  Released          Roll the dice and unleash the excitement!   \n",
       "2  Released  Still Yelling. Still Fighting. Still Ready for...   \n",
       "3  Released  Friends are the people who let you be yourself...   \n",
       "4  Released  Just When His World Is Back To Normal... He's ...   \n",
       "\n",
       "                         title  video vote_average vote_count  \n",
       "0                    Toy Story  False          7.7     5415.0  \n",
       "1                      Jumanji  False          6.9     2413.0  \n",
       "2             Grumpier Old Men  False          6.5       92.0  \n",
       "3            Waiting to Exhale  False          6.1       34.0  \n",
       "4  Father of the Bride Part II  False          5.7      173.0  \n",
       "\n",
       "[5 rows x 24 columns]"
      ]
     },
     "execution_count": 2,
     "metadata": {},
     "output_type": "execute_result"
    }
   ],
   "source": [
    "movies_df = pd.read_csv(\"C:\\\\Users\\\\Jatin Dhall\\\\Desktop\\\\Desktop File\\\\VIT\\\\VIT\\\\SEM 3\\\\DATA VIZ\\\\Project\\\\Movie Dataset\\\\movies_metadata.csv\")\n",
    "movies_df.head()"
   ]
  },
  {
   "cell_type": "markdown",
   "id": "2ebeac7e",
   "metadata": {},
   "source": [
    "### Importing the ratings dataset"
   ]
  },
  {
   "cell_type": "code",
   "execution_count": 3,
   "id": "f1d04023",
   "metadata": {},
   "outputs": [],
   "source": [
    "# ratings_df = pd.read_csv(\"C:\\\\Users\\\\Jatin Dhall\\\\Desktop\\\\Desktop File\\\\VIT\\\\VIT\\\\SEM 3\\\\DATA VIZ\\\\Project\\\\Movie Dataset\\\\ratings.csv\")\n",
    "# ratings_df.head()"
   ]
  },
  {
   "cell_type": "markdown",
   "id": "757a34b1",
   "metadata": {},
   "source": [
    "### Importing the links dataset"
   ]
  },
  {
   "cell_type": "code",
   "execution_count": 4,
   "id": "a83bffbb",
   "metadata": {},
   "outputs": [],
   "source": [
    "# links_df = pd.read_csv(\"C:\\\\Users\\\\Jatin Dhall\\\\Desktop\\\\Desktop File\\\\VIT\\\\VIT\\\\SEM 3\\\\DATA VIZ\\\\Project\\\\Movie Dataset\\\\links.csv\")\n",
    "# links_df.head()"
   ]
  },
  {
   "cell_type": "markdown",
   "id": "6cf944a8",
   "metadata": {},
   "source": [
    "### Importing the credits dataset"
   ]
  },
  {
   "cell_type": "code",
   "execution_count": 5,
   "id": "3f46d573",
   "metadata": {
    "scrolled": true
   },
   "outputs": [],
   "source": [
    "# credits_df = pd.read_csv(\"C:\\\\Users\\\\Jatin Dhall\\\\Desktop\\\\Desktop File\\\\VIT\\\\VIT\\\\SEM 3\\\\DATA VIZ\\\\Project\\\\Movie Dataset\\\\credits.csv\")\n",
    "# credits_df.head()"
   ]
  },
  {
   "cell_type": "markdown",
   "id": "8fe67337",
   "metadata": {},
   "source": [
    "### Importing the keywords dataset"
   ]
  },
  {
   "cell_type": "code",
   "execution_count": 6,
   "id": "3abc5359",
   "metadata": {},
   "outputs": [],
   "source": [
    "# keywords_df = pd.read_csv(\"C:\\\\Users\\\\Jatin Dhall\\\\Desktop\\\\Desktop File\\\\VIT\\\\VIT\\\\SEM 3\\\\DATA VIZ\\\\Project\\\\Movie Dataset\\\\keywords.csv\")\n",
    "# keywords_df.head()"
   ]
  },
  {
   "cell_type": "markdown",
   "id": "8747f5dd",
   "metadata": {},
   "source": [
    "### Handling missing values"
   ]
  },
  {
   "cell_type": "code",
   "execution_count": 7,
   "id": "75f37bdf",
   "metadata": {},
   "outputs": [
    {
     "data": {
      "text/plain": [
       "adult                        0\n",
       "belongs_to_collection    40972\n",
       "budget                       0\n",
       "genres                       0\n",
       "homepage                 37684\n",
       "id                           0\n",
       "imdb_id                     17\n",
       "original_language           11\n",
       "original_title               0\n",
       "overview                   954\n",
       "popularity                   5\n",
       "poster_path                386\n",
       "production_companies         3\n",
       "production_countries         3\n",
       "release_date                87\n",
       "revenue                      6\n",
       "runtime                    263\n",
       "spoken_languages             6\n",
       "status                      87\n",
       "tagline                  25054\n",
       "title                        6\n",
       "video                        6\n",
       "vote_average                 6\n",
       "vote_count                   6\n",
       "dtype: int64"
      ]
     },
     "execution_count": 7,
     "metadata": {},
     "output_type": "execute_result"
    }
   ],
   "source": [
    "movies_df.isnull().sum()"
   ]
  },
  {
   "cell_type": "code",
   "execution_count": 8,
   "id": "27f34233",
   "metadata": {},
   "outputs": [],
   "source": [
    "movies_df = movies_df.drop(columns = [\"belongs_to_collection\",\"homepage\",\"tagline\"],axis = 1)"
   ]
  },
  {
   "cell_type": "code",
   "execution_count": 9,
   "id": "514967ab",
   "metadata": {},
   "outputs": [],
   "source": [
    "movies_df = movies_df.dropna(axis = 0, how ='any')"
   ]
  },
  {
   "cell_type": "code",
   "execution_count": 10,
   "id": "15dd13e7",
   "metadata": {},
   "outputs": [
    {
     "data": {
      "text/plain": [
       "adult                   0\n",
       "budget                  0\n",
       "genres                  0\n",
       "id                      0\n",
       "imdb_id                 0\n",
       "original_language       0\n",
       "original_title          0\n",
       "overview                0\n",
       "popularity              0\n",
       "poster_path             0\n",
       "production_companies    0\n",
       "production_countries    0\n",
       "release_date            0\n",
       "revenue                 0\n",
       "runtime                 0\n",
       "spoken_languages        0\n",
       "status                  0\n",
       "title                   0\n",
       "video                   0\n",
       "vote_average            0\n",
       "vote_count              0\n",
       "dtype: int64"
      ]
     },
     "execution_count": 10,
     "metadata": {},
     "output_type": "execute_result"
    }
   ],
   "source": [
    "movies_df.isnull().sum()"
   ]
  },
  {
   "cell_type": "markdown",
   "id": "2d74ab0f",
   "metadata": {},
   "source": [
    "### Removing the rows containing either budget or revenue as 0"
   ]
  },
  {
   "cell_type": "code",
   "execution_count": 11,
   "id": "a3c4f2f7",
   "metadata": {},
   "outputs": [
    {
     "name": "stderr",
     "output_type": "stream",
     "text": [
      "<ipython-input-11-ec90a61dd1d6>:3: UserWarning: Boolean Series key will be reindexed to match DataFrame index.\n",
      "  df_filtered = df_filtered[(movies_df['revenue'] != 0.0)]\n"
     ]
    },
    {
     "data": {
      "text/html": [
       "<div>\n",
       "<style scoped>\n",
       "    .dataframe tbody tr th:only-of-type {\n",
       "        vertical-align: middle;\n",
       "    }\n",
       "\n",
       "    .dataframe tbody tr th {\n",
       "        vertical-align: top;\n",
       "    }\n",
       "\n",
       "    .dataframe thead th {\n",
       "        text-align: right;\n",
       "    }\n",
       "</style>\n",
       "<table border=\"1\" class=\"dataframe\">\n",
       "  <thead>\n",
       "    <tr style=\"text-align: right;\">\n",
       "      <th></th>\n",
       "      <th>adult</th>\n",
       "      <th>budget</th>\n",
       "      <th>genres</th>\n",
       "      <th>id</th>\n",
       "      <th>imdb_id</th>\n",
       "      <th>original_language</th>\n",
       "      <th>original_title</th>\n",
       "      <th>overview</th>\n",
       "      <th>popularity</th>\n",
       "      <th>poster_path</th>\n",
       "      <th>...</th>\n",
       "      <th>production_countries</th>\n",
       "      <th>release_date</th>\n",
       "      <th>revenue</th>\n",
       "      <th>runtime</th>\n",
       "      <th>spoken_languages</th>\n",
       "      <th>status</th>\n",
       "      <th>title</th>\n",
       "      <th>video</th>\n",
       "      <th>vote_average</th>\n",
       "      <th>vote_count</th>\n",
       "    </tr>\n",
       "  </thead>\n",
       "  <tbody>\n",
       "    <tr>\n",
       "      <th>0</th>\n",
       "      <td>False</td>\n",
       "      <td>30000000</td>\n",
       "      <td>[{'id': 16, 'name': 'Animation'}, {'id': 35, '...</td>\n",
       "      <td>862</td>\n",
       "      <td>tt0114709</td>\n",
       "      <td>en</td>\n",
       "      <td>Toy Story</td>\n",
       "      <td>Led by Woody, Andy's toys live happily in his ...</td>\n",
       "      <td>21.946943</td>\n",
       "      <td>/rhIRbceoE9lR4veEXuwCC2wARtG.jpg</td>\n",
       "      <td>...</td>\n",
       "      <td>[{'iso_3166_1': 'US', 'name': 'United States o...</td>\n",
       "      <td>1995-10-30</td>\n",
       "      <td>373554033.0</td>\n",
       "      <td>81.0</td>\n",
       "      <td>[{'iso_639_1': 'en', 'name': 'English'}]</td>\n",
       "      <td>Released</td>\n",
       "      <td>Toy Story</td>\n",
       "      <td>False</td>\n",
       "      <td>7.7</td>\n",
       "      <td>5415.0</td>\n",
       "    </tr>\n",
       "    <tr>\n",
       "      <th>1</th>\n",
       "      <td>False</td>\n",
       "      <td>65000000</td>\n",
       "      <td>[{'id': 12, 'name': 'Adventure'}, {'id': 14, '...</td>\n",
       "      <td>8844</td>\n",
       "      <td>tt0113497</td>\n",
       "      <td>en</td>\n",
       "      <td>Jumanji</td>\n",
       "      <td>When siblings Judy and Peter discover an encha...</td>\n",
       "      <td>17.015539</td>\n",
       "      <td>/vzmL6fP7aPKNKPRTFnZmiUfciyV.jpg</td>\n",
       "      <td>...</td>\n",
       "      <td>[{'iso_3166_1': 'US', 'name': 'United States o...</td>\n",
       "      <td>1995-12-15</td>\n",
       "      <td>262797249.0</td>\n",
       "      <td>104.0</td>\n",
       "      <td>[{'iso_639_1': 'en', 'name': 'English'}, {'iso...</td>\n",
       "      <td>Released</td>\n",
       "      <td>Jumanji</td>\n",
       "      <td>False</td>\n",
       "      <td>6.9</td>\n",
       "      <td>2413.0</td>\n",
       "    </tr>\n",
       "    <tr>\n",
       "      <th>3</th>\n",
       "      <td>False</td>\n",
       "      <td>16000000</td>\n",
       "      <td>[{'id': 35, 'name': 'Comedy'}, {'id': 18, 'nam...</td>\n",
       "      <td>31357</td>\n",
       "      <td>tt0114885</td>\n",
       "      <td>en</td>\n",
       "      <td>Waiting to Exhale</td>\n",
       "      <td>Cheated on, mistreated and stepped on, the wom...</td>\n",
       "      <td>3.859495</td>\n",
       "      <td>/16XOMpEaLWkrcPqSQqhTmeJuqQl.jpg</td>\n",
       "      <td>...</td>\n",
       "      <td>[{'iso_3166_1': 'US', 'name': 'United States o...</td>\n",
       "      <td>1995-12-22</td>\n",
       "      <td>81452156.0</td>\n",
       "      <td>127.0</td>\n",
       "      <td>[{'iso_639_1': 'en', 'name': 'English'}]</td>\n",
       "      <td>Released</td>\n",
       "      <td>Waiting to Exhale</td>\n",
       "      <td>False</td>\n",
       "      <td>6.1</td>\n",
       "      <td>34.0</td>\n",
       "    </tr>\n",
       "    <tr>\n",
       "      <th>5</th>\n",
       "      <td>False</td>\n",
       "      <td>60000000</td>\n",
       "      <td>[{'id': 28, 'name': 'Action'}, {'id': 80, 'nam...</td>\n",
       "      <td>949</td>\n",
       "      <td>tt0113277</td>\n",
       "      <td>en</td>\n",
       "      <td>Heat</td>\n",
       "      <td>Obsessive master thief, Neil McCauley leads a ...</td>\n",
       "      <td>17.924927</td>\n",
       "      <td>/zMyfPUelumio3tiDKPffaUpsQTD.jpg</td>\n",
       "      <td>...</td>\n",
       "      <td>[{'iso_3166_1': 'US', 'name': 'United States o...</td>\n",
       "      <td>1995-12-15</td>\n",
       "      <td>187436818.0</td>\n",
       "      <td>170.0</td>\n",
       "      <td>[{'iso_639_1': 'en', 'name': 'English'}, {'iso...</td>\n",
       "      <td>Released</td>\n",
       "      <td>Heat</td>\n",
       "      <td>False</td>\n",
       "      <td>7.7</td>\n",
       "      <td>1886.0</td>\n",
       "    </tr>\n",
       "    <tr>\n",
       "      <th>8</th>\n",
       "      <td>False</td>\n",
       "      <td>35000000</td>\n",
       "      <td>[{'id': 28, 'name': 'Action'}, {'id': 12, 'nam...</td>\n",
       "      <td>9091</td>\n",
       "      <td>tt0114576</td>\n",
       "      <td>en</td>\n",
       "      <td>Sudden Death</td>\n",
       "      <td>International action superstar Jean Claude Van...</td>\n",
       "      <td>5.23158</td>\n",
       "      <td>/eoWvKD60lT95Ss1MYNgVExpo5iU.jpg</td>\n",
       "      <td>...</td>\n",
       "      <td>[{'iso_3166_1': 'US', 'name': 'United States o...</td>\n",
       "      <td>1995-12-22</td>\n",
       "      <td>64350171.0</td>\n",
       "      <td>106.0</td>\n",
       "      <td>[{'iso_639_1': 'en', 'name': 'English'}]</td>\n",
       "      <td>Released</td>\n",
       "      <td>Sudden Death</td>\n",
       "      <td>False</td>\n",
       "      <td>5.5</td>\n",
       "      <td>174.0</td>\n",
       "    </tr>\n",
       "  </tbody>\n",
       "</table>\n",
       "<p>5 rows × 21 columns</p>\n",
       "</div>"
      ],
      "text/plain": [
       "   adult    budget                                             genres     id  \\\n",
       "0  False  30000000  [{'id': 16, 'name': 'Animation'}, {'id': 35, '...    862   \n",
       "1  False  65000000  [{'id': 12, 'name': 'Adventure'}, {'id': 14, '...   8844   \n",
       "3  False  16000000  [{'id': 35, 'name': 'Comedy'}, {'id': 18, 'nam...  31357   \n",
       "5  False  60000000  [{'id': 28, 'name': 'Action'}, {'id': 80, 'nam...    949   \n",
       "8  False  35000000  [{'id': 28, 'name': 'Action'}, {'id': 12, 'nam...   9091   \n",
       "\n",
       "     imdb_id original_language     original_title  \\\n",
       "0  tt0114709                en          Toy Story   \n",
       "1  tt0113497                en            Jumanji   \n",
       "3  tt0114885                en  Waiting to Exhale   \n",
       "5  tt0113277                en               Heat   \n",
       "8  tt0114576                en       Sudden Death   \n",
       "\n",
       "                                            overview popularity  \\\n",
       "0  Led by Woody, Andy's toys live happily in his ...  21.946943   \n",
       "1  When siblings Judy and Peter discover an encha...  17.015539   \n",
       "3  Cheated on, mistreated and stepped on, the wom...   3.859495   \n",
       "5  Obsessive master thief, Neil McCauley leads a ...  17.924927   \n",
       "8  International action superstar Jean Claude Van...    5.23158   \n",
       "\n",
       "                        poster_path  ...  \\\n",
       "0  /rhIRbceoE9lR4veEXuwCC2wARtG.jpg  ...   \n",
       "1  /vzmL6fP7aPKNKPRTFnZmiUfciyV.jpg  ...   \n",
       "3  /16XOMpEaLWkrcPqSQqhTmeJuqQl.jpg  ...   \n",
       "5  /zMyfPUelumio3tiDKPffaUpsQTD.jpg  ...   \n",
       "8  /eoWvKD60lT95Ss1MYNgVExpo5iU.jpg  ...   \n",
       "\n",
       "                                production_countries release_date  \\\n",
       "0  [{'iso_3166_1': 'US', 'name': 'United States o...   1995-10-30   \n",
       "1  [{'iso_3166_1': 'US', 'name': 'United States o...   1995-12-15   \n",
       "3  [{'iso_3166_1': 'US', 'name': 'United States o...   1995-12-22   \n",
       "5  [{'iso_3166_1': 'US', 'name': 'United States o...   1995-12-15   \n",
       "8  [{'iso_3166_1': 'US', 'name': 'United States o...   1995-12-22   \n",
       "\n",
       "       revenue  runtime                                   spoken_languages  \\\n",
       "0  373554033.0     81.0           [{'iso_639_1': 'en', 'name': 'English'}]   \n",
       "1  262797249.0    104.0  [{'iso_639_1': 'en', 'name': 'English'}, {'iso...   \n",
       "3   81452156.0    127.0           [{'iso_639_1': 'en', 'name': 'English'}]   \n",
       "5  187436818.0    170.0  [{'iso_639_1': 'en', 'name': 'English'}, {'iso...   \n",
       "8   64350171.0    106.0           [{'iso_639_1': 'en', 'name': 'English'}]   \n",
       "\n",
       "     status              title  video vote_average  vote_count  \n",
       "0  Released          Toy Story  False          7.7      5415.0  \n",
       "1  Released            Jumanji  False          6.9      2413.0  \n",
       "3  Released  Waiting to Exhale  False          6.1        34.0  \n",
       "5  Released               Heat  False          7.7      1886.0  \n",
       "8  Released       Sudden Death  False          5.5       174.0  \n",
       "\n",
       "[5 rows x 21 columns]"
      ]
     },
     "execution_count": 11,
     "metadata": {},
     "output_type": "execute_result"
    }
   ],
   "source": [
    "#Filtering out all the rows where budget or revenue is 0\n",
    "df_filtered = movies_df[(movies_df['budget'] != \"0\")]\n",
    "df_filtered = df_filtered[(movies_df['revenue'] != 0.0)]\n",
    "df_filtered.head()"
   ]
  },
  {
   "cell_type": "code",
   "execution_count": 12,
   "id": "242f805a",
   "metadata": {},
   "outputs": [],
   "source": [
    "# print(df_filtered.dtypes)"
   ]
  },
  {
   "cell_type": "markdown",
   "id": "310ad282",
   "metadata": {},
   "source": [
    "### Converting the datatype of columns budget and popularity"
   ]
  },
  {
   "cell_type": "code",
   "execution_count": 13,
   "id": "051a0a64",
   "metadata": {},
   "outputs": [],
   "source": [
    "df_filtered['budget'] = pd.to_numeric(df_filtered['budget'])\n",
    "df_filtered['popularity'] = pd.to_numeric(df_filtered['popularity'])"
   ]
  },
  {
   "cell_type": "code",
   "execution_count": 14,
   "id": "081cccc9",
   "metadata": {},
   "outputs": [],
   "source": [
    "# print(df_filtered.dtypes)"
   ]
  },
  {
   "cell_type": "code",
   "execution_count": 15,
   "id": "aa69f6b8",
   "metadata": {},
   "outputs": [],
   "source": [
    "# ratings_df.isnull().sum()"
   ]
  },
  {
   "cell_type": "code",
   "execution_count": 16,
   "id": "b176414b",
   "metadata": {},
   "outputs": [],
   "source": [
    "# links_df.isnull().sum()"
   ]
  },
  {
   "cell_type": "code",
   "execution_count": 17,
   "id": "44c0e288",
   "metadata": {},
   "outputs": [],
   "source": [
    "# links_df = links_df.dropna(axis = 0,how = \"any\")"
   ]
  },
  {
   "cell_type": "code",
   "execution_count": 18,
   "id": "403d444d",
   "metadata": {},
   "outputs": [],
   "source": [
    "# links_df.isnull().sum()"
   ]
  },
  {
   "cell_type": "code",
   "execution_count": 19,
   "id": "1d24819b",
   "metadata": {},
   "outputs": [],
   "source": [
    "# keywords_df.isnull().sum()"
   ]
  },
  {
   "cell_type": "code",
   "execution_count": 20,
   "id": "4c44868e",
   "metadata": {},
   "outputs": [],
   "source": [
    "# credits_df.isnull().sum()"
   ]
  },
  {
   "cell_type": "code",
   "execution_count": 21,
   "id": "2b7670b8",
   "metadata": {},
   "outputs": [],
   "source": [
    "budgetList = list(pd.to_numeric(df_filtered[\"budget\"]))\n",
    "revenueList = list(pd.to_numeric(df_filtered[\"revenue\"]))"
   ]
  },
  {
   "cell_type": "markdown",
   "id": "50dcc2ec",
   "metadata": {},
   "source": [
    "### Getting the genre list"
   ]
  },
  {
   "cell_type": "code",
   "execution_count": 22,
   "id": "faf4cb2b",
   "metadata": {},
   "outputs": [
    {
     "name": "stdout",
     "output_type": "stream",
     "text": [
      "['Mystery', 'Western', 'Horror', 'Foreign', 'Action', 'Drama', 'Animation', 'Comedy', 'Documentary', 'Romance', 'Adventure', 'History', 'Crime', 'War', 'Thriller', 'TV Movie', 'Music', 'Fantasy', 'Family', 'Science Fiction']\n"
     ]
    }
   ],
   "source": [
    "#Code to get a list of all the genres\n",
    "genreListEncoded = df_filtered[\"genres\"]\n",
    "genreListEncoded = list(genreListEncoded)\n",
    "genreList = []\n",
    "for i in genreListEncoded:\n",
    "    i = ast.literal_eval(i)\n",
    "    for j in i:\n",
    "        genreList.append(j['name'])\n",
    "\n",
    "genreset = set(genreList)\n",
    "# convert the set to the list\n",
    "genres = (list(genreset))\n",
    "print(genres)"
   ]
  },
  {
   "cell_type": "markdown",
   "id": "2300dd6e",
   "metadata": {},
   "source": [
    "### Box plots of Budget List and Revenue List"
   ]
  },
  {
   "cell_type": "code",
   "execution_count": 23,
   "id": "addcf5de",
   "metadata": {},
   "outputs": [],
   "source": [
    "# sns.boxplot(x = budgetList)"
   ]
  },
  {
   "cell_type": "code",
   "execution_count": 24,
   "id": "9f5fd920",
   "metadata": {
    "scrolled": true
   },
   "outputs": [],
   "source": [
    "# sns.boxplot(x = revenueList)"
   ]
  },
  {
   "cell_type": "markdown",
   "id": "90799256",
   "metadata": {},
   "source": [
    "### Histograms"
   ]
  },
  {
   "cell_type": "code",
   "execution_count": 25,
   "id": "1f859f7f",
   "metadata": {
    "scrolled": true
   },
   "outputs": [],
   "source": [
    "# #Histograms\n",
    "# df_filtered[['budget'] + ['popularity'] + ['revenue'] + ['runtime'] + ['vote_average']].hist(figsize=(20,15), log=True);"
   ]
  },
  {
   "cell_type": "code",
   "execution_count": 26,
   "id": "d99fe8a3",
   "metadata": {},
   "outputs": [
    {
     "name": "stdout",
     "output_type": "stream",
     "text": [
      "2017\n"
     ]
    }
   ],
   "source": [
    "# Code to get a list of all the release dates\n",
    "release_dates = df_filtered[\"release_date\"]\n",
    "dates = []\n",
    "for i in release_dates:\n",
    "    dates.append(int(i[0:4]))\n",
    "    \n",
    "print(max(dates))"
   ]
  },
  {
   "cell_type": "code",
   "execution_count": 27,
   "id": "02c21b7a",
   "metadata": {},
   "outputs": [],
   "source": [
    "# #Histogram for release years\n",
    "# # Increase the width\n",
    "# plt.figure(figsize=(15,4))\n",
    "# plt.hist(dates, bins=30, alpha=0.5)\n",
    "# plt.title('Release dates Histogram')\n",
    "# plt.xlabel('Release Dates')\n",
    "\n",
    "# plt.show()"
   ]
  },
  {
   "cell_type": "markdown",
   "id": "ebd24f3c",
   "metadata": {},
   "source": [
    "### Correlations of the columns"
   ]
  },
  {
   "cell_type": "code",
   "execution_count": 28,
   "id": "0239171e",
   "metadata": {},
   "outputs": [],
   "source": [
    "# #Displaying the correlation between all the numeric rows\n",
    "# cor = df_filtered.corr()\n",
    "# print(cor)"
   ]
  },
  {
   "cell_type": "markdown",
   "id": "4c9420d7",
   "metadata": {},
   "source": [
    "#### Correlation Heatmap"
   ]
  },
  {
   "cell_type": "code",
   "execution_count": 29,
   "id": "f58302ac",
   "metadata": {
    "scrolled": false
   },
   "outputs": [],
   "source": [
    "# #Constructing a heat map to understand the correlation between the columns\n",
    "# plt.figure(figsize = (10,10))\n",
    "# sns.heatmap(cor, cbar = True , square = True,fmt = '.1f', annot = True, annot_kws = {'size' : 8},  cmap = 'Blues')"
   ]
  },
  {
   "cell_type": "code",
   "execution_count": 30,
   "id": "56e57be0",
   "metadata": {},
   "outputs": [],
   "source": [
    "#Counting correlation of 0.5 and above as high correlation between columns\n",
    "#Columns with high correlation\n",
    "#buget and revenue - 0.7\n",
    "#budget and vote_count - 0.6\n",
    "#popularity and vote_count - 0.5\n",
    "#revenue and vote_count - 0.8"
   ]
  },
  {
   "cell_type": "markdown",
   "id": "25c030ef",
   "metadata": {},
   "source": [
    "### Scatterplots"
   ]
  },
  {
   "cell_type": "markdown",
   "id": "072d048a",
   "metadata": {},
   "source": [
    "#### Runtime vs Budget"
   ]
  },
  {
   "cell_type": "code",
   "execution_count": 31,
   "id": "b1205235",
   "metadata": {},
   "outputs": [],
   "source": [
    "# runtime_data = list(df_filtered[\"runtime\"])\n",
    "# vote_avg = df_filtered['vote_average']\n",
    "# # Increase the width\n",
    "# plt.figure(figsize=(15,4))\n",
    "# sns.scatterplot(x = budgetList,y = runtime_data,hue = vote_avg)\n",
    "# plt.xlabel('Budget')\n",
    "# plt.ylabel('Runtime')\n",
    "# plt.title('Runtime vs Budget')\n",
    "# plt.show()"
   ]
  },
  {
   "cell_type": "markdown",
   "id": "9b946f9f",
   "metadata": {},
   "source": [
    "#### Revenue vs Budget"
   ]
  },
  {
   "cell_type": "code",
   "execution_count": 32,
   "id": "fd0d9c74",
   "metadata": {},
   "outputs": [],
   "source": [
    "# #Using hue as ratings or genres with respect to vote avg\n",
    "# # Increase the width\n",
    "# plt.figure(figsize=(15,4))\n",
    "# sns.scatterplot(x = budgetList,y = revenueList,hue = vote_avg)\n",
    "# plt.xlabel('Budget')\n",
    "# plt.ylabel('Revenue')\n",
    "# plt.title('Revenue vs Budget')\n",
    "# plt.show()"
   ]
  },
  {
   "cell_type": "markdown",
   "id": "aba35953",
   "metadata": {},
   "source": [
    "#### Budget vs Vote Count"
   ]
  },
  {
   "cell_type": "code",
   "execution_count": 33,
   "id": "3e6a3015",
   "metadata": {},
   "outputs": [],
   "source": [
    "# #Using hue as vote avg\n",
    "# # Increase the width\n",
    "# plt.figure(figsize=(15,4))\n",
    "# sns.scatterplot(x = budgetList,y = list(df_filtered[\"vote_count\"]),hue = vote_avg)\n",
    "# plt.xlabel('Budget')\n",
    "# plt.ylabel('Vote Count')\n",
    "# plt.title('Vote Count vs Budget')\n",
    "# plt.show()"
   ]
  },
  {
   "cell_type": "markdown",
   "id": "4d81fe21",
   "metadata": {},
   "source": [
    "#### Popularity and Vote Count"
   ]
  },
  {
   "cell_type": "code",
   "execution_count": 34,
   "id": "2b86ce2c",
   "metadata": {},
   "outputs": [],
   "source": [
    "# #Using hue as vote avg\n",
    "# # Increase the width\n",
    "# plt.figure(figsize=(15,4))\n",
    "# sns.scatterplot(x = list(df_filtered['popularity']),y = df_filtered['vote_count'],hue = vote_avg)\n",
    "# plt.xlabel('Popularity')\n",
    "# plt.ylabel('Vote Count')\n",
    "# plt.title('Vote Count vs Popularity')\n",
    "# plt.show()"
   ]
  },
  {
   "cell_type": "markdown",
   "id": "bfc3c4cf",
   "metadata": {},
   "source": [
    "#### Revenue and Vote Count"
   ]
  },
  {
   "cell_type": "code",
   "execution_count": 35,
   "id": "e397fcd0",
   "metadata": {},
   "outputs": [],
   "source": [
    "# #Using hue as vote avg\n",
    "# # Increase the width\n",
    "# plt.figure(figsize=(15,4))\n",
    "# sns.scatterplot(x = list(df_filtered['vote_count']),y = revenueList,hue = vote_avg)\n",
    "# plt.xlabel('Vote Count')\n",
    "# plt.ylabel('Revenue')\n",
    "# plt.title('Revenue vs Vote Count')\n",
    "# plt.show()"
   ]
  },
  {
   "cell_type": "markdown",
   "id": "1d350152",
   "metadata": {},
   "source": [
    "### Regression Plots of features with correlation higher than 0.7"
   ]
  },
  {
   "cell_type": "markdown",
   "id": "0facbb0b",
   "metadata": {},
   "source": [
    "#### Budget vs Revenue"
   ]
  },
  {
   "cell_type": "code",
   "execution_count": 36,
   "id": "18b05d46",
   "metadata": {},
   "outputs": [],
   "source": [
    "# # Increase the width\n",
    "# plt.figure(figsize=(15,4))\n",
    "# #Display regression plot using seaborn\n",
    "# sns.regplot(x = budgetList,y = revenueList,line_kws={'color':'red'})\n",
    "# plt.xlabel('Budget')\n",
    "# plt.ylabel('Revenue')\n",
    "# plt.title('Revenue vs Budget')\n",
    "# plt.show()"
   ]
  },
  {
   "cell_type": "markdown",
   "id": "02dbbf2f",
   "metadata": {},
   "source": [
    "#### Revenue vs Vote Count"
   ]
  },
  {
   "cell_type": "code",
   "execution_count": 37,
   "id": "eaec362f",
   "metadata": {},
   "outputs": [],
   "source": [
    "# # Increase the width\n",
    "# plt.figure(figsize=(15,4))\n",
    "# #Display regression plot using seaborn\n",
    "# sns.regplot(x = list(df_filtered['vote_count']),y = revenueList,line_kws={'color':'red'})\n",
    "# plt.xlabel('Vote Count')\n",
    "# plt.ylabel('Revenue')\n",
    "# plt.title('Revenue vs Vote Count')\n",
    "# plt.show()"
   ]
  },
  {
   "cell_type": "markdown",
   "id": "b9565726",
   "metadata": {},
   "source": [
    "### Linear Regression Models on features with correlation higher than 0.7"
   ]
  },
  {
   "cell_type": "markdown",
   "id": "9a1b84bf",
   "metadata": {},
   "source": [
    "#### Revenue vs Budget"
   ]
  },
  {
   "cell_type": "code",
   "execution_count": 38,
   "id": "f58a82c9",
   "metadata": {},
   "outputs": [],
   "source": [
    "# #Lower the rmse value, better the Regression Model(scaled to the range of data)\n",
    "\n",
    "# import math\n",
    "# model = LinearRegression()\n",
    "# #Normalizing the data for it to be in a range between 0 and 1\n",
    "# x = [(m -min(budgetList))/(max(budgetList) - min(budgetList)) for m in budgetList]\n",
    "# y = [(m -min(revenueList))/(max(revenueList) - min(revenueList)) for m in revenueList]\n",
    "# x = np.array(x)\n",
    "# x = x.reshape(-1,1)\n",
    "# y = np.array(y)\n",
    "# x_train,x_test,y_train,y_test = train_test_split(x,y,test_size = 0.2,random_state = 2)\n",
    "# model.fit(x_train,y_train)\n",
    "# pred = model.predict(x_test)\n",
    "\n",
    "# mse = metrics.mean_squared_error(pred, y_test)\n",
    "\n",
    "# rmse = math.sqrt(mse)\n",
    "\n",
    "# print(rmse)\n",
    "\n",
    "# print(\"Budget is in the range : \",min(x),max(x))\n",
    "# print(\"Revenue is in the range : \",min(y),max(y))"
   ]
  },
  {
   "cell_type": "markdown",
   "id": "153f20d5",
   "metadata": {},
   "source": [
    "#### Revenue vs Vote Count"
   ]
  },
  {
   "cell_type": "code",
   "execution_count": 39,
   "id": "41fca02e",
   "metadata": {},
   "outputs": [],
   "source": [
    "# #Lower the rmse value, better the Regression Model(scaled to the range of data)\n",
    "\n",
    "# import math\n",
    "# model = LinearRegression()\n",
    "# vote_count = list(df_filtered[\"vote_count\"])\n",
    "# #Normalizing the data for it to be in a range between 0 and 1\n",
    "# x = [(m -min(vote_count))/(max(vote_count) - min(vote_count)) for m in vote_count]\n",
    "# y = [(m -min(revenueList))/(max(revenueList) - min(revenueList)) for m in revenueList]\n",
    "# x = np.array(x)\n",
    "# x = x.reshape(-1,1)\n",
    "# y = np.array(y)\n",
    "# x_train,x_test,y_train,y_test = train_test_split(x,y,test_size = 0.2,random_state = 2)\n",
    "# model.fit(x_train,y_train)\n",
    "# pred = model.predict(x_test)\n",
    "\n",
    "# mse = metrics.mean_squared_error(pred, y_test)\n",
    "\n",
    "# rmse = math.sqrt(mse)\n",
    "\n",
    "# print(rmse)\n",
    "\n",
    "# print(\"Vote Count is in the range : \",min(x),max(x))\n",
    "# print(\"Revenue is in the range : \",min(y),max(y))"
   ]
  },
  {
   "cell_type": "markdown",
   "id": "efe1f769",
   "metadata": {},
   "source": [
    "### Pie Charts"
   ]
  },
  {
   "cell_type": "code",
   "execution_count": 40,
   "id": "ccfe575e",
   "metadata": {},
   "outputs": [],
   "source": [
    "# df_filtered.head()"
   ]
  },
  {
   "cell_type": "markdown",
   "id": "2509f726",
   "metadata": {},
   "source": [
    "#### Genres Pie Chart"
   ]
  },
  {
   "cell_type": "code",
   "execution_count": 41,
   "id": "3298f4b1",
   "metadata": {},
   "outputs": [],
   "source": [
    "genres_count = []\n",
    "number_of_colors = len(genres)\n",
    "\n",
    "color = [\"#\"+''.join([random.choice('0123456789ABCDEF') for j in range(6)])\n",
    "             for i in range(number_of_colors)]\n",
    "\n",
    "for i in genres:\n",
    "    count = genreList.count(i)\n",
    "    genres_count.append(count)\n",
    "\n",
    "# # Increase the width\n",
    "# plt.figure(figsize=(20,6))\n",
    "# plt.pie(genres_count,colors = color)\n",
    "# plt.title(\"Genres Pie Chart\")\n",
    "# # use parameter bbox_to_anchor to reposition\n",
    "# # the legend box outside the plot area\n",
    "# plt.gca().legend(labels = genres,loc='center left', bbox_to_anchor=(2, 0.5))\n",
    "# plt.show()"
   ]
  },
  {
   "cell_type": "markdown",
   "id": "807a5fbe",
   "metadata": {},
   "source": [
    "#### Adult vs Non Adult Pie Chart"
   ]
  },
  {
   "cell_type": "code",
   "execution_count": 42,
   "id": "77cafbe5",
   "metadata": {},
   "outputs": [],
   "source": [
    "adult_data = list(movies_df['adult'])\n",
    "count = adult_data.count(\"True\")\n",
    "count1 = adult_data.count(\"False\")\n",
    "\n",
    "adult_count = [count,count1]\n",
    "\n",
    "\n",
    "# color = ['r','b']\n",
    "\n",
    "labels = [\"Adult\",\"Not Adult\"]\n",
    "# # Increase the width\n",
    "# plt.figure(figsize=(20,6))\n",
    "# plt.title(\"Adult vs Non Adult movies Pie Chart\")\n",
    "# plt.pie(adult_count,colors = color, labels = labels)\n",
    "# plt.legend(labels,loc=1)\n",
    "# plt.show()"
   ]
  },
  {
   "cell_type": "markdown",
   "id": "4de6dff8",
   "metadata": {},
   "source": [
    "#### Pie chart of production countries"
   ]
  },
  {
   "cell_type": "code",
   "execution_count": 43,
   "id": "e8ff3535",
   "metadata": {},
   "outputs": [
    {
     "name": "stdout",
     "output_type": "stream",
     "text": [
      "<class 'list'>\n",
      "['South Africa', 'Monaco', 'Taiwan', 'Slovenia', 'India', 'Brazil', 'Germany', 'Japan', 'Mali', 'Croatia', 'Spain', 'Finland', 'New Zealand', 'Tunisia', 'Venezuela', 'United Kingdom', 'Poland', 'Hungary', 'Luxembourg', 'Russia', 'Puerto Rico', 'Malaysia', 'Philippines', 'Portugal', 'Netherlands', 'Botswana', 'Turkey', 'Cyprus', 'Lithuania', 'South Korea', 'United States of America', 'Greece', 'Serbia', 'Ghana', 'Burkina Faso', 'Argentina', 'China', 'Austria', 'France', 'Indonesia', 'Chile', 'Singapore', 'Ireland', 'Paraguay', 'Ecuador', 'Uruguay', 'Iran', 'Malta', 'Morocco', 'Liechtenstein', 'Qatar', 'Czech Republic', 'Colombia', 'United Arab Emirates', 'Peru', 'Canada', 'Bulgaria', 'Costa Rica', 'Norway', 'Thailand', 'Pakistan', 'Switzerland', 'Algeria', 'Romania', 'Mexico', 'Bahamas', 'Namibia', 'Kazakhstan', 'Ukraine', 'Iceland', 'Cambodia', 'Italy', 'Hong Kong', 'Denmark', 'Israel', 'Sweden', 'Angola', 'Serbia and Montenegro', 'Australia', 'Belgium']\n",
      "80\n",
      "[19, 1, 8, 1, 181, 11, 318, 88, 1, 1, 73, 15, 30, 4, 1, 666, 10, 13, 12, 82, 1, 1, 6, 2, 28, 1, 7, 1, 1, 29, 4384, 6, 5, 1, 1, 9, 73, 13, 369, 3, 5, 3, 45, 1, 1, 1, 2, 5, 5, 1, 3, 25, 1, 14, 2, 234, 6, 1, 15, 9, 3, 16, 2, 11, 27, 2, 1, 1, 7, 5, 1, 109, 54, 22, 6, 29, 1, 1, 120, 41]\n"
     ]
    }
   ],
   "source": [
    "# Pie chart of production countries(Most movies from which countries)\n",
    "pr_countries = list(df_filtered[\"production_countries\"])\n",
    "pr_countriesL = []\n",
    "print(type(pr_countries))\n",
    "# print(pr_countries)\n",
    "for i in pr_countries:\n",
    "    i = ast.literal_eval(i)\n",
    "    for j in i:\n",
    "        pr_countriesL.append(j['name'])\n",
    "        \n",
    "# print(pr_countriesL)\n",
    "pr_countrySet = set(pr_countriesL)\n",
    "pr_countryList = list(pr_countrySet)\n",
    "print(pr_countryList)\n",
    "\n",
    "no_of_countries = len(pr_countryList)\n",
    "print(no_of_countries)\n",
    "\n",
    "avg = []\n",
    "for i in pr_countryList:\n",
    "    count = pr_countriesL.count(i)\n",
    "    avg.append(count)\n",
    "    \n",
    "print(avg)\n",
    "\n",
    "# number_of_colors = len(genres)\n",
    "\n",
    "# color = [\"#\"+''.join([random.choice('0123456789ABCDEF') for j in range(6)])\n",
    "#              for i in range(number_of_colors)]\n",
    "# # Increase the width\n",
    "# plt.figure(figsize=(20,6))\n",
    "# plt.pie(avg,colors = color)\n",
    "# plt.title(\"Production Countries Pie Chart\")\n",
    "# # use parameter bbox_to_anchor to reposition\n",
    "# # the legend box outside the plot area\n",
    "# plt.gca().legend(labels = pr_countryList,loc='center left', bbox_to_anchor=(2, 0.5))\n",
    "# plt.show()"
   ]
  },
  {
   "cell_type": "markdown",
   "id": "63c9b920",
   "metadata": {},
   "source": [
    "### Bar charts"
   ]
  },
  {
   "cell_type": "markdown",
   "id": "c7370bd5",
   "metadata": {},
   "source": [
    "#### Showing the frequency of the languages"
   ]
  },
  {
   "cell_type": "code",
   "execution_count": 44,
   "id": "976506e4",
   "metadata": {},
   "outputs": [
    {
     "name": "stdout",
     "output_type": "stream",
     "text": [
      "['nl', 'id', 'cn', 'vi', 'sv', 'tr', 'te', 'el', 'en', 'he', 'hi', 'ca', 'fi', 'ta', 'mr', 'af', 'fa', 'th', 'ro', 'es', 'nb', 'fr', 'it', 'zh', 'no', 'ko', 'kn', 'ru', 'bm', 'hu', 'da', 'ur', 'pt', 'xx', 'pl', 'sr', 'ml', 'de', 'ja', 'is']\n"
     ]
    }
   ],
   "source": [
    "languages = list(df_filtered[\"original_language\"])\n",
    "uniq_languages = list(set(languages))\n",
    "lang_count = []\n",
    "print(uniq_languages)\n",
    "for i in uniq_languages:\n",
    "    count = languages.count(i)\n",
    "    lang_count.append(count)"
   ]
  },
  {
   "cell_type": "markdown",
   "id": "a05755e4",
   "metadata": {},
   "source": [
    "##### With English"
   ]
  },
  {
   "cell_type": "code",
   "execution_count": 45,
   "id": "ed90e3d0",
   "metadata": {},
   "outputs": [],
   "source": [
    "# #BAR PLOT WITH EN\n",
    "# # Increase the width\n",
    "# plt.figure(figsize=(15,4))\n",
    "# # Horizontal Bar Plot\n",
    "# plt.bar(uniq_languages, lang_count)\n",
    "\n",
    "# plt.xticks(rotation=90)\n",
    "\n",
    "# plt.xlabel('Languages')\n",
    "# plt.ylabel('No. of movies')\n",
    "# plt.title(\"No. of movies in each language(With English)\")\n",
    "# # Show Plot\n",
    "# plt.show()"
   ]
  },
  {
   "cell_type": "markdown",
   "id": "83e748fc",
   "metadata": {},
   "source": [
    "##### Without English"
   ]
  },
  {
   "cell_type": "code",
   "execution_count": 46,
   "id": "c1c51e33",
   "metadata": {},
   "outputs": [],
   "source": [
    "# #BAR PLOT WITHOUT EN\n",
    "uniq_lang_without = []\n",
    "lang_count_without = []\n",
    "\n",
    "for i in uniq_languages:\n",
    "    if i != 'en':\n",
    "        count = languages.count(i)\n",
    "        uniq_lang_without.append(i)\n",
    "        lang_count_without.append(count)\n",
    "\n",
    "# # Increase the width\n",
    "# plt.figure(figsize=(15,4))\n",
    "# # Horizontal Bar Plot\n",
    "# plt.bar(uniq_lang_without, lang_count_without)\n",
    "\n",
    "# plt.xticks(rotation=90)\n",
    "\n",
    "# plt.xlabel('Languages')\n",
    "# plt.ylabel('No. of movies')\n",
    "# plt.title(\"No. of movies in each language(Without English)\")\n",
    "# # Show Plot\n",
    "# plt.show()"
   ]
  },
  {
   "cell_type": "code",
   "execution_count": 47,
   "id": "aee4926c",
   "metadata": {},
   "outputs": [],
   "source": [
    "app = dash.Dash(__name__, external_stylesheets=[dbc.themes.BOOTSTRAP])"
   ]
  },
  {
   "cell_type": "markdown",
   "id": "82f1fd6c",
   "metadata": {},
   "source": [
    "### Extracting the movie title"
   ]
  },
  {
   "cell_type": "code",
   "execution_count": 48,
   "id": "f39da737",
   "metadata": {},
   "outputs": [
    {
     "name": "stdout",
     "output_type": "stream",
     "text": [
      "0                Toy Story\n",
      "1                  Jumanji\n",
      "3        Waiting to Exhale\n",
      "5                     Heat\n",
      "8             Sudden Death\n",
      "               ...        \n",
      "45167           Wind River\n",
      "45250               சிவாஜி\n",
      "45409               Dikari\n",
      "45412           Про любоff\n",
      "45422             Антидурь\n",
      "Name: original_title, Length: 5370, dtype: object\n"
     ]
    }
   ],
   "source": [
    "movie_title = df_filtered['original_title']\n",
    "print(movie_title)"
   ]
  },
  {
   "cell_type": "markdown",
   "id": "f1603d3f",
   "metadata": {},
   "source": [
    "### Creating Dataframe for the first page"
   ]
  },
  {
   "cell_type": "code",
   "execution_count": 49,
   "id": "15d41983",
   "metadata": {
    "scrolled": false
   },
   "outputs": [
    {
     "data": {
      "text/html": [
       "<div>\n",
       "<style scoped>\n",
       "    .dataframe tbody tr th:only-of-type {\n",
       "        vertical-align: middle;\n",
       "    }\n",
       "\n",
       "    .dataframe tbody tr th {\n",
       "        vertical-align: top;\n",
       "    }\n",
       "\n",
       "    .dataframe thead th {\n",
       "        text-align: right;\n",
       "    }\n",
       "</style>\n",
       "<table border=\"1\" class=\"dataframe\">\n",
       "  <thead>\n",
       "    <tr style=\"text-align: right;\">\n",
       "      <th></th>\n",
       "      <th>original_title</th>\n",
       "      <th>overview</th>\n",
       "      <th>vote_average</th>\n",
       "    </tr>\n",
       "  </thead>\n",
       "  <tbody>\n",
       "    <tr>\n",
       "      <th>0</th>\n",
       "      <td>Toy Story</td>\n",
       "      <td>Led by Woody, Andy's toys live happily in his ...</td>\n",
       "      <td>7.7</td>\n",
       "    </tr>\n",
       "    <tr>\n",
       "      <th>1</th>\n",
       "      <td>Jumanji</td>\n",
       "      <td>When siblings Judy and Peter discover an encha...</td>\n",
       "      <td>6.9</td>\n",
       "    </tr>\n",
       "    <tr>\n",
       "      <th>3</th>\n",
       "      <td>Waiting to Exhale</td>\n",
       "      <td>Cheated on, mistreated and stepped on, the wom...</td>\n",
       "      <td>6.1</td>\n",
       "    </tr>\n",
       "    <tr>\n",
       "      <th>5</th>\n",
       "      <td>Heat</td>\n",
       "      <td>Obsessive master thief, Neil McCauley leads a ...</td>\n",
       "      <td>7.7</td>\n",
       "    </tr>\n",
       "    <tr>\n",
       "      <th>8</th>\n",
       "      <td>Sudden Death</td>\n",
       "      <td>International action superstar Jean Claude Van...</td>\n",
       "      <td>5.5</td>\n",
       "    </tr>\n",
       "  </tbody>\n",
       "</table>\n",
       "</div>"
      ],
      "text/plain": [
       "      original_title                                           overview  \\\n",
       "0          Toy Story  Led by Woody, Andy's toys live happily in his ...   \n",
       "1            Jumanji  When siblings Judy and Peter discover an encha...   \n",
       "3  Waiting to Exhale  Cheated on, mistreated and stepped on, the wom...   \n",
       "5               Heat  Obsessive master thief, Neil McCauley leads a ...   \n",
       "8       Sudden Death  International action superstar Jean Claude Van...   \n",
       "\n",
       "   vote_average  \n",
       "0           7.7  \n",
       "1           6.9  \n",
       "3           6.1  \n",
       "5           7.7  \n",
       "8           5.5  "
      ]
     },
     "execution_count": 49,
     "metadata": {},
     "output_type": "execute_result"
    }
   ],
   "source": [
    "summary = pd.DataFrame(df_filtered, columns = ['original_title','overview','vote_average'])\n",
    "title = list(df_filtered['original_title'])\n",
    "overview = list(df_filtered['overview'])\n",
    "vote_avg = list(df_filtered['vote_average'])\n",
    "summary.head()"
   ]
  },
  {
   "cell_type": "code",
   "execution_count": 50,
   "id": "ec2ede0c",
   "metadata": {},
   "outputs": [],
   "source": [
    "def find_element_in_list(element, list_element):\n",
    "    try:\n",
    "        index_element = list_element.index(element)\n",
    "        print(int(index_element))\n",
    "        return int(index_element)\n",
    "    except ValueError:\n",
    "        return None"
   ]
  },
  {
   "cell_type": "markdown",
   "id": "13998cf9",
   "metadata": {},
   "source": [
    "### Graphs we'll be using in the dashboard"
   ]
  },
  {
   "cell_type": "code",
   "execution_count": 51,
   "id": "6dad6bac",
   "metadata": {},
   "outputs": [],
   "source": [
    "# 2 boxplots\n",
    "## ->Budgets\n",
    "## -> Revenue\n",
    "\n",
    "# 6 histograms\n",
    "## -> Budget\n",
    "## -> Revenue\n",
    "## -> Popularity\n",
    "## -> Runtime\n",
    "## -> Vote avg\n",
    "## -> Release Years\n",
    "\n",
    "# 5 scatter plots\n",
    "## -> Runtime vs Budget\n",
    "## -> Revenue vs Budget\n",
    "## -> Budget vs Votecount\n",
    "## -> Popularity vs Votecount\n",
    "## -> Revenue vs Vote Count\n",
    "\n",
    "# 2 bar charts\n",
    "## -> No. of movies in each language with english\n",
    "## -> No. of movies in each language without english\n",
    "\n",
    "# 3 pie charts\n",
    "## -> Genres Pie Chart\n",
    "## -> Adult vs Non Adult\n",
    "## -> Production countries\n",
    "\n",
    "# 1 correlation heatmap\n",
    "## -> Correlation heatmap between the numerical columns\n",
    "\n",
    "# 2 regression plots\n",
    "## -> Revenue vs Budget\n",
    "## -> Revenue vs Vote Count\n",
    "\n",
    "# Total ==> 21 graphs\n",
    "#Orientation ==> 7 rows and 3 columns"
   ]
  },
  {
   "cell_type": "markdown",
   "id": "97db291c",
   "metadata": {},
   "source": [
    "### Dashboard Code"
   ]
  },
  {
   "cell_type": "code",
   "execution_count": 52,
   "id": "94ba200f",
   "metadata": {},
   "outputs": [],
   "source": [
    "df = pd.read_csv('https://raw.githubusercontent.com/Coding-with-Adam/Dash-by-Plotly/master/Bootstrap/Side-Bar/iranian_students.csv')\n",
    "# styling the sidebar\n",
    "SIDEBAR_STYLE = {\n",
    "    \"position\": \"fixed\",\n",
    "    \"top\": 0,\n",
    "    \"left\": 0,\n",
    "    \"bottom\": 0,\n",
    "    \"width\": \"16rem\",\n",
    "    \"padding\": \"2rem 1rem\",\n",
    "    \"background-color\": \"#282C31\",\n",
    "}\n",
    "\n",
    "# padding for the page content\n",
    "CONTENT_STYLE = {\n",
    "    \"margin-left\": \"16rem\",\n",
    "    \"margin-right\": \"0rem\",\n",
    "    \"padding\": \"6rem 1rem\",\n",
    "    \"background-color\":\"#1D1D1D\"\n",
    "}\n",
    "\n",
    "sidebar = html.Div(\n",
    "    [\n",
    "        dbc.Nav(\n",
    "            [\n",
    "                dbc.NavLink(\"Home\", href=\"/\", active=\"exact\"),\n",
    "                dbc.NavLink(\"Statistics\", href=\"/page-1\", active=\"exact\"),\n",
    "            ],\n",
    "            vertical=True,\n",
    "            pills=True,\n",
    "        ),\n",
    "    ],\n",
    "    style=SIDEBAR_STYLE,\n",
    ")\n",
    "\n",
    "content = html.Div(id=\"page-content\", children=[], style=CONTENT_STYLE)\n",
    "\n",
    "app.layout = html.Div([\n",
    "    dcc.Location(id=\"url\"),\n",
    "    sidebar,\n",
    "    content\n",
    "])\n",
    "\n",
    "# #Correlation Heatmap preprocessing\n",
    "# trace1 = {\n",
    "#   \"type\": \"heatmap\", \n",
    "#   \"x\": [\"Crypto_Index\", \"BTC\", \"ETH\", \"BCH\", \"XRP\", \"LTC\", \"DASH\", \"STR\", \"XMR\", \"SPY_Index\", \"GLD_Index\"], \n",
    "#   \"y\": [\"Crypto_Index\", \"BTC\", \"ETH\", \"BCH\", \"XRP\", \"LTC\", \"DASH\", \"STR\", \"XMR\", \"SPY_Index\", \"GLD_Index\"], \n",
    "#   \"z\": [[1.0, 0.5145204751077439, 0.7753800316056564, 0.5635869144912485, 0.6330246296885216, 0.6935626887855602, 0.6510327886719159, 0.7003086075174753, 0.7706130603016853, 0.025637721629079346, -0.14530462537107128], [0.5145204751077439, 1.0, 0.3570079203140865, 0.1349123946939163, 0.13596877646636055, 0.43254315980314817, 0.21592279382744603, 0.34446376110023436, 0.41269282695969395, -0.11147492698576485, -0.06397591150706235], [0.7753800316056564, 0.3570079203140865, 1.0, 0.39313113126450405, 0.39418171228484145, 0.6921202563460892, 0.4733678602459097, 0.4276770948976174, 0.5752540859824811, 0.15887859820253236, -0.006848573001143559], [0.5635869144912485, 0.1349123946939163, 0.39313113126450405, 1.0, 0.17735696275144744, 0.218841803416396, 0.4651294097591311, 0.0906452227128872, 0.41328473389123055, 0.04164180693219901, -0.07532903046693337], [0.6330246296885216, 0.13596877646636055, 0.39418171228484145, 0.17735696275144744, 1.0, 0.3357589484322298, 0.2137605375193814, 0.5384160124838642, 0.24219331731936153, -0.1240461055260104, 0.012886388288847027], [0.6935626887855602, 0.43254315980314817, 0.6921202563460892, 0.218841803416396, 0.3357589484322298, 1.0, 0.4194457824463705, 0.36372379913686037, 0.43257406820488925, 0.030350070692782144, -0.1708198709939884], [0.6510327886719159, 0.21592279382744603, 0.4733678602459097, 0.4651294097591311, 0.2137605375193814, 0.4194457824463705, 1.0, 0.21415082358644683, 0.616154604130923, 0.11006711870484644, -0.15948576589788033], [0.7003086075174753, 0.34446376110023436, 0.4276770948976174, 0.0906452227128872, 0.5384160124838642, 0.36372379913686037, 0.21415082358644683, 1.0, 0.5287972761050168, -0.07894581445902309, -0.11075945917591021], [0.7706130603016853, 0.41269282695969395, 0.5752540859824811, 0.41328473389123055, 0.24219331731936153, 0.43257406820488925, 0.616154604130923, 0.5287972761050168, 1.0, 0.19923653273289102, -0.15508575874900773], [0.025637721629079346, -0.11147492698576485, 0.15887859820253236, 0.04164180693219901, -0.1240461055260104, 0.030350070692782144, 0.11006711870484644, -0.07894581445902309, 0.19923653273289102, 1.0, -0.05968658737944457], [-0.14530462537107128, -0.06397591150706235, -0.006848573001143559, -0.07532903046693337, 0.012886388288847027, -0.1708198709939884, -0.15948576589788033, -0.11075945917591021, -0.15508575874900773, -0.05968658737944457, 1.]], \n",
    "#   \"colorbar\": {\n",
    "#     \"dtick\": 0.2, \n",
    "#     \"tick0\": -1, \n",
    "#     \"tickmode\": \"linear\"\n",
    "#   }, \n",
    "#   \"showscale\": True, \n",
    "#   \"colorscale\": \"YlGnBu\"\n",
    "# }\n",
    "# data = df_filtered([trace1])\n",
    "# layout = {\"title\": \"Correlation Heat Map\"}\n",
    "# fig = Figure(data=data, layout=layout)\n",
    "\n",
    "x_1 = df_filtered['budget']\n",
    "y_1 = df_filtered['revenue']\n",
    "x_1 = np.array(x_1)\n",
    "x_1 = x_1.reshape(-1,1)\n",
    "y_1 = np.array(y_1)\n",
    "X_train_1, X_test_1, y_train_1, y_test_1 = train_test_split(x_1, y_1, random_state=0)\n",
    "model1 = LinearRegression()\n",
    "model1.fit(X_train_1, y_train_1)\n",
    "\n",
    "x_2 = df_filtered['vote_count']\n",
    "y_2 = df_filtered['revenue']\n",
    "x_2 = np.array(x_2)\n",
    "x_2 = x_2.reshape(-1,1)\n",
    "y_2 = np.array(y_2)\n",
    "X_train_2, X_test_2, y_train_2, y_test_2 = train_test_split(x_2, y_2, random_state=0)\n",
    "model2 = LinearRegression()\n",
    "model2.fit(X_train_2, y_train_2)\n",
    "\n",
    "x_range_reg_1 = np.linspace(x_1.min(), x_1.max(), 100)\n",
    "y_range_reg_1 = model1.predict(x_range_reg_1.reshape(-1, 1))\n",
    "\n",
    "x_range_reg_2 = np.linspace(x_2.min(), x_2.max(), 100)\n",
    "y_range_reg_2 = model2.predict(x_range_reg_2.reshape(-1, 1))\n",
    "\n",
    "@app.callback(\n",
    "    Output(\"page-content\", \"children\"),\n",
    "    [Input(\"url\", \"pathname\")]\n",
    ")\n",
    "def render_page_content(pathname):\n",
    "    if pathname == \"/\":\n",
    "        return [\n",
    "                html.H1('Movies',\n",
    "                        style={'textAlign':'center','color' : 'white'}),\n",
    "                dcc.Dropdown(\n",
    "                    id = 'Dropdown_for_movies',\n",
    "                    options=[{'label': x, 'value': x} for x in title],\n",
    "                    placeholder = 'Select a Movie',\n",
    "                ),\n",
    "                html.Div(id='dd-output-container')\n",
    "#                 dcc.Graph(id='bargraph',\n",
    "#                          figure=px.bar(barmode='group', x=uniq_languages,\n",
    "#                          y = lang_count))\n",
    "                ]\n",
    "    elif pathname == \"/page-1\":\n",
    "        return [\n",
    "                html.H1('Statistics',style={'vertical-align': 'top','text-align' : 'left' ,'color' : 'white'}),\n",
    "                #Boxplots\n",
    "                html.Div([\n",
    "                html.H1('Budget Boxplot',\n",
    "                        style={'textAlign':'center','color' : 'white'}),\n",
    "                dcc.Graph(id='boxplot',\n",
    "                         figure=px.box(df,y=budgetList))\n",
    "                ]),\n",
    "                html.Div([\n",
    "                html.H1('Revenue Boxplot',\n",
    "                        style={'textAlign':'center','color' : 'white'}),\n",
    "                dcc.Graph(id='boxplot',\n",
    "                         figure=px.box(df,y=revenueList))\n",
    "                ]),\n",
    "            #Histograms\n",
    "            html.Div([\n",
    "                html.H1('Histogram of Budget',\n",
    "                        style={'textAlign':'center','color' : 'white'}),\n",
    "                dcc.Graph(id='histograms',\n",
    "                         figure=px.histogram(budgetList, nbins=30,log_y=True,labels={'x':'Budget'})\n",
    "                         )\n",
    "                ]),\n",
    "            html.Div([\n",
    "                html.H1('Histogram of Revenue',\n",
    "                        style={'textAlign':'center','color' : 'white'}),\n",
    "                dcc.Graph(id='histograms',\n",
    "                         figure=px.histogram(revenueList, nbins=30,log_y=True,labels={'x':'Revenue'})\n",
    "                         )\n",
    "                ]),\n",
    "            html.Div([\n",
    "                html.H1('Histogram of Popularity',\n",
    "                        style={'textAlign':'center','color' : 'white'}),\n",
    "                dcc.Graph(id='histograms',\n",
    "                         figure=px.histogram(df_filtered['popularity'], nbins=30,log_y=True,labels={'x':'Popularity'})\n",
    "                         )\n",
    "                ]),\n",
    "            html.Div([\n",
    "                html.H1('Histogram of Runtime',\n",
    "                        style={'textAlign':'center','color' : 'white'}),\n",
    "                dcc.Graph(id='histograms',\n",
    "                         figure=px.histogram(df_filtered['runtime'], nbins=30,log_y=True,labels={'x':'Runtime'})\n",
    "                         )\n",
    "                ]),\n",
    "            html.Div([\n",
    "                html.H1('Histogram of Vote Average',\n",
    "                        style={'textAlign':'center','color' : 'white'}),\n",
    "                dcc.Graph(id='histograms',\n",
    "                         figure=px.histogram(df_filtered['vote_average'], nbins=30,log_y=True,labels={'x':'Vote_avg'})\n",
    "                         )\n",
    "                ]),\n",
    "            html.Div([\n",
    "                html.H1('Histogram of Release Years',\n",
    "                        style={'textAlign':'center','color' : 'white'}),\n",
    "                dcc.Graph(id='histograms',\n",
    "                         figure=px.histogram(dates, nbins=30,log_y=True,labels={'x':'Release Years'})\n",
    "                         )\n",
    "                ]),\n",
    "            \n",
    "            #Scatter Plots\n",
    "            html.Div([\n",
    "                html.H1('Scatterplot of Runtime vs Budget',\n",
    "                        style={'textAlign':'center','color' : 'white'}),\n",
    "                dcc.Graph(id='scatterplot',\n",
    "                         figure=px.scatter(df_filtered, x=\"budget\", y=\"runtime\",color='vote_average')\n",
    "                         )\n",
    "                ]),\n",
    "            html.Div([\n",
    "                html.H1('Scatterplot of Revenue vs Budget',\n",
    "                        style={'textAlign':'center','color' : 'white'}),\n",
    "                dcc.Graph(id='scatterplot',\n",
    "                         figure=px.scatter(df_filtered, x=\"budget\", y=\"revenue\",color='vote_average')\n",
    "                         )\n",
    "                ]),\n",
    "            html.Div([\n",
    "                html.H1('Scatterplot of Vote Count vs Budget',\n",
    "                        style={'textAlign':'center','color' : 'white'}),\n",
    "                dcc.Graph(id='scatterplot',\n",
    "                         figure=px.scatter(df_filtered, x=\"budget\", y=\"vote_count\",color='vote_average')\n",
    "                         )\n",
    "                ]),\n",
    "            html.Div([\n",
    "                html.H1('Scatterplot of Vote Count vs Popularity',\n",
    "                        style={'textAlign':'center','color' : 'white'}),\n",
    "                dcc.Graph(id='scatterplot',\n",
    "                         figure=px.scatter(df_filtered, x=\"popularity\", y=\"vote_count\",color='vote_average')\n",
    "                         )\n",
    "                ]),\n",
    "            html.Div([\n",
    "                html.H1('Scatterplot of Revenue vs Vote Count',\n",
    "                        style={'textAlign':'center','color' : 'white'}),\n",
    "                dcc.Graph(id='scatterplot',\n",
    "                         figure=px.scatter(df_filtered, x=\"vote_count\", y=\"revenue\",color='vote_average')\n",
    "                         )\n",
    "                ]),\n",
    "            \n",
    "            #Bar Charts\n",
    "            html.Div([\n",
    "                html.H1('No. of movies in each language(With English)',\n",
    "                        style={'textAlign':'center','color' : 'white'}),\n",
    "                dcc.Graph(id='barcharts',\n",
    "                         figure=px.bar(df_filtered, x=uniq_languages, y=lang_count)\n",
    "                         )\n",
    "                ]),\n",
    "            html.Div([\n",
    "                html.H1('No. of movies in each language(Without English)',\n",
    "                        style={'textAlign':'center','color' : 'white'}),\n",
    "                dcc.Graph(id='barcharts',\n",
    "                         figure=px.bar(df_filtered, x=uniq_lang_without, y=lang_count_without)\n",
    "                         )\n",
    "                ]),\n",
    "            \n",
    "            # Pie Charts\n",
    "            html.Div([\n",
    "                html.H1('Genres Pie Chart',\n",
    "                        style={'textAlign':'center','color' : 'white'}),\n",
    "                dcc.Graph(id='piecharts',\n",
    "                         figure=px.pie(df_filtered, values=genres_count, names=genres)\n",
    "                         )\n",
    "                ]),\n",
    "            html.Div([\n",
    "                html.H1('Adult vs Non Adult movies Pie Chart',\n",
    "                        style={'textAlign':'center','color' : 'white'}),\n",
    "                dcc.Graph(id='piecharts',\n",
    "                         figure=px.pie(df_filtered, values=adult_count, names=labels)\n",
    "                         )\n",
    "                ]),\n",
    "            html.Div([\n",
    "                html.H1('Production Countries Pie Chart',\n",
    "                        style={'textAlign':'center','color' : 'white'}),\n",
    "                dcc.Graph(id='piecharts',\n",
    "                         figure=px.pie(df_filtered, values=avg, names=pr_countryList)\n",
    "                         )\n",
    "                ]),\n",
    "            #Correlation Heatmap\n",
    "#             html.Div([\n",
    "#                 html.H1('Correlation Heatmap',\n",
    "#                         style={'textAlign':'center','color' : 'white'}),\n",
    "#                 dcc.Graph(id='correlation_heatmap',\n",
    "#                          figure=py.plot(fig)\n",
    "#                          )\n",
    "#                 ]),\n",
    "            \n",
    "            #Regression Plots\n",
    "            html.Div([\n",
    "                html.H1('Revenue vs Budget Regression Plot',\n",
    "                        style={'textAlign':'center','color' : 'white'}),\n",
    "                dcc.Graph(id='regressionplots',\n",
    "                         figure=go.Figure([\n",
    "                                go.Scatter(x=X_train_1.squeeze(), y=y_train_1, name='train', mode='markers'),\n",
    "                                go.Scatter(x=X_test_1.squeeze(), y=y_test_1, name='test', mode='markers'),\n",
    "                                go.Scatter(x=x_range_reg_1, y=y_range_reg_1, name='prediction')\n",
    "                                ])\n",
    "                         )\n",
    "                ]),\n",
    "            html.Div([\n",
    "                html.H1('Revenue vs Vote Count Regression Plot',\n",
    "                        style={'textAlign':'center','color' : 'white'}),\n",
    "                dcc.Graph(id='regressionplots',\n",
    "                         figure=go.Figure([\n",
    "                                go.Scatter(x=X_train_2.squeeze(), y=y_train_2, name='train', mode='markers'),\n",
    "                                go.Scatter(x=X_test_2.squeeze(), y=y_test_2, name='test', mode='markers'),\n",
    "                                go.Scatter(x=x_range_reg_2, y=y_range_reg_2, name='prediction')\n",
    "                                ])\n",
    "                         )\n",
    "                ]),\n",
    "                ]\n",
    "    # If the user tries to reach a different page, return a 404 message\n",
    "    return dbc.Jumbotron(\n",
    "        [\n",
    "            html.H1(\"404: Not found\", className=\"text-danger\"),\n",
    "            html.Hr(),\n",
    "            html.P(f\"The pathname {pathname} was not recognised...\"),\n",
    "        ]\n",
    "    )\n",
    "\n",
    "# print(title.index('The Emoji Movie'))\n",
    "\n",
    "@app.callback(\n",
    "    Output('dd-output-container', 'children'),\n",
    "    Input('Dropdown_for_movies', 'value')\n",
    ")\n",
    "def update_output(value):\n",
    "    print(value)\n",
    "    print(find_element_in_list(value,title))\n",
    "    return [html.H2('Vote Avg :- ',style={'color': 'white'}), \n",
    "            html.Label(vote_avg[find_element_in_list(value,title)],style={'color': 'white'}),\n",
    "            html.H2('Title :- ',style={'color': 'white'}), \n",
    "            html.Label(title[find_element_in_list(value,title)],style={'color': 'white'}),\n",
    "            html.H2('OverView :- ',style={'color': 'white'}), \n",
    "            html.Label(overview[find_element_in_list(value,title)],style={'color': 'white'}),\n",
    "            ]\n"
   ]
  },
  {
   "cell_type": "code",
   "execution_count": 53,
   "id": "72c32d60",
   "metadata": {
    "scrolled": false
   },
   "outputs": [
    {
     "name": "stdout",
     "output_type": "stream",
     "text": [
      "Dash is running on http://127.0.0.1:3000/\n",
      "\n",
      " * Serving Flask app \"__main__\" (lazy loading)\n",
      " * Environment: production\n",
      "   WARNING: This is a development server. Do not use it in a production deployment.\n",
      "   Use a production WSGI server instead.\n",
      " * Debug mode: off\n"
     ]
    },
    {
     "name": "stderr",
     "output_type": "stream",
     "text": [
      " * Running on http://127.0.0.1:3000/ (Press CTRL+C to quit)\n",
      "127.0.0.1 - - [05/Dec/2021 18:29:13] \"\u001b[37mGET / HTTP/1.1\u001b[0m\" 200 -\n",
      "127.0.0.1 - - [05/Dec/2021 18:29:13] \"\u001b[37mGET /_dash-layout HTTP/1.1\u001b[0m\" 200 -\n",
      "127.0.0.1 - - [05/Dec/2021 18:29:13] \"\u001b[37mGET /_dash-dependencies HTTP/1.1\u001b[0m\" 200 -\n",
      "127.0.0.1 - - [05/Dec/2021 18:29:13] \"\u001b[37mPOST /_dash-update-component HTTP/1.1\u001b[0m\" 200 -\n",
      "127.0.0.1 - - [05/Dec/2021 18:29:13] \"\u001b[37mGET /_dash-component-suites/dash/dcc/async-dropdown.js HTTP/1.1\u001b[0m\" 200 -\n"
     ]
    },
    {
     "name": "stdout",
     "output_type": "stream",
     "text": [
      "None\n",
      "None\n",
      "Exception on /_dash-update-component [POST]\n",
      "Traceback (most recent call last):\n",
      "  File \"C:\\Users\\Jatin Dhall\\anaconda3\\lib\\site-packages\\flask\\app.py\", line 2447, in wsgi_app\n",
      "    response = self.full_dispatch_request()\n",
      "  File \"C:\\Users\\Jatin Dhall\\anaconda3\\lib\\site-packages\\flask\\app.py\", line 1952, in full_dispatch_request\n",
      "    rv = self.handle_user_exception(e)\n",
      "  File \"C:\\Users\\Jatin Dhall\\anaconda3\\lib\\site-packages\\flask\\app.py\", line 1821, in handle_user_exception\n",
      "    reraise(exc_type, exc_value, tb)\n",
      "  File \"C:\\Users\\Jatin Dhall\\anaconda3\\lib\\site-packages\\flask\\_compat.py\", line 39, in reraise\n",
      "    raise value\n",
      "  File \"C:\\Users\\Jatin Dhall\\anaconda3\\lib\\site-packages\\flask\\app.py\", line 1950, in full_dispatch_request\n",
      "    rv = self.dispatch_request()\n",
      "  File \"C:\\Users\\Jatin Dhall\\anaconda3\\lib\\site-packages\\flask\\app.py\", line 1936, in dispatch_request\n",
      "    return self.view_functions[rule.endpoint](**req.view_args)\n",
      "  File \"C:\\Users\\Jatin Dhall\\anaconda3\\lib\\site-packages\\dash\\dash.py\", line 1336, in dispatch\n",
      "    response.set_data(func(*args, outputs_list=outputs_list))\n",
      "  File \"C:\\Users\\Jatin Dhall\\anaconda3\\lib\\site-packages\\dash\\_callback.py\", line 151, in add_context\n",
      "    output_value = func(*func_args, **func_kwargs)  # %% callback invoked %%\n",
      "  File \"<ipython-input-52-8973aeb43336>\", line 291, in update_output\n",
      "    html.Label(vote_avg[find_element_in_list(value,title)],style={'color': 'white'}),\n",
      "TypeError: list indices must be integers or slices, not NoneType\n"
     ]
    },
    {
     "name": "stderr",
     "output_type": "stream",
     "text": [
      "127.0.0.1 - - [05/Dec/2021 18:29:13] \"\u001b[35m\u001b[1mPOST /_dash-update-component HTTP/1.1\u001b[0m\" 500 -\n",
      "127.0.0.1 - - [05/Dec/2021 18:29:18] \"\u001b[37mPOST /_dash-update-component HTTP/1.1\u001b[0m\" 200 -\n",
      "127.0.0.1 - - [05/Dec/2021 18:29:18] \"\u001b[37mGET /_dash-component-suites/dash/dcc/async-graph.js HTTP/1.1\u001b[0m\" 200 -\n",
      "127.0.0.1 - - [05/Dec/2021 18:29:18] \"\u001b[37mGET /_dash-component-suites/dash/dcc/async-plotlyjs.js HTTP/1.1\u001b[0m\" 200 -\n"
     ]
    }
   ],
   "source": [
    "if __name__ == '__main__':\n",
    "    app.run_server(port = 3000)"
   ]
  }
 ],
 "metadata": {
  "kernelspec": {
   "display_name": "Python 3",
   "language": "python",
   "name": "python3"
  },
  "language_info": {
   "codemirror_mode": {
    "name": "ipython",
    "version": 3
   },
   "file_extension": ".py",
   "mimetype": "text/x-python",
   "name": "python",
   "nbconvert_exporter": "python",
   "pygments_lexer": "ipython3",
   "version": "3.8.8"
  }
 },
 "nbformat": 4,
 "nbformat_minor": 5
}
